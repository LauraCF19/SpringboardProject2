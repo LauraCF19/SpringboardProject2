{
 "cells": [
  {
   "cell_type": "markdown",
   "metadata": {},
   "source": [
    "In this project, we'll be examining executive orders from various presidents starting with Clinton and ending with Trump. We'll examine the order lengths, and see whether the party of the president or the term in which the order was given (first or second) can act as reliable predictors of the contents of each order. We'll start by reading in the dataset and examining the data"
   ]
  },
  {
   "cell_type": "code",
   "execution_count": 1,
   "metadata": {},
   "outputs": [],
   "source": [
    "import pandas as pd\n",
    "\n",
    "import numpy as np\n",
    "\n",
    "file = './documents_of_type_presidential_document_and_of_presidential_document_type_executive_order.csv'\n",
    "\n",
    "ex_dataset = pd.read_csv(file)"
   ]
  },
  {
   "cell_type": "code",
   "execution_count": 2,
   "metadata": {},
   "outputs": [
    {
     "name": "stdout",
     "output_type": "stream",
     "text": [
      "<class 'pandas.core.frame.DataFrame'>\n"
     ]
    },
    {
     "data": {
      "text/html": [
       "<div>\n",
       "<style scoped>\n",
       "    .dataframe tbody tr th:only-of-type {\n",
       "        vertical-align: middle;\n",
       "    }\n",
       "\n",
       "    .dataframe tbody tr th {\n",
       "        vertical-align: top;\n",
       "    }\n",
       "\n",
       "    .dataframe thead th {\n",
       "        text-align: right;\n",
       "    }\n",
       "</style>\n",
       "<table border=\"1\" class=\"dataframe\">\n",
       "  <thead>\n",
       "    <tr style=\"text-align: right;\">\n",
       "      <th></th>\n",
       "      <th>citation</th>\n",
       "      <th>document_number</th>\n",
       "      <th>end_page</th>\n",
       "      <th>html_url</th>\n",
       "      <th>pdf_url</th>\n",
       "      <th>type</th>\n",
       "      <th>subtype</th>\n",
       "      <th>publication_date</th>\n",
       "      <th>signing_date</th>\n",
       "      <th>start_page</th>\n",
       "      <th>title</th>\n",
       "      <th>disposition_notes</th>\n",
       "      <th>executive_order_number</th>\n",
       "    </tr>\n",
       "  </thead>\n",
       "  <tbody>\n",
       "    <tr>\n",
       "      <th>0</th>\n",
       "      <td>83 FR 61505</td>\n",
       "      <td>2018-26156</td>\n",
       "      <td>61507</td>\n",
       "      <td>https://www.federalregister.gov/documents/2018...</td>\n",
       "      <td>https://www.gpo.gov/fdsys/pkg/FR-2018-11-29/pd...</td>\n",
       "      <td>Presidential Document</td>\n",
       "      <td>Executive Order</td>\n",
       "      <td>11/29/2018</td>\n",
       "      <td>11/27/2018</td>\n",
       "      <td>61505</td>\n",
       "      <td>Blocking Property of Certain Persons Contribut...</td>\n",
       "      <td>NaN</td>\n",
       "      <td>13851</td>\n",
       "    </tr>\n",
       "    <tr>\n",
       "      <th>1</th>\n",
       "      <td>83 FR 55243</td>\n",
       "      <td>2018-24254</td>\n",
       "      <td>55245</td>\n",
       "      <td>https://www.federalregister.gov/documents/2018...</td>\n",
       "      <td>https://www.gpo.gov/fdsys/pkg/FR-2018-11-02/pd...</td>\n",
       "      <td>Presidential Document</td>\n",
       "      <td>Executive Order</td>\n",
       "      <td>11/02/2018</td>\n",
       "      <td>11/01/2018</td>\n",
       "      <td>55243</td>\n",
       "      <td>Blocking Property of Additional Persons Contri...</td>\n",
       "      <td>NaN</td>\n",
       "      <td>13850</td>\n",
       "    </tr>\n",
       "    <tr>\n",
       "      <th>2</th>\n",
       "      <td>83 FR 48195</td>\n",
       "      <td>2018-20816</td>\n",
       "      <td>48200</td>\n",
       "      <td>https://www.federalregister.gov/documents/2018...</td>\n",
       "      <td>https://www.gpo.gov/fdsys/pkg/FR-2018-09-21/pd...</td>\n",
       "      <td>Presidential Document</td>\n",
       "      <td>Executive Order</td>\n",
       "      <td>09/21/2018</td>\n",
       "      <td>09/20/2018</td>\n",
       "      <td>48195</td>\n",
       "      <td>Authorizing the Implementation of Certain Sanc...</td>\n",
       "      <td>See: EO 13694 of 4/1/2015, EO 13757 of 12/28/2...</td>\n",
       "      <td>13849</td>\n",
       "    </tr>\n",
       "    <tr>\n",
       "      <th>3</th>\n",
       "      <td>83 FR 46843</td>\n",
       "      <td>2018-20203</td>\n",
       "      <td>46848</td>\n",
       "      <td>https://www.federalregister.gov/documents/2018...</td>\n",
       "      <td>https://www.gpo.gov/fdsys/pkg/FR-2018-09-14/pd...</td>\n",
       "      <td>Presidential Document</td>\n",
       "      <td>Executive Order</td>\n",
       "      <td>09/14/2018</td>\n",
       "      <td>09/12/2018</td>\n",
       "      <td>46843</td>\n",
       "      <td>Imposing Certain Sanctions in the Event of For...</td>\n",
       "      <td>See: 13694 of 4/1/2015, EO 13757 of 12/28/2016...</td>\n",
       "      <td>13848</td>\n",
       "    </tr>\n",
       "    <tr>\n",
       "      <th>4</th>\n",
       "      <td>83 FR 45321</td>\n",
       "      <td>2018-19514</td>\n",
       "      <td>45323</td>\n",
       "      <td>https://www.federalregister.gov/documents/2018...</td>\n",
       "      <td>https://www.gpo.gov/fdsys/pkg/FR-2018-09-06/pd...</td>\n",
       "      <td>Presidential Document</td>\n",
       "      <td>Executive Order</td>\n",
       "      <td>09/06/2018</td>\n",
       "      <td>08/31/2018</td>\n",
       "      <td>45321</td>\n",
       "      <td>Strengthening Retirement Security in America</td>\n",
       "      <td>NaN</td>\n",
       "      <td>13847</td>\n",
       "    </tr>\n",
       "  </tbody>\n",
       "</table>\n",
       "</div>"
      ],
      "text/plain": [
       "      citation document_number  end_page  \\\n",
       "0  83 FR 61505      2018-26156     61507   \n",
       "1  83 FR 55243      2018-24254     55245   \n",
       "2  83 FR 48195      2018-20816     48200   \n",
       "3  83 FR 46843      2018-20203     46848   \n",
       "4  83 FR 45321      2018-19514     45323   \n",
       "\n",
       "                                            html_url  \\\n",
       "0  https://www.federalregister.gov/documents/2018...   \n",
       "1  https://www.federalregister.gov/documents/2018...   \n",
       "2  https://www.federalregister.gov/documents/2018...   \n",
       "3  https://www.federalregister.gov/documents/2018...   \n",
       "4  https://www.federalregister.gov/documents/2018...   \n",
       "\n",
       "                                             pdf_url                   type  \\\n",
       "0  https://www.gpo.gov/fdsys/pkg/FR-2018-11-29/pd...  Presidential Document   \n",
       "1  https://www.gpo.gov/fdsys/pkg/FR-2018-11-02/pd...  Presidential Document   \n",
       "2  https://www.gpo.gov/fdsys/pkg/FR-2018-09-21/pd...  Presidential Document   \n",
       "3  https://www.gpo.gov/fdsys/pkg/FR-2018-09-14/pd...  Presidential Document   \n",
       "4  https://www.gpo.gov/fdsys/pkg/FR-2018-09-06/pd...  Presidential Document   \n",
       "\n",
       "           subtype publication_date signing_date  start_page  \\\n",
       "0  Executive Order       11/29/2018   11/27/2018       61505   \n",
       "1  Executive Order       11/02/2018   11/01/2018       55243   \n",
       "2  Executive Order       09/21/2018   09/20/2018       48195   \n",
       "3  Executive Order       09/14/2018   09/12/2018       46843   \n",
       "4  Executive Order       09/06/2018   08/31/2018       45321   \n",
       "\n",
       "                                               title  \\\n",
       "0  Blocking Property of Certain Persons Contribut...   \n",
       "1  Blocking Property of Additional Persons Contri...   \n",
       "2  Authorizing the Implementation of Certain Sanc...   \n",
       "3  Imposing Certain Sanctions in the Event of For...   \n",
       "4       Strengthening Retirement Security in America   \n",
       "\n",
       "                                   disposition_notes  executive_order_number  \n",
       "0                                                NaN                   13851  \n",
       "1                                                NaN                   13850  \n",
       "2  See: EO 13694 of 4/1/2015, EO 13757 of 12/28/2...                   13849  \n",
       "3  See: 13694 of 4/1/2015, EO 13757 of 12/28/2016...                   13848  \n",
       "4                                                NaN                   13847  "
      ]
     },
     "execution_count": 2,
     "metadata": {},
     "output_type": "execute_result"
    }
   ],
   "source": [
    "print(type(ex_dataset))\n",
    "ex_dataset.head()"
   ]
  },
  {
   "cell_type": "markdown",
   "metadata": {},
   "source": [
    "Before we try and extract the text from the URLs, I want to create another column called \"President\" and one called \"Party\" so that we have those pre-labeled before we make any transformations. I can see online that orders 13765-13851 were signed by Trump, 13490-13764 were signed by Obama, 13199-13487 were signed by Bush and 12890-13197 were signed by Clinton. This will help us assign each order to the president that gave it."
   ]
  },
  {
   "cell_type": "code",
   "execution_count": 3,
   "metadata": {},
   "outputs": [],
   "source": [
    "def president(x):\n",
    "    if x > 13764:\n",
    "        return \"Trump\"\n",
    "    elif x > 13490:\n",
    "        return \"Obama\"\n",
    "    elif x > 13199:\n",
    "        return \"Bush\"\n",
    "    else:\n",
    "        return \"Clinton\""
   ]
  },
  {
   "cell_type": "code",
   "execution_count": 4,
   "metadata": {},
   "outputs": [
    {
     "name": "stdout",
     "output_type": "stream",
     "text": [
      "      citation document_number  end_page  \\\n",
      "0  83 FR 61505      2018-26156     61507   \n",
      "1  83 FR 55243      2018-24254     55245   \n",
      "2  83 FR 48195      2018-20816     48200   \n",
      "3  83 FR 46843      2018-20203     46848   \n",
      "4  83 FR 45321      2018-19514     45323   \n",
      "\n",
      "                                            html_url  \\\n",
      "0  https://www.federalregister.gov/documents/2018...   \n",
      "1  https://www.federalregister.gov/documents/2018...   \n",
      "2  https://www.federalregister.gov/documents/2018...   \n",
      "3  https://www.federalregister.gov/documents/2018...   \n",
      "4  https://www.federalregister.gov/documents/2018...   \n",
      "\n",
      "                                             pdf_url                   type  \\\n",
      "0  https://www.gpo.gov/fdsys/pkg/FR-2018-11-29/pd...  Presidential Document   \n",
      "1  https://www.gpo.gov/fdsys/pkg/FR-2018-11-02/pd...  Presidential Document   \n",
      "2  https://www.gpo.gov/fdsys/pkg/FR-2018-09-21/pd...  Presidential Document   \n",
      "3  https://www.gpo.gov/fdsys/pkg/FR-2018-09-14/pd...  Presidential Document   \n",
      "4  https://www.gpo.gov/fdsys/pkg/FR-2018-09-06/pd...  Presidential Document   \n",
      "\n",
      "           subtype publication_date signing_date  start_page  \\\n",
      "0  Executive Order       11/29/2018   11/27/2018       61505   \n",
      "1  Executive Order       11/02/2018   11/01/2018       55243   \n",
      "2  Executive Order       09/21/2018   09/20/2018       48195   \n",
      "3  Executive Order       09/14/2018   09/12/2018       46843   \n",
      "4  Executive Order       09/06/2018   08/31/2018       45321   \n",
      "\n",
      "                                               title  \\\n",
      "0  Blocking Property of Certain Persons Contribut...   \n",
      "1  Blocking Property of Additional Persons Contri...   \n",
      "2  Authorizing the Implementation of Certain Sanc...   \n",
      "3  Imposing Certain Sanctions in the Event of For...   \n",
      "4       Strengthening Retirement Security in America   \n",
      "\n",
      "                                   disposition_notes  executive_order_number  \\\n",
      "0                                                NaN                   13851   \n",
      "1                                                NaN                   13850   \n",
      "2  See: EO 13694 of 4/1/2015, EO 13757 of 12/28/2...                   13849   \n",
      "3  See: 13694 of 4/1/2015, EO 13757 of 12/28/2016...                   13848   \n",
      "4                                                NaN                   13847   \n",
      "\n",
      "  President  \n",
      "0     Trump  \n",
      "1     Trump  \n",
      "2     Trump  \n",
      "3     Trump  \n",
      "4     Trump  \n"
     ]
    }
   ],
   "source": [
    "ex_dataset[\"President\"] = ex_dataset[\"executive_order_number\"].apply(president)\n",
    "\n",
    "print(ex_dataset.head())"
   ]
  },
  {
   "cell_type": "markdown",
   "metadata": {},
   "source": [
    "Now we create the function that will add a col for the different political parties"
   ]
  },
  {
   "cell_type": "code",
   "execution_count": 5,
   "metadata": {},
   "outputs": [],
   "source": [
    "def party(x):\n",
    "    if x == \"Trump\":\n",
    "        return \"Republican\"\n",
    "    elif x == \"Obama\":\n",
    "        return \"Democrat\"\n",
    "    elif x == \"Bush\":\n",
    "        return \"Republican\"\n",
    "    else:\n",
    "        return \"Democrat\""
   ]
  },
  {
   "cell_type": "code",
   "execution_count": 6,
   "metadata": {},
   "outputs": [
    {
     "name": "stdout",
     "output_type": "stream",
     "text": [
      "      citation document_number  end_page  \\\n",
      "0  83 FR 61505      2018-26156     61507   \n",
      "1  83 FR 55243      2018-24254     55245   \n",
      "2  83 FR 48195      2018-20816     48200   \n",
      "3  83 FR 46843      2018-20203     46848   \n",
      "4  83 FR 45321      2018-19514     45323   \n",
      "\n",
      "                                            html_url  \\\n",
      "0  https://www.federalregister.gov/documents/2018...   \n",
      "1  https://www.federalregister.gov/documents/2018...   \n",
      "2  https://www.federalregister.gov/documents/2018...   \n",
      "3  https://www.federalregister.gov/documents/2018...   \n",
      "4  https://www.federalregister.gov/documents/2018...   \n",
      "\n",
      "                                             pdf_url                   type  \\\n",
      "0  https://www.gpo.gov/fdsys/pkg/FR-2018-11-29/pd...  Presidential Document   \n",
      "1  https://www.gpo.gov/fdsys/pkg/FR-2018-11-02/pd...  Presidential Document   \n",
      "2  https://www.gpo.gov/fdsys/pkg/FR-2018-09-21/pd...  Presidential Document   \n",
      "3  https://www.gpo.gov/fdsys/pkg/FR-2018-09-14/pd...  Presidential Document   \n",
      "4  https://www.gpo.gov/fdsys/pkg/FR-2018-09-06/pd...  Presidential Document   \n",
      "\n",
      "           subtype publication_date signing_date  start_page  \\\n",
      "0  Executive Order       11/29/2018   11/27/2018       61505   \n",
      "1  Executive Order       11/02/2018   11/01/2018       55243   \n",
      "2  Executive Order       09/21/2018   09/20/2018       48195   \n",
      "3  Executive Order       09/14/2018   09/12/2018       46843   \n",
      "4  Executive Order       09/06/2018   08/31/2018       45321   \n",
      "\n",
      "                                               title  \\\n",
      "0  Blocking Property of Certain Persons Contribut...   \n",
      "1  Blocking Property of Additional Persons Contri...   \n",
      "2  Authorizing the Implementation of Certain Sanc...   \n",
      "3  Imposing Certain Sanctions in the Event of For...   \n",
      "4       Strengthening Retirement Security in America   \n",
      "\n",
      "                                   disposition_notes  executive_order_number  \\\n",
      "0                                                NaN                   13851   \n",
      "1                                                NaN                   13850   \n",
      "2  See: EO 13694 of 4/1/2015, EO 13757 of 12/28/2...                   13849   \n",
      "3  See: 13694 of 4/1/2015, EO 13757 of 12/28/2016...                   13848   \n",
      "4                                                NaN                   13847   \n",
      "\n",
      "  President       Party  \n",
      "0     Trump  Republican  \n",
      "1     Trump  Republican  \n",
      "2     Trump  Republican  \n",
      "3     Trump  Republican  \n",
      "4     Trump  Republican  \n"
     ]
    }
   ],
   "source": [
    "ex_dataset[\"Party\"] = ex_dataset[\"President\"].apply(party)\n",
    "\n",
    "print(ex_dataset.head())\n"
   ]
  },
  {
   "cell_type": "markdown",
   "metadata": {},
   "source": [
    "Now we're going to test how to get the text from one URL, and once we get that working we can nest the code in a for loop and apply it to the whole dataset"
   ]
  },
  {
   "cell_type": "code",
   "execution_count": 7,
   "metadata": {},
   "outputs": [
    {
     "name": "stdout",
     "output_type": "stream",
     "text": [
      "https://www.federalregister.gov/documents/2018/11/29/2018-26156/blocking-property-of-certain-persons-contributing-to-the-situation-in-nicaragua\n"
     ]
    }
   ],
   "source": [
    "test_url = ex_dataset.iloc[0][3]\n",
    "print(test_url)"
   ]
  },
  {
   "cell_type": "code",
   "execution_count": 8,
   "metadata": {},
   "outputs": [],
   "source": [
    "from urllib.request import Request, urlopen\n"
   ]
  },
  {
   "cell_type": "code",
   "execution_count": 9,
   "metadata": {},
   "outputs": [],
   "source": [
    "import urllib\n",
    "req = urllib.request.Request(test_url, headers={'User-Agent' : \"Magic Browser\"}) \n",
    "con = urllib.request.urlopen( req )\n",
    "html = con.read()\n",
    "# print(html)\n"
   ]
  },
  {
   "cell_type": "markdown",
   "metadata": {},
   "source": [
    "Next we'll use Beauiful Soup to prettify the HTML text to make it easier to read"
   ]
  },
  {
   "cell_type": "code",
   "execution_count": 10,
   "metadata": {},
   "outputs": [
    {
     "name": "stderr",
     "output_type": "stream",
     "text": [
      "/anaconda3/lib/python3.6/site-packages/bs4/__init__.py:181: UserWarning: No parser was explicitly specified, so I'm using the best available HTML parser for this system (\"lxml\"). This usually isn't a problem, but if you run this code on another system, or in a different virtual environment, it may use a different parser and behave differently.\n",
      "\n",
      "The code that caused this warning is on line 193 of the file /anaconda3/lib/python3.6/runpy.py. To get rid of this warning, change code that looks like this:\n",
      "\n",
      " BeautifulSoup(YOUR_MARKUP})\n",
      "\n",
      "to this:\n",
      "\n",
      " BeautifulSoup(YOUR_MARKUP, \"lxml\")\n",
      "\n",
      "  markup_type=markup_type))\n"
     ]
    }
   ],
   "source": [
    "from bs4 import BeautifulSoup\n",
    "\n",
    "soup = BeautifulSoup(html)\n",
    "\n",
    "soup_text = soup.get_text()\n",
    "\n",
    "# print(soup_text)"
   ]
  },
  {
   "cell_type": "code",
   "execution_count": 11,
   "metadata": {},
   "outputs": [
    {
     "name": "stdout",
     "output_type": "stream",
     "text": [
      "<title>\n",
      "      Federal Register\n",
      "       :: \n",
      "      Blocking Property of Certain Persons Contributing to the Situation in Nicaragua\n",
      "    </title>\n"
     ]
    }
   ],
   "source": [
    "print(soup.title)"
   ]
  },
  {
   "cell_type": "code",
   "execution_count": 12,
   "metadata": {},
   "outputs": [],
   "source": [
    "pretty_soup = soup.prettify()\n",
    "\n",
    "# print(pretty_soup)"
   ]
  },
  {
   "cell_type": "code",
   "execution_count": 13,
   "metadata": {},
   "outputs": [
    {
     "name": "stdout",
     "output_type": "stream",
     "text": [
      "<class 'str'>\n"
     ]
    }
   ],
   "source": [
    "print(type(pretty_soup))"
   ]
  },
  {
   "cell_type": "markdown",
   "metadata": {},
   "source": [
    "Now I looked through the documents to try and find a phrase that all the executive orders started with (full texts omitted here for brevity, but you can just remove the #s to print the text in full). I will use this to split the document so we only get the text of the order, not all the HTML information. I chose \"Use the PDF linked in the document sidebar for the official electronic format\". It's long, but I has issues with short phrases appearing earlier in the text. Below, I do the same with the end of the order and the phrase \"[FR Doc.\""
   ]
  },
  {
   "cell_type": "code",
   "execution_count": 14,
   "metadata": {},
   "outputs": [],
   "source": [
    "doc1 = soup_text.split(\"Use the PDF linked in the document sidebar for the official electronic format\",1)[1]\n",
    "# print(doc1)\n",
    "\n"
   ]
  },
  {
   "cell_type": "code",
   "execution_count": 15,
   "metadata": {},
   "outputs": [
    {
     "name": "stdout",
     "output_type": "stream",
     "text": [
      ".\n",
      "\n",
      "\n",
      "\n",
      "\n",
      "\n",
      "Start Printed Page 61505\n",
      "Executive Order 13851 of November 27, 2018\n",
      "        Blocking Property of Certain Persons Contributing to the Situation in Nicaragua\n",
      "By the authority vested in me as President by the Constitution and the laws of the United States of America, including the International Emergency Economic Powers Act (50 U.S.C. 1701 et seq.) (IEEPA), the National Emergencies Act (50 U.S.C. 1601 et seq.) (NEA), section 212(f) of the Immigration and Nationality Act of 1952 (8 U.S.C. 1182(f)), and section 301 of title 3, United States Code,\n",
      "I, DONALD J. TRUMP, President of the United States of America, find that the situation in Nicaragua, including the violent response by the Government of Nicaragua to the protests that began on April 18, 2018, and the Ortega regime's systematic dismantling and undermining of democratic institutions and the rule of law, its use of indiscriminate violence and repressive tactics against civilians, as well as its corruption leading to the destabilization of Nicaragua's economy, constitutes an unusual and extraordinary threat to the national security and foreign policy of the United States, and I hereby declare a national emergency to deal with that threat. I hereby determine and order:\n",
      "\n",
      "Section 1. (a) All property and interests in property that are in the United States, that hereafter come within the United States, or that are or hereafter come within the possession or control of any United States person of the following persons are blocked and may not be transferred, paid, exported, withdrawn, or otherwise dealt in: any person determined by the Secretary of the Treasury, in consultation with the Secretary of State:\n",
      "(i) to be responsible for or complicit in, or to have directly or indirectly engaged or attempted to engage in, any of the following:\n",
      "(A) serious human rights abuse in Nicaragua;\n",
      "(B) actions or policies that undermine democratic processes or institutions in Nicaragua;\n",
      "(C) actions or policies that threaten the peace, security, or stability of Nicaragua;\n",
      "(D) any transaction or series of transactions involving deceptive practices or corruption by, on behalf of, or otherwise related to the Government of Nicaragua or a current or former official of the Government of Nicaragua, such as the misappropriation of public assets or expropriation of private assets for personal gain or political purposes, corruption related to government contracts, or bribery;\n",
      "(ii) to be a leader or official of an entity that has, or whose members have, engaged in any activity described in subsection (a)(i) of this section or of an entity whose property and interests in property are blocked pursuant to this order;\n",
      "(iii) to be an official of the Government of Nicaragua or to have served as an official of the Government of Nicaragua at any time on or after January 10, 2007;\n",
      "(iv) to have materially assisted, sponsored, or provided financial, material, or technological support for, or goods or services in support of:\n",
      "(A) any activities described in subsection (a)(i) of this section; orStart Printed Page 61506\n",
      "\n",
      "(B) any person whose property and interests in property are blocked pursuant to this order; or\n",
      "(v) to be owned or controlled by, or to have acted or purported to act for or on behalf of, directly or indirectly, any person whose property and interests in property are blocked pursuant to this order.\n",
      "(b) The prohibitions in subsection (a) of this section apply except to the extent provided by statutes, or in regulations, orders, directives, or licenses that may be issued pursuant to this order, and notwithstanding any contract entered into or any license or permit granted prior to the date of this order.\n",
      "\n",
      "Sec. 2. The unrestricted immigrant and nonimmigrant entry into the United States of aliens determined to meet one or more of the criteria in section 1 of this order would be detrimental to the interests of the United States, and the entry of such persons into the United States, as immigrants or nonimmigrants, is hereby suspended, except where the Secretary of State determines that the person's entry is in the national interest of the United States. Such persons shall be treated as persons covered by section 1 of Proclamation 8693 of July 24, 2011 (Suspension of Entry of Aliens Subject to United Nations Security Council Travel Bans and International Emergency Economic Powers Act Sanctions).\n",
      "\n",
      "Sec. 3. I hereby determine that the making of donations of the type of articles specified in section 203(b)(2) of IEEPA (50 U.S.C. 1702(b)(2)) by, to, or for the benefit of any person whose property and interests in property are blocked pursuant to section 1 of this order would seriously impair my ability to deal with the national emergency declared in this order, and I hereby prohibit such donations as provided by section 1 of this order.\n",
      "\n",
      "Sec. 4. The prohibitions in section 1 of this order include:\n",
      "(a) the making of any contribution or provision of funds, goods, or services by, to, or for the benefit of any person whose property and interests in property are blocked pursuant to this order; and\n",
      "(b) the receipt of any contribution or provision of funds, goods, or services from any such person.\n",
      "\n",
      "Sec. 5. (a) Any transaction that evades or avoids, has the purpose of evading or avoiding, causes a violation of, or attempts to violate any of the prohibitions set forth in this order is prohibited.\n",
      "(b) Any conspiracy formed to violate any of the prohibitions set forth in this order is prohibited.\n",
      "\n",
      "Sec. 6. For the purposes of this order:\n",
      "(a) the term “person” means an individual or entity;\n",
      "(b) the term “entity” means a partnership, association, trust, joint venture, corporation, group, subgroup, or other organization;\n",
      "(c) the term “United States person” means any United States citizen, permanent resident alien, entity organized under the laws of the United States or any jurisdiction within the United States (including foreign branches), or any person in the United States; and\n",
      "(d) the term “Government of Nicaragua” means the Government of Nicaragua, any political subdivision, agency, or instrumentality thereof, including the Central Bank of Nicaragua, and any person owned or controlled by, or acting for or on behalf of, the Government of Nicaragua.\n",
      "\n",
      "Sec. 7. For those persons whose property and interests in property are blocked pursuant to this order who might have a constitutional presence in the United States, I find that because of the ability to transfer funds or other assets instantaneously, prior notice to such persons of measures to be taken pursuant to this order would render those measures ineffectual. I therefore determine that for these measures to be effective in addressing the national emergency declared in this order, there need be no prior notice of a listing or determination made pursuant to section 1 of this order.Start Printed Page 61507\n",
      "\n",
      "\n",
      "Sec. 8. The Secretary of the Treasury, in consultation with the Secretary of State, is hereby authorized to take such actions, including promulgating rules and regulations, and to employ all powers granted to the President by IEEPA as may be necessary to implement this order. The Secretary of the Treasury may, consistent with applicable law, redelegate any of these functions within the Department of the Treasury. All agencies of the United States Government shall take all appropriate measures within their authority to carry out the provisions of this order.\n",
      "\n",
      "Sec. 9. The Secretary of the Treasury, in consultation with the Secretary of State, is hereby authorized to submit the recurring and final reports to the Congress on the national emergency declared in this order, consistent with section 401(c) of the NEA (50 U.S.C. 1641(c)) and section 204(c) of IEEPA (50 U.S.C. 1703(c)).\n",
      "\n",
      "Sec. 10. (a) Nothing in this order shall be construed to impair or otherwise affect:\n",
      "(i) the authority granted by law to an executive department or agency, or the head thereof; or\n",
      "(ii) the functions of the Director of the Office of Management and Budget relating to budgetary, administrative, or legislative proposals.\n",
      "(b) This order shall be implemented consistent with applicable law and subject to the availability of appropriations.\n",
      "(c) This order is not intended to, and does not, create any right or benefit, substantive or procedural, enforceable at law or in equity by any party against the United States, its departments, agencies, or entities, its officers, employees, or agents, or any other person.\n",
      "\n",
      "        \n",
      "         \n",
      "        THE WHITE HOUSE,\n",
      "        November 27, 2018.\n",
      "        \n",
      "        Filed 11-28-18; 11:15 am]\n",
      "        \n",
      "      \n",
      "    \n",
      "\n"
     ]
    }
   ],
   "source": [
    "a,b = doc1.split(\"[FR Doc.\")\n",
    "\n",
    "print(a)\n"
   ]
  },
  {
   "cell_type": "code",
   "execution_count": null,
   "metadata": {},
   "outputs": [
    {
     "name": "stdout",
     "output_type": "stream",
     "text": [
      "[\".\\n\\n\\n\\n\\n\\nStart Printed Page 61505\\nExecutive Order 13851 of November 27, 2018\\n        Blocking Property of Certain Persons Contributing to the Situation in Nicaragua\\nBy the authority vested in me as President by the Constitution and the laws of the United States of America, including the International Emergency Economic Powers Act (50 U.S.C. 1701 et seq.) (IEEPA), the National Emergencies Act (50 U.S.C. 1601 et seq.) (NEA), section 212(f) of the Immigration and Nationality Act of 1952 (8 U.S.C. 1182(f)), and section 301 of title 3, United States Code,\\nI, DONALD J. TRUMP, President of the United States of America, find that the situation in Nicaragua, including the violent response by the Government of Nicaragua to the protests that began on April 18, 2018, and the Ortega regime's systematic dismantling and undermining of democratic institutions and the rule of law, its use of indiscriminate violence and repressive tactics against civilians, as well as its corruption leading to the destabilization of Nicaragua's economy, constitutes an unusual and extraordinary threat to the national security and foreign policy of the United States, and I hereby declare a national emergency to deal with that threat. I hereby determine and order:\\n\\nSection 1. (a) All property and interests in property that are in the United States, that hereafter come within the United States, or that are or hereafter come within the possession or control of any United States person of the following persons are blocked and may not be transferred, paid, exported, withdrawn, or otherwise dealt in: any person determined by the Secretary of the Treasury, in consultation with the Secretary of State:\\n(i) to be responsible for or complicit in, or to have directly or indirectly engaged or attempted to engage in, any of the following:\\n(A) serious human rights abuse in Nicaragua;\\n(B) actions or policies that undermine democratic processes or institutions in Nicaragua;\\n(C) actions or policies that threaten the peace, security, or stability of Nicaragua;\\n(D) any transaction or series of transactions involving deceptive practices or corruption by, on behalf of, or otherwise related to the Government of Nicaragua or a current or former official of the Government of Nicaragua, such as the misappropriation of public assets or expropriation of private assets for personal gain or political purposes, corruption related to government contracts, or bribery;\\n(ii) to be a leader or official of an entity that has, or whose members have, engaged in any activity described in subsection (a)(i) of this section or of an entity whose property and interests in property are blocked pursuant to this order;\\n(iii) to be an official of the Government of Nicaragua or to have served as an official of the Government of Nicaragua at any time on or after January 10, 2007;\\n(iv) to have materially assisted, sponsored, or provided financial, material, or technological support for, or goods or services in support of:\\n(A) any activities described in subsection (a)(i) of this section; orStart Printed Page 61506\\n\\n(B) any person whose property and interests in property are blocked pursuant to this order; or\\n(v) to be owned or controlled by, or to have acted or purported to act for or on behalf of, directly or indirectly, any person whose property and interests in property are blocked pursuant to this order.\\n(b) The prohibitions in subsection (a) of this section apply except to the extent provided by statutes, or in regulations, orders, directives, or licenses that may be issued pursuant to this order, and notwithstanding any contract entered into or any license or permit granted prior to the date of this order.\\n\\nSec. 2. The unrestricted immigrant and nonimmigrant entry into the United States of aliens determined to meet one or more of the criteria in section 1 of this order would be detrimental to the interests of the United States, and the entry of such persons into the United States, as immigrants or nonimmigrants, is hereby suspended, except where the Secretary of State determines that the person's entry is in the national interest of the United States. Such persons shall be treated as persons covered by section 1 of Proclamation 8693 of July 24, 2011 (Suspension of Entry of Aliens Subject to United Nations Security Council Travel Bans and International Emergency Economic Powers Act Sanctions).\\n\\nSec. 3. I hereby determine that the making of donations of the type of articles specified in section 203(b)(2) of IEEPA (50 U.S.C. 1702(b)(2)) by, to, or for the benefit of any person whose property and interests in property are blocked pursuant to section 1 of this order would seriously impair my ability to deal with the national emergency declared in this order, and I hereby prohibit such donations as provided by section 1 of this order.\\n\\nSec. 4. The prohibitions in section 1 of this order include:\\n(a) the making of any contribution or provision of funds, goods, or services by, to, or for the benefit of any person whose property and interests in property are blocked pursuant to this order; and\\n(b) the receipt of any contribution or provision of funds, goods, or services from any such person.\\n\\nSec. 5. (a) Any transaction that evades or avoids, has the purpose of evading or avoiding, causes a violation of, or attempts to violate any of the prohibitions set forth in this order is prohibited.\\n(b) Any conspiracy formed to violate any of the prohibitions set forth in this order is prohibited.\\n\\nSec. 6. For the purposes of this order:\\n(a) the term “person” means an individual or entity;\\n(b) the term “entity” means a partnership, association, trust, joint venture, corporation, group, subgroup, or other organization;\\n(c) the term “United States person” means any United States citizen, permanent resident alien, entity organized under the laws of the United States or any jurisdiction within the United States (including foreign branches), or any person in the United States; and\\n(d) the term “Government of Nicaragua” means the Government of Nicaragua, any political subdivision, agency, or instrumentality thereof, including the Central Bank of Nicaragua, and any person owned or controlled by, or acting for or on behalf of, the Government of Nicaragua.\\n\\nSec. 7. For those persons whose property and interests in property are blocked pursuant to this order who might have a constitutional presence in the United States, I find that because of the ability to transfer funds or other assets instantaneously, prior notice to such persons of measures to be taken pursuant to this order would render those measures ineffectual. I therefore determine that for these measures to be effective in addressing the national emergency declared in this order, there need be no prior notice of a listing or determination made pursuant to section 1 of this order.Start Printed Page 61507\\n\\n\\nSec. 8. The Secretary of the Treasury, in consultation with the Secretary of State, is hereby authorized to take such actions, including promulgating rules and regulations, and to employ all powers granted to the President by IEEPA as may be necessary to implement this order. The Secretary of the Treasury may, consistent with applicable law, redelegate any of these functions within the Department of the Treasury. All agencies of the United States Government shall take all appropriate measures within their authority to carry out the provisions of this order.\\n\\nSec. 9. The Secretary of the Treasury, in consultation with the Secretary of State, is hereby authorized to submit the recurring and final reports to the Congress on the national emergency declared in this order, consistent with section 401(c) of the NEA (50 U.S.C. 1641(c)) and section 204(c) of IEEPA (50 U.S.C. 1703(c)).\\n\\nSec. 10. (a) Nothing in this order shall be construed to impair or otherwise affect:\\n(i) the authority granted by law to an executive department or agency, or the head thereof; or\\n(ii) the functions of the Director of the Office of Management and Budget relating to budgetary, administrative, or legislative proposals.\\n(b) This order shall be implemented consistent with applicable law and subject to the availability of appropriations.\\n(c) This order is not intended to, and does not, create any right or benefit, substantive or procedural, enforceable at law or in equity by any party against the United States, its departments, agencies, or entities, its officers, employees, or agents, or any other person.\\n\\n        \\n        \\u2003\\n        THE WHITE HOUSE,\\n        November 27, 2018.\\n        \\n        Filed 11-28-18; 11:15 am]\\n        \\n      \\n    \\n\"]\n"
     ]
    }
   ],
   "source": [
    "ex_text = []\n",
    "\n",
    "ex_text.append(a)\n",
    "\n",
    "print(ex_text)\n"
   ]
  },
  {
   "cell_type": "markdown",
   "metadata": {},
   "source": [
    "Since that worked for the example, we just wrap the code in a for loop to execute it"
   ]
  },
  {
   "cell_type": "code",
   "execution_count": null,
   "metadata": {},
   "outputs": [
    {
     "name": "stderr",
     "output_type": "stream",
     "text": [
      "/anaconda3/lib/python3.6/site-packages/bs4/__init__.py:181: UserWarning: No parser was explicitly specified, so I'm using the best available HTML parser for this system (\"lxml\"). This usually isn't a problem, but if you run this code on another system, or in a different virtual environment, it may use a different parser and behave differently.\n",
      "\n",
      "The code that caused this warning is on line 193 of the file /anaconda3/lib/python3.6/runpy.py. To get rid of this warning, change code that looks like this:\n",
      "\n",
      " BeautifulSoup(YOUR_MARKUP})\n",
      "\n",
      "to this:\n",
      "\n",
      " BeautifulSoup(YOUR_MARKUP, \"lxml\")\n",
      "\n",
      "  markup_type=markup_type))\n"
     ]
    }
   ],
   "source": [
    "orders_text = []\n",
    "\n",
    "for entry in range(len(ex_dataset)):\n",
    "    url = ex_dataset.iloc[entry][3]\n",
    "    req = urllib.request.Request(url, headers={'User-Agent' : \"Magic Browser\"}) \n",
    "    con = urllib.request.urlopen( req )\n",
    "    html = con.read()\n",
    "    soup = BeautifulSoup(html)\n",
    "    soup_text = soup.get_text()\n",
    "    doc1 = soup_text.split(\"Use the PDF linked in the document sidebar for the official electronic format\",1)[1]\n",
    "    a,b = doc1.split(\"[FR Doc.\")\n",
    "    orders_text.append(a)\n",
    "   "
   ]
  },
  {
   "cell_type": "markdown",
   "metadata": {},
   "source": [
    "Here we have an issue. I did some investigating and found out that not all the orders are avaliable in HTML format. The text of those documents just link to a flat file. I need to remove those documents. It will reduce the number of observances in our dataset, but there's no other way"
   ]
  },
  {
   "cell_type": "code",
   "execution_count": null,
   "metadata": {},
   "outputs": [],
   "source": [
    "exec_orders_len = len(ex_dataset)\n",
    "\n",
    "print(exec_orders_len)"
   ]
  },
  {
   "cell_type": "code",
   "execution_count": null,
   "metadata": {},
   "outputs": [],
   "source": [
    "# I'm going to look at each text and create a boolean to see whether the text contains the phrase \"[FR Doc.\"\n",
    "\n",
    "test_cleaning = []\n",
    "\n",
    "for entry in range(0, 928):\n",
    "    url = ex_dataset.iloc[entry][3]\n",
    "    req = urllib.request.Request(url, headers={'User-Agent' : \"Magic Browser\"}) \n",
    "    con = urllib.request.urlopen( req )\n",
    "    html = con.read()\n",
    "    soup = BeautifulSoup(html)\n",
    "    soup_text = soup.get_text()\n",
    "    test_cleaning.append(soup_text)\n",
    "    \n",
    "\n"
   ]
  },
  {
   "cell_type": "code",
   "execution_count": null,
   "metadata": {},
   "outputs": [],
   "source": [
    "substring = \"[FR Doc.\"\n",
    "\n",
    "check = []\n",
    "\n",
    "for entry in test_cleaning:\n",
    "    if substring in entry:\n",
    "        value = \"Yes\"\n",
    "        check.append(value)\n",
    "    else:\n",
    "        value = \"No\"\n",
    "        check.append(value)\n",
    "\n",
    "print(check)"
   ]
  },
  {
   "cell_type": "code",
   "execution_count": null,
   "metadata": {},
   "outputs": [],
   "source": [
    "ind = range(0, 928)\n",
    "df = pd.DataFrame(index = ind, data = check, columns=[\"In_HTML\"])\n",
    "\n",
    "#print(df.head())\n",
    "\n",
    "print((df[df[\"In_HTML\"] == \"No\"]).head())"
   ]
  },
  {
   "cell_type": "markdown",
   "metadata": {},
   "source": [
    "Okay, now we know which orders aren't in HTML format, and we can remove those. There are 223"
   ]
  },
  {
   "cell_type": "code",
   "execution_count": null,
   "metadata": {},
   "outputs": [],
   "source": [
    "ex_dataset[\"In_HTML\"] = df[\"In_HTML\"]\n",
    "\n",
    "print(ex_dataset.head())"
   ]
  },
  {
   "cell_type": "markdown",
   "metadata": {},
   "source": [
    "Okay, now we know which ones are in HTML. We can make a new dataset that contains only HTML orders, and work off that"
   ]
  },
  {
   "cell_type": "code",
   "execution_count": null,
   "metadata": {},
   "outputs": [],
   "source": [
    "cleaned_ex_data = ex_dataset[ex_dataset[\"In_HTML\"] == \"Yes\"]\n",
    "\n",
    "print(928-223)\n",
    "\n",
    "# These number should be the same if the above code is successful\n",
    "print(len(cleaned_ex_data))"
   ]
  },
  {
   "cell_type": "markdown",
   "metadata": {},
   "source": [
    "Great! We now have 705 executive orders in HTML ready to be parsed into our dataframe."
   ]
  },
  {
   "cell_type": "code",
   "execution_count": null,
   "metadata": {
    "scrolled": true
   },
   "outputs": [],
   "source": [
    "exec_text = []\n",
    "\n",
    "for entry in range(0, 705):\n",
    "    url = cleaned_ex_data.iloc[entry][3]\n",
    "    req = urllib.request.Request(url, headers={'User-Agent' : \"Magic Browser\"}) \n",
    "    con = urllib.request.urlopen( req )\n",
    "    html = con.read()\n",
    "    soup = BeautifulSoup(html)\n",
    "    soup_text = soup.get_text()\n",
    "    doc1 = soup_text.split(\"Use the PDF linked in the document sidebar for the official electronic format\",1)[1]\n",
    "    a,b = doc1.split(\"[FR Doc.\")\n",
    "    exec_text.append(a)\n",
    "\n",
    "# I'm going to print a random order (100) to test that the for loop worked\n",
    "print(exec_text[100])"
   ]
  },
  {
   "cell_type": "markdown",
   "metadata": {},
   "source": [
    "Next we're going to append this list of strings to our dataset to get our final result"
   ]
  },
  {
   "cell_type": "code",
   "execution_count": null,
   "metadata": {},
   "outputs": [],
   "source": [
    "cleaned_ex_data[\"Order_Text\"] = exec_text\n",
    "\n",
    "print(cleaned_ex_data.head())"
   ]
  },
  {
   "cell_type": "markdown",
   "metadata": {},
   "source": [
    "Next, we're going to strip the new line \\n from the text"
   ]
  },
  {
   "cell_type": "code",
   "execution_count": null,
   "metadata": {},
   "outputs": [],
   "source": [
    "for index, row in cleaned_ex_data.iterrows():\n",
    "    cleaned_ex_data.loc[index, \"Order_Text\"] = cleaned_ex_data.loc[index, \"Order_Text\"].replace('\\n', '')\n",
    "    \n",
    "print(cleaned_ex_data.head())"
   ]
  },
  {
   "cell_type": "markdown",
   "metadata": {},
   "source": [
    "Now our data is clean and ready for analysis! Let's get some exploratory statistics, such as the number of orders per president"
   ]
  },
  {
   "cell_type": "code",
   "execution_count": null,
   "metadata": {},
   "outputs": [],
   "source": [
    "print(\"Trump:\",len(cleaned_ex_data[cleaned_ex_data[\"President\"] == \"Trump\"]))\n",
    "print(\"Obama:\",len(cleaned_ex_data[cleaned_ex_data[\"President\"] == \"Obama\"]))\n",
    "print(\"Bush:\",len(cleaned_ex_data[cleaned_ex_data[\"President\"] == \"Bush\"]))\n",
    "print(\"Clinton:\",len(cleaned_ex_data[cleaned_ex_data[\"President\"] == \"Clinton\"]))"
   ]
  },
  {
   "cell_type": "markdown",
   "metadata": {},
   "source": [
    "We can see that Clinton has the least. This is likely because we discarded many of the executive orders that were't in HTML format, which are the older orders. Trump also doesn't have very many, likely becuase he hasn't been in office very long. Now let's compare Dems and Republicans:"
   ]
  },
  {
   "cell_type": "code",
   "execution_count": null,
   "metadata": {},
   "outputs": [],
   "source": [
    "print(\"Democrats:\",len(cleaned_ex_data[cleaned_ex_data[\"Party\"] == \"Democrat\"]))\n",
    "print(\"Republicans:\",len(cleaned_ex_data[cleaned_ex_data[\"Party\"] == \"Republican\"]))"
   ]
  },
  {
   "cell_type": "markdown",
   "metadata": {},
   "source": [
    "These numbers are pretty close, which will be good for comparisons. Next let's add a col that contains the length of the different orders"
   ]
  },
  {
   "cell_type": "code",
   "execution_count": null,
   "metadata": {},
   "outputs": [],
   "source": [
    "lengths = []\n",
    "\n",
    "for index, row in cleaned_ex_data.iterrows():\n",
    "    num = len(cleaned_ex_data.loc[index, \"Order_Text\"])\n",
    "    lengths.append(num)\n",
    "\n",
    "# this looks good, now we just add this to the main dataframe   \n",
    "print(lengths)\n"
   ]
  },
  {
   "cell_type": "code",
   "execution_count": null,
   "metadata": {},
   "outputs": [],
   "source": [
    "cleaned_ex_data[\"Order_Length\"] = lengths\n",
    "\n",
    "print(cleaned_ex_data.head())"
   ]
  },
  {
   "cell_type": "markdown",
   "metadata": {},
   "source": [
    "Now let's compare the average length of each executive order across parties"
   ]
  },
  {
   "cell_type": "code",
   "execution_count": null,
   "metadata": {},
   "outputs": [],
   "source": [
    "import numpy as np\n",
    "\n",
    "dems = cleaned_ex_data[cleaned_ex_data[\"Party\"] == \"Democrat\"]\n",
    "reps = cleaned_ex_data[cleaned_ex_data[\"Party\"] == \"Republican\"]\n",
    "\n",
    "print(\"Democrats:\", np.mean(dems[\"Order_Length\"]))\n",
    "print(\"Republicans:\", np.mean(reps[\"Order_Length\"]))\n"
   ]
  },
  {
   "cell_type": "markdown",
   "metadata": {},
   "source": [
    "Now let's compare these two groups with some boxplots"
   ]
  },
  {
   "cell_type": "code",
   "execution_count": null,
   "metadata": {},
   "outputs": [],
   "source": [
    "import seaborn as sns\n",
    "\n",
    "import matplotlib.pyplot as plt\n",
    "\n",
    "len_box_adj = sns.boxplot(x=\"Order_Length\", y = \"Party\", data = cleaned_ex_data, palette = \"Set2\", notch = True)\n",
    "\n",
    "# I'm adjusting the x axis here to make the plot easier to see\n",
    "plt.xlim(0, 21000)"
   ]
  },
  {
   "cell_type": "markdown",
   "metadata": {},
   "source": [
    "We can see (by the notches) that executive orders written by democrats are statistically significantly longer than those written by republicans. Let's look at individual presidents as well"
   ]
  },
  {
   "cell_type": "code",
   "execution_count": null,
   "metadata": {},
   "outputs": [],
   "source": [
    "\n",
    "obama = cleaned_ex_data[cleaned_ex_data[\"President\"] == \"Obama\"]\n",
    "trump = cleaned_ex_data[cleaned_ex_data[\"President\"] == \"Trump\"]\n",
    "bush = cleaned_ex_data[cleaned_ex_data[\"President\"] == \"Bush\"]\n",
    "clinton = cleaned_ex_data[cleaned_ex_data[\"President\"] == \"Clinton\"]\n",
    "\n",
    "print(\"Obama:\", np.mean(obama[\"Order_Length\"]))\n",
    "print(\"Trump:\", np.mean(trump[\"Order_Length\"]))\n",
    "print(\"Bush:\", np.mean(bush[\"Order_Length\"]))\n",
    "print(\"Clinton:\", np.mean(clinton[\"Order_Length\"]))\n"
   ]
  },
  {
   "cell_type": "markdown",
   "metadata": {},
   "source": [
    "It appears that Bush's are by far the shortest, and surprisingly Trump's are the longest. Let's create another boxplot"
   ]
  },
  {
   "cell_type": "code",
   "execution_count": null,
   "metadata": {},
   "outputs": [],
   "source": [
    "len_box_adj = sns.boxplot(x=\"Order_Length\", y = \"President\", data = cleaned_ex_data, palette = \"Set2\", notch = True)\n",
    "\n",
    "# I'm adjusting the x axis here to make the plot easier to see\n",
    "plt.xlim(0, 21000)"
   ]
  },
  {
   "cell_type": "markdown",
   "metadata": {},
   "source": [
    "It appears that the only president with significantly shorter executive orders is Bush. This likely explains why orders by Republicans appear to be much shorter. Next let's see how the length of all orders changed over time"
   ]
  },
  {
   "cell_type": "code",
   "execution_count": null,
   "metadata": {},
   "outputs": [],
   "source": [
    "# we need to change the date to a datetime object\n",
    "cleaned_ex_data[\"publication_date\"] = pd.to_datetime(cleaned_ex_data[\"publication_date\"])\n"
   ]
  },
  {
   "cell_type": "code",
   "execution_count": null,
   "metadata": {},
   "outputs": [],
   "source": [
    "plt.plot(cleaned_ex_data[\"publication_date\"], cleaned_ex_data[\"Order_Length\"])"
   ]
  },
  {
   "cell_type": "markdown",
   "metadata": {},
   "source": [
    "We can see several spikes here, probably from unusually long orders, but there doesn't appear to be any kind of trend persisting over time. We can also only look at the data below 21000, which is where we limited the boxplots"
   ]
  },
  {
   "cell_type": "code",
   "execution_count": null,
   "metadata": {},
   "outputs": [],
   "source": [
    "smaller_data = cleaned_ex_data[cleaned_ex_data[\"Order_Length\"] < 21000]\n",
    "\n",
    "plt.plot(smaller_data[\"publication_date\"], smaller_data[\"Order_Length\"])"
   ]
  },
  {
   "cell_type": "markdown",
   "metadata": {},
   "source": [
    "Here we can see a possible positive trend, so let's do a linear regression to see if it's a positive trend and calculate pearson's r to see if it's significant"
   ]
  },
  {
   "cell_type": "code",
   "execution_count": null,
   "metadata": {},
   "outputs": [],
   "source": [
    "import datetime as dt\n",
    "\n",
    "date_graph_data = cleaned_ex_data\n",
    "\n",
    "date_graph_data[\"publication_date\"]=date_graph_data[\"publication_date\"].map(dt.datetime.toordinal)"
   ]
  },
  {
   "cell_type": "code",
   "execution_count": null,
   "metadata": {},
   "outputs": [],
   "source": [
    "import statsmodels.api as sm\n",
    "\n",
    "X = date_graph_data[\"publication_date\"]\n",
    "y = date_graph_data[\"Order_Length\"]\n",
    "\n",
    "model = sm.OLS(y, X).fit()\n",
    "predictions = model.predict(X) # make the predictions by the model\n",
    "\n",
    "# Print out the statistics\n",
    "model.summary()\n"
   ]
  },
  {
   "cell_type": "markdown",
   "metadata": {},
   "source": [
    "Okay, so we can see that while we have a medium sized R-sq of 0.447, the coefficient of publication date is just 0.0098, which is quite small. Let's try this with the less extreme data"
   ]
  },
  {
   "cell_type": "code",
   "execution_count": null,
   "metadata": {},
   "outputs": [],
   "source": [
    "date_graph_data2 = smaller_data\n",
    "\n",
    "date_graph_data2[\"publication_date\"]=date_graph_data2[\"publication_date\"].map(dt.datetime.toordinal)\n",
    "\n",
    "X2 = date_graph_data2[\"publication_date\"]\n",
    "y2 = date_graph_data2[\"Order_Length\"]\n",
    "\n",
    "model2 = sm.OLS(y2, X2).fit()\n",
    "predictions2 = model2.predict(X2) # make the predictions by the model\n",
    "\n",
    "# Print out the statistics\n",
    "model2.summary()\n"
   ]
  },
  {
   "cell_type": "markdown",
   "metadata": {},
   "source": [
    "We have a higher R-sq (0.667), but still quite a small coeff for publication date (0.0084). It's safe to say that the mean lengths of the executive orders haven't gone up over the years a clinically significant amount"
   ]
  },
  {
   "cell_type": "code",
   "execution_count": null,
   "metadata": {},
   "outputs": [],
   "source": [
    "# if the coefficient is calculated per day, this means that the average executive order length \n",
    "# goes up about 3 characters a year. Likely not a clinically significant difference, especially given our limited data\n",
    "0.0084*365"
   ]
  },
  {
   "cell_type": "markdown",
   "metadata": {},
   "source": [
    "We should do some textual cleaning before we try and create a model. Let's remove all the punctuation and numbers from the texts. We'll do this using re (a regular expression)"
   ]
  },
  {
   "cell_type": "code",
   "execution_count": null,
   "metadata": {},
   "outputs": [],
   "source": [
    "import re \n",
    "output = []\n",
    "for i in cleaned_ex_data[\"Order_Text\"]:\n",
    "    output.append(re.sub(\"\\S*\\d\\S*\",\"\", i).strip())\n",
    "    \n",
    "    "
   ]
  },
  {
   "cell_type": "markdown",
   "metadata": {},
   "source": [
    "Now we'll append the clean data to a new col, Cleaned_Text, in our dataset"
   ]
  },
  {
   "cell_type": "code",
   "execution_count": null,
   "metadata": {},
   "outputs": [],
   "source": [
    "se = pd.Series(output)\n",
    "cleaned_ex_data['Cleaned_Text'] = se.values"
   ]
  },
  {
   "cell_type": "markdown",
   "metadata": {},
   "source": [
    "We'll also change the words to all lower case, so that words with different cases will still be categorized together for analysis"
   ]
  },
  {
   "cell_type": "code",
   "execution_count": null,
   "metadata": {},
   "outputs": [],
   "source": [
    "cleaned_ex_data['Cleaned_Text'] = cleaned_ex_data['Cleaned_Text'].astype(str).str.lower()"
   ]
  },
  {
   "cell_type": "code",
   "execution_count": null,
   "metadata": {},
   "outputs": [],
   "source": [
    "# let's examine our changes\n",
    "\n",
    "cleaned_ex_data.head()"
   ]
  },
  {
   "cell_type": "code",
   "execution_count": null,
   "metadata": {},
   "outputs": [],
   "source": [
    "# Next we'll start building our first prediction model: Party. We'll use test train split to split the data so we can test\n",
    "# our model later\n",
    "\n",
    "from sklearn.model_selection import train_test_split\n",
    "\n",
    "y = cleaned_ex_data[\"Party\"]\n",
    "\n",
    "X_train, X_test, y_train, y_test = train_test_split(cleaned_ex_data['Cleaned_Text'], y, test_size = 0.33, random_state = 53)"
   ]
  },
  {
   "cell_type": "markdown",
   "metadata": {},
   "source": [
    "Now that the data is split, we'll use a count vectorizer to transform the data and get some feature names"
   ]
  },
  {
   "cell_type": "code",
   "execution_count": null,
   "metadata": {},
   "outputs": [],
   "source": [
    "from sklearn.feature_extraction.text import TfidfVectorizer\n",
    "\n",
    "tfidf_vectorizer = TfidfVectorizer(stop_words=\"english\", max_df=0.7)\n",
    "\n",
    "tfidf_train = tfidf_vectorizer.fit_transform(X_train)\n",
    "\n",
    "tfidf_test = tfidf_vectorizer.transform(X_test)\n",
    "\n",
    "print(tfidf_vectorizer.get_feature_names()[:10])\n",
    "\n",
    "print(tfidf_train.A[:5])"
   ]
  },
  {
   "cell_type": "markdown",
   "metadata": {},
   "source": [
    "We have a few entries that are blanks ( the '____' ones) but it's only a few so we won't worry about those"
   ]
  },
  {
   "cell_type": "code",
   "execution_count": null,
   "metadata": {},
   "outputs": [],
   "source": [
    "# now we inspect the vectorizer\n",
    "\n",
    "tfidf_df = pd.DataFrame(tfidf_train.A, columns=tfidf_vectorizer.get_feature_names())\n",
    "\n",
    "print(tfidf_df.head())"
   ]
  },
  {
   "cell_type": "markdown",
   "metadata": {},
   "source": [
    "It's a very large datset! Next I'll fit the classifier, which is what we'll use to classify the test executive orders as Democrat or Republican in our predictive model"
   ]
  },
  {
   "cell_type": "code",
   "execution_count": null,
   "metadata": {},
   "outputs": [],
   "source": [
    "from sklearn.naive_bayes import MultinomialNB\n",
    "\n",
    "from sklearn.metrics import accuracy_score, confusion_matrix\n",
    "\n",
    "nb_classifier = MultinomialNB()\n",
    "\n",
    "# Fit the classifier\n",
    "nb_classifier.fit(tfidf_train, y_train)\n",
    "\n",
    "# Create the predicted tags\n",
    "pred = nb_classifier.predict(tfidf_test)\n",
    "\n",
    "# Calculate the accuracy score\n",
    "score = accuracy_score(y_test, pred)\n",
    "print(score)\n"
   ]
  },
  {
   "cell_type": "markdown",
   "metadata": {},
   "source": [
    "So we have an accuracy score of 0.65, which is better than chance! Next we'll test a few different alphas and see which works best"
   ]
  },
  {
   "cell_type": "code",
   "execution_count": null,
   "metadata": {},
   "outputs": [],
   "source": [
    "alphas = np.arange(0, 1, 0.1)\n",
    "\n",
    "# Define train_and_predict()\n",
    "def train_and_predict(alpha):\n",
    "    # Instantiate the classifier: nb_classifier\n",
    "    nb_classifier = MultinomialNB(alpha=alpha)\n",
    "    # Fit to the training data\n",
    "    nb_classifier.fit(tfidf_train, y_train)\n",
    "    # Predict the labels: pred\n",
    "    pred = nb_classifier.predict(tfidf_test)\n",
    "    # Compute accuracy: score\n",
    "    score = accuracy_score(y_test, pred)\n",
    "    return score\n",
    "\n",
    "# Iterate over the alphas and print the corresponding score\n",
    "for alpha in alphas:\n",
    "    print('Alpha: ', alpha)\n",
    "    print('Score: ', train_and_predict(alpha))\n",
    "    print()"
   ]
  },
  {
   "cell_type": "markdown",
   "metadata": {},
   "source": [
    "It looks like the best option we have here is Alpha = 0.3, which produces a score of 0.66\n",
    "\n",
    "Next we'll look at the features with the most weight, determining their importance"
   ]
  },
  {
   "cell_type": "code",
   "execution_count": null,
   "metadata": {},
   "outputs": [],
   "source": [
    "\n",
    "class_labels = nb_classifier.classes_\n",
    "\n",
    "feature_names = tfidf_vectorizer.get_feature_names()\n",
    "\n",
    "feat_with_weights = sorted(zip(nb_classifier.coef_[0], feature_names))\n",
    "\n",
    "print(class_labels[0], feat_with_weights[:20])\n",
    "\n",
    "print(class_labels[1], feat_with_weights[-20:])\n"
   ]
  },
  {
   "cell_type": "markdown",
   "metadata": {},
   "source": [
    "Here we can see what words/features are the best indicators that the order is from a Democrat (first set) or a Republican (second set)"
   ]
  },
  {
   "cell_type": "markdown",
   "metadata": {},
   "source": [
    "Now we'll work on the next preditive model, based on term. First, we'll label the different orders by first or second term"
   ]
  },
  {
   "cell_type": "code",
   "execution_count": null,
   "metadata": {},
   "outputs": [],
   "source": [
    "#First, I'll change the signing date to a datetime object, so we can use it to determine the terms\n",
    "\n",
    "import datetime\n",
    "\n",
    "cleaned_ex_data['signing_date'] = pd.to_datetime(cleaned_ex_data['signing_date'])"
   ]
  },
  {
   "cell_type": "code",
   "execution_count": null,
   "metadata": {},
   "outputs": [],
   "source": [
    "def term(x, y):\n",
    "    y = pd.to_datetime(y)\n",
    "    if x == \"Obama\":\n",
    "        date = datetime.datetime(2013, 1, 20)\n",
    "        if y > date:\n",
    "            return 'Second'\n",
    "        else:\n",
    "            return 'First'\n",
    "    if x == \"Bush\":\n",
    "        date = datetime.datetime(2005, 1, 20)\n",
    "        if y > date:\n",
    "            return 'Second'\n",
    "        else:\n",
    "            return 'First'\n",
    "    if x == \"Clinton\":\n",
    "        date = datetime.datetime(1997, 1, 20)\n",
    "        if y > date:\n",
    "            return 'Second'\n",
    "        else:\n",
    "            return 'First'\n",
    "    else:\n",
    "        return \"First\" #because Trump has only had one term"
   ]
  },
  {
   "cell_type": "code",
   "execution_count": null,
   "metadata": {},
   "outputs": [],
   "source": [
    "cleaned_ex_data[\"Term\"] = np.vectorize(term)(cleaned_ex_data['President'], cleaned_ex_data['signing_date'])\n",
    "\n",
    "print(cleaned_ex_data.head())"
   ]
  },
  {
   "cell_type": "markdown",
   "metadata": {},
   "source": [
    "Now let's do some basic counts, so we know how many orders were given by each president in each term"
   ]
  },
  {
   "cell_type": "code",
   "execution_count": null,
   "metadata": {},
   "outputs": [],
   "source": [
    "print(\"First Term\")\n",
    "print(\"Trump:\",len(cleaned_ex_data[(cleaned_ex_data[\"President\"] == \"Trump\") & (cleaned_ex_data[\"Term\"] == \"First\")]))\n",
    "print(\"Obama:\",len(cleaned_ex_data[(cleaned_ex_data[\"President\"] == \"Obama\") & (cleaned_ex_data[\"Term\"] == \"First\")]))\n",
    "print(\"Bush:\",len(cleaned_ex_data[(cleaned_ex_data[\"President\"] == \"Bush\") & (cleaned_ex_data[\"Term\"] == \"First\")]))\n",
    "print(\"Clinton:\",len(cleaned_ex_data[(cleaned_ex_data[\"President\"] == \"Clinton\") & (cleaned_ex_data[\"Term\"] == \"First\")]))\n",
    "\n",
    "print(\" \")\n",
    "print(\"Second Term\")\n",
    "print(\"Trump:\",len(cleaned_ex_data[(cleaned_ex_data[\"President\"] == \"Trump\") & (cleaned_ex_data[\"Term\"] == \"Second\")]))\n",
    "print(\"Obama:\",len(cleaned_ex_data[(cleaned_ex_data[\"President\"] == \"Obama\") & (cleaned_ex_data[\"Term\"] == \"Second\")]))\n",
    "print(\"Bush:\",len(cleaned_ex_data[(cleaned_ex_data[\"President\"] == \"Bush\") & (cleaned_ex_data[\"Term\"] == \"Second\")]))\n",
    "print(\"Clinton:\",len(cleaned_ex_data[(cleaned_ex_data[\"President\"] == \"Clinton\") & (cleaned_ex_data[\"Term\"] == \"Second\")]))\n",
    "\n",
    "\n",
    "\n"
   ]
  },
  {
   "cell_type": "code",
   "execution_count": null,
   "metadata": {},
   "outputs": [],
   "source": [
    "y = cleaned_ex_data[\"Term\"]\n",
    "\n",
    "X_train, X_test, y_train, y_test = train_test_split(cleaned_ex_data['Cleaned_Text'], y, test_size = 0.33, random_state = 53)"
   ]
  },
  {
   "cell_type": "markdown",
   "metadata": {},
   "source": [
    "Now we've created the new variable, redefined Y, and we've done the test train split. Now we create the new model based on the term rather than the party"
   ]
  },
  {
   "cell_type": "code",
   "execution_count": null,
   "metadata": {},
   "outputs": [],
   "source": [
    "tfidf_vectorizer = TfidfVectorizer(stop_words=\"english\", max_df=0.7)\n",
    "\n",
    "tfidf_train = tfidf_vectorizer.fit_transform(X_train)\n",
    "\n",
    "tfidf_test = tfidf_vectorizer.transform(X_test)\n",
    "\n",
    "# now we inspect the vectorizer\n",
    "\n",
    "tfidf_df = pd.DataFrame(tfidf_train.A, columns=tfidf_vectorizer.get_feature_names())\n",
    "\n",
    "print(tfidf_df.head())"
   ]
  },
  {
   "cell_type": "code",
   "execution_count": null,
   "metadata": {},
   "outputs": [],
   "source": [
    "nb_classifier = MultinomialNB()\n",
    "\n",
    "# Fit the classifier\n",
    "nb_classifier.fit(tfidf_train, y_train)\n",
    "\n",
    "# Create the predicted tags\n",
    "pred = nb_classifier.predict(tfidf_test)\n",
    "\n",
    "# Calculate the accuracy score\n",
    "score = accuracy_score(y_test, pred)\n",
    "print(score)"
   ]
  },
  {
   "cell_type": "markdown",
   "metadata": {},
   "source": [
    "An accuracy score of 56%, which means it doesn't look like there's a huge difference in the contents of the executive orders depending on term"
   ]
  },
  {
   "cell_type": "code",
   "execution_count": null,
   "metadata": {},
   "outputs": [],
   "source": [
    "alphas = np.arange(0, 1, 0.1)\n",
    "\n",
    "for alpha in alphas:\n",
    "    print('Alpha: ', alpha)\n",
    "    print('Score: ', train_and_predict(alpha))\n",
    "    print()"
   ]
  },
  {
   "cell_type": "markdown",
   "metadata": {},
   "source": [
    "It looks like the highest score comes with an alpha of 0, which produces an accuract score of almost 61%. Now let's look at the features with their weights, so we can see what words are being used as predictors"
   ]
  },
  {
   "cell_type": "code",
   "execution_count": null,
   "metadata": {},
   "outputs": [],
   "source": [
    "class_labels = nb_classifier.classes_\n",
    "\n",
    "feature_names = tfidf_vectorizer.get_feature_names()\n",
    "\n",
    "feat_with_weights = sorted(zip(nb_classifier.coef_[0], feature_names))\n",
    "\n",
    "print(class_labels[0], feat_with_weights[:20])\n",
    "\n",
    "print('')\n",
    "\n",
    "print(class_labels[1], feat_with_weights[-20:])"
   ]
  },
  {
   "cell_type": "markdown",
   "metadata": {},
   "source": [
    "Here we can see again what words or features indicate whether an executive order was written in the first term (first set) or the second term (second set). As the predictive model wasn't as good for the terms, these features likely have much less significance. This is exemplified by the fact that the spaces are seen as indicators that the order is from the first term. This could be a formatting issue, but it likely also indicates that no extremely good predictive words were found"
   ]
  },
  {
   "cell_type": "code",
   "execution_count": null,
   "metadata": {},
   "outputs": [],
   "source": []
  }
 ],
 "metadata": {
  "kernelspec": {
   "display_name": "Python 3",
   "language": "python",
   "name": "python3"
  },
  "language_info": {
   "codemirror_mode": {
    "name": "ipython",
    "version": 3
   },
   "file_extension": ".py",
   "mimetype": "text/x-python",
   "name": "python",
   "nbconvert_exporter": "python",
   "pygments_lexer": "ipython3",
   "version": "3.6.4"
  }
 },
 "nbformat": 4,
 "nbformat_minor": 2
}
