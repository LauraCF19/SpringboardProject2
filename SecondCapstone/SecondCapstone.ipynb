{
 "cells": [
  {
   "cell_type": "code",
   "execution_count": 2,
   "metadata": {},
   "outputs": [],
   "source": [
    "import pandas as pd\n",
    "\n",
    "import numpy as np\n",
    "\n",
    "file = './documents_of_type_presidential_document_and_of_presidential_document_type_executive_order.csv'\n",
    "\n",
    "ex_dataset = pd.read_csv(file)"
   ]
  },
  {
   "cell_type": "code",
   "execution_count": 3,
   "metadata": {},
   "outputs": [
    {
     "name": "stdout",
     "output_type": "stream",
     "text": [
      "<class 'pandas.core.frame.DataFrame'>\n"
     ]
    },
    {
     "data": {
      "text/html": [
       "<div>\n",
       "<style scoped>\n",
       "    .dataframe tbody tr th:only-of-type {\n",
       "        vertical-align: middle;\n",
       "    }\n",
       "\n",
       "    .dataframe tbody tr th {\n",
       "        vertical-align: top;\n",
       "    }\n",
       "\n",
       "    .dataframe thead th {\n",
       "        text-align: right;\n",
       "    }\n",
       "</style>\n",
       "<table border=\"1\" class=\"dataframe\">\n",
       "  <thead>\n",
       "    <tr style=\"text-align: right;\">\n",
       "      <th></th>\n",
       "      <th>citation</th>\n",
       "      <th>document_number</th>\n",
       "      <th>end_page</th>\n",
       "      <th>html_url</th>\n",
       "      <th>pdf_url</th>\n",
       "      <th>type</th>\n",
       "      <th>subtype</th>\n",
       "      <th>publication_date</th>\n",
       "      <th>signing_date</th>\n",
       "      <th>start_page</th>\n",
       "      <th>title</th>\n",
       "      <th>disposition_notes</th>\n",
       "      <th>executive_order_number</th>\n",
       "    </tr>\n",
       "  </thead>\n",
       "  <tbody>\n",
       "    <tr>\n",
       "      <th>0</th>\n",
       "      <td>83 FR 61505</td>\n",
       "      <td>2018-26156</td>\n",
       "      <td>61507</td>\n",
       "      <td>https://www.federalregister.gov/documents/2018...</td>\n",
       "      <td>https://www.gpo.gov/fdsys/pkg/FR-2018-11-29/pd...</td>\n",
       "      <td>Presidential Document</td>\n",
       "      <td>Executive Order</td>\n",
       "      <td>11/29/2018</td>\n",
       "      <td>11/27/2018</td>\n",
       "      <td>61505</td>\n",
       "      <td>Blocking Property of Certain Persons Contribut...</td>\n",
       "      <td>NaN</td>\n",
       "      <td>13851</td>\n",
       "    </tr>\n",
       "    <tr>\n",
       "      <th>1</th>\n",
       "      <td>83 FR 55243</td>\n",
       "      <td>2018-24254</td>\n",
       "      <td>55245</td>\n",
       "      <td>https://www.federalregister.gov/documents/2018...</td>\n",
       "      <td>https://www.gpo.gov/fdsys/pkg/FR-2018-11-02/pd...</td>\n",
       "      <td>Presidential Document</td>\n",
       "      <td>Executive Order</td>\n",
       "      <td>11/02/2018</td>\n",
       "      <td>11/01/2018</td>\n",
       "      <td>55243</td>\n",
       "      <td>Blocking Property of Additional Persons Contri...</td>\n",
       "      <td>NaN</td>\n",
       "      <td>13850</td>\n",
       "    </tr>\n",
       "    <tr>\n",
       "      <th>2</th>\n",
       "      <td>83 FR 48195</td>\n",
       "      <td>2018-20816</td>\n",
       "      <td>48200</td>\n",
       "      <td>https://www.federalregister.gov/documents/2018...</td>\n",
       "      <td>https://www.gpo.gov/fdsys/pkg/FR-2018-09-21/pd...</td>\n",
       "      <td>Presidential Document</td>\n",
       "      <td>Executive Order</td>\n",
       "      <td>09/21/2018</td>\n",
       "      <td>09/20/2018</td>\n",
       "      <td>48195</td>\n",
       "      <td>Authorizing the Implementation of Certain Sanc...</td>\n",
       "      <td>See: EO 13694 of 4/1/2015, EO 13757 of 12/28/2...</td>\n",
       "      <td>13849</td>\n",
       "    </tr>\n",
       "    <tr>\n",
       "      <th>3</th>\n",
       "      <td>83 FR 46843</td>\n",
       "      <td>2018-20203</td>\n",
       "      <td>46848</td>\n",
       "      <td>https://www.federalregister.gov/documents/2018...</td>\n",
       "      <td>https://www.gpo.gov/fdsys/pkg/FR-2018-09-14/pd...</td>\n",
       "      <td>Presidential Document</td>\n",
       "      <td>Executive Order</td>\n",
       "      <td>09/14/2018</td>\n",
       "      <td>09/12/2018</td>\n",
       "      <td>46843</td>\n",
       "      <td>Imposing Certain Sanctions in the Event of For...</td>\n",
       "      <td>See: 13694 of 4/1/2015, EO 13757 of 12/28/2016...</td>\n",
       "      <td>13848</td>\n",
       "    </tr>\n",
       "    <tr>\n",
       "      <th>4</th>\n",
       "      <td>83 FR 45321</td>\n",
       "      <td>2018-19514</td>\n",
       "      <td>45323</td>\n",
       "      <td>https://www.federalregister.gov/documents/2018...</td>\n",
       "      <td>https://www.gpo.gov/fdsys/pkg/FR-2018-09-06/pd...</td>\n",
       "      <td>Presidential Document</td>\n",
       "      <td>Executive Order</td>\n",
       "      <td>09/06/2018</td>\n",
       "      <td>08/31/2018</td>\n",
       "      <td>45321</td>\n",
       "      <td>Strengthening Retirement Security in America</td>\n",
       "      <td>NaN</td>\n",
       "      <td>13847</td>\n",
       "    </tr>\n",
       "  </tbody>\n",
       "</table>\n",
       "</div>"
      ],
      "text/plain": [
       "      citation document_number  end_page  \\\n",
       "0  83 FR 61505      2018-26156     61507   \n",
       "1  83 FR 55243      2018-24254     55245   \n",
       "2  83 FR 48195      2018-20816     48200   \n",
       "3  83 FR 46843      2018-20203     46848   \n",
       "4  83 FR 45321      2018-19514     45323   \n",
       "\n",
       "                                            html_url  \\\n",
       "0  https://www.federalregister.gov/documents/2018...   \n",
       "1  https://www.federalregister.gov/documents/2018...   \n",
       "2  https://www.federalregister.gov/documents/2018...   \n",
       "3  https://www.federalregister.gov/documents/2018...   \n",
       "4  https://www.federalregister.gov/documents/2018...   \n",
       "\n",
       "                                             pdf_url                   type  \\\n",
       "0  https://www.gpo.gov/fdsys/pkg/FR-2018-11-29/pd...  Presidential Document   \n",
       "1  https://www.gpo.gov/fdsys/pkg/FR-2018-11-02/pd...  Presidential Document   \n",
       "2  https://www.gpo.gov/fdsys/pkg/FR-2018-09-21/pd...  Presidential Document   \n",
       "3  https://www.gpo.gov/fdsys/pkg/FR-2018-09-14/pd...  Presidential Document   \n",
       "4  https://www.gpo.gov/fdsys/pkg/FR-2018-09-06/pd...  Presidential Document   \n",
       "\n",
       "           subtype publication_date signing_date  start_page  \\\n",
       "0  Executive Order       11/29/2018   11/27/2018       61505   \n",
       "1  Executive Order       11/02/2018   11/01/2018       55243   \n",
       "2  Executive Order       09/21/2018   09/20/2018       48195   \n",
       "3  Executive Order       09/14/2018   09/12/2018       46843   \n",
       "4  Executive Order       09/06/2018   08/31/2018       45321   \n",
       "\n",
       "                                               title  \\\n",
       "0  Blocking Property of Certain Persons Contribut...   \n",
       "1  Blocking Property of Additional Persons Contri...   \n",
       "2  Authorizing the Implementation of Certain Sanc...   \n",
       "3  Imposing Certain Sanctions in the Event of For...   \n",
       "4       Strengthening Retirement Security in America   \n",
       "\n",
       "                                   disposition_notes  executive_order_number  \n",
       "0                                                NaN                   13851  \n",
       "1                                                NaN                   13850  \n",
       "2  See: EO 13694 of 4/1/2015, EO 13757 of 12/28/2...                   13849  \n",
       "3  See: 13694 of 4/1/2015, EO 13757 of 12/28/2016...                   13848  \n",
       "4                                                NaN                   13847  "
      ]
     },
     "execution_count": 3,
     "metadata": {},
     "output_type": "execute_result"
    }
   ],
   "source": [
    "print(type(ex_dataset))\n",
    "ex_dataset.head()"
   ]
  },
  {
   "cell_type": "markdown",
   "metadata": {},
   "source": [
    "Before we try and extract the text from the URLs, I want to create another column called \"President\" and one called \"Party\" so that we have those pre-labeled before we make any transformations. I can see online that orders 13765-13851 were signed by Trump, 13490-13764 were signed by Obama, 13199-13487 were signed by Bush and 12890-13197 were signed by Clinton. This will help us assign each order to the president that gave it."
   ]
  },
  {
   "cell_type": "code",
   "execution_count": 4,
   "metadata": {},
   "outputs": [],
   "source": [
    "def president(x):\n",
    "    if x > 13764:\n",
    "        return \"Trump\"\n",
    "    elif x > 13490:\n",
    "        return \"Obama\"\n",
    "    elif x > 13199:\n",
    "        return \"Bush\"\n",
    "    else:\n",
    "        return \"Clinton\""
   ]
  },
  {
   "cell_type": "code",
   "execution_count": 5,
   "metadata": {},
   "outputs": [
    {
     "name": "stdout",
     "output_type": "stream",
     "text": [
      "      citation document_number  end_page  \\\n",
      "0  83 FR 61505      2018-26156     61507   \n",
      "1  83 FR 55243      2018-24254     55245   \n",
      "2  83 FR 48195      2018-20816     48200   \n",
      "3  83 FR 46843      2018-20203     46848   \n",
      "4  83 FR 45321      2018-19514     45323   \n",
      "\n",
      "                                            html_url  \\\n",
      "0  https://www.federalregister.gov/documents/2018...   \n",
      "1  https://www.federalregister.gov/documents/2018...   \n",
      "2  https://www.federalregister.gov/documents/2018...   \n",
      "3  https://www.federalregister.gov/documents/2018...   \n",
      "4  https://www.federalregister.gov/documents/2018...   \n",
      "\n",
      "                                             pdf_url                   type  \\\n",
      "0  https://www.gpo.gov/fdsys/pkg/FR-2018-11-29/pd...  Presidential Document   \n",
      "1  https://www.gpo.gov/fdsys/pkg/FR-2018-11-02/pd...  Presidential Document   \n",
      "2  https://www.gpo.gov/fdsys/pkg/FR-2018-09-21/pd...  Presidential Document   \n",
      "3  https://www.gpo.gov/fdsys/pkg/FR-2018-09-14/pd...  Presidential Document   \n",
      "4  https://www.gpo.gov/fdsys/pkg/FR-2018-09-06/pd...  Presidential Document   \n",
      "\n",
      "           subtype publication_date signing_date  start_page  \\\n",
      "0  Executive Order       11/29/2018   11/27/2018       61505   \n",
      "1  Executive Order       11/02/2018   11/01/2018       55243   \n",
      "2  Executive Order       09/21/2018   09/20/2018       48195   \n",
      "3  Executive Order       09/14/2018   09/12/2018       46843   \n",
      "4  Executive Order       09/06/2018   08/31/2018       45321   \n",
      "\n",
      "                                               title  \\\n",
      "0  Blocking Property of Certain Persons Contribut...   \n",
      "1  Blocking Property of Additional Persons Contri...   \n",
      "2  Authorizing the Implementation of Certain Sanc...   \n",
      "3  Imposing Certain Sanctions in the Event of For...   \n",
      "4       Strengthening Retirement Security in America   \n",
      "\n",
      "                                   disposition_notes  executive_order_number  \\\n",
      "0                                                NaN                   13851   \n",
      "1                                                NaN                   13850   \n",
      "2  See: EO 13694 of 4/1/2015, EO 13757 of 12/28/2...                   13849   \n",
      "3  See: 13694 of 4/1/2015, EO 13757 of 12/28/2016...                   13848   \n",
      "4                                                NaN                   13847   \n",
      "\n",
      "  President  \n",
      "0     Trump  \n",
      "1     Trump  \n",
      "2     Trump  \n",
      "3     Trump  \n",
      "4     Trump  \n"
     ]
    }
   ],
   "source": [
    "ex_dataset[\"President\"] = ex_dataset[\"executive_order_number\"].apply(president)\n",
    "\n",
    "print(ex_dataset.head())"
   ]
  },
  {
   "cell_type": "markdown",
   "metadata": {},
   "source": [
    "Now we create the function that will add a col for the different political parties"
   ]
  },
  {
   "cell_type": "code",
   "execution_count": 6,
   "metadata": {},
   "outputs": [],
   "source": [
    "def party(x):\n",
    "    if x == \"Trump\":\n",
    "        return \"Republican\"\n",
    "    elif x == \"Obama\":\n",
    "        return \"Democrat\"\n",
    "    elif x == \"Bush\":\n",
    "        return \"Republican\"\n",
    "    else:\n",
    "        return \"Democrat\""
   ]
  },
  {
   "cell_type": "code",
   "execution_count": 73,
   "metadata": {},
   "outputs": [
    {
     "name": "stdout",
     "output_type": "stream",
     "text": [
      "       citation document_number  end_page  \\\n",
      "252  77 FR 6657       2012-3097      6662   \n",
      "\n",
      "                                              html_url  \\\n",
      "252  https://www.federalregister.gov/documents/2012...   \n",
      "\n",
      "                                               pdf_url                   type  \\\n",
      "252  https://www.gpo.gov/fdsys/pkg/FR-2012-02-08/pd...  Presidential Document   \n",
      "\n",
      "             subtype publication_date signing_date  start_page  \\\n",
      "252  Executive Order       02/08/2012   02/05/2012        6657   \n",
      "\n",
      "                                                 title  \\\n",
      "252  Blocking Property of the Government of Iran an...   \n",
      "\n",
      "                                     disposition_notes  \\\n",
      "252  See: EO 12957, March 15, 1995; EO 12170, Novem...   \n",
      "\n",
      "     executive_order_number President     Party In_HTML  \n",
      "252                   13599     Obama  Democrat     Yes  \n"
     ]
    }
   ],
   "source": [
    "ex_dataset[\"Party\"] = ex_dataset[\"President\"].apply(party)\n",
    "\n",
    "print(ex_dataset.head())\n"
   ]
  },
  {
   "cell_type": "markdown",
   "metadata": {},
   "source": [
    "Now we're going to test how to get the text from one URL, and once we get that working we can nest the code in a for loop and apply it to the whole dataset"
   ]
  },
  {
   "cell_type": "code",
   "execution_count": 8,
   "metadata": {},
   "outputs": [
    {
     "name": "stdout",
     "output_type": "stream",
     "text": [
      "https://www.federalregister.gov/documents/2018/11/29/2018-26156/blocking-property-of-certain-persons-contributing-to-the-situation-in-nicaragua\n"
     ]
    }
   ],
   "source": [
    "test_url = ex_dataset.iloc[0][3]\n",
    "print(test_url)"
   ]
  },
  {
   "cell_type": "code",
   "execution_count": 9,
   "metadata": {},
   "outputs": [],
   "source": [
    "from urllib.request import Request, urlopen\n"
   ]
  },
  {
   "cell_type": "code",
   "execution_count": 47,
   "metadata": {},
   "outputs": [],
   "source": [
    "import urllib\n",
    "req = urllib.request.Request(test_url, headers={'User-Agent' : \"Magic Browser\"}) \n",
    "con = urllib.request.urlopen( req )\n",
    "html = con.read()\n",
    "# print(html)\n"
   ]
  },
  {
   "cell_type": "code",
   "execution_count": 48,
   "metadata": {},
   "outputs": [
    {
     "name": "stderr",
     "output_type": "stream",
     "text": [
      "/anaconda3/lib/python3.6/site-packages/bs4/__init__.py:181: UserWarning: No parser was explicitly specified, so I'm using the best available HTML parser for this system (\"lxml\"). This usually isn't a problem, but if you run this code on another system, or in a different virtual environment, it may use a different parser and behave differently.\n",
      "\n",
      "The code that caused this warning is on line 193 of the file /anaconda3/lib/python3.6/runpy.py. To get rid of this warning, change code that looks like this:\n",
      "\n",
      " BeautifulSoup(YOUR_MARKUP})\n",
      "\n",
      "to this:\n",
      "\n",
      " BeautifulSoup(YOUR_MARKUP, \"lxml\")\n",
      "\n",
      "  markup_type=markup_type))\n"
     ]
    }
   ],
   "source": [
    "from bs4 import BeautifulSoup\n",
    "\n",
    "soup = BeautifulSoup(html)\n",
    "\n",
    "soup_text = soup.get_text()\n",
    "\n",
    "# print(soup_text)"
   ]
  },
  {
   "cell_type": "code",
   "execution_count": 49,
   "metadata": {},
   "outputs": [
    {
     "name": "stdout",
     "output_type": "stream",
     "text": [
      "<title>\n",
      "      Federal Register\n",
      "       :: \n",
      "      Blocking Property of Certain Persons Contributing to the Situation in Nicaragua\n",
      "    </title>\n"
     ]
    }
   ],
   "source": [
    "print(soup.title)"
   ]
  },
  {
   "cell_type": "code",
   "execution_count": 50,
   "metadata": {},
   "outputs": [],
   "source": [
    "pretty_soup = soup.prettify()\n",
    "\n",
    "# print(pretty_soup)"
   ]
  },
  {
   "cell_type": "code",
   "execution_count": 14,
   "metadata": {},
   "outputs": [
    {
     "name": "stdout",
     "output_type": "stream",
     "text": [
      "<class 'str'>\n"
     ]
    }
   ],
   "source": [
    "print(type(pretty_soup))"
   ]
  },
  {
   "cell_type": "markdown",
   "metadata": {},
   "source": [
    "Now I looked through the documents to try and find a phrase that all the executive orders started with. I will use this to split the document so we only get the text of the order, not all the HTML information. I chose \"Use the PDF linked in the document sidebar for the official electronic format\". It's long, but I has issues with short phrases appearing earlier in the text. Below, I do the same with the end of the order and the phrase \"[FR Doc.\""
   ]
  },
  {
   "cell_type": "code",
   "execution_count": 51,
   "metadata": {},
   "outputs": [],
   "source": [
    "doc1 = soup_text.split(\"Use the PDF linked in the document sidebar for the official electronic format\",1)[1]\n",
    "# print(doc1)\n",
    "\n"
   ]
  },
  {
   "cell_type": "code",
   "execution_count": 16,
   "metadata": {},
   "outputs": [
    {
     "name": "stdout",
     "output_type": "stream",
     "text": [
      ".\n",
      "\n",
      "\n",
      "\n",
      "\n",
      "\n",
      "Start Printed Page 61505\n",
      "Executive Order 13851 of November 27, 2018\n",
      "        Blocking Property of Certain Persons Contributing to the Situation in Nicaragua\n",
      "By the authority vested in me as President by the Constitution and the laws of the United States of America, including the International Emergency Economic Powers Act (50 U.S.C. 1701 et seq.) (IEEPA), the National Emergencies Act (50 U.S.C. 1601 et seq.) (NEA), section 212(f) of the Immigration and Nationality Act of 1952 (8 U.S.C. 1182(f)), and section 301 of title 3, United States Code,\n",
      "I, DONALD J. TRUMP, President of the United States of America, find that the situation in Nicaragua, including the violent response by the Government of Nicaragua to the protests that began on April 18, 2018, and the Ortega regime's systematic dismantling and undermining of democratic institutions and the rule of law, its use of indiscriminate violence and repressive tactics against civilians, as well as its corruption leading to the destabilization of Nicaragua's economy, constitutes an unusual and extraordinary threat to the national security and foreign policy of the United States, and I hereby declare a national emergency to deal with that threat. I hereby determine and order:\n",
      "\n",
      "Section 1. (a) All property and interests in property that are in the United States, that hereafter come within the United States, or that are or hereafter come within the possession or control of any United States person of the following persons are blocked and may not be transferred, paid, exported, withdrawn, or otherwise dealt in: any person determined by the Secretary of the Treasury, in consultation with the Secretary of State:\n",
      "(i) to be responsible for or complicit in, or to have directly or indirectly engaged or attempted to engage in, any of the following:\n",
      "(A) serious human rights abuse in Nicaragua;\n",
      "(B) actions or policies that undermine democratic processes or institutions in Nicaragua;\n",
      "(C) actions or policies that threaten the peace, security, or stability of Nicaragua;\n",
      "(D) any transaction or series of transactions involving deceptive practices or corruption by, on behalf of, or otherwise related to the Government of Nicaragua or a current or former official of the Government of Nicaragua, such as the misappropriation of public assets or expropriation of private assets for personal gain or political purposes, corruption related to government contracts, or bribery;\n",
      "(ii) to be a leader or official of an entity that has, or whose members have, engaged in any activity described in subsection (a)(i) of this section or of an entity whose property and interests in property are blocked pursuant to this order;\n",
      "(iii) to be an official of the Government of Nicaragua or to have served as an official of the Government of Nicaragua at any time on or after January 10, 2007;\n",
      "(iv) to have materially assisted, sponsored, or provided financial, material, or technological support for, or goods or services in support of:\n",
      "(A) any activities described in subsection (a)(i) of this section; orStart Printed Page 61506\n",
      "\n",
      "(B) any person whose property and interests in property are blocked pursuant to this order; or\n",
      "(v) to be owned or controlled by, or to have acted or purported to act for or on behalf of, directly or indirectly, any person whose property and interests in property are blocked pursuant to this order.\n",
      "(b) The prohibitions in subsection (a) of this section apply except to the extent provided by statutes, or in regulations, orders, directives, or licenses that may be issued pursuant to this order, and notwithstanding any contract entered into or any license or permit granted prior to the date of this order.\n",
      "\n",
      "Sec. 2. The unrestricted immigrant and nonimmigrant entry into the United States of aliens determined to meet one or more of the criteria in section 1 of this order would be detrimental to the interests of the United States, and the entry of such persons into the United States, as immigrants or nonimmigrants, is hereby suspended, except where the Secretary of State determines that the person's entry is in the national interest of the United States. Such persons shall be treated as persons covered by section 1 of Proclamation 8693 of July 24, 2011 (Suspension of Entry of Aliens Subject to United Nations Security Council Travel Bans and International Emergency Economic Powers Act Sanctions).\n",
      "\n",
      "Sec. 3. I hereby determine that the making of donations of the type of articles specified in section 203(b)(2) of IEEPA (50 U.S.C. 1702(b)(2)) by, to, or for the benefit of any person whose property and interests in property are blocked pursuant to section 1 of this order would seriously impair my ability to deal with the national emergency declared in this order, and I hereby prohibit such donations as provided by section 1 of this order.\n",
      "\n",
      "Sec. 4. The prohibitions in section 1 of this order include:\n",
      "(a) the making of any contribution or provision of funds, goods, or services by, to, or for the benefit of any person whose property and interests in property are blocked pursuant to this order; and\n",
      "(b) the receipt of any contribution or provision of funds, goods, or services from any such person.\n",
      "\n",
      "Sec. 5. (a) Any transaction that evades or avoids, has the purpose of evading or avoiding, causes a violation of, or attempts to violate any of the prohibitions set forth in this order is prohibited.\n",
      "(b) Any conspiracy formed to violate any of the prohibitions set forth in this order is prohibited.\n",
      "\n",
      "Sec. 6. For the purposes of this order:\n",
      "(a) the term “person” means an individual or entity;\n",
      "(b) the term “entity” means a partnership, association, trust, joint venture, corporation, group, subgroup, or other organization;\n",
      "(c) the term “United States person” means any United States citizen, permanent resident alien, entity organized under the laws of the United States or any jurisdiction within the United States (including foreign branches), or any person in the United States; and\n",
      "(d) the term “Government of Nicaragua” means the Government of Nicaragua, any political subdivision, agency, or instrumentality thereof, including the Central Bank of Nicaragua, and any person owned or controlled by, or acting for or on behalf of, the Government of Nicaragua.\n",
      "\n",
      "Sec. 7. For those persons whose property and interests in property are blocked pursuant to this order who might have a constitutional presence in the United States, I find that because of the ability to transfer funds or other assets instantaneously, prior notice to such persons of measures to be taken pursuant to this order would render those measures ineffectual. I therefore determine that for these measures to be effective in addressing the national emergency declared in this order, there need be no prior notice of a listing or determination made pursuant to section 1 of this order.Start Printed Page 61507\n",
      "\n",
      "\n",
      "Sec. 8. The Secretary of the Treasury, in consultation with the Secretary of State, is hereby authorized to take such actions, including promulgating rules and regulations, and to employ all powers granted to the President by IEEPA as may be necessary to implement this order. The Secretary of the Treasury may, consistent with applicable law, redelegate any of these functions within the Department of the Treasury. All agencies of the United States Government shall take all appropriate measures within their authority to carry out the provisions of this order.\n",
      "\n",
      "Sec. 9. The Secretary of the Treasury, in consultation with the Secretary of State, is hereby authorized to submit the recurring and final reports to the Congress on the national emergency declared in this order, consistent with section 401(c) of the NEA (50 U.S.C. 1641(c)) and section 204(c) of IEEPA (50 U.S.C. 1703(c)).\n",
      "\n",
      "Sec. 10. (a) Nothing in this order shall be construed to impair or otherwise affect:\n",
      "(i) the authority granted by law to an executive department or agency, or the head thereof; or\n",
      "(ii) the functions of the Director of the Office of Management and Budget relating to budgetary, administrative, or legislative proposals.\n",
      "(b) This order shall be implemented consistent with applicable law and subject to the availability of appropriations.\n",
      "(c) This order is not intended to, and does not, create any right or benefit, substantive or procedural, enforceable at law or in equity by any party against the United States, its departments, agencies, or entities, its officers, employees, or agents, or any other person.\n",
      "\n",
      "        \n",
      "         \n",
      "        THE WHITE HOUSE,\n",
      "        November 27, 2018.\n",
      "        \n",
      "        Filed 11-28-18; 11:15 am]\n",
      "        \n",
      "      \n",
      "    \n",
      "\n"
     ]
    }
   ],
   "source": [
    "a,b = doc1.split(\"[FR Doc.\")\n",
    "\n",
    "print(a)\n"
   ]
  },
  {
   "cell_type": "code",
   "execution_count": 17,
   "metadata": {},
   "outputs": [
    {
     "name": "stdout",
     "output_type": "stream",
     "text": [
      "[\".\\n\\n\\n\\n\\n\\nStart Printed Page 61505\\nExecutive Order 13851 of November 27, 2018\\n        Blocking Property of Certain Persons Contributing to the Situation in Nicaragua\\nBy the authority vested in me as President by the Constitution and the laws of the United States of America, including the International Emergency Economic Powers Act (50 U.S.C. 1701 et seq.) (IEEPA), the National Emergencies Act (50 U.S.C. 1601 et seq.) (NEA), section 212(f) of the Immigration and Nationality Act of 1952 (8 U.S.C. 1182(f)), and section 301 of title 3, United States Code,\\nI, DONALD J. TRUMP, President of the United States of America, find that the situation in Nicaragua, including the violent response by the Government of Nicaragua to the protests that began on April 18, 2018, and the Ortega regime's systematic dismantling and undermining of democratic institutions and the rule of law, its use of indiscriminate violence and repressive tactics against civilians, as well as its corruption leading to the destabilization of Nicaragua's economy, constitutes an unusual and extraordinary threat to the national security and foreign policy of the United States, and I hereby declare a national emergency to deal with that threat. I hereby determine and order:\\n\\nSection 1. (a) All property and interests in property that are in the United States, that hereafter come within the United States, or that are or hereafter come within the possession or control of any United States person of the following persons are blocked and may not be transferred, paid, exported, withdrawn, or otherwise dealt in: any person determined by the Secretary of the Treasury, in consultation with the Secretary of State:\\n(i) to be responsible for or complicit in, or to have directly or indirectly engaged or attempted to engage in, any of the following:\\n(A) serious human rights abuse in Nicaragua;\\n(B) actions or policies that undermine democratic processes or institutions in Nicaragua;\\n(C) actions or policies that threaten the peace, security, or stability of Nicaragua;\\n(D) any transaction or series of transactions involving deceptive practices or corruption by, on behalf of, or otherwise related to the Government of Nicaragua or a current or former official of the Government of Nicaragua, such as the misappropriation of public assets or expropriation of private assets for personal gain or political purposes, corruption related to government contracts, or bribery;\\n(ii) to be a leader or official of an entity that has, or whose members have, engaged in any activity described in subsection (a)(i) of this section or of an entity whose property and interests in property are blocked pursuant to this order;\\n(iii) to be an official of the Government of Nicaragua or to have served as an official of the Government of Nicaragua at any time on or after January 10, 2007;\\n(iv) to have materially assisted, sponsored, or provided financial, material, or technological support for, or goods or services in support of:\\n(A) any activities described in subsection (a)(i) of this section; orStart Printed Page 61506\\n\\n(B) any person whose property and interests in property are blocked pursuant to this order; or\\n(v) to be owned or controlled by, or to have acted or purported to act for or on behalf of, directly or indirectly, any person whose property and interests in property are blocked pursuant to this order.\\n(b) The prohibitions in subsection (a) of this section apply except to the extent provided by statutes, or in regulations, orders, directives, or licenses that may be issued pursuant to this order, and notwithstanding any contract entered into or any license or permit granted prior to the date of this order.\\n\\nSec. 2. The unrestricted immigrant and nonimmigrant entry into the United States of aliens determined to meet one or more of the criteria in section 1 of this order would be detrimental to the interests of the United States, and the entry of such persons into the United States, as immigrants or nonimmigrants, is hereby suspended, except where the Secretary of State determines that the person's entry is in the national interest of the United States. Such persons shall be treated as persons covered by section 1 of Proclamation 8693 of July 24, 2011 (Suspension of Entry of Aliens Subject to United Nations Security Council Travel Bans and International Emergency Economic Powers Act Sanctions).\\n\\nSec. 3. I hereby determine that the making of donations of the type of articles specified in section 203(b)(2) of IEEPA (50 U.S.C. 1702(b)(2)) by, to, or for the benefit of any person whose property and interests in property are blocked pursuant to section 1 of this order would seriously impair my ability to deal with the national emergency declared in this order, and I hereby prohibit such donations as provided by section 1 of this order.\\n\\nSec. 4. The prohibitions in section 1 of this order include:\\n(a) the making of any contribution or provision of funds, goods, or services by, to, or for the benefit of any person whose property and interests in property are blocked pursuant to this order; and\\n(b) the receipt of any contribution or provision of funds, goods, or services from any such person.\\n\\nSec. 5. (a) Any transaction that evades or avoids, has the purpose of evading or avoiding, causes a violation of, or attempts to violate any of the prohibitions set forth in this order is prohibited.\\n(b) Any conspiracy formed to violate any of the prohibitions set forth in this order is prohibited.\\n\\nSec. 6. For the purposes of this order:\\n(a) the term “person” means an individual or entity;\\n(b) the term “entity” means a partnership, association, trust, joint venture, corporation, group, subgroup, or other organization;\\n(c) the term “United States person” means any United States citizen, permanent resident alien, entity organized under the laws of the United States or any jurisdiction within the United States (including foreign branches), or any person in the United States; and\\n(d) the term “Government of Nicaragua” means the Government of Nicaragua, any political subdivision, agency, or instrumentality thereof, including the Central Bank of Nicaragua, and any person owned or controlled by, or acting for or on behalf of, the Government of Nicaragua.\\n\\nSec. 7. For those persons whose property and interests in property are blocked pursuant to this order who might have a constitutional presence in the United States, I find that because of the ability to transfer funds or other assets instantaneously, prior notice to such persons of measures to be taken pursuant to this order would render those measures ineffectual. I therefore determine that for these measures to be effective in addressing the national emergency declared in this order, there need be no prior notice of a listing or determination made pursuant to section 1 of this order.Start Printed Page 61507\\n\\n\\nSec. 8. The Secretary of the Treasury, in consultation with the Secretary of State, is hereby authorized to take such actions, including promulgating rules and regulations, and to employ all powers granted to the President by IEEPA as may be necessary to implement this order. The Secretary of the Treasury may, consistent with applicable law, redelegate any of these functions within the Department of the Treasury. All agencies of the United States Government shall take all appropriate measures within their authority to carry out the provisions of this order.\\n\\nSec. 9. The Secretary of the Treasury, in consultation with the Secretary of State, is hereby authorized to submit the recurring and final reports to the Congress on the national emergency declared in this order, consistent with section 401(c) of the NEA (50 U.S.C. 1641(c)) and section 204(c) of IEEPA (50 U.S.C. 1703(c)).\\n\\nSec. 10. (a) Nothing in this order shall be construed to impair or otherwise affect:\\n(i) the authority granted by law to an executive department or agency, or the head thereof; or\\n(ii) the functions of the Director of the Office of Management and Budget relating to budgetary, administrative, or legislative proposals.\\n(b) This order shall be implemented consistent with applicable law and subject to the availability of appropriations.\\n(c) This order is not intended to, and does not, create any right or benefit, substantive or procedural, enforceable at law or in equity by any party against the United States, its departments, agencies, or entities, its officers, employees, or agents, or any other person.\\n\\n        \\n        \\u2003\\n        THE WHITE HOUSE,\\n        November 27, 2018.\\n        \\n        Filed 11-28-18; 11:15 am]\\n        \\n      \\n    \\n\"]\n"
     ]
    }
   ],
   "source": [
    "ex_text = []\n",
    "\n",
    "ex_text.append(a)\n",
    "\n",
    "print(ex_text)\n"
   ]
  },
  {
   "cell_type": "code",
   "execution_count": 18,
   "metadata": {},
   "outputs": [
    {
     "name": "stderr",
     "output_type": "stream",
     "text": [
      "/anaconda3/lib/python3.6/site-packages/bs4/__init__.py:181: UserWarning: No parser was explicitly specified, so I'm using the best available HTML parser for this system (\"lxml\"). This usually isn't a problem, but if you run this code on another system, or in a different virtual environment, it may use a different parser and behave differently.\n",
      "\n",
      "The code that caused this warning is on line 193 of the file /anaconda3/lib/python3.6/runpy.py. To get rid of this warning, change code that looks like this:\n",
      "\n",
      " BeautifulSoup(YOUR_MARKUP})\n",
      "\n",
      "to this:\n",
      "\n",
      " BeautifulSoup(YOUR_MARKUP, \"lxml\")\n",
      "\n",
      "  markup_type=markup_type))\n"
     ]
    },
    {
     "ename": "ValueError",
     "evalue": "not enough values to unpack (expected 2, got 1)",
     "output_type": "error",
     "traceback": [
      "\u001b[0;31m---------------------------------------------------------------------------\u001b[0m",
      "\u001b[0;31mValueError\u001b[0m                                Traceback (most recent call last)",
      "\u001b[0;32m<ipython-input-18-41b35f10cb11>\u001b[0m in \u001b[0;36m<module>\u001b[0;34m()\u001b[0m\n\u001b[1;32m      9\u001b[0m     \u001b[0msoup_text\u001b[0m \u001b[0;34m=\u001b[0m \u001b[0msoup\u001b[0m\u001b[0;34m.\u001b[0m\u001b[0mget_text\u001b[0m\u001b[0;34m(\u001b[0m\u001b[0;34m)\u001b[0m\u001b[0;34m\u001b[0m\u001b[0m\n\u001b[1;32m     10\u001b[0m     \u001b[0mdoc1\u001b[0m \u001b[0;34m=\u001b[0m \u001b[0msoup_text\u001b[0m\u001b[0;34m.\u001b[0m\u001b[0msplit\u001b[0m\u001b[0;34m(\u001b[0m\u001b[0;34m\"Use the PDF linked in the document sidebar for the official electronic format\"\u001b[0m\u001b[0;34m,\u001b[0m\u001b[0;36m1\u001b[0m\u001b[0;34m)\u001b[0m\u001b[0;34m[\u001b[0m\u001b[0;36m1\u001b[0m\u001b[0;34m]\u001b[0m\u001b[0;34m\u001b[0m\u001b[0m\n\u001b[0;32m---> 11\u001b[0;31m     \u001b[0ma\u001b[0m\u001b[0;34m,\u001b[0m\u001b[0mb\u001b[0m \u001b[0;34m=\u001b[0m \u001b[0mdoc1\u001b[0m\u001b[0;34m.\u001b[0m\u001b[0msplit\u001b[0m\u001b[0;34m(\u001b[0m\u001b[0;34m\"[FR Doc.\"\u001b[0m\u001b[0;34m)\u001b[0m\u001b[0;34m\u001b[0m\u001b[0m\n\u001b[0m\u001b[1;32m     12\u001b[0m     \u001b[0morders_text\u001b[0m\u001b[0;34m.\u001b[0m\u001b[0mappend\u001b[0m\u001b[0;34m(\u001b[0m\u001b[0ma\u001b[0m\u001b[0;34m)\u001b[0m\u001b[0;34m\u001b[0m\u001b[0m\n\u001b[1;32m     13\u001b[0m \u001b[0;34m\u001b[0m\u001b[0m\n",
      "\u001b[0;31mValueError\u001b[0m: not enough values to unpack (expected 2, got 1)"
     ]
    }
   ],
   "source": [
    "orders_text = []\n",
    "\n",
    "for entry in range(len(ex_dataset)):\n",
    "    url = ex_dataset.iloc[entry][3]\n",
    "    req = urllib.request.Request(url, headers={'User-Agent' : \"Magic Browser\"}) \n",
    "    con = urllib.request.urlopen( req )\n",
    "    html = con.read()\n",
    "    soup = BeautifulSoup(html)\n",
    "    soup_text = soup.get_text()\n",
    "    doc1 = soup_text.split(\"Use the PDF linked in the document sidebar for the official electronic format\",1)[1]\n",
    "    a,b = doc1.split(\"[FR Doc.\")\n",
    "    orders_text.append(a)\n",
    "   "
   ]
  },
  {
   "cell_type": "markdown",
   "metadata": {},
   "source": [
    "Here we have an issue. I did some investigating and found out that not all the orders are avaliable in HTML format. The text of those documents just link to a flat file. I need to remove those documents. It will reduce the number of observances in our dataset, but there's no other way"
   ]
  },
  {
   "cell_type": "code",
   "execution_count": 19,
   "metadata": {},
   "outputs": [
    {
     "name": "stdout",
     "output_type": "stream",
     "text": [
      "928\n"
     ]
    }
   ],
   "source": [
    "exec_orders_len = len(ex_dataset)\n",
    "\n",
    "print(exec_orders_len)"
   ]
  },
  {
   "cell_type": "code",
   "execution_count": 21,
   "metadata": {},
   "outputs": [
    {
     "name": "stderr",
     "output_type": "stream",
     "text": [
      "/anaconda3/lib/python3.6/site-packages/bs4/__init__.py:181: UserWarning: No parser was explicitly specified, so I'm using the best available HTML parser for this system (\"lxml\"). This usually isn't a problem, but if you run this code on another system, or in a different virtual environment, it may use a different parser and behave differently.\n",
      "\n",
      "The code that caused this warning is on line 193 of the file /anaconda3/lib/python3.6/runpy.py. To get rid of this warning, change code that looks like this:\n",
      "\n",
      " BeautifulSoup(YOUR_MARKUP})\n",
      "\n",
      "to this:\n",
      "\n",
      " BeautifulSoup(YOUR_MARKUP, \"lxml\")\n",
      "\n",
      "  markup_type=markup_type))\n"
     ]
    }
   ],
   "source": [
    "# I'm going to look at each text and create a boolean to see whether the text contains the phrase \"[FR Doc.\"\n",
    "\n",
    "test_cleaning = []\n",
    "\n",
    "for entry in range(0, 928):\n",
    "    url = ex_dataset.iloc[entry][3]\n",
    "    req = urllib.request.Request(url, headers={'User-Agent' : \"Magic Browser\"}) \n",
    "    con = urllib.request.urlopen( req )\n",
    "    html = con.read()\n",
    "    soup = BeautifulSoup(html)\n",
    "    soup_text = soup.get_text()\n",
    "    test_cleaning.append(soup_text)\n",
    "    \n",
    "\n"
   ]
  },
  {
   "cell_type": "code",
   "execution_count": 22,
   "metadata": {},
   "outputs": [
    {
     "name": "stdout",
     "output_type": "stream",
     "text": [
      "['Yes', 'Yes', 'Yes', 'Yes', 'Yes', 'Yes', 'Yes', 'Yes', 'Yes', 'Yes', 'Yes', 'Yes', 'Yes', 'Yes', 'Yes', 'Yes', 'Yes', 'Yes', 'Yes', 'Yes', 'Yes', 'Yes', 'Yes', 'Yes', 'Yes', 'Yes', 'Yes', 'Yes', 'Yes', 'Yes', 'Yes', 'Yes', 'Yes', 'Yes', 'Yes', 'Yes', 'Yes', 'Yes', 'Yes', 'Yes', 'Yes', 'Yes', 'Yes', 'Yes', 'Yes', 'Yes', 'Yes', 'Yes', 'Yes', 'Yes', 'Yes', 'Yes', 'Yes', 'Yes', 'Yes', 'Yes', 'Yes', 'Yes', 'Yes', 'Yes', 'Yes', 'Yes', 'Yes', 'Yes', 'Yes', 'Yes', 'Yes', 'Yes', 'Yes', 'Yes', 'Yes', 'Yes', 'Yes', 'Yes', 'Yes', 'Yes', 'Yes', 'Yes', 'Yes', 'Yes', 'Yes', 'Yes', 'Yes', 'Yes', 'Yes', 'Yes', 'Yes', 'Yes', 'Yes', 'Yes', 'Yes', 'Yes', 'Yes', 'Yes', 'Yes', 'Yes', 'Yes', 'Yes', 'Yes', 'Yes', 'Yes', 'Yes', 'Yes', 'Yes', 'Yes', 'Yes', 'Yes', 'Yes', 'Yes', 'Yes', 'Yes', 'Yes', 'Yes', 'Yes', 'Yes', 'Yes', 'Yes', 'Yes', 'Yes', 'Yes', 'Yes', 'Yes', 'Yes', 'Yes', 'Yes', 'Yes', 'Yes', 'Yes', 'Yes', 'Yes', 'Yes', 'Yes', 'Yes', 'Yes', 'Yes', 'Yes', 'Yes', 'Yes', 'Yes', 'No', 'Yes', 'Yes', 'Yes', 'Yes', 'Yes', 'Yes', 'Yes', 'Yes', 'Yes', 'Yes', 'Yes', 'Yes', 'Yes', 'Yes', 'Yes', 'Yes', 'Yes', 'Yes', 'Yes', 'Yes', 'Yes', 'Yes', 'Yes', 'Yes', 'Yes', 'Yes', 'Yes', 'Yes', 'Yes', 'Yes', 'Yes', 'Yes', 'Yes', 'Yes', 'Yes', 'Yes', 'Yes', 'Yes', 'Yes', 'Yes', 'Yes', 'Yes', 'Yes', 'Yes', 'Yes', 'Yes', 'Yes', 'Yes', 'Yes', 'Yes', 'Yes', 'Yes', 'Yes', 'Yes', 'Yes', 'Yes', 'Yes', 'Yes', 'Yes', 'Yes', 'Yes', 'Yes', 'Yes', 'Yes', 'Yes', 'Yes', 'Yes', 'Yes', 'Yes', 'Yes', 'Yes', 'Yes', 'Yes', 'Yes', 'Yes', 'Yes', 'Yes', 'Yes', 'Yes', 'Yes', 'Yes', 'Yes', 'Yes', 'Yes', 'Yes', 'Yes', 'Yes', 'Yes', 'Yes', 'Yes', 'Yes', 'Yes', 'Yes', 'Yes', 'Yes', 'Yes', 'Yes', 'Yes', 'Yes', 'Yes', 'Yes', 'Yes', 'Yes', 'Yes', 'Yes', 'Yes', 'Yes', 'Yes', 'Yes', 'Yes', 'Yes', 'Yes', 'Yes', 'Yes', 'Yes', 'Yes', 'Yes', 'Yes', 'Yes', 'Yes', 'Yes', 'Yes', 'Yes', 'Yes', 'Yes', 'Yes', 'Yes', 'Yes', 'Yes', 'Yes', 'Yes', 'Yes', 'Yes', 'Yes', 'Yes', 'Yes', 'Yes', 'Yes', 'Yes', 'Yes', 'Yes', 'Yes', 'Yes', 'Yes', 'Yes', 'Yes', 'Yes', 'Yes', 'Yes', 'Yes', 'Yes', 'Yes', 'Yes', 'Yes', 'Yes', 'Yes', 'Yes', 'Yes', 'Yes', 'Yes', 'Yes', 'Yes', 'Yes', 'No', 'Yes', 'Yes', 'Yes', 'Yes', 'Yes', 'Yes', 'Yes', 'Yes', 'Yes', 'Yes', 'Yes', 'Yes', 'Yes', 'Yes', 'Yes', 'Yes', 'Yes', 'Yes', 'Yes', 'Yes', 'Yes', 'Yes', 'Yes', 'Yes', 'Yes', 'Yes', 'Yes', 'Yes', 'Yes', 'Yes', 'Yes', 'Yes', 'Yes', 'Yes', 'Yes', 'Yes', 'Yes', 'Yes', 'Yes', 'Yes', 'Yes', 'Yes', 'Yes', 'Yes', 'Yes', 'Yes', 'Yes', 'Yes', 'Yes', 'Yes', 'Yes', 'Yes', 'Yes', 'Yes', 'Yes', 'Yes', 'Yes', 'Yes', 'Yes', 'Yes', 'Yes', 'Yes', 'Yes', 'Yes', 'Yes', 'Yes', 'Yes', 'Yes', 'Yes', 'Yes', 'Yes', 'Yes', 'Yes', 'Yes', 'Yes', 'Yes', 'Yes', 'Yes', 'Yes', 'Yes', 'Yes', 'Yes', 'Yes', 'Yes', 'Yes', 'Yes', 'Yes', 'Yes', 'Yes', 'Yes', 'Yes', 'Yes', 'Yes', 'Yes', 'Yes', 'Yes', 'Yes', 'Yes', 'Yes', 'Yes', 'Yes', 'Yes', 'Yes', 'Yes', 'Yes', 'Yes', 'Yes', 'Yes', 'Yes', 'Yes', 'Yes', 'Yes', 'Yes', 'Yes', 'Yes', 'Yes', 'Yes', 'Yes', 'Yes', 'Yes', 'Yes', 'Yes', 'Yes', 'Yes', 'Yes', 'Yes', 'Yes', 'Yes', 'Yes', 'Yes', 'Yes', 'Yes', 'Yes', 'Yes', 'Yes', 'Yes', 'Yes', 'Yes', 'Yes', 'Yes', 'Yes', 'Yes', 'Yes', 'Yes', 'Yes', 'Yes', 'Yes', 'Yes', 'Yes', 'Yes', 'Yes', 'Yes', 'Yes', 'Yes', 'Yes', 'Yes', 'Yes', 'Yes', 'Yes', 'Yes', 'Yes', 'Yes', 'Yes', 'Yes', 'Yes', 'Yes', 'Yes', 'Yes', 'Yes', 'Yes', 'Yes', 'Yes', 'Yes', 'Yes', 'Yes', 'Yes', 'Yes', 'Yes', 'Yes', 'Yes', 'Yes', 'Yes', 'Yes', 'Yes', 'Yes', 'Yes', 'Yes', 'Yes', 'Yes', 'Yes', 'Yes', 'Yes', 'Yes', 'Yes', 'Yes', 'Yes', 'Yes', 'Yes', 'Yes', 'Yes', 'Yes', 'Yes', 'Yes', 'Yes', 'Yes', 'Yes', 'Yes', 'Yes', 'Yes', 'Yes', 'Yes', 'Yes', 'Yes', 'Yes', 'Yes', 'Yes', 'Yes', 'Yes', 'Yes', 'Yes', 'Yes', 'Yes', 'Yes', 'Yes', 'Yes', 'Yes', 'Yes', 'Yes', 'Yes', 'Yes', 'Yes', 'Yes', 'Yes', 'Yes', 'Yes', 'Yes', 'Yes', 'Yes', 'Yes', 'Yes', 'Yes', 'Yes', 'Yes', 'Yes', 'Yes', 'Yes', 'Yes', 'Yes', 'Yes', 'Yes', 'Yes', 'Yes', 'Yes', 'Yes', 'Yes', 'Yes', 'Yes', 'Yes', 'Yes', 'Yes', 'Yes', 'Yes', 'Yes', 'Yes', 'Yes', 'Yes', 'Yes', 'Yes', 'Yes', 'Yes', 'Yes', 'Yes', 'Yes', 'Yes', 'Yes', 'Yes', 'Yes', 'Yes', 'Yes', 'Yes', 'Yes', 'Yes', 'Yes', 'Yes', 'Yes', 'Yes', 'Yes', 'Yes', 'Yes', 'Yes', 'Yes', 'Yes', 'Yes', 'Yes', 'Yes', 'Yes', 'Yes', 'Yes', 'Yes', 'Yes', 'Yes', 'Yes', 'Yes', 'Yes', 'Yes', 'Yes', 'Yes', 'Yes', 'Yes', 'Yes', 'Yes', 'Yes', 'Yes', 'Yes', 'Yes', 'Yes', 'Yes', 'Yes', 'Yes', 'Yes', 'Yes', 'Yes', 'Yes', 'Yes', 'Yes', 'Yes', 'Yes', 'Yes', 'Yes', 'Yes', 'Yes', 'Yes', 'Yes', 'Yes', 'Yes', 'Yes', 'Yes', 'Yes', 'Yes', 'Yes', 'Yes', 'Yes', 'Yes', 'Yes', 'Yes', 'Yes', 'Yes', 'Yes', 'Yes', 'Yes', 'Yes', 'Yes', 'Yes', 'Yes', 'Yes', 'Yes', 'Yes', 'Yes', 'Yes', 'Yes', 'Yes', 'Yes', 'Yes', 'Yes', 'Yes', 'Yes', 'Yes', 'Yes', 'Yes', 'Yes', 'Yes', 'Yes', 'Yes', 'Yes', 'Yes', 'Yes', 'Yes', 'Yes', 'Yes', 'Yes', 'Yes', 'Yes', 'Yes', 'Yes', 'Yes', 'Yes', 'Yes', 'Yes', 'Yes', 'Yes', 'Yes', 'Yes', 'Yes', 'Yes', 'Yes', 'Yes', 'Yes', 'Yes', 'Yes', 'Yes', 'Yes', 'Yes', 'Yes', 'No', 'No', 'No', 'No', 'No', 'No', 'No', 'No', 'No', 'No', 'No', 'No', 'No', 'No', 'No', 'No', 'No', 'No', 'No', 'No', 'No', 'No', 'No', 'No', 'No', 'No', 'No', 'No', 'No', 'No', 'No', 'No', 'No', 'No', 'No', 'No', 'No', 'No', 'No', 'No', 'No', 'No', 'No', 'No', 'No', 'No', 'No', 'No', 'No', 'No', 'No', 'No', 'No', 'No', 'No', 'No', 'No', 'No', 'No', 'No', 'No', 'No', 'No', 'No', 'No', 'No', 'No', 'No', 'No', 'No', 'No', 'No', 'No', 'No', 'No', 'No', 'No', 'No', 'No', 'No', 'No', 'No', 'No', 'No', 'No', 'No', 'No', 'No', 'No', 'No', 'No', 'No', 'No', 'No', 'No', 'No', 'No', 'No', 'No', 'No', 'No', 'No', 'No', 'No', 'No', 'No', 'No', 'No', 'No', 'No', 'No', 'No', 'No', 'No', 'No', 'No', 'No', 'No', 'No', 'No', 'No', 'No', 'No', 'No', 'No', 'No', 'No', 'No', 'No', 'No', 'No', 'No', 'No', 'No', 'No', 'No', 'No', 'No', 'No', 'No', 'No', 'No', 'No', 'No', 'No', 'No', 'No', 'No', 'No', 'No', 'No', 'No', 'No', 'No', 'No', 'No', 'No', 'No', 'No', 'No', 'No', 'No', 'No', 'No', 'No', 'No', 'No', 'No', 'No', 'No', 'No', 'No', 'No', 'No', 'No', 'No', 'No', 'No', 'No', 'No', 'No', 'No', 'No', 'No', 'No', 'No', 'No', 'No', 'No', 'No', 'No', 'No', 'No', 'No', 'No', 'No', 'No', 'No', 'No', 'No', 'No', 'No', 'No', 'No', 'No', 'No', 'No', 'No', 'No', 'No', 'No', 'No', 'No', 'No', 'No', 'No', 'No', 'No', 'No', 'No', 'No']\n"
     ]
    }
   ],
   "source": [
    "substring = \"[FR Doc.\"\n",
    "\n",
    "check = []\n",
    "\n",
    "for entry in test_cleaning:\n",
    "    if substring in entry:\n",
    "        value = \"Yes\"\n",
    "        check.append(value)\n",
    "    else:\n",
    "        value = \"No\"\n",
    "        check.append(value)\n",
    "\n",
    "print(check)"
   ]
  },
  {
   "cell_type": "code",
   "execution_count": 25,
   "metadata": {},
   "outputs": [
    {
     "name": "stdout",
     "output_type": "stream",
     "text": [
      "    In_HTML\n",
      "139      No\n",
      "303      No\n",
      "707      No\n",
      "708      No\n",
      "709      No\n"
     ]
    }
   ],
   "source": [
    "ind = range(0, 928)\n",
    "df = pd.DataFrame(index = ind, data = check, columns=[\"In_HTML\"])\n",
    "\n",
    "#print(df.head())\n",
    "\n",
    "print((df[df[\"In_HTML\"] == \"No\"]).head())"
   ]
  },
  {
   "cell_type": "markdown",
   "metadata": {},
   "source": [
    "Okay, now we know which orders aren't in HTML format, and we can remove those. There are 223"
   ]
  },
  {
   "cell_type": "code",
   "execution_count": 26,
   "metadata": {},
   "outputs": [
    {
     "name": "stdout",
     "output_type": "stream",
     "text": [
      "      citation document_number  end_page  \\\n",
      "0  83 FR 61505      2018-26156     61507   \n",
      "1  83 FR 55243      2018-24254     55245   \n",
      "2  83 FR 48195      2018-20816     48200   \n",
      "3  83 FR 46843      2018-20203     46848   \n",
      "4  83 FR 45321      2018-19514     45323   \n",
      "\n",
      "                                            html_url  \\\n",
      "0  https://www.federalregister.gov/documents/2018...   \n",
      "1  https://www.federalregister.gov/documents/2018...   \n",
      "2  https://www.federalregister.gov/documents/2018...   \n",
      "3  https://www.federalregister.gov/documents/2018...   \n",
      "4  https://www.federalregister.gov/documents/2018...   \n",
      "\n",
      "                                             pdf_url                   type  \\\n",
      "0  https://www.gpo.gov/fdsys/pkg/FR-2018-11-29/pd...  Presidential Document   \n",
      "1  https://www.gpo.gov/fdsys/pkg/FR-2018-11-02/pd...  Presidential Document   \n",
      "2  https://www.gpo.gov/fdsys/pkg/FR-2018-09-21/pd...  Presidential Document   \n",
      "3  https://www.gpo.gov/fdsys/pkg/FR-2018-09-14/pd...  Presidential Document   \n",
      "4  https://www.gpo.gov/fdsys/pkg/FR-2018-09-06/pd...  Presidential Document   \n",
      "\n",
      "           subtype publication_date signing_date  start_page  \\\n",
      "0  Executive Order       11/29/2018   11/27/2018       61505   \n",
      "1  Executive Order       11/02/2018   11/01/2018       55243   \n",
      "2  Executive Order       09/21/2018   09/20/2018       48195   \n",
      "3  Executive Order       09/14/2018   09/12/2018       46843   \n",
      "4  Executive Order       09/06/2018   08/31/2018       45321   \n",
      "\n",
      "                                               title  \\\n",
      "0  Blocking Property of Certain Persons Contribut...   \n",
      "1  Blocking Property of Additional Persons Contri...   \n",
      "2  Authorizing the Implementation of Certain Sanc...   \n",
      "3  Imposing Certain Sanctions in the Event of For...   \n",
      "4       Strengthening Retirement Security in America   \n",
      "\n",
      "                                   disposition_notes  executive_order_number  \\\n",
      "0                                                NaN                   13851   \n",
      "1                                                NaN                   13850   \n",
      "2  See: EO 13694 of 4/1/2015, EO 13757 of 12/28/2...                   13849   \n",
      "3  See: 13694 of 4/1/2015, EO 13757 of 12/28/2016...                   13848   \n",
      "4                                                NaN                   13847   \n",
      "\n",
      "  President       Party In_HTML  \n",
      "0     Trump  Republican     Yes  \n",
      "1     Trump  Republican     Yes  \n",
      "2     Trump  Republican     Yes  \n",
      "3     Trump  Republican     Yes  \n",
      "4     Trump  Republican     Yes  \n"
     ]
    }
   ],
   "source": [
    "ex_dataset[\"In_HTML\"] = df[\"In_HTML\"]\n",
    "\n",
    "print(ex_dataset.head())"
   ]
  },
  {
   "cell_type": "markdown",
   "metadata": {},
   "source": [
    "Okay, now we know which ones are in HTML. We can make a new dataset that contains only HTML orders, and work off that"
   ]
  },
  {
   "cell_type": "code",
   "execution_count": 27,
   "metadata": {},
   "outputs": [
    {
     "name": "stdout",
     "output_type": "stream",
     "text": [
      "705\n",
      "705\n"
     ]
    }
   ],
   "source": [
    "cleaned_ex_data = ex_dataset[ex_dataset[\"In_HTML\"] == \"Yes\"]\n",
    "\n",
    "print(928-223)\n",
    "\n",
    "# These number should be the same if the above code is successful\n",
    "print(len(cleaned_ex_data))"
   ]
  },
  {
   "cell_type": "markdown",
   "metadata": {},
   "source": [
    "Great! We now have 705 executive orders in HTML ready to be parsed into our dataframe."
   ]
  },
  {
   "cell_type": "code",
   "execution_count": 28,
   "metadata": {
    "scrolled": true
   },
   "outputs": [
    {
     "name": "stderr",
     "output_type": "stream",
     "text": [
      "/anaconda3/lib/python3.6/site-packages/bs4/__init__.py:181: UserWarning: No parser was explicitly specified, so I'm using the best available HTML parser for this system (\"lxml\"). This usually isn't a problem, but if you run this code on another system, or in a different virtual environment, it may use a different parser and behave differently.\n",
      "\n",
      "The code that caused this warning is on line 193 of the file /anaconda3/lib/python3.6/runpy.py. To get rid of this warning, change code that looks like this:\n",
      "\n",
      " BeautifulSoup(YOUR_MARKUP})\n",
      "\n",
      "to this:\n",
      "\n",
      " BeautifulSoup(YOUR_MARKUP, \"lxml\")\n",
      "\n",
      "  markup_type=markup_type))\n"
     ]
    },
    {
     "name": "stdout",
     "output_type": "stream",
     "text": [
      ".\n",
      "\n",
      "\n",
      "\n",
      "\n",
      "\n",
      "Executive Order 13751 of December 5, 2016\n",
      "        Safeguarding the Nation From the Impacts of Invasive Species\n",
      "By the authority vested in me as President by the Constitution and to ensure the faithful execution of the laws of the United States of America, including the National Environmental Policy Act of 1969, as amended (42 U.S.C. 4321 et seq.), the Nonindigenous Aquatic Nuisance Prevention and Control Act of 1990, (16 U.S.C. 4701 et seq.), the Plant Protection Act (7 U.S.C. 7701 et seq.), the Lacey Act, as amended (18 U.S.C. 42, 16 U.S.C. 3371-3378 et seq.), the Endangered Species Act of 1973, as amended (16 U.S.C. 1531 et seq.), the Noxious Weed Control and Eradication Act of 2004 (7 U.S.C. 7781 et seq.), and other pertinent statutes, to prevent the introduction of invasive species and provide for their control, and to minimize the economic, plant, animal, ecological, and human health impacts that invasive species cause, it is hereby ordered as follows:\n",
      "\n",
      "Section 1.\n",
      "Policy. It is the policy of the United States to prevent the introduction, establishment, and spread of invasive species, as well as to eradicate and control populations of invasive species that are established. Invasive species pose threats to prosperity, security, and quality of life. They have negative impacts on the environment and natural resources, agriculture and food production systems, water resources, human, animal, and plant health, infrastructure, the economy, energy, cultural resources, and military readiness. Every year, invasive species cost the United States billions of dollars in economic losses and other damages.\n",
      "Of substantial growing concern are invasive species that are or may be vectors, reservoirs, and causative agents of disease, which threaten human, animal, and plant health. The introduction, establishment, and spread of invasive species create the potential for serious public health impacts, especially when considered in the context of changing climate conditions. Climate change influences the establishment, spread, and impacts of invasive species.\n",
      "Executive Order 13112 of February 3, 1999 (Invasive Species), called upon executive departments and agencies to take steps to prevent the introduction and spread of invasive species, and to support efforts to eradicate and control invasive species that are established. Executive Order 13112 also created a coordinating body—the Invasive Species Council, also referred to as the National Invasive Species Council—to oversee implementation of the order, encourage proactive planning and action, develop recommendations for international cooperation, and take other steps to improve the Federal response to invasive species. Past efforts at preventing, eradicating, and controlling invasive species demonstrated that collaboration across Federal, State, local, tribal, and territorial government; stakeholders; and the private sector is critical to minimizing the spread of invasive species and that coordinated action is necessary to protect the assets and security of the United States.\n",
      "This order amends Executive Order 13112 and directs actions to continue coordinated Federal prevention and control efforts related to invasive species. This order maintains the National Invasive Species Council (Council) and the Invasive Species Advisory Committee; expands the membership of the Council; clarifies the operations of the Council; incorporates considerations Start Printed Page 88610of human and environmental health, climate change, technological innovation, and other emerging priorities into Federal efforts to address invasive species; and strengthens coordinated, cost-efficient Federal action.\n",
      "\n",
      "Sec. 2.\n",
      "Definitions. Section 1 of Executive Order 13112 is amended to read as follows:\n",
      "\n",
      "“Section 1.\n",
      "Definitions. (a) ‘Control’ means containing, suppressing, or reducing populations of invasive species.\n",
      "(b) ‘Eradication’ means the removal or destruction of an entire population of invasive species.\n",
      "(c) ‘Federal agency’ means an executive department or agency, but does not include independent establishments as defined by 5 U.S.C. 104.\n",
      "(d) ‘Introduction’ means, as a result of human activity, the intentional or unintentional escape, release, dissemination, or placement of an organism into an ecosystem to which it is not native.\n",
      "(e) ‘Invasive species’ means, with regard to a particular ecosystem, a non-native organism whose introduction causes or is likely to cause economic or environmental harm, or harm to human, animal, or plant health.\n",
      "(f) ‘Non-native species’ or ‘alien species’ means, with respect to a particular ecosystem, an organism, including its seeds, eggs, spores, or other biological material capable of propagating that species, that occurs outside of its natural range.\n",
      "(g) ‘Pathway’ means the mechanisms and processes by which non-native species are moved, intentionally or unintentionally, into a new ecosystem.\n",
      "(h) ‘Prevention’ means the action of stopping invasive species from being introduced or spreading into a new ecosystem.\n",
      "(i) ‘United States’ means the 50 States, the District of Columbia, the Commonwealth of Puerto Rico, Guam, American Samoa, the U.S. Virgin Islands, the Commonwealth of the Northern Mariana Islands, all possessions, and the territorial sea of the United States as defined by Presidential Proclamation 5928 of December 27, 1988.”\n",
      "\n",
      " Sec. 3.\n",
      "Federal Agency Duties. Section 2 of Executive Order 13112 is amended to read as follows:\n",
      "\n",
      " “Sec. 2.\n",
      "Federal Agency Duties. (a) Each Federal agency for which that agency's actions may affect the introduction, establishment, or spread of invasive species shall, to the extent practicable and permitted by law,\n",
      "(1) identify such agency actions;\n",
      "(2) subject to the availability of appropriations, and within administrative, budgetary, and jurisdictional limits, use relevant agency programs and authorities to:\n",
      "        (i) prevent the introduction, establishment, and spread of invasive species;\n",
      "        (ii) detect and respond rapidly to eradicate or control populations of invasive species in a manner that is cost-effective and minimizes human, animal, plant, and environmental health risks;\n",
      "        (iii) monitor invasive species populations accurately and reliably;\n",
      "        (iv) provide for the restoration of native species, ecosystems, and other assets that have been impacted by invasive species;\n",
      "        (v) conduct research on invasive species and develop and apply technologies to prevent their introduction, and provide for environmentally sound methods of eradication and control of invasive species;\n",
      "        (vi) promote public education and action on invasive species, their pathways, and ways to address them, with an emphasis on prevention, and early detection and rapid response;\n",
      "\n",
      "        (vii) assess and strengthen, as appropriate, policy and regulatory frameworks pertaining to the prevention, eradication, and control of invasive species and address regulatory gaps, inconsistencies, and conflicts;Start Printed Page 88611\n",
      "        \n",
      "        (viii) coordinate with and complement similar efforts of States, territories, federally recognized American Indian tribes, Alaska Native Corporations, Native Hawaiians, local governments, nongovernmental organizations, and the private sector; and\n",
      "        (ix) in consultation with the Department of State and with other agencies as appropriate, coordinate with foreign governments to prevent the movement and minimize the impacts of invasive species; and\n",
      "        (3) refrain from authorizing, funding, or implementing actions that are likely to cause or promote the introduction, establishment, or spread of invasive species in the United States unless, pursuant to guidelines that it has prescribed, the agency has determined and made public its determination that the benefits of such actions clearly outweigh the potential harm caused by invasive species; and that all feasible and prudent measures to minimize risk of harm will be taken in conjunction with the actions.\n",
      "(c) Federal agencies shall pursue the duties set forth in this section in coordination, to the extent practicable, with other member agencies of the Council and staff, consistent with the National Invasive Species Council Management Plan, and in cooperation with State, local, tribal, and territorial governments, and stakeholders, as appropriate, and in consultation with the Department of State when Federal agencies are working with international organizations and foreign nations.\n",
      "(d) Federal agencies that are members of the Council, and Federal interagency bodies working on issues relevant to the prevention, eradication, and control of invasive species, shall provide the Council with annual information on actions taken that implement these duties and identify barriers to advancing priority actions.\n",
      "(e) To the extent practicable, Federal agencies shall also expand the use of new and existing technologies and practices; develop, share, and utilize similar metrics and standards, methodologies, and databases and, where relevant, platforms for monitoring invasive species; and, facilitate the interoperability of information systems, open data, data analytics, predictive modeling, and data reporting necessary to inform timely, science-based decision making.\n",
      "\n",
      "Sec. 4.\n",
      "Emerging Priorities. Federal agencies that are members of the Council and Federal interagency bodies working on issues relevant to the prevention, eradication, and control of invasive species shall take emerging priorities into consideration, including:\n",
      "(a) Federal agencies shall consider the potential public health and safety impacts of invasive species, especially those species that are vectors, reservoirs, and causative agents of disease. The Department of Health and Human Services, in coordination and consultation with relevant agencies as appropriate, shall within 1 year of this order, and as requested by the Council thereafter, provide the Office of Science and Technology Policy and the Council a report on public health impacts associated with invasive species. That report shall describe the disease, injury, immunologic, and safety impacts associated with invasive species, including any direct and indirect impacts on low-income, minority, and tribal communities.\n",
      "(b) Federal agencies shall consider the impacts of climate change when working on issues relevant to the prevention, eradication, and control of invasive species, including in research and monitoring efforts, and integrate invasive species into Federal climate change coordinating frameworks and initiatives.\n",
      "(c) Federal agencies shall consider opportunities to apply innovative science and technology when addressing the duties identified in section 2 of Executive Order 13112, as amended, including, but not limited to, promoting open data and data analytics; harnessing technological advances in remote sensing technologies, molecular tools, cloud computing, and predictive analytics; and using tools such as challenge prizes, citizen science, and crowdsourcing.Start Printed Page 88612\n",
      "\n",
      "\n",
      "Sec. 5.\n",
      "National Invasive Species Council. Section 3 of Executive Order 13112 is amended to read as follows:\n",
      "\n",
      "“Sec. 3.\n",
      "National Invasive Species Council. (a) A National Invasive Species Council (Council) is hereby established. The mission of the Council is to provide the vision and leadership to coordinate, sustain, and expand Federal efforts to safeguard the interests of the United States through the prevention, eradication, and control of invasive species, and through the restoration of ecosystems and other assets impacted by invasive species.\n",
      "(b) The Council's membership shall be composed of the following officials, who may designate a senior-level representative to perform the functions of the member:\n",
      "        (i) Secretary of State;\n",
      "        (ii) Secretary of the Treasury;\n",
      "        (iii) Secretary of Defense;\n",
      "        (iv) Secretary of the Interior;\n",
      "        (v) Secretary of Agriculture;\n",
      "        (vi) Secretary of Commerce;\n",
      "        (vii) Secretary of Health and Human Services;\n",
      "        (viii) Secretary of Transportation;\n",
      "        (ix) Secretary of Homeland Security;\n",
      "        (x) Administrator of the National Aeronautics and Space Administration;\n",
      "        (xi) Administrator of the Environmental Protection Agency;\n",
      "        (xii) Administrator of the United States Agency for International Development;\n",
      "        (xiii) United States Trade Representative;\n",
      "        (xiv) Director or Chair of the following components of the Executive Office of the President: the Office of Science and Technology Policy, the Council on Environmental Quality, and the Office of Management and Budget; and\n",
      "        (xv) Officials from such other departments, agencies, offices, or entities as the agencies set forth above, by consensus, deem appropriate.\n",
      "        (c) The Council shall be co-chaired by the Secretary of the Interior (Secretary), the Secretary of Agriculture, and the Secretary of Commerce, who shall meet quarterly or more frequently if needed, and who may designate a senior-level representative to perform the functions of the Co-Chair. The Council shall meet no less than once each year. The Secretary of the Interior shall, after consultation with the Co-Chairs, appoint an Executive Director of the Council to oversee a staff that supports the duties of the Council. Within 1 year of the date of this order, the Co-Chairs of the Council shall, with consensus of its members, complete a charter, which shall include any administrative policies and processes necessary to ensure the Council can satisfy the functions and responsibilities described in this order.\n",
      "(d) The Secretary of the Interior shall maintain the current Invasive Species Advisory Committee established under the Federal Advisory Committee Act, 5 U.S.C. App., to provide information and advice for consideration by the Council. The Secretary shall, after consultation with other members of the Council, appoint members of the advisory committee who represent diverse stakeholders and who have expertise to advise the Council.\n",
      "(e) Administration of the Council. The Department of the Interior shall provide funding and administrative support for the Council and the advisory committee consistent with existing authorities. To the extent permitted by law, including the Economy Act, and within existing appropriations, participating agencies may detail staff to the Department of the Interior to support the Council's efforts.”Start Printed Page 88613\n",
      "\n",
      "\n",
      " Sec. 6.\n",
      "Duties of the National Invasive Species Council. Section 4 of Executive Order 13112 is amended to read as follows:\n",
      "\n",
      "“Sec. 4.\n",
      "Duties of the National Invasive Species Council. The Council shall provide national leadership regarding invasive species and shall:\n",
      "(a) with regard to the implementation of this order, work to ensure that the Federal agency and interagency activities concerning invasive species are coordinated, complementary, cost-efficient, and effective;\n",
      "(b) undertake a National Invasive Species Assessment in coordination with the U.S. Global Change Research Program's periodic national assessment, that evaluates the impact of invasive species on major U.S. assets, including food security, water resources, infrastructure, the environment, human, animal, and plant health, natural resources, cultural identity and resources, and military readiness, from ecological, social, and economic perspectives;\n",
      "(c) advance national incident response, data collection, and rapid reporting capacities that build on existing frameworks and programs and strengthen early detection of and rapid response to invasive species, including those that are vectors, reservoirs, or causative agents of disease;\n",
      "(d) publish an assessment by 2020 that identifies the most pressing scientific, technical, and programmatic coordination challenges to the Federal Government's capacity to prevent the introduction of invasive species, and that incorporate recommendations and priority actions to overcome these challenges into the National Invasive Species Council Management Plan, as appropriate;\n",
      "(e) support and encourage the development of new technologies and practices, and promote the use of existing technologies and practices, to prevent, eradicate, and control invasive species, including those that are vectors, reservoirs, and causative agents of disease;\n",
      "(f) convene annually to discuss and coordinate interagency priorities and report annually on activities and budget requirements for programs that contribute directly to the implementation of this order; and\n",
      "(g) publish a National Invasive Species Council Management Plan as set forth in section 5 of this order.”\n",
      "\n",
      "Sec. 7.\n",
      "National Invasive Species Council Management Plan. Section 5 of Executive Order 13112 is amended to read as follows:\n",
      "\n",
      "“Sec. 5.\n",
      "National Invasive Species Council Management Plan. (a) By December 31, 2019, the Council shall publish a National Invasive Species Council Management Plan (Management Plan), which shall, among other priorities identified by the Council, include actions to further the implementation of the duties of the National Invasive Species Council.\n",
      "(b) The Management Plan shall recommend strategies to:\n",
      "        (1) provide institutional leadership and priority setting;\n",
      "        (2) achieve effective interagency coordination and cost-efficiency;\n",
      "        (3) raise awareness and motivate action, including through the promotion of appropriate transparency, community-level consultation, and stakeholder outreach concerning the benefits and risks to human, animal, or plant health when controlling or eradicating an invasive species;\n",
      "        (4) remove institutional and policy barriers;\n",
      "        (5) assess and strengthen capacities; and\n",
      "        (6) foster scientific, technical, and programmatic innovation.\n",
      "        (c) The Council shall evaluate the effectiveness of the Management Plan implementation and update the Plan every 3 years. The Council shall provide an annual report of its achievements to the public.\n",
      "(d) Council members may complement the Management Plan with invasive species policies and plans specific to their respective agency's roles, responsibilities, and authorities.”Start Printed Page 88614\n",
      "\n",
      "\n",
      " Sec. 8.\n",
      "Actions of the Department of State and Department of Defense. Section 6(d) of Executive Order 13112 is amended to read as follows:\n",
      "“(d) The duties of section 3(a)(2) and section 3(a)(3) of this order shall not apply to any action of the Department of State if the Secretary of State finds that exemption from such requirements is necessary for foreign policy, readiness, or national security reasons. The duties of section 3(a)(2) and section 3(a)(3) of this order shall not apply to any action of the Department of Defense if the Secretary of Defense finds that exemption from such requirements is necessary for foreign policy, readiness, or national security reasons.”\n",
      "\n",
      " Sec. 9.\n",
      "Obligations of the Department of Health and Human Services. A new section 6(e) of Executive Order 13112 is added to read as follows:\n",
      "“(e) The requirements of this order do not affect the obligations of the Department of Health and Human Services under the Public Health Service Act or the Federal Food, Drug, and Cosmetic Act.”\n",
      "\n",
      " Sec. 10.\n",
      "General Provisions. (a) Nothing in this order shall be construed to impair or otherwise affect:\n",
      "        (1) the authority granted by law to an executive department or agency, or the head thereof; or\n",
      "        (2) the functions of the Director of the Office of Management and Budget relating to budgetary, administrative, or legislative proposals.\n",
      "        (b) This order shall be implemented consistent with applicable law and subject to the availability of appropriations.\n",
      "(c) This order is not intended to, and does not, create any right or benefit, substantive or procedural, enforceable at law or in equity by any party against the United States, its departments, agencies, or entities, its officers, employees, or agents, or any other person.\n",
      "\n",
      "        \n",
      "         \n",
      "         THE WHITE HOUSE,\n",
      "        December 5, 2016.\n",
      "        \n",
      "        Filed 12-7-16; 8:45 am]\n",
      "        \n",
      "      \n",
      "    \n",
      "\n"
     ]
    }
   ],
   "source": [
    "exec_text = []\n",
    "\n",
    "for entry in range(0, 705):\n",
    "    url = cleaned_ex_data.iloc[entry][3]\n",
    "    req = urllib.request.Request(url, headers={'User-Agent' : \"Magic Browser\"}) \n",
    "    con = urllib.request.urlopen( req )\n",
    "    html = con.read()\n",
    "    soup = BeautifulSoup(html)\n",
    "    soup_text = soup.get_text()\n",
    "    doc1 = soup_text.split(\"Use the PDF linked in the document sidebar for the official electronic format\",1)[1]\n",
    "    a,b = doc1.split(\"[FR Doc.\")\n",
    "    exec_text.append(a)\n",
    "\n",
    "# I'm going to print a random order (100) to test that the for loop worked\n",
    "print(exec_text[100])"
   ]
  },
  {
   "cell_type": "markdown",
   "metadata": {},
   "source": [
    "Next we're going to append this list of strings to our dataset to get our final result"
   ]
  },
  {
   "cell_type": "code",
   "execution_count": 29,
   "metadata": {},
   "outputs": [
    {
     "name": "stdout",
     "output_type": "stream",
     "text": [
      "      citation document_number  end_page  \\\n",
      "0  83 FR 61505      2018-26156     61507   \n",
      "1  83 FR 55243      2018-24254     55245   \n",
      "2  83 FR 48195      2018-20816     48200   \n",
      "3  83 FR 46843      2018-20203     46848   \n",
      "4  83 FR 45321      2018-19514     45323   \n",
      "\n",
      "                                            html_url  \\\n",
      "0  https://www.federalregister.gov/documents/2018...   \n",
      "1  https://www.federalregister.gov/documents/2018...   \n",
      "2  https://www.federalregister.gov/documents/2018...   \n",
      "3  https://www.federalregister.gov/documents/2018...   \n",
      "4  https://www.federalregister.gov/documents/2018...   \n",
      "\n",
      "                                             pdf_url                   type  \\\n",
      "0  https://www.gpo.gov/fdsys/pkg/FR-2018-11-29/pd...  Presidential Document   \n",
      "1  https://www.gpo.gov/fdsys/pkg/FR-2018-11-02/pd...  Presidential Document   \n",
      "2  https://www.gpo.gov/fdsys/pkg/FR-2018-09-21/pd...  Presidential Document   \n",
      "3  https://www.gpo.gov/fdsys/pkg/FR-2018-09-14/pd...  Presidential Document   \n",
      "4  https://www.gpo.gov/fdsys/pkg/FR-2018-09-06/pd...  Presidential Document   \n",
      "\n",
      "           subtype publication_date signing_date  start_page  \\\n",
      "0  Executive Order       11/29/2018   11/27/2018       61505   \n",
      "1  Executive Order       11/02/2018   11/01/2018       55243   \n",
      "2  Executive Order       09/21/2018   09/20/2018       48195   \n",
      "3  Executive Order       09/14/2018   09/12/2018       46843   \n",
      "4  Executive Order       09/06/2018   08/31/2018       45321   \n",
      "\n",
      "                                               title  \\\n",
      "0  Blocking Property of Certain Persons Contribut...   \n",
      "1  Blocking Property of Additional Persons Contri...   \n",
      "2  Authorizing the Implementation of Certain Sanc...   \n",
      "3  Imposing Certain Sanctions in the Event of For...   \n",
      "4       Strengthening Retirement Security in America   \n",
      "\n",
      "                                   disposition_notes  executive_order_number  \\\n",
      "0                                                NaN                   13851   \n",
      "1                                                NaN                   13850   \n",
      "2  See: EO 13694 of 4/1/2015, EO 13757 of 12/28/2...                   13849   \n",
      "3  See: 13694 of 4/1/2015, EO 13757 of 12/28/2016...                   13848   \n",
      "4                                                NaN                   13847   \n",
      "\n",
      "  President       Party In_HTML  \\\n",
      "0     Trump  Republican     Yes   \n",
      "1     Trump  Republican     Yes   \n",
      "2     Trump  Republican     Yes   \n",
      "3     Trump  Republican     Yes   \n",
      "4     Trump  Republican     Yes   \n",
      "\n",
      "                                          Order_Text  \n",
      "0  .\\n\\n\\n\\n\\n\\nStart Printed Page 61505\\nExecuti...  \n",
      "1  .\\n\\n\\n\\n\\n\\nExecutive Order 13850 of November...  \n",
      "2  .\\n\\n\\n\\n\\n\\nExecutive Order 13849 of Septembe...  \n",
      "3  .\\n\\n\\n\\n\\n\\nExecutive Order 13848 of Septembe...  \n",
      "4  .\\n\\n\\n\\n\\n\\nStart Printed Page 45321\\nExecuti...  \n"
     ]
    },
    {
     "name": "stderr",
     "output_type": "stream",
     "text": [
      "/anaconda3/lib/python3.6/site-packages/ipykernel_launcher.py:1: SettingWithCopyWarning: \n",
      "A value is trying to be set on a copy of a slice from a DataFrame.\n",
      "Try using .loc[row_indexer,col_indexer] = value instead\n",
      "\n",
      "See the caveats in the documentation: http://pandas.pydata.org/pandas-docs/stable/indexing.html#indexing-view-versus-copy\n",
      "  \"\"\"Entry point for launching an IPython kernel.\n"
     ]
    }
   ],
   "source": [
    "cleaned_ex_data[\"Order_Text\"] = exec_text\n",
    "\n",
    "print(cleaned_ex_data.head())"
   ]
  },
  {
   "cell_type": "markdown",
   "metadata": {},
   "source": [
    "Next, we're going to strip the new line \\n from the text"
   ]
  },
  {
   "cell_type": "code",
   "execution_count": 30,
   "metadata": {},
   "outputs": [
    {
     "name": "stderr",
     "output_type": "stream",
     "text": [
      "/anaconda3/lib/python3.6/site-packages/pandas/core/indexing.py:537: SettingWithCopyWarning: \n",
      "A value is trying to be set on a copy of a slice from a DataFrame.\n",
      "Try using .loc[row_indexer,col_indexer] = value instead\n",
      "\n",
      "See the caveats in the documentation: http://pandas.pydata.org/pandas-docs/stable/indexing.html#indexing-view-versus-copy\n",
      "  self.obj[item] = s\n"
     ]
    },
    {
     "name": "stdout",
     "output_type": "stream",
     "text": [
      "      citation document_number  end_page  \\\n",
      "0  83 FR 61505      2018-26156     61507   \n",
      "1  83 FR 55243      2018-24254     55245   \n",
      "2  83 FR 48195      2018-20816     48200   \n",
      "3  83 FR 46843      2018-20203     46848   \n",
      "4  83 FR 45321      2018-19514     45323   \n",
      "\n",
      "                                            html_url  \\\n",
      "0  https://www.federalregister.gov/documents/2018...   \n",
      "1  https://www.federalregister.gov/documents/2018...   \n",
      "2  https://www.federalregister.gov/documents/2018...   \n",
      "3  https://www.federalregister.gov/documents/2018...   \n",
      "4  https://www.federalregister.gov/documents/2018...   \n",
      "\n",
      "                                             pdf_url                   type  \\\n",
      "0  https://www.gpo.gov/fdsys/pkg/FR-2018-11-29/pd...  Presidential Document   \n",
      "1  https://www.gpo.gov/fdsys/pkg/FR-2018-11-02/pd...  Presidential Document   \n",
      "2  https://www.gpo.gov/fdsys/pkg/FR-2018-09-21/pd...  Presidential Document   \n",
      "3  https://www.gpo.gov/fdsys/pkg/FR-2018-09-14/pd...  Presidential Document   \n",
      "4  https://www.gpo.gov/fdsys/pkg/FR-2018-09-06/pd...  Presidential Document   \n",
      "\n",
      "           subtype publication_date signing_date  start_page  \\\n",
      "0  Executive Order       11/29/2018   11/27/2018       61505   \n",
      "1  Executive Order       11/02/2018   11/01/2018       55243   \n",
      "2  Executive Order       09/21/2018   09/20/2018       48195   \n",
      "3  Executive Order       09/14/2018   09/12/2018       46843   \n",
      "4  Executive Order       09/06/2018   08/31/2018       45321   \n",
      "\n",
      "                                               title  \\\n",
      "0  Blocking Property of Certain Persons Contribut...   \n",
      "1  Blocking Property of Additional Persons Contri...   \n",
      "2  Authorizing the Implementation of Certain Sanc...   \n",
      "3  Imposing Certain Sanctions in the Event of For...   \n",
      "4       Strengthening Retirement Security in America   \n",
      "\n",
      "                                   disposition_notes  executive_order_number  \\\n",
      "0                                                NaN                   13851   \n",
      "1                                                NaN                   13850   \n",
      "2  See: EO 13694 of 4/1/2015, EO 13757 of 12/28/2...                   13849   \n",
      "3  See: 13694 of 4/1/2015, EO 13757 of 12/28/2016...                   13848   \n",
      "4                                                NaN                   13847   \n",
      "\n",
      "  President       Party In_HTML  \\\n",
      "0     Trump  Republican     Yes   \n",
      "1     Trump  Republican     Yes   \n",
      "2     Trump  Republican     Yes   \n",
      "3     Trump  Republican     Yes   \n",
      "4     Trump  Republican     Yes   \n",
      "\n",
      "                                          Order_Text  \n",
      "0  .Start Printed Page 61505Executive Order 13851...  \n",
      "1  .Executive Order 13850 of November 1, 2018    ...  \n",
      "2  .Executive Order 13849 of September 20, 2018  ...  \n",
      "3  .Executive Order 13848 of September 12, 2018  ...  \n",
      "4  .Start Printed Page 45321Executive Order 13847...  \n"
     ]
    }
   ],
   "source": [
    "for index, row in cleaned_ex_data.iterrows():\n",
    "    cleaned_ex_data.loc[index, \"Order_Text\"] = cleaned_ex_data.loc[index, \"Order_Text\"].replace('\\n', '')\n",
    "    \n",
    "print(cleaned_ex_data.head())"
   ]
  },
  {
   "cell_type": "markdown",
   "metadata": {},
   "source": [
    "Now our data is clean and ready for analysis! Let's get some exploratory statistics, such as the number of orders per president"
   ]
  },
  {
   "cell_type": "code",
   "execution_count": 31,
   "metadata": {},
   "outputs": [
    {
     "name": "stdout",
     "output_type": "stream",
     "text": [
      "Trump: 87\n",
      "Obama: 272\n",
      "Bush: 291\n",
      "Clinton: 55\n"
     ]
    }
   ],
   "source": [
    "print(\"Trump:\",len(cleaned_ex_data[cleaned_ex_data[\"President\"] == \"Trump\"]))\n",
    "print(\"Obama:\",len(cleaned_ex_data[cleaned_ex_data[\"President\"] == \"Obama\"]))\n",
    "print(\"Bush:\",len(cleaned_ex_data[cleaned_ex_data[\"President\"] == \"Bush\"]))\n",
    "print(\"Clinton:\",len(cleaned_ex_data[cleaned_ex_data[\"President\"] == \"Clinton\"]))"
   ]
  },
  {
   "cell_type": "markdown",
   "metadata": {},
   "source": [
    "We can see that Clinton has the least. This is likely because we discarded many of the executive orders that were't in HTML format, which are the older orders. Trump also doesn't have very many, likely becuase he hasn't been in office very long. Now let's compare Dems and Republicans:"
   ]
  },
  {
   "cell_type": "code",
   "execution_count": 32,
   "metadata": {},
   "outputs": [
    {
     "name": "stdout",
     "output_type": "stream",
     "text": [
      "Democrats: 327\n",
      "Republicans: 378\n"
     ]
    }
   ],
   "source": [
    "print(\"Democrats:\",len(cleaned_ex_data[cleaned_ex_data[\"Party\"] == \"Democrat\"]))\n",
    "print(\"Republicans:\",len(cleaned_ex_data[cleaned_ex_data[\"Party\"] == \"Republican\"]))"
   ]
  },
  {
   "cell_type": "markdown",
   "metadata": {},
   "source": [
    "These numbers are pretty close, which will be good for comparisons. Next let's add a col that contains the length of the different orders"
   ]
  },
  {
   "cell_type": "code",
   "execution_count": 33,
   "metadata": {},
   "outputs": [
    {
     "name": "stdout",
     "output_type": "stream",
     "text": [
      "[8555, 8380, 18662, 17754, 7619, 40410, 13682, 6590, 3183, 9886, 4951, 10791, 19216, 20876, 4339, 14347, 4406, 10517, 9140, 6978, 8067, 11066, 5842, 12365, 4425, 9871, 19286, 7072, 5255, 4072, 5830, 1391, 3446, 6716, 10321, 3125, 12175, 2383, 7336, 5698, 2481, 14858, 1822, 5328, 23761, 7243, 5246, 2151, 8480, 1810, 11608, 5143, 20955, 4385, 4866, 2259, 5988, 11592, 3646, 4029, 6464, 7491, 4491, 8262, 4839, 4773, 2310, 5343, 15384, 1612, 4117, 39293, 3558, 9821, 7478, 8412, 3973, 2313, 3920, 3016, 17300, 6183, 18503, 4309, 15469, 13304, 3416, 52635, 2256, 3135, 6839, 4486, 2175, 10694, 5187, 2853, 3462, 3122, 15429, 2633, 19986, 5944, 5498, 11498, 17768, 11605, 1256, 5154, 15280, 4202, 11578, 3769, 2488, 2503, 2917, 3007, 3180, 3035, 4711, 9653, 9230, 2245, 14021, 9266, 8405, 9759, 6317, 1688, 3044, 10947, 10642, 3577, 11129, 8529, 12239, 18918, 3312, 16001, 2278, 3054, 2771, 3676, 7007, 6490, 12889, 2165, 6031, 11698, 11851, 5907, 2434, 4039, 10951, 1021, 2706, 2303, 8763, 48997, 10990, 15843, 11593, 10625, 8818, 7104, 7954, 3306, 3572, 4202, 2182, 1682, 6561, 3066, 2171, 17307, 16533, 6406, 1902, 23418, 2869, 7483, 2638, 2333, 3376, 10009, 648, 5161, 8506, 3084, 7141, 7649, 7550, 11651, 11125, 1388, 3379, 3036, 2488, 20517, 10556, 5527, 14079, 8781, 7999, 9703, 8827, 29484, 1675, 2789, 6975, 3775, 1611, 4851, 5194, 11829, 21584, 3737, 1611, 2159, 11652, 1855, 7107, 8582, 24135, 14262, 10888, 7133, 13440, 9800, 20562, 18340, 6332, 8767, 16358, 6560, 11693, 3815, 2723, 3127, 2676, 6728, 6384, 9178, 9481, 13388, 9753, 5592, 12335, 34990, 8901, 6169, 7211, 9935, 2194, 8793, 2800, 6461, 3856, 1874, 16579, 2358, 13038, 5903, 5776, 15908, 2710, 4253, 9627, 8404, 7378, 7767, 6596, 3625, 4681, 7133, 7968, 6188, 8306, 6786, 7053, 6395, 3912, 2375, 1736, 15180, 8075, 8565, 5275, 7926, 15040, 3462, 4887, 14530, 5742, 8693, 2252, 13714, 14282, 10579, 1766, 8786, 19007, 3137, 15682, 10838, 6091, 9245, 5167, 3852, 3224, 4531, 5865, 4229, 4246, 8912, 5868, 7194, 4026, 10280, 3757, 7772, 1626, 4596, 4465, 90265, 3514, 983, 1576, 12941, 6375, 14631, 7773, 11285, 3005, 3390, 12131, 38795, 7154, 725, 3183, 788, 6590, 19218, 5432, 8552, 3144, 4704, 733, 1018, 1345, 4702, 7809, 8845, 4261, 12620, 14001, 1202, 12018, 11049, 4421, 7350, 17008, 2654, 6920, 2678, 3149, 6302, 3516, 1542, 2426, 5189, 2150, 7343, 4079, 6748, 2328, 2088, 4154, 4814, 1339, 64375, 7440, 1884, 19283, 4657, 8912, 7141, 1077, 13083, 2413, 6824, 7640, 2687, 5406, 12983, 6531, 3323, 1268, 3103, 1449, 11063, 3979, 8206, 6354, 9222, 3205, 1009, 3963, 3222, 7083, 8572, 5432, 6809, 912, 643, 5854, 8086, 3468, 7148, 2659, 24854, 2922, 1347, 1087, 7712, 2104, 742, 16427, 7243, 1338, 7301, 3482, 892, 2980, 7473, 1269, 1159, 8369, 7499, 6522, 6804, 2330, 724, 3534, 7470, 7434, 4397, 3071, 7404, 9428, 4605, 7295, 6200, 5358, 9122, 1085, 3262, 3239, 14904, 7219, 4925, 4957, 8390, 22559, 1240, 8600, 1460, 1645, 8903, 9487, 2986, 932, 2887, 1453, 1240, 1234, 2302, 3403, 4101, 2914, 2030, 4710, 3270, 1437, 7144, 19878, 2068, 3302, 4938, 2704, 6960, 2325, 3286, 2787, 8372, 12705, 16225, 12832, 3499, 2844, 7017, 8572, 1166, 5364, 7801, 4610, 850, 1308, 5775, 5604, 8699, 8375, 12691, 8700, 9713, 6963, 2268, 4986, 3265, 7531, 3880, 7358, 9915, 13667, 4502, 2861, 3044, 3255, 2064, 1261, 1236, 1201, 5326, 5597, 4699, 9139, 644, 12082, 3290, 6393, 1826, 10043, 3170, 1552, 886, 1129, 8813, 5183, 4122, 592, 1969, 3565, 2421, 4413, 1782, 2143, 1092, 1721, 68807, 1365, 3171, 3664, 10936, 50068, 10842, 4986, 9602, 5529, 3090, 1331, 12711, 5650, 4868, 6420, 5417, 1966, 6251, 2184, 5159, 5494, 1730, 10095, 2990, 4412, 2721, 5171, 1008, 5905, 70542, 1813, 5283, 5475, 4322, 4720, 8641, 678, 7880, 2657, 1866, 1396, 3819, 3232, 2279, 1007, 2133, 2171, 2393, 1857, 2326, 1926, 2161, 752, 1234, 6107, 1557, 1229, 2676, 14082, 958, 29127, 9081, 757, 20143, 6789, 3969, 3065, 10555, 5043, 4170, 2014, 768, 9136, 7580, 5423, 1173, 1747, 4410, 5473, 4175, 3086, 4398, 735, 2609, 2506, 1031, 2227, 13771, 6091, 1474, 1141, 1033, 6351, 5424, 4221, 8357, 4799, 5373, 6489, 8102, 9680, 7201, 4879, 778, 12547, 6044, 807, 4052, 2946, 2957, 8756, 13516, 6079, 28614, 6671, 4332, 10723, 3871, 1929, 4708, 6369, 5746, 11390, 4210, 864, 4979, 4370, 3037, 5347, 4431, 2250, 12447, 5818, 10308, 7534, 683, 7125, 8006, 2141, 2030, 7879, 43013, 14902, 4316, 3435, 3758, 11959]\n"
     ]
    }
   ],
   "source": [
    "lengths = []\n",
    "\n",
    "for index, row in cleaned_ex_data.iterrows():\n",
    "    num = len(cleaned_ex_data.loc[index, \"Order_Text\"])\n",
    "    lengths.append(num)\n",
    "\n",
    "# this looks good, now we just add this to the main dataframe   \n",
    "print(lengths)\n"
   ]
  },
  {
   "cell_type": "code",
   "execution_count": 34,
   "metadata": {},
   "outputs": [
    {
     "name": "stdout",
     "output_type": "stream",
     "text": [
      "      citation document_number  end_page  \\\n",
      "0  83 FR 61505      2018-26156     61507   \n",
      "1  83 FR 55243      2018-24254     55245   \n",
      "2  83 FR 48195      2018-20816     48200   \n",
      "3  83 FR 46843      2018-20203     46848   \n",
      "4  83 FR 45321      2018-19514     45323   \n",
      "\n",
      "                                            html_url  \\\n",
      "0  https://www.federalregister.gov/documents/2018...   \n",
      "1  https://www.federalregister.gov/documents/2018...   \n",
      "2  https://www.federalregister.gov/documents/2018...   \n",
      "3  https://www.federalregister.gov/documents/2018...   \n",
      "4  https://www.federalregister.gov/documents/2018...   \n",
      "\n",
      "                                             pdf_url                   type  \\\n",
      "0  https://www.gpo.gov/fdsys/pkg/FR-2018-11-29/pd...  Presidential Document   \n",
      "1  https://www.gpo.gov/fdsys/pkg/FR-2018-11-02/pd...  Presidential Document   \n",
      "2  https://www.gpo.gov/fdsys/pkg/FR-2018-09-21/pd...  Presidential Document   \n",
      "3  https://www.gpo.gov/fdsys/pkg/FR-2018-09-14/pd...  Presidential Document   \n",
      "4  https://www.gpo.gov/fdsys/pkg/FR-2018-09-06/pd...  Presidential Document   \n",
      "\n",
      "           subtype publication_date signing_date  start_page  \\\n",
      "0  Executive Order       11/29/2018   11/27/2018       61505   \n",
      "1  Executive Order       11/02/2018   11/01/2018       55243   \n",
      "2  Executive Order       09/21/2018   09/20/2018       48195   \n",
      "3  Executive Order       09/14/2018   09/12/2018       46843   \n",
      "4  Executive Order       09/06/2018   08/31/2018       45321   \n",
      "\n",
      "                                               title  \\\n",
      "0  Blocking Property of Certain Persons Contribut...   \n",
      "1  Blocking Property of Additional Persons Contri...   \n",
      "2  Authorizing the Implementation of Certain Sanc...   \n",
      "3  Imposing Certain Sanctions in the Event of For...   \n",
      "4       Strengthening Retirement Security in America   \n",
      "\n",
      "                                   disposition_notes  executive_order_number  \\\n",
      "0                                                NaN                   13851   \n",
      "1                                                NaN                   13850   \n",
      "2  See: EO 13694 of 4/1/2015, EO 13757 of 12/28/2...                   13849   \n",
      "3  See: 13694 of 4/1/2015, EO 13757 of 12/28/2016...                   13848   \n",
      "4                                                NaN                   13847   \n",
      "\n",
      "  President       Party In_HTML  \\\n",
      "0     Trump  Republican     Yes   \n",
      "1     Trump  Republican     Yes   \n",
      "2     Trump  Republican     Yes   \n",
      "3     Trump  Republican     Yes   \n",
      "4     Trump  Republican     Yes   \n",
      "\n",
      "                                          Order_Text  Order_Length  \n",
      "0  .Start Printed Page 61505Executive Order 13851...          8555  \n",
      "1  .Executive Order 13850 of November 1, 2018    ...          8380  \n",
      "2  .Executive Order 13849 of September 20, 2018  ...         18662  \n",
      "3  .Executive Order 13848 of September 12, 2018  ...         17754  \n",
      "4  .Start Printed Page 45321Executive Order 13847...          7619  \n"
     ]
    },
    {
     "name": "stderr",
     "output_type": "stream",
     "text": [
      "/anaconda3/lib/python3.6/site-packages/ipykernel_launcher.py:1: SettingWithCopyWarning: \n",
      "A value is trying to be set on a copy of a slice from a DataFrame.\n",
      "Try using .loc[row_indexer,col_indexer] = value instead\n",
      "\n",
      "See the caveats in the documentation: http://pandas.pydata.org/pandas-docs/stable/indexing.html#indexing-view-versus-copy\n",
      "  \"\"\"Entry point for launching an IPython kernel.\n"
     ]
    }
   ],
   "source": [
    "cleaned_ex_data[\"Order_Length\"] = lengths\n",
    "\n",
    "print(cleaned_ex_data.head())"
   ]
  },
  {
   "cell_type": "markdown",
   "metadata": {},
   "source": [
    "Now let's compare the average length of each executive order across parties"
   ]
  },
  {
   "cell_type": "code",
   "execution_count": 35,
   "metadata": {},
   "outputs": [
    {
     "name": "stdout",
     "output_type": "stream",
     "text": [
      "Democrats: 7998.868501529052\n",
      "Republicans: 6545.5661375661375\n"
     ]
    }
   ],
   "source": [
    "import numpy as np\n",
    "\n",
    "dems = cleaned_ex_data[cleaned_ex_data[\"Party\"] == \"Democrat\"]\n",
    "reps = cleaned_ex_data[cleaned_ex_data[\"Party\"] == \"Republican\"]\n",
    "\n",
    "print(\"Democrats:\", np.mean(dems[\"Order_Length\"]))\n",
    "print(\"Republicans:\", np.mean(reps[\"Order_Length\"]))\n"
   ]
  },
  {
   "cell_type": "markdown",
   "metadata": {},
   "source": [
    "Now let's compare these two groups with some boxplots"
   ]
  },
  {
   "cell_type": "code",
   "execution_count": 36,
   "metadata": {},
   "outputs": [
    {
     "data": {
      "text/plain": [
       "(0, 21000)"
      ]
     },
     "execution_count": 36,
     "metadata": {},
     "output_type": "execute_result"
    }
   ],
   "source": [
    "import seaborn as sns\n",
    "\n",
    "import matplotlib.pyplot as plt\n",
    "\n",
    "len_box_adj = sns.boxplot(x=\"Order_Length\", y = \"Party\", data = cleaned_ex_data, palette = \"Set2\", notch = True)\n",
    "\n",
    "# I'm adjusting the x axis here to make the plot easier to see\n",
    "plt.xlim(0, 21000)"
   ]
  },
  {
   "cell_type": "markdown",
   "metadata": {},
   "source": [
    "We can see (by the notches) that executive orders written by democrats are statistically significantly longer than those written by republicans. Let's look at individual presidents as well"
   ]
  },
  {
   "cell_type": "code",
   "execution_count": 37,
   "metadata": {},
   "outputs": [
    {
     "name": "stdout",
     "output_type": "stream",
     "text": [
      "Obama: 8187.783088235294\n",
      "Trump: 8724.471264367816\n",
      "Bush: 5894.140893470791\n",
      "Clinton: 7064.6\n"
     ]
    }
   ],
   "source": [
    "\n",
    "obama = cleaned_ex_data[cleaned_ex_data[\"President\"] == \"Obama\"]\n",
    "trump = cleaned_ex_data[cleaned_ex_data[\"President\"] == \"Trump\"]\n",
    "bush = cleaned_ex_data[cleaned_ex_data[\"President\"] == \"Bush\"]\n",
    "clinton = cleaned_ex_data[cleaned_ex_data[\"President\"] == \"Clinton\"]\n",
    "\n",
    "print(\"Obama:\", np.mean(obama[\"Order_Length\"]))\n",
    "print(\"Trump:\", np.mean(trump[\"Order_Length\"]))\n",
    "print(\"Bush:\", np.mean(bush[\"Order_Length\"]))\n",
    "print(\"Clinton:\", np.mean(clinton[\"Order_Length\"]))\n"
   ]
  },
  {
   "cell_type": "markdown",
   "metadata": {},
   "source": [
    "It appears that Bush's are by far the shortest, and surprisingly Trump's are the longest. Let's create another boxplot"
   ]
  },
  {
   "cell_type": "code",
   "execution_count": 38,
   "metadata": {},
   "outputs": [
    {
     "data": {
      "text/plain": [
       "(0, 21000)"
      ]
     },
     "execution_count": 38,
     "metadata": {},
     "output_type": "execute_result"
    },
    {
     "data": {
      "image/png": "[encoded data removed]",
      "text/plain": [
       "<matplotlib.figure.Figure at 0x114e320f0>"
      ]
     },
     "metadata": {},
     "output_type": "display_data"
    }
   ],
   "source": [
    "len_box_adj = sns.boxplot(x=\"Order_Length\", y = \"President\", data = cleaned_ex_data, palette = \"Set2\", notch = True)\n",
    "\n",
    "# I'm adjusting the x axis here to make the plot easier to see\n",
    "plt.xlim(0, 21000)"
   ]
  },
  {
   "cell_type": "markdown",
   "metadata": {},
   "source": [
    "It appears that the only president with significantly shorter executive orders is Bush. This likely explains why orders by Republicans appear to be much shorter. Next let's see how the length of all orders changed over time"
   ]
  },
  {
   "cell_type": "code",
   "execution_count": 39,
   "metadata": {},
   "outputs": [
    {
     "name": "stderr",
     "output_type": "stream",
     "text": [
      "/anaconda3/lib/python3.6/site-packages/ipykernel_launcher.py:2: SettingWithCopyWarning: \n",
      "A value is trying to be set on a copy of a slice from a DataFrame.\n",
      "Try using .loc[row_indexer,col_indexer] = value instead\n",
      "\n",
      "See the caveats in the documentation: http://pandas.pydata.org/pandas-docs/stable/indexing.html#indexing-view-versus-copy\n",
      "  \n"
     ]
    }
   ],
   "source": [
    "# we need to change the date to a datetime object\n",
    "cleaned_ex_data[\"publication_date\"] = pd.to_datetime(cleaned_ex_data[\"publication_date\"])\n"
   ]
  },
  {
   "cell_type": "code",
   "execution_count": 40,
   "metadata": {},
   "outputs": [
    {
     "data": {
      "text/plain": [
       "[<matplotlib.lines.Line2D at 0x1a1ce17c18>]"
      ]
     },
     "execution_count": 40,
     "metadata": {},
     "output_type": "execute_result"
    },
    {
     "data": {
      "image/png": "[encoded data removed]",
      "text/plain": [
       "<matplotlib.figure.Figure at 0x1a1ce128d0>"
      ]
     },
     "metadata": {},
     "output_type": "display_data"
    }
   ],
   "source": [
    "plt.plot(cleaned_ex_data[\"publication_date\"], cleaned_ex_data[\"Order_Length\"])"
   ]
  },
  {
   "cell_type": "markdown",
   "metadata": {},
   "source": [
    "We can see several spikes here, probably from unusually long orders, but there doesn't appear to be any kind of trend persisting over time. We can also only look at the data below 21000, which is where we limited the boxplots"
   ]
  },
  {
   "cell_type": "code",
   "execution_count": 41,
   "metadata": {},
   "outputs": [
    {
     "data": {
      "text/plain": [
       "[<matplotlib.lines.Line2D at 0x1a202022e8>]"
      ]
     },
     "execution_count": 41,
     "metadata": {},
     "output_type": "execute_result"
    },
    {
     "data": {
      "image/png": "[encoded data removed]",
      "text/plain": [
       "<matplotlib.figure.Figure at 0x114f89748>"
      ]
     },
     "metadata": {},
     "output_type": "display_data"
    }
   ],
   "source": [
    "smaller_data = cleaned_ex_data[cleaned_ex_data[\"Order_Length\"] < 21000]\n",
    "\n",
    "plt.plot(smaller_data[\"publication_date\"], smaller_data[\"Order_Length\"])"
   ]
  },
  {
   "cell_type": "markdown",
   "metadata": {},
   "source": [
    "Here we can see a possible positive trend, so let's do a linear regression to see if it's a positive trend and calculate pearson's r to see if it's significant"
   ]
  },
  {
   "cell_type": "code",
   "execution_count": 42,
   "metadata": {},
   "outputs": [
    {
     "name": "stderr",
     "output_type": "stream",
     "text": [
      "/anaconda3/lib/python3.6/site-packages/ipykernel_launcher.py:5: SettingWithCopyWarning: \n",
      "A value is trying to be set on a copy of a slice from a DataFrame.\n",
      "Try using .loc[row_indexer,col_indexer] = value instead\n",
      "\n",
      "See the caveats in the documentation: http://pandas.pydata.org/pandas-docs/stable/indexing.html#indexing-view-versus-copy\n",
      "  \"\"\"\n"
     ]
    }
   ],
   "source": [
    "import datetime as dt\n",
    "\n",
    "date_graph_data = cleaned_ex_data\n",
    "\n",
    "date_graph_data[\"publication_date\"]=date_graph_data[\"publication_date\"].map(dt.datetime.toordinal)"
   ]
  },
  {
   "cell_type": "code",
   "execution_count": 43,
   "metadata": {},
   "outputs": [
    {
     "name": "stderr",
     "output_type": "stream",
     "text": [
      "/anaconda3/lib/python3.6/site-packages/statsmodels/compat/pandas.py:56: FutureWarning: The pandas.core.datetools module is deprecated and will be removed in a future version. Please use the pandas.tseries module instead.\n",
      "  from pandas.core import datetools\n"
     ]
    },
    {
     "data": {
      "text/html": [
       "<table class=\"simpletable\">\n",
       "<caption>OLS Regression Results</caption>\n",
       "<tr>\n",
       "  <th>Dep. Variable:</th>      <td>Order_Length</td>   <th>  R-squared:         </th> <td>   0.447</td> \n",
       "</tr>\n",
       "<tr>\n",
       "  <th>Model:</th>                   <td>OLS</td>       <th>  Adj. R-squared:    </th> <td>   0.446</td> \n",
       "</tr>\n",
       "<tr>\n",
       "  <th>Method:</th>             <td>Least Squares</td>  <th>  F-statistic:       </th> <td>   568.0</td> \n",
       "</tr>\n",
       "<tr>\n",
       "  <th>Date:</th>             <td>Wed, 19 Dec 2018</td> <th>  Prob (F-statistic):</th> <td>1.66e-92</td> \n",
       "</tr>\n",
       "<tr>\n",
       "  <th>Time:</th>                 <td>23:47:10</td>     <th>  Log-Likelihood:    </th> <td> -7339.9</td> \n",
       "</tr>\n",
       "<tr>\n",
       "  <th>No. Observations:</th>      <td>   705</td>      <th>  AIC:               </th> <td>1.468e+04</td>\n",
       "</tr>\n",
       "<tr>\n",
       "  <th>Df Residuals:</th>          <td>   704</td>      <th>  BIC:               </th> <td>1.469e+04</td>\n",
       "</tr>\n",
       "<tr>\n",
       "  <th>Df Model:</th>              <td>     1</td>      <th>                     </th>     <td> </td>    \n",
       "</tr>\n",
       "<tr>\n",
       "  <th>Covariance Type:</th>      <td>nonrobust</td>    <th>                     </th>     <td> </td>    \n",
       "</tr>\n",
       "</table>\n",
       "<table class=\"simpletable\">\n",
       "<tr>\n",
       "          <td></td>            <th>coef</th>     <th>std err</th>      <th>t</th>      <th>P>|t|</th>  <th>[0.025</th>    <th>0.975]</th>  \n",
       "</tr>\n",
       "<tr>\n",
       "  <th>publication_date</th> <td>    0.0098</td> <td>    0.000</td> <td>   23.833</td> <td> 0.000</td> <td>    0.009</td> <td>    0.011</td>\n",
       "</tr>\n",
       "</table>\n",
       "<table class=\"simpletable\">\n",
       "<tr>\n",
       "  <th>Omnibus:</th>       <td>721.562</td> <th>  Durbin-Watson:     </th> <td>   1.969</td> \n",
       "</tr>\n",
       "<tr>\n",
       "  <th>Prob(Omnibus):</th> <td> 0.000</td>  <th>  Jarque-Bera (JB):  </th> <td>35092.988</td>\n",
       "</tr>\n",
       "<tr>\n",
       "  <th>Skew:</th>          <td> 4.744</td>  <th>  Prob(JB):          </th> <td>    0.00</td> \n",
       "</tr>\n",
       "<tr>\n",
       "  <th>Kurtosis:</th>      <td>36.236</td>  <th>  Cond. No.          </th> <td>    1.00</td> \n",
       "</tr>\n",
       "</table>"
      ],
      "text/plain": [
       "<class 'statsmodels.iolib.summary.Summary'>\n",
       "\"\"\"\n",
       "                            OLS Regression Results                            \n",
       "==============================================================================\n",
       "Dep. Variable:           Order_Length   R-squared:                       0.447\n",
       "Model:                            OLS   Adj. R-squared:                  0.446\n",
       "Method:                 Least Squares   F-statistic:                     568.0\n",
       "Date:                Wed, 19 Dec 2018   Prob (F-statistic):           1.66e-92\n",
       "Time:                        23:47:10   Log-Likelihood:                -7339.9\n",
       "No. Observations:                 705   AIC:                         1.468e+04\n",
       "Df Residuals:                     704   BIC:                         1.469e+04\n",
       "Df Model:                           1                                         \n",
       "Covariance Type:            nonrobust                                         \n",
       "====================================================================================\n",
       "                       coef    std err          t      P>|t|      [0.025      0.975]\n",
       "------------------------------------------------------------------------------------\n",
       "publication_date     0.0098      0.000     23.833      0.000       0.009       0.011\n",
       "==============================================================================\n",
       "Omnibus:                      721.562   Durbin-Watson:                   1.969\n",
       "Prob(Omnibus):                  0.000   Jarque-Bera (JB):            35092.988\n",
       "Skew:                           4.744   Prob(JB):                         0.00\n",
       "Kurtosis:                      36.236   Cond. No.                         1.00\n",
       "==============================================================================\n",
       "\n",
       "Warnings:\n",
       "[1] Standard Errors assume that the covariance matrix of the errors is correctly specified.\n",
       "\"\"\""
      ]
     },
     "execution_count": 43,
     "metadata": {},
     "output_type": "execute_result"
    }
   ],
   "source": [
    "import statsmodels.api as sm\n",
    "\n",
    "X = date_graph_data[\"publication_date\"]\n",
    "y = date_graph_data[\"Order_Length\"]\n",
    "\n",
    "model = sm.OLS(y, X).fit()\n",
    "predictions = model.predict(X) # make the predictions by the model\n",
    "\n",
    "# Print out the statistics\n",
    "model.summary()\n"
   ]
  },
  {
   "cell_type": "markdown",
   "metadata": {},
   "source": [
    "Okay, so we can see that while we have a medium sized R-sq of 0.447, the coefficient of publication date is just 0.0098, which is quite small. Let's try this with the less extreme data"
   ]
  },
  {
   "cell_type": "code",
   "execution_count": 44,
   "metadata": {},
   "outputs": [
    {
     "name": "stderr",
     "output_type": "stream",
     "text": [
      "/anaconda3/lib/python3.6/site-packages/ipykernel_launcher.py:3: SettingWithCopyWarning: \n",
      "A value is trying to be set on a copy of a slice from a DataFrame.\n",
      "Try using .loc[row_indexer,col_indexer] = value instead\n",
      "\n",
      "See the caveats in the documentation: http://pandas.pydata.org/pandas-docs/stable/indexing.html#indexing-view-versus-copy\n",
      "  This is separate from the ipykernel package so we can avoid doing imports until\n"
     ]
    },
    {
     "data": {
      "text/html": [
       "<table class=\"simpletable\">\n",
       "<caption>OLS Regression Results</caption>\n",
       "<tr>\n",
       "  <th>Dep. Variable:</th>      <td>Order_Length</td>   <th>  R-squared:         </th> <td>   0.667</td> \n",
       "</tr>\n",
       "<tr>\n",
       "  <th>Model:</th>                   <td>OLS</td>       <th>  Adj. R-squared:    </th> <td>   0.666</td> \n",
       "</tr>\n",
       "<tr>\n",
       "  <th>Method:</th>             <td>Least Squares</td>  <th>  F-statistic:       </th> <td>   1366.</td> \n",
       "</tr>\n",
       "<tr>\n",
       "  <th>Date:</th>             <td>Wed, 19 Dec 2018</td> <th>  Prob (F-statistic):</th> <td>4.52e-165</td>\n",
       "</tr>\n",
       "<tr>\n",
       "  <th>Time:</th>                 <td>23:47:11</td>     <th>  Log-Likelihood:    </th> <td> -6703.5</td> \n",
       "</tr>\n",
       "<tr>\n",
       "  <th>No. Observations:</th>      <td>   684</td>      <th>  AIC:               </th> <td>1.341e+04</td>\n",
       "</tr>\n",
       "<tr>\n",
       "  <th>Df Residuals:</th>          <td>   683</td>      <th>  BIC:               </th> <td>1.341e+04</td>\n",
       "</tr>\n",
       "<tr>\n",
       "  <th>Df Model:</th>              <td>     1</td>      <th>                     </th>     <td> </td>    \n",
       "</tr>\n",
       "<tr>\n",
       "  <th>Covariance Type:</th>      <td>nonrobust</td>    <th>                     </th>     <td> </td>    \n",
       "</tr>\n",
       "</table>\n",
       "<table class=\"simpletable\">\n",
       "<tr>\n",
       "          <td></td>            <th>coef</th>     <th>std err</th>      <th>t</th>      <th>P>|t|</th>  <th>[0.025</th>    <th>0.975]</th>  \n",
       "</tr>\n",
       "<tr>\n",
       "  <th>publication_date</th> <td>    0.0084</td> <td>    0.000</td> <td>   36.956</td> <td> 0.000</td> <td>    0.008</td> <td>    0.009</td>\n",
       "</tr>\n",
       "</table>\n",
       "<table class=\"simpletable\">\n",
       "<tr>\n",
       "  <th>Omnibus:</th>       <td>109.254</td> <th>  Durbin-Watson:     </th> <td>   1.730</td>\n",
       "</tr>\n",
       "<tr>\n",
       "  <th>Prob(Omnibus):</th> <td> 0.000</td>  <th>  Jarque-Bera (JB):  </th> <td> 161.503</td>\n",
       "</tr>\n",
       "<tr>\n",
       "  <th>Skew:</th>          <td> 1.107</td>  <th>  Prob(JB):          </th> <td>8.51e-36</td>\n",
       "</tr>\n",
       "<tr>\n",
       "  <th>Kurtosis:</th>      <td> 3.876</td>  <th>  Cond. No.          </th> <td>    1.00</td>\n",
       "</tr>\n",
       "</table>"
      ],
      "text/plain": [
       "<class 'statsmodels.iolib.summary.Summary'>\n",
       "\"\"\"\n",
       "                            OLS Regression Results                            \n",
       "==============================================================================\n",
       "Dep. Variable:           Order_Length   R-squared:                       0.667\n",
       "Model:                            OLS   Adj. R-squared:                  0.666\n",
       "Method:                 Least Squares   F-statistic:                     1366.\n",
       "Date:                Wed, 19 Dec 2018   Prob (F-statistic):          4.52e-165\n",
       "Time:                        23:47:11   Log-Likelihood:                -6703.5\n",
       "No. Observations:                 684   AIC:                         1.341e+04\n",
       "Df Residuals:                     683   BIC:                         1.341e+04\n",
       "Df Model:                           1                                         \n",
       "Covariance Type:            nonrobust                                         \n",
       "====================================================================================\n",
       "                       coef    std err          t      P>|t|      [0.025      0.975]\n",
       "------------------------------------------------------------------------------------\n",
       "publication_date     0.0084      0.000     36.956      0.000       0.008       0.009\n",
       "==============================================================================\n",
       "Omnibus:                      109.254   Durbin-Watson:                   1.730\n",
       "Prob(Omnibus):                  0.000   Jarque-Bera (JB):              161.503\n",
       "Skew:                           1.107   Prob(JB):                     8.51e-36\n",
       "Kurtosis:                       3.876   Cond. No.                         1.00\n",
       "==============================================================================\n",
       "\n",
       "Warnings:\n",
       "[1] Standard Errors assume that the covariance matrix of the errors is correctly specified.\n",
       "\"\"\""
      ]
     },
     "execution_count": 44,
     "metadata": {},
     "output_type": "execute_result"
    }
   ],
   "source": [
    "date_graph_data2 = smaller_data\n",
    "\n",
    "date_graph_data2[\"publication_date\"]=date_graph_data2[\"publication_date\"].map(dt.datetime.toordinal)\n",
    "\n",
    "X2 = date_graph_data2[\"publication_date\"]\n",
    "y2 = date_graph_data2[\"Order_Length\"]\n",
    "\n",
    "model2 = sm.OLS(y2, X2).fit()\n",
    "predictions2 = model2.predict(X2) # make the predictions by the model\n",
    "\n",
    "# Print out the statistics\n",
    "model2.summary()\n"
   ]
  },
  {
   "cell_type": "markdown",
   "metadata": {},
   "source": [
    "We have a higher R-sq, but still quite a small coeff for publication date. It's safe to say that the mean lengths of the executive orders haven't gone up over the years (or at least not much)"
   ]
  },
  {
   "cell_type": "code",
   "execution_count": 45,
   "metadata": {},
   "outputs": [
    {
     "data": {
      "text/plain": [
       "3.066"
      ]
     },
     "execution_count": 45,
     "metadata": {},
     "output_type": "execute_result"
    }
   ],
   "source": [
    "# if the coefficient is calculated per day, this means that the average executive order length \n",
    "# goes up about 3 characters a year. Likely not a clinically significant difference, especially given our limited data\n",
    "0.0084*365"
   ]
  },
  {
   "cell_type": "markdown",
   "metadata": {},
   "source": [
    "We should do some textual cleaning before we try and create a model. Let's remove all the punctuation and numbers from the texts"
   ]
  },
  {
   "cell_type": "code",
   "execution_count": 87,
   "metadata": {},
   "outputs": [
    {
     "name": "stderr",
     "output_type": "stream",
     "text": [
      "/anaconda3/lib/python3.6/site-packages/pandas/core/indexing.py:357: SettingWithCopyWarning: \n",
      "A value is trying to be set on a copy of a slice from a DataFrame.\n",
      "Try using .loc[row_indexer,col_indexer] = value instead\n",
      "\n",
      "See the caveats in the documentation: http://pandas.pydata.org/pandas-docs/stable/indexing.html#indexing-view-versus-copy\n",
      "  self.obj[key] = _infer_fill_value(value)\n"
     ]
    },
    {
     "ename": "ValueError",
     "evalue": "Must have equal len keys and value when setting with an iterable",
     "output_type": "error",
     "traceback": [
      "\u001b[0;31m---------------------------------------------------------------------------\u001b[0m",
      "\u001b[0;31mValueError\u001b[0m                                Traceback (most recent call last)",
      "\u001b[0;32m<ipython-input-87-476db004ae78>\u001b[0m in \u001b[0;36m<module>\u001b[0;34m()\u001b[0m\n\u001b[1;32m      7\u001b[0m \u001b[0;34m\u001b[0m\u001b[0m\n\u001b[1;32m      8\u001b[0m \u001b[0;32mfor\u001b[0m \u001b[0mindex\u001b[0m\u001b[0;34m,\u001b[0m \u001b[0mrow\u001b[0m \u001b[0;32min\u001b[0m \u001b[0mcleaned_ex_data\u001b[0m\u001b[0;34m.\u001b[0m\u001b[0miterrows\u001b[0m\u001b[0;34m(\u001b[0m\u001b[0;34m)\u001b[0m\u001b[0;34m:\u001b[0m\u001b[0;34m\u001b[0m\u001b[0m\n\u001b[0;32m----> 9\u001b[0;31m     \u001b[0mcleaned_ex_data\u001b[0m\u001b[0;34m.\u001b[0m\u001b[0mloc\u001b[0m\u001b[0;34m[\u001b[0m\u001b[0mindex\u001b[0m\u001b[0;34m,\u001b[0m \u001b[0;34m\"Tokens\"\u001b[0m\u001b[0;34m]\u001b[0m \u001b[0;34m=\u001b[0m \u001b[0mword_tokenize\u001b[0m\u001b[0;34m(\u001b[0m\u001b[0mcleaned_ex_data\u001b[0m\u001b[0;34m.\u001b[0m\u001b[0mloc\u001b[0m\u001b[0;34m[\u001b[0m\u001b[0mindex\u001b[0m\u001b[0;34m,\u001b[0m \u001b[0;34m\"Order_Text\"\u001b[0m\u001b[0;34m]\u001b[0m\u001b[0;34m)\u001b[0m\u001b[0;34m\u001b[0m\u001b[0m\n\u001b[0m\u001b[1;32m     10\u001b[0m \u001b[0;34m\u001b[0m\u001b[0m\n\u001b[1;32m     11\u001b[0m \u001b[0;31m#for order in range(len(cleaned_ex_data[\"Order_Text\"])):\u001b[0m\u001b[0;34m\u001b[0m\u001b[0;34m\u001b[0m\u001b[0m\n",
      "\u001b[0;32m/anaconda3/lib/python3.6/site-packages/pandas/core/indexing.py\u001b[0m in \u001b[0;36m__setitem__\u001b[0;34m(self, key, value)\u001b[0m\n\u001b[1;32m    192\u001b[0m             \u001b[0mkey\u001b[0m \u001b[0;34m=\u001b[0m \u001b[0mcom\u001b[0m\u001b[0;34m.\u001b[0m\u001b[0m_apply_if_callable\u001b[0m\u001b[0;34m(\u001b[0m\u001b[0mkey\u001b[0m\u001b[0;34m,\u001b[0m \u001b[0mself\u001b[0m\u001b[0;34m.\u001b[0m\u001b[0mobj\u001b[0m\u001b[0;34m)\u001b[0m\u001b[0;34m\u001b[0m\u001b[0m\n\u001b[1;32m    193\u001b[0m         \u001b[0mindexer\u001b[0m \u001b[0;34m=\u001b[0m \u001b[0mself\u001b[0m\u001b[0;34m.\u001b[0m\u001b[0m_get_setitem_indexer\u001b[0m\u001b[0;34m(\u001b[0m\u001b[0mkey\u001b[0m\u001b[0;34m)\u001b[0m\u001b[0;34m\u001b[0m\u001b[0m\n\u001b[0;32m--> 194\u001b[0;31m         \u001b[0mself\u001b[0m\u001b[0;34m.\u001b[0m\u001b[0m_setitem_with_indexer\u001b[0m\u001b[0;34m(\u001b[0m\u001b[0mindexer\u001b[0m\u001b[0;34m,\u001b[0m \u001b[0mvalue\u001b[0m\u001b[0;34m)\u001b[0m\u001b[0;34m\u001b[0m\u001b[0m\n\u001b[0m\u001b[1;32m    195\u001b[0m \u001b[0;34m\u001b[0m\u001b[0m\n\u001b[1;32m    196\u001b[0m     \u001b[0;32mdef\u001b[0m \u001b[0m_has_valid_type\u001b[0m\u001b[0;34m(\u001b[0m\u001b[0mself\u001b[0m\u001b[0;34m,\u001b[0m \u001b[0mk\u001b[0m\u001b[0;34m,\u001b[0m \u001b[0maxis\u001b[0m\u001b[0;34m)\u001b[0m\u001b[0;34m:\u001b[0m\u001b[0;34m\u001b[0m\u001b[0m\n",
      "\u001b[0;32m/anaconda3/lib/python3.6/site-packages/pandas/core/indexing.py\u001b[0m in \u001b[0;36m_setitem_with_indexer\u001b[0;34m(self, indexer, value)\u001b[0m\n\u001b[1;32m    359\u001b[0m                         new_indexer = convert_from_missing_indexer_tuple(\n\u001b[1;32m    360\u001b[0m                             indexer, self.obj.axes)\n\u001b[0;32m--> 361\u001b[0;31m                         \u001b[0mself\u001b[0m\u001b[0;34m.\u001b[0m\u001b[0m_setitem_with_indexer\u001b[0m\u001b[0;34m(\u001b[0m\u001b[0mnew_indexer\u001b[0m\u001b[0;34m,\u001b[0m \u001b[0mvalue\u001b[0m\u001b[0;34m)\u001b[0m\u001b[0;34m\u001b[0m\u001b[0m\n\u001b[0m\u001b[1;32m    362\u001b[0m \u001b[0;34m\u001b[0m\u001b[0m\n\u001b[1;32m    363\u001b[0m                         \u001b[0;32mreturn\u001b[0m \u001b[0mself\u001b[0m\u001b[0;34m.\u001b[0m\u001b[0mobj\u001b[0m\u001b[0;34m\u001b[0m\u001b[0m\n",
      "\u001b[0;32m/anaconda3/lib/python3.6/site-packages/pandas/core/indexing.py\u001b[0m in \u001b[0;36m_setitem_with_indexer\u001b[0;34m(self, indexer, value)\u001b[0m\n\u001b[1;32m    597\u001b[0m \u001b[0;34m\u001b[0m\u001b[0m\n\u001b[1;32m    598\u001b[0m                     \u001b[0;32mif\u001b[0m \u001b[0mlen\u001b[0m\u001b[0;34m(\u001b[0m\u001b[0mlabels\u001b[0m\u001b[0;34m)\u001b[0m \u001b[0;34m!=\u001b[0m \u001b[0mlen\u001b[0m\u001b[0;34m(\u001b[0m\u001b[0mvalue\u001b[0m\u001b[0;34m)\u001b[0m\u001b[0;34m:\u001b[0m\u001b[0;34m\u001b[0m\u001b[0m\n\u001b[0;32m--> 599\u001b[0;31m                         raise ValueError('Must have equal len keys and value '\n\u001b[0m\u001b[1;32m    600\u001b[0m                                          'when setting with an iterable')\n\u001b[1;32m    601\u001b[0m \u001b[0;34m\u001b[0m\u001b[0m\n",
      "\u001b[0;31mValueError\u001b[0m: Must have equal len keys and value when setting with an iterable"
     ]
    }
   ],
   "source": [
    "from nltk.stem import WordNetLemmatizer\n",
    "\n",
    "from nltk.tokenize import word_tokenize\n",
    "\n",
    "#import nltk\n",
    "#nltk.download('punkt')\n",
    "\n",
    "for index, row in cleaned_ex_data.iterrows():\n",
    "    cleaned_ex_data.loc[index, \"Tokens\"] = word_tokenize(cleaned_ex_data.loc[index, \"Order_Text\"])\n",
    "\n",
    "#for order in range(len(cleaned_ex_data[\"Order_Text\"])):\n",
    "#    cleaned_ex_data[\"Tokens\"] = word_tokenize(cleaned_ex_data[order])\n",
    "\n"
   ]
  },
  {
   "cell_type": "code",
   "execution_count": 61,
   "metadata": {},
   "outputs": [],
   "source": [
    "# Next we'll start building our first prediction model: Party. We'll use test train split to split the data so we can test\n",
    "# our model later\n",
    "\n",
    "from sklearn.model_selection import train_test_split\n",
    "\n",
    "y = cleaned_ex_data[\"Party\"]\n",
    "\n",
    "X_train, X_test, y_train, y_test = train_test_split(cleaned_ex_data[\"Order_Text\"], y, test_size = 0.33, random_state = 53)"
   ]
  },
  {
   "cell_type": "markdown",
   "metadata": {},
   "source": [
    "Now that the data is split, we'll use a count vectorizer to transform the data and get some feature names"
   ]
  },
  {
   "cell_type": "code",
   "execution_count": 64,
   "metadata": {},
   "outputs": [
    {
     "name": "stdout",
     "output_type": "stream",
     "text": [
      "['00', '000', '01', '02', '03', '04', '05', '06', '07', '08']\n",
      "[[0.         0.         0.         ... 0.         0.         0.        ]\n",
      " [0.         0.         0.08983416 ... 0.         0.         0.        ]\n",
      " [0.         0.         0.0287537  ... 0.         0.         0.        ]\n",
      " [0.         0.         0.         ... 0.         0.         0.        ]\n",
      " [0.02742105 0.         0.         ... 0.         0.         0.        ]]\n"
     ]
    }
   ],
   "source": [
    "from sklearn.feature_extraction.text import TfidfVectorizer\n",
    "\n",
    "tfidf_vectorizer = TfidfVectorizer(stop_words=\"english\", max_df=0.7)\n",
    "\n",
    "tfidf_train = tfidf_vectorizer.fit_transform(X_train)\n",
    "\n",
    "tfidf_test = tfidf_vectorizer.transform(X_test)\n",
    "\n",
    "print(tfidf_vectorizer.get_feature_names()[:10])\n",
    "\n",
    "print(tfidf_train.A[:5])"
   ]
  },
  {
   "cell_type": "code",
   "execution_count": 65,
   "metadata": {},
   "outputs": [
    {
     "name": "stdout",
     "output_type": "stream",
     "text": [
      "         00  000        01   02   03   04   05   06   07   08     ...      \\\n",
      "0  0.000000  0.0  0.000000  0.0  0.0  0.0  0.0  0.0  0.0  0.0     ...       \n",
      "1  0.000000  0.0  0.089834  0.0  0.0  0.0  0.0  0.0  0.0  0.0     ...       \n",
      "2  0.000000  0.0  0.028754  0.0  0.0  0.0  0.0  0.0  0.0  0.0     ...       \n",
      "3  0.000000  0.0  0.000000  0.0  0.0  0.0  0.0  0.0  0.0  0.0     ...       \n",
      "4  0.027421  0.0  0.000000  0.0  0.0  0.0  0.0  0.0  0.0  0.0     ...       \n",
      "\n",
      "   yunque  zero  zimbabwe  zimbabweby  zimondi  zone  zonepursuant  zones  \\\n",
      "0     0.0   0.0       0.0         0.0      0.0   0.0           0.0    0.0   \n",
      "1     0.0   0.0       0.0         0.0      0.0   0.0           0.0    0.0   \n",
      "2     0.0   0.0       0.0         0.0      0.0   0.0           0.0    0.0   \n",
      "3     0.0   0.0       0.0         0.0      0.0   0.0           0.0    0.0   \n",
      "4     0.0   0.0       0.0         0.0      0.0   0.0           0.0    0.0   \n",
      "\n",
      "   zoning  zvinavashe  \n",
      "0     0.0         0.0  \n",
      "1     0.0         0.0  \n",
      "2     0.0         0.0  \n",
      "3     0.0         0.0  \n",
      "4     0.0         0.0  \n",
      "\n",
      "[5 rows x 12820 columns]\n"
     ]
    }
   ],
   "source": [
    "# now we inspect the vectorizer\n",
    "\n",
    "tfidf_df = pd.DataFrame(tfidf_train.A, columns=tfidf_vectorizer.get_feature_names())\n",
    "\n",
    "print(tfidf_df.head())"
   ]
  },
  {
   "cell_type": "code",
   "execution_count": 71,
   "metadata": {},
   "outputs": [
    {
     "name": "stdout",
     "output_type": "stream",
     "text": [
      "0.7124463519313304\n"
     ]
    },
    {
     "ename": "ValueError",
     "evalue": "At least one label specified must be in y_true",
     "output_type": "error",
     "traceback": [
      "\u001b[0;31m---------------------------------------------------------------------------\u001b[0m",
      "\u001b[0;31mValueError\u001b[0m                                Traceback (most recent call last)",
      "\u001b[0;32m<ipython-input-71-380f78a78642>\u001b[0m in \u001b[0;36m<module>\u001b[0;34m()\u001b[0m\n\u001b[1;32m     18\u001b[0m \u001b[0;34m\u001b[0m\u001b[0m\n\u001b[1;32m     19\u001b[0m \u001b[0;31m# Calculate the confusion matrix: cm\u001b[0m\u001b[0;34m\u001b[0m\u001b[0;34m\u001b[0m\u001b[0m\n\u001b[0;32m---> 20\u001b[0;31m \u001b[0mcm\u001b[0m \u001b[0;34m=\u001b[0m \u001b[0mconfusion_matrix\u001b[0m\u001b[0;34m(\u001b[0m\u001b[0my_test\u001b[0m\u001b[0;34m,\u001b[0m \u001b[0mpred\u001b[0m\u001b[0;34m,\u001b[0m \u001b[0mlabels\u001b[0m\u001b[0;34m=\u001b[0m\u001b[0;34m[\u001b[0m\u001b[0;34m'Rep'\u001b[0m\u001b[0;34m,\u001b[0m \u001b[0;34m'Dem'\u001b[0m\u001b[0;34m]\u001b[0m\u001b[0;34m)\u001b[0m\u001b[0;34m\u001b[0m\u001b[0m\n\u001b[0m\u001b[1;32m     21\u001b[0m \u001b[0mprint\u001b[0m\u001b[0;34m(\u001b[0m\u001b[0mcm\u001b[0m\u001b[0;34m)\u001b[0m\u001b[0;34m\u001b[0m\u001b[0m\n",
      "\u001b[0;32m/anaconda3/lib/python3.6/site-packages/sklearn/metrics/classification.py\u001b[0m in \u001b[0;36mconfusion_matrix\u001b[0;34m(y_true, y_pred, labels, sample_weight)\u001b[0m\n\u001b[1;32m    257\u001b[0m         \u001b[0mlabels\u001b[0m \u001b[0;34m=\u001b[0m \u001b[0mnp\u001b[0m\u001b[0;34m.\u001b[0m\u001b[0masarray\u001b[0m\u001b[0;34m(\u001b[0m\u001b[0mlabels\u001b[0m\u001b[0;34m)\u001b[0m\u001b[0;34m\u001b[0m\u001b[0m\n\u001b[1;32m    258\u001b[0m         \u001b[0;32mif\u001b[0m \u001b[0mnp\u001b[0m\u001b[0;34m.\u001b[0m\u001b[0mall\u001b[0m\u001b[0;34m(\u001b[0m\u001b[0;34m[\u001b[0m\u001b[0ml\u001b[0m \u001b[0;32mnot\u001b[0m \u001b[0;32min\u001b[0m \u001b[0my_true\u001b[0m \u001b[0;32mfor\u001b[0m \u001b[0ml\u001b[0m \u001b[0;32min\u001b[0m \u001b[0mlabels\u001b[0m\u001b[0;34m]\u001b[0m\u001b[0;34m)\u001b[0m\u001b[0;34m:\u001b[0m\u001b[0;34m\u001b[0m\u001b[0m\n\u001b[0;32m--> 259\u001b[0;31m             \u001b[0;32mraise\u001b[0m \u001b[0mValueError\u001b[0m\u001b[0;34m(\u001b[0m\u001b[0;34m\"At least one label specified must be in y_true\"\u001b[0m\u001b[0;34m)\u001b[0m\u001b[0;34m\u001b[0m\u001b[0m\n\u001b[0m\u001b[1;32m    260\u001b[0m \u001b[0;34m\u001b[0m\u001b[0m\n\u001b[1;32m    261\u001b[0m     \u001b[0;32mif\u001b[0m \u001b[0msample_weight\u001b[0m \u001b[0;32mis\u001b[0m \u001b[0;32mNone\u001b[0m\u001b[0;34m:\u001b[0m\u001b[0;34m\u001b[0m\u001b[0m\n",
      "\u001b[0;31mValueError\u001b[0m: At least one label specified must be in y_true"
     ]
    }
   ],
   "source": [
    "# it's very large! Let's now fit the classifier and create a confusion matrix\n",
    "\n",
    "from sklearn.naive_bayes import MultinomialNB\n",
    "\n",
    "from sklearn.metrics import accuracy_score, confusion_matrix\n",
    "\n",
    "nb_classifier = MultinomialNB()\n",
    "\n",
    "# Fit the classifier\n",
    "nb_classifier.fit(tfidf_train, y_train)\n",
    "\n",
    "# Create the predicted tags\n",
    "pred = nb_classifier.predict(tfidf_test)\n",
    "\n",
    "# Calculate the accuracy score\n",
    "score = accuracy_score(y_test, pred)\n",
    "print(score)\n",
    "\n",
    "# Calculate the confusion matrix (NOTE WHY ISN'T THIS WORKING)\n",
    "cm = confusion_matrix(y_test, pred, labels=['Rep', 'Dem'])\n",
    "print(cm)"
   ]
  },
  {
   "cell_type": "markdown",
   "metadata": {},
   "source": [
    "So we have an accuracy score of 0.71, which isn't bad to start! Next we'll test a few different alphas and see which works best"
   ]
  },
  {
   "cell_type": "code",
   "execution_count": 75,
   "metadata": {},
   "outputs": [
    {
     "name": "stdout",
     "output_type": "stream",
     "text": [
      "Alpha:  0.0\n",
      "Score:  0.6695278969957081\n",
      "\n",
      "Alpha:  0.1\n",
      "Score:  0.6952789699570815\n",
      "\n",
      "Alpha:  0.2\n",
      "Score:  0.6952789699570815\n",
      "\n",
      "Alpha:  0.30000000000000004\n",
      "Score:  0.703862660944206\n",
      "\n",
      "Alpha:  0.4\n",
      "Score:  0.7081545064377682\n",
      "\n",
      "Alpha:  0.5\n",
      "Score:  0.7081545064377682\n",
      "\n",
      "Alpha:  0.6000000000000001\n",
      "Score:  0.703862660944206\n",
      "\n",
      "Alpha:  0.7000000000000001\n",
      "Score:  0.7081545064377682\n",
      "\n",
      "Alpha:  0.8\n",
      "Score:  0.703862660944206\n",
      "\n",
      "Alpha:  0.9\n",
      "Score:  0.703862660944206\n",
      "\n"
     ]
    },
    {
     "name": "stderr",
     "output_type": "stream",
     "text": [
      "/anaconda3/lib/python3.6/site-packages/sklearn/naive_bayes.py:472: UserWarning: alpha too small will result in numeric errors, setting alpha = 1.0e-10\n",
      "  'setting alpha = %.1e' % _ALPHA_MIN)\n"
     ]
    }
   ],
   "source": [
    "alphas = np.arange(0, 1, 0.1)\n",
    "\n",
    "# Define train_and_predict()\n",
    "def train_and_predict(alpha):\n",
    "    # Instantiate the classifier: nb_classifier\n",
    "    nb_classifier = MultinomialNB(alpha=alpha)\n",
    "    # Fit to the training data\n",
    "    nb_classifier.fit(tfidf_train, y_train)\n",
    "    # Predict the labels: pred\n",
    "    pred = nb_classifier.predict(tfidf_test)\n",
    "    # Compute accuracy: score\n",
    "    score = accuracy_score(y_test, pred)\n",
    "    return score\n",
    "\n",
    "# Iterate over the alphas and print the corresponding score\n",
    "for alpha in alphas:\n",
    "    print('Alpha: ', alpha)\n",
    "    print('Score: ', train_and_predict(alpha))\n",
    "    print()"
   ]
  },
  {
   "cell_type": "markdown",
   "metadata": {},
   "source": [
    "It looks like we have three choices that produce maximum scores: alpha = 0.4, 0.5, or 0.7\n",
    "\n",
    "We'll use the smallest alpha to minimize bias, so alpha = 0.4 produces the best model\n",
    "\n",
    "Next we'll look at the features with the most weight, determining their importance"
   ]
  },
  {
   "cell_type": "code",
   "execution_count": 80,
   "metadata": {},
   "outputs": [
    {
     "name": "stdout",
     "output_type": "stream",
     "text": [
      "['00', '000', '01', '02', '03', '04', '05', '06', '07', '08', '09', '10', '100', '1000', '10000start', '10001start', '10002start', '10003start', '10004start', '10005start', '10006start', '10007start', '10008start', '10009start', '1001', '10010start', '10011start', '10012start', '10013start', '10014start', '10015start', '10016start', '10017start', '10018start', '10019start', '10020start', '10021start', '10022start', '10023start', '10024start', '10025start', '10026start', '10027start', '10028start', '10029start', '1003', '10030start', '10031start', '10032start', '10033start', '10034start', '10035start', '10036start', '10037start', '10038start', '10039start', '1004', '10040start', '10041start', '10042start', '10043start', '10044start', '10045start', '10046start', '10047start', '10048start', '10049start', '1005', '10050start', '10051start', '10052start', '10053start', '10054start', '10055start', '10056start', '10057start', '10058start', '10059start', '1006', '10060start', '10061start', '10062start', '10063start', '10064start', '10065start', '10066start', '10067start', '10068start', '10069start', '10070start', '10071start', '10072start', '10073start', '10074start', '10075start', '10076start', '10077start', '10078start', '10079start', '10080start', '10081start', '10082start', '10083start', '10084start', '10085start', '10086start', '10087start', '10088start', '10089start', '1009', '10090start', '10091start', '10092start', '10093start', '10094start', '10095start', '10096start', '10097start', '10098start', '10099start', '100nm', '101', '10100start', '10101start', '10102start', '10103start', '10104start', '10105start', '10106start', '10107start', '10108start', '10109start', '10110start', '10111start', '10112start', '10113start', '10114start', '10115start', '10116start', '10117start', '10118start', '10119start', '10120start', '10121start', '10122start', '10123start', '10124start', '10125start', '10126start', '10127start', '10128start', '10129start', '10130start', '10131start', '10132start', '10133start', '10134start', '10135start', '10136start', '10137start', '10138start', '10139start', '10140start', '10141start', '10142start', '10143start', '10144start', '10145start', '10146start', '10147start', '10148start', '10149start', '10150start', '10151start', '10152start', '10153start', '10154start', '10155start', '10156start', '10157start', '10158start', '10159start', '1016', '10160start', '10161start', '10162start', '10163executive', '10163start', '10164be', '10164start', '10165start', '10166start', '10167start', '10168start', '10169start', '10170start', '10171start', '10172start', '10173', '10173start', '10174start', '10175start', '10176start', '10177start', '10178start', '10179start', '1018', '10180start', '10181start', '10182start', '10183start', '10184start', '10185start', '10186start', '10187start', '10188start', '10189start', '10190start', '10191start', '10192start', '10193start', '10194start', '10195start', '10196start', '10197start', '10198start', '10199start', '102', '10200start', '10201start', '10202start', '10203start', '10204start', '10205start', '10206start', '10207start', '10208start', '10209start', '10210start', '10211start', '10212start', '10213start', '10214start', '10215start', '10216start', '10217start', '10218start', '10219start', '10220start', '10221start', '10222start', '10223start', '10224start', '10225start', '10226start', '10227start', '10228start', '10229start', '10230start', '10231start', '10232start', '10233start', '10234start', '10235start', '10236start', '10237start', '10238start', '10239start', '10240start', '10241start', '10242start', '10243start', '10244start', '10245start', '10246start', '10247start', '10248start', '10249start', '10250start', '10251start', '10252start', '10253start', '10254start', '10255start', '10256start', '10257start', '10258start', '10259start', '10260start', '10261start', '10262start', '10263start', '10264start', '10265start', '10266start', '10267start', '10268start', '10269start', '10270start', '10271start', '10272start', '10273start', '10274start', '10275start', '10276start', '10277start', '10278start', '10279start', '10280start', '10281start', '10282start', '10283start', '10284start', '10285start', '10286start', '10287start', '10288start', '10289start', '10290start', '10291start', '10292start', '10293start', '10294start', '10295start', '10296start', '10297start', '10298start', '10299start', '102a', '103', '1030', '10300start', '10301start', '10302start', '10303start', '10304start', '10305start', '10306start', '10307start', '10308start', '10309start', '10310start', '10311start', '10312start', '10313start', '10314start', '10315start', '10316start', '10317start', '10318start', '10319start', '10320start', '10321start', '10322start', '10323start', '10324start', '10325start', '10326start', '10327start', '10328start', '10329start', '10330start', '10331start', '10332start', '10333start', '10334start', '10335start', '10336start', '10337start', '10338start', '10339start', '10340start', '10341start', '10342start', '10343start', '10344start', '10345start', '10346start', '10347start', '10348start', '10349start', '10350start', '10351start', '10352start', '10353', '104', '10448', '10450', '10485', '104a', '105', '1050', '10503', '10513', '10530', '10577', '1059c', '105c', '105d', '106', '10606', '10607', '10636account', '10637', '10638agencies', '10692', '10693and', '10695executive', '10696', '10697executive', '10698sec', '106e', '107', '1072', '1074', '1075', '10772house', '10773', '10774', '10789', '108', '10830', '1086', '10865', '109', '10992', '10fm', '11', '110', '11001', '1101', '11016', '1102', '11023', '1103', '11030', '1104', '1105', '1106', '1107', '1108', '1109', '111', '1110', '11101', '1111', '1112', '11145', '1115', '11155', '11157', '11183', '112', '11201executive', '11202sec', '1121', '11225executive', '11226sec', '11227executive', '11228executive', '11246', '1125', '11269', '11274', '1128', '11287', '1129a', '112a', '113', '1131', '11315', '11319', '11331', '1134sec', '1135start', '1136start', '1137start', '1138start', '1139start', '114', '1140start', '1141start', '1142', '11423', '11458states', '11459annex', '1146030', '1146160', '11478', '114th', '115', '1157', '11580', '11582', '11612', '117', '11740defense', '11741institute', '11742', '11743of', '11744extent', '118', '11800', '11806', '11807', '11808', '11809', '1182', '11822', '11846', '1185', '11858', '1187', '11880', '119', '11926', '11957', '11958', '11988', '12', '120', '12002', '1201', '12015', '1202', '1203', '12036', '1206', '12067', '121', '12101', '1212', '1213', '12131', '12137', '12137by', '12139', '1214', '12158', '12163', '12163by', '12170', '12171', '12196', '122', '1221', '12214', '12216', '1225', '12250', '12260', '1227', '12276', '12281', '12293', '123', '1232', '1232a', '1232j', '12333', '12345', '12353', '12356', '12367', '12382', '123a', '124', '1241', '12425', '1244', '1245', '12452', '1246', '1247', '12470united', '12472', '12473', '1248', '12498', '12499executive', '125', '1250', '12500', '12501', '12502', '1251', '1253', '12538', '12543', '12544', '12572', '12580', '12580sec', '12590', '126', '12608', '1263', '12630', '1264', '12640', '12656', '12667', '1267', '1269', '12699', '1270', '12722', '12724', '12734', '12735', '12743', '12748', '12749the', '12750sec', '12751', '12751annex1', '12755', '12757', '12776', '12777', '12777by', '12793', '128', '12801', '12807', '12817', '12818', '12823', '12829', '12834', '12834by', '12836', '1284', '12851', '12859', '12862', '12863', '12865', '12866', '12871', '12876', '12881', '12893', '12898', '129', '12900', '12905', '12915', '12916', '12919', '12933', '12938', '12941', '12947', '12949', '12957', '12958', '12959', '12963', '12968', '12975', '12978', '12983', '12988', '12989', '12992', '12994', '12998', '12a', '13', '130', '13011', '13011by', '13018', '13021', '13026', '13028', '1303', '13035', '13043', '13045', '13046', '13047', '13048', '1305', '13059', '1306', '13067', '13069', '13070', '13078', '1308', '13084', '13085', '13088', '13089', '13092', '13094', '13098', '13099', '131', '13111', '13112', '13113', '13121', '13122', '13125', '13129', '13130', '13131', '13132', '13137', '13145', '13146', '13147', '13148', '13151', '13152', '13156', '13158', '13159', '13160', '13162', '13163', '13165', '13167', '13169', '13171', '13173', '13174', '13175', '13176', '13177', '13178', '13179', '13180', '13183', '13184', '13186', '13187', '13188', '13189', '13190', '13192', '13193', '13194', '13195', '13196', '13197', '13198', '13199', '132', '13200', '13201', '13202', '13203', '13204', '13205', '13208', '13209', '1321', '13210', '132108', '13211', '13211for', '13212', '13212reduced', '13213', '13213shall', '13214', '13215', '13215to', '13216', '13216united', '13217', '13218', '13219', '13221', '13222', '13223', '13223by', '13224', '13225', '13226', '13227', '13228', '13230', '13231', '13232', '13233', '13234', '13235', '13236', '13237', '13239', '13240', '13241', '13241executive', '13242', '13243', '13243executive', '13244', '13244office', '13245', '13246', '13247', '13248', '13249', '1324b', '1325', '13250', '13251', '13252', '13253', '13255', '13256', '13257', '13258', '13259', '13260', '13261', '13262', '13263', '13264', '13265', '13266', '13267', '13268', '13269', '13270', '13273', '13274', '13275', '13276', '13277', '13278', '13279', '13281', '13282', '13283', '13284', '13285', '13286', '13287', '13288', '13290', '13291', '13292', '13293', '13294', '13295', '13296', '13297', '13298', '13299', '133', '13300', '13301', '13302', '13303', '13305', '13307', '13308', '13309', '1331', '13310', '13311', '13313', '13314', '13315', '13315by', '13316', '13317', '13318', '13319', '1332', '13320', '13322', '13323', '13324', '13325', '13326', '13327', '13328', '1333', '13331', '13333', '13334', '13336', '13337', '13338', '13339', '13340', '13342', '13344', '13345', '13346', '13347', '13348', '13349', '13350', '13351', '13354', '13355', '13357', '13361', '13366', '13369', '1337', '13370', '13372', '13373', '13375', '13379', '13380', '13381', '13382', '13383', '13384', '13385', '13386', '13388', '13389', '13390', '13390by', '13391', '13392', '13394', '13395', '13396', '13397', '13398', '13399', '134', '13400', '13402', '13403', '13405', '13406', '13408', '13409', '1341', '13411', '13412', '13413', '13414', '13416', '13418', '13419', '13420', '13422', '13423', '13424', '13425', '13427', '13428', '1343', '13432', '13433', '13434', '13435', '13436', '13439', '1344', '13440', '13441', '13442', '13444', '13445', '13446', '13447', '13448', '13449', '13452', '13453', '13454', '13455', '13456', '13456the', '13457', '13458', '13459', '13460', '13462', '13462by', '13463', '13464', '13465', '13466', '13467', '13469', '13470', '13472', '13473', '13477', '13478', '13479', '13481', '13482', '13483', '13484', '13485', '13486', '13488', '13489', '13490', '13492', '13493', '13494', '13494by', '13494licenses', '13495to', '13496', '13497', '13498', '135', '13500', '13501', '13502', '13503', '13504', '13507', '13508', '13509', '1351', '13510', '13511', '13513', '13514', '13515', '13516', '13517', '13518', '13519', '13520', '13521', '13522', '13524', '13525', '13526', '13527', '13530', '13531', '13532', '13533', '13534', '13535', '13536', '13537', '13538', '13539', '13540', '13541', '13542', '13543', '13544', '13545', '13546', '13548', '13549', '13550', '13551', '13552', '13553', '13554', '13555', '13556', '13557', '13558', '13559', '1356', '13560', '13561', '13562', '13563', '13565', '13566', '13569', '1357', '13570', '13571', '13572', '13573', '13574', '13575', '13576', '13577', '13578', '13579', '13580', '13582', '13583', '13584', '13584by', '13585', '13587', '13588', '13589', '13590', '13591', '13592', '13593', '13594', '13597', '13598', '13599', '136', '13600', '13601', '13602', '13603', '13604', '13606', '13609', '1361', '13610', '13611', '13612', '13614', '13615', '13616', '13617', '13619', '1362', '13620', '13621', '13622', '13623', '13624', '13626', '13627', '13628', '1363', '13630', '13631', '13634', '13635', '13636', '13637', '13638', '13639', '13640', '13641', '13642', '13643', '13645', '13647', '13648', '13649', '13650', '13651', '13652', '13653', '13655', '13656', '13657', '13658', '13660', '13661', '13662', '13664', '13665', '13667', '13669', '13670', '13671', '13673', '13673by', '13674', '13675', '13676', '13677', '13678', '1368', '13682', '13683', '13684', '13686', '13687', '13688', '13689', '13690', '13691', '13692', '13693', '13694', '13696', '13697', '13698', '13699', '137', '13700', '13702', '13703', '13704', '13705', '13707', '13708', '13710', '13711', '13714', '13715', '13716', '13717', '13718', '13719', '13721', '13722', '13724', '13725', '13726', '13727', '13729', '1373', '13731', '13732', '13733', '13734', '13736', '13737', '13738', '13739', '13741', '13742', '13743', '13744', '13745', '13746', '13747', '13748', '13749', '13750', '13753', '13754', '13756', '13757', '13758', '13759', '13760', '13761', '13762', '13763', '13764', '13766', '13767', '13768', '13769', '13770', '13771', '13772', '13773', '13774', '13775', '13778', '13779', '13780', '13781', '13782', '13783', '13784', '13787', '13788', '13789', '13791', '13792', '13793', '13795', '13796', '13797', '13799', '13800', '13801', '13805', '13806', '13807', '13808', '13809', '13810', '13811', '13813', '13814', '13816', '13817', '13818', '13819', '13820', '13821', '13822', '13824', '13825', '13826', '13827', '13828', '13830', '13833', '13834', '13835', '13836', '13837', '13838', '13839', '13841', '13843', '13844', '13845', '13846', '13848', '13850', '13851', '139', '14', '140', '1401', '1403', '1408', '141', '14111', '142', '143', '14308sec', '1431', '14310', '1433', '1434', '1440', '1445a', '1448', '1451', '14526', '146', '14685executive', '14686and', '14687', '14688', '146a', '148', '1482sec', '1483start', '1484start', '1485start', '1486start', '1487start', '1488start', '1489start', '149', '1490start', '1491start', '1492', '15', '150', '15012sec', '1501a', '1505', '1508approval', '1509', '151', '1511', '1513executive', '1514', '152', '1521', '153', '1531', '15316national', '15317sec', '15318', '15319the', '1532', '15320', '15321that', '15322', '15323', '15323shall', '15324under', '15325', '15326sec', '15327', '15328sec', '15329cause', '15330has', '15331predecessor', '15332is', '15333implementation', '15334sec', '1535', '1536', '1544', '155', '15536states', '15537listed', '15538', '15600principles', '1572', '158', '15872', '15873', '15874at', '15875', '15876', '15877', '15878', '15879personnel', '15880report', '15881', '15882', '15883', '15884sec', '15919executive', '15941executive', '15942', '15943programmatic', '15944', '159a', '16', '160', '1601', '1601executive', '1603', '16094agency', '16095sec', '16096', '16097', '1611', '16128', '16130', '16131', '16132sec', '16170sec', '16171sec', '162', '1622', '1625', '16283executive', '16284per', '16285', '1629', '163', '1631', '164', '1641', '167', '1671', '16723executive', '16724sec', '1681', '17', '170', '1701', '1702', '1703', '1705', '1706', '17071executive', '17072', '17073', '17094', '1718', '172', '1725', '17255executive', '17299executive', '1738b', '1738c', '1738f', '1738i', '1738j', '1738m', '174', '1744', '175', '1759', '17590facilities', '176', '1772', '178', '17th', '18', '180', '1801', '18077executive', '18078', '18079in', '181', '1813', '1816', '18192', '18193years', '18194', '1844', '1846', '1851', '186', '18718', '1872', '1874', '18774six', '18775confinement', '18776recommendation', '18777v', '18778number', '18779', '18780changes', '18781g', '18782o', '18783the', '18784united', '18785much', '18786', '18787o', '18788the', '18789', '18790and', '18791law', '18792l', '188', '18838', '18839', '1897', '19', '1902', '1903', '1906', '191', '1913', '1916', '1917', '1921', '1922', '1923', '1924', '1926', '1927', '1928', '19284', '19285i', '1929', '193', '1930', '19318', '1933', '1934', '1935', '1936', '1938', '1939', '194', '1940', '1941', '1942', '1943', '1944', '1945', '1946', '1947', '1948', '1949', '195', '1950', '1950s', '1951', '1952', '1953', '1954', '1955', '1956', '1957', '1958', '1959', '1960', '1961', '1962', '1963', '1964', '1964by', '1965', '1966', '1967', '1968', '1969', '1970', '1971', '19718', '1972', '1973', '1974', '1975', '1976', '1977', '1977by', '1978', '1979', '1980', '1981', '1982', '1983', '1984', '1985', '1986', '19869executive', '1987', '19870this', '19871sec', '19872', '1988', '1989', '199', '1990', '1990s', '1991', '1992', '1993', '1994', '1995', '1996', '1997', '1998', '19980sec', '1999', '19__', '1b', '1st', '1v', '20', '200', '2000', '2000d', '2000e', '2001', '2001by', '2002', '2002by', '2003', '2003by', '2004', '2005', '2006', '2007', '2008', '2008by', '2009', '2009by', '201', '2010', '2011', '20113', '2012', '2013', '2014', '2014by', '2015', '2015by', '2016', '2017', '2018', '2019', '202', '2020', '2020by', '2021', '2022', '2023', '20238sec', '2025', '203', '2030', '2036', '204', '20428sec', '20429executive', '20430', '20431', '205', '2050', '20519executive', '20520', '20521sec', '20540', '206', '2061', '2062', '207', '2071', '2074', '20749executive', '20750sec', '2077', '2078', '208', '20815executive', '20816within', '20817enforcement', '20818', '20820expanded', '20821executive', '20822', '20896to', '209', '2091', '2092', '2093', '2094', '20__', '20fm', '20th', '21', '210', '2101', '2102', '2103', '2105', '2107', '2108', '2111', '2113', '212', '2121', '2127', '213', '2134', '2136', '214', '2141', '215', '2151', '2152', '2153', '2155', '2158', '216', '2160', '2161', '2164', '2166', '217', '2170', '2171', '2172', '2174', '218', '219', '21974', '21975sec', '21st', '22', '220', '2201', '22021executive', '2203', '2204', '2205', '2207', '221', '2210', '22105executive', '2213', '222', '22292by', '223', '22390sec', '22391executive', '22392', '22393', '22394', '22395industrial', '22396', '22397', '224', '22498', '2251', '22566central', '226', '227', '2271', '228', '2283', '2286sec', '2288sec', '2290or', '2291', '23', '2301', '2302', '231', '23100', '23101the', '23102sec', '23103part', '23104', '2313a', '231executive', '2321', '2323executive', '2324american', '232sec', '23346', '23347sec', '23348', '233start', '2340', '23417executive', '23418', '23419', '2348', '2349aa', '234start', '235', '23559executive', '2356', '23560where', '23561', '23562sec', '235start', '236', '2368', '236start', '237', '2371', '2373', '2375', '23772of', '23773', '23774', '237start', '238start', '239', '239start', '24', '240', '24002and', '2401', '2411', '241executive', '242', '2422', '243', '2430b', '2430c', '2431a', '2431c', '2431d', '2431e', '2431f', '2431i', '2431j', '2431k', '2432', '24340gpra', '24341', '2436', '2439', '2441', '24492sec', '24493sec', '2451', '246', '24788', '24789sec', '24858', '24th', '25', '250', '2518', '252', '25299executive', '25300between', '25301', '25329executive', '25330of', '25331through', '25332receive', '25333term', '25334', '25335executive', '25336agency', '25337sec', '25338and', '25339', '25340extent', '25341executive', '25342', '25343executive', '25344', '25345', '25346comment', '25347', '25478not', '256', '25620', '25621', '258', '25888', '2593a', '25th', '26', '261', '26115executive', '262', '262r', '2635', '264', '2641', '265', '2651', '2651a', '2656', '267', '26752all', '26753', '26754to', '26879executive', '26880', '27', '270', '2701', '2706', '271', '2714', '273', '27429executive', '27430', '274b', '275', '2751', '2752', '2753', '2755', '2761', '2762', '2763', '2764', '2765', '2767', '2769', '277', '2770', '2770a', '2774', '2775', '2776', '2778', '2779', '278', '2781', '2785', '278g', '279', '2791', '27921executive', '27922', '2792for', '27946', '27947', '2795a', '2796', '2796a', '2799aa', '27e', '27f', '27th', '28', '2801', '28038they', '28039sec', '2808', '281', '28112of', '28113', '2823executive', '2824sec', '28357executive', '28358or', '28388', '28389', '28390sec', '28391', '2842', '28442', '2852', '28543executive', '28544party', '28584', '28585programs', '286', '287', '287b', '287c', '288', '28830diamonds', '288f', '288l', '289', '289g', '29', '291', '29144', '29145sec', '29146', '292', '2933', '2936', '29397executive', '29398activities', '294', '2943', '29436', '29465executive', '29466is', '29467', '29560start', '29561start', '29562start', '29563start', '29564start', '29565start', '29566start', '29567start', '29568start', '29569start', '29570start', '29571start', '29572start', '29573start', '29574start', '29575start', '29576start', '29577start', '29578start', '29579start', '29580start', '29581start', '29582start', '29583start', '29584start', '29585start', '29586start', '29587start', '29588start', '29589start', '29590start', '29591start', '29592start', '29593start', '29594start', '29595start', '29596start', '29597start', '29598start', '29599start', '296', '29600start', '29601start', '29602start', '29603start', '29604start', '29605start', '29606start', '29607start', '29608start', '29609start', '29610', '2967', '297', '2d', '2misappropriated', '30', '300', '300a', '300u', '301', '301a', '301c', '302', '302nd', '303', '304', '305', '30505executive', '3050612957', '30507employ', '306', '307', '308', '3082', '309', '30904', '30905', '30a', '31', '310', '3101', '3103', '3105', '311', '3110', '3114', '312', '313', '31373executive', '3138', '314', '3141', '315', '31510', '316', '3161', '318th', '31932states', '3195', '31c', '31st', '32', '3202', '320301', '320303', '3203executive', '3204', '3206', '3217', '322', '325', '32611executive', '32612', '32613', '32614', '32615', '327', '32755executive', '32756have', '32757as', '32758', '328', '3281', '329', '3295', '32e', '33', '3301', '3302', '3304', '331', '33116', '33117', '3312', '33156', '3316', '332', '3328', '33286', '33287sec', '3331', '33338executive', '3338', '334', '3341', '3345', '33628opportunities', '33629', '337', '33945executive', '33946', '33947', '33948and', '33949property', '33950sec', '33951bank', '33952sec', '33953sec', '33e', '34', '3403', '34384sec', '34385', '344', '3451executive', '3452', '3453', '34592of', '34593', '34598', '34599', '346', '347', '3473', '34777executive', '34778or', '34779', '34780annexi', '34781veliu', '34842', '34843', '3488', '34909executive', '34910of', '34911national', '34999executive', '35', '350', '35000start', '35001start', '35002start', '35003start', '35004start', '35005start', '35006start', '35007start', '35008start', '35009start', '3501', '35010start', '35011start', '35012start', '35013start', '35014start', '35015start', '35016start', '35017start', '35018start', '35019start', '3502', '35020start', '35021start', '35022start', '35023start', '35024start', '35025start', '35026start', '35027', '35029executive', '35030sec', '35031labor', '3506', '3510', '35100', '35101', '35102permitted', '35103', '3516', '352', '35298and', '35299', '353', '35486', '35487sec', '35510by', '3552', '3553', '356c', '3571', '35715executive', '35716', '35717', '35784start', '35785start', '35786start', '35787start', '35788start', '35789start', '35790start', '35791start', '35792start', '35793start', '35794start', '35795start', '35796start', '35797start', '35798start', '35799start', '35800start', '35801start', '35802start', '35803start', '35804start', '35805start', '35806start', '35807start', '35808start', '35809start', '35810start', '35811start', '35812start', '35813start', '35814start', '35815start', '35816start', '35817start', '35818start', '35819start', '35820start', '35821start', '35822start', '35823start', '35824', '35824start', '35825start', '35826start', '35827start', '35828', '359', '36', '360', '361', '362', '3621', '3622', '3623', '3631', '363rd', '364', '365', '366', '3661', '367', '36787executive', '36788sec', '3693executive', '3694', '3695determinations', '3696', '3696or', '3697', '36974', '3698', '3698of', '3699', '37', '3701', '37054', '3711', '37132so', '37133presidential', '37134', '3718', '37284', '37285', '3730', '3742', '3743', '3746', '3749', '3750', '37530sec', '37692', '377', '37954', '37955', '38', '3802', '384', '38512sec', '3854in', '3855organization', '3856', '38568pursuant', '38569hereby', '38570', '3857executive', '3858on', '386', '3866', '387', '38940control', '38941', '38942', '38943', '38944sec', '38945', '38946of', '38947equipment', '38948', '38949sec', '39', '39243executive', '39280garnishment', '393', '39440', '394419', '39442', '3949', '39539executive', '39540', '39541', '39542', '3962', '3963', '39775executive', '39776programs', '39777sec', '397785', '398', '39842', '39950attacks', '39951sec', '3automatic', '3nm', '40', '400', '4001', '40054others', '40055', '401', '40102', '40106', '4012a', '401a', '402', '403', '40464order', '40465gpra', '40466shall', '40467', '40468of', '40469the', '405', '40592', '406', '40622', '40623', '4067', '40708purposes', '40709', '4076', '4077sec', '4078sec', '408', '409', '40a', '41', '4106', '41156', '412', '4128', '413', '414', '415', '41500', '41588', '417', '41747executive', '418', '41902quality', '41903', '41905executive', '41906sec', '41933executive', '42', '421', '4214', '4218sec', '422', '42221executive', '42222of', '42223', '42468work', '42469executive', '42470sec', '425', '4264', '427', '43', '4301', '4302', '43058in', '43059', '4306', '431', '4321', '433', '4347', '43500my', '43501sec', '4370m', '4375', '438', '43842of', '43843sec', '43e', '44', '4402', '44026order', '4409executive', '4446', '4447', '44486', '44487affairs', '445', '44574', '447', '44706', '44707', '44708sec', '44709sec', '44752sec', '448', '44851executive', '44853executive', '44854directives', '44855sec', '44856annexthe', '44886', '44887sec', '44888start', '44889start', '44890', '44891executive', '449', '45', '450', '4501', '451', '45149executive', '45150sec', '45287executive', '45288executive', '45289', '45290and', '45291sec', '45310', '45311', '45312agency', '45313regard', '45314sec', '45315sec', '45326information', '45327and', '45328sources', '45329government', '45330of', '45331', '45332', '45333', '45334', '45335', '45336research', '45337', '45338', '45339to', '45340of', '45341', '45342right', '454', '4544', '455', '458', '45e', '46', '4601', '46056sec', '46057sec', '46058start', '46059start', '46060start', '46061start', '46062start', '46063start', '46064start', '46065start', '46066start', '46067', '4607416', '46075act', '46076consent', '461', '46177executive', '46178', '46179of', '46180', '46182of', '46183sec', '46184', '462', '46363executive', '46364', '46365sec', '46478', '465', '467', '4670set', '4671sec', '4678sec', '4679', '468', '4680', '4681sec', '46844extent', '46845intended', '46846to', '46847in', '46848', '46c', '46e', '47', '470', '470h', '470w', '471', '472', '473', '474', '479a', '47a', '48', '48029executive', '48030', '48031to', '48032the', '48033', '480th', '482', '483', '48385executive', '48386', '48387', '484', '486', '48794sec', '488', '4897executive', '4898have', '4899', '49', '4900', '4901executive', '4902', '49080', '49081any', '49082', '49083', '491a', '492', '49274', '492a', '492b', '493', '49470united', '4950', '49516the', '497', '498', '49e', '4a1', '50', '500', '50048sec', '501', '502', '503', '5030', '504', '505', '50752', '50753', '508', '50910sec', '50fm', '50nm', '51', '5102', '512', '5121', '51225executive', '51226agencies', '51227', '513', '514', '5141', '5161', '51610housing', '51611national', '51612sec', '51613', '51614', '51615executive', '51616', '5163', '5170a', '5170b', '5174', '51812executive', '51813', '51814', '51815', '51816the', '51817processes', '5182', '51866', '519', '5192', '5193', '5195', '5195c', '51e', '52', '5203', '5204', '5204sec', '5205', '5206', '52118', '52119', '52120efficient', '52121', '52122the', '52123', '52124the', '52125this', '52126fuel', '52127', '522', '52210transaction', '52211directed', '5222', '52322', '5236', '5237', '525', '5256of', '527', '52730', '52731at', '52842vehicles', '52843', '52848sec', '52849sec', '529', '52e', '53', '530', '5301', '5302', '5303', '5304', '5304a', '53064of', '53065', '53066', '53067', '53068', '53069of', '53070', '53071', '531', '5311', '5312', '5315', '5318', '532', '5322award', '5323executive', '5324', '5325executive', '5326', '5327', '5328', '5329', '533', '5332', '5332sec', '5333', '53354to', '53589executive', '53590', '53591', '53592states', '53593executive', '53594', '53595sec', '53596with', '53597', '53636', '53637', '53638sec', '5372', '5382', '53838', '53839to', '53840', '539', '53a', '54', '5402', '5419executive', '5422', '5423assistance', '5424executive', '5425', '54264start', '54265start', '54266start', '54267start', '54268start', '54269start', '54270', '543', '54406', '547', '54711executive', '54712sec', '55', '551', '5511', '5513', '552', '5521', '5522', '55244sec', '55245venezuela', '55255executive', '55256establishment', '552a', '5542', '5546', '55th', '56', '56026a', '56027', '56028in', '56029sec', '561', '56166', '56167', '56179executive', '56180start', '56181start', '56182start', '56183start', '56184start', '56185start', '56186start', '56187start', '56188start', '56189start', '56190start', '56191start', '56192start', '56193start', '56194start', '56195start', '56196start', '56197start', '56198start', '56199start', '56200start', '56201start', '56202start', '56203start', '56204start', '56205start', '56206start', '56207start', '56208start', '56209start', '56210start', '56211start', '56212start', '56213start', '56214start', '56215start', '56216start', '56217start', '56218start', '56219start', '56220start', '56221start', '56222start', '56223start', '56224start', '56225start', '56226start', '56227start', '56228start', '56229start', '56230start', '56231start', '56232start', '56233start', '56234start', '56235start', '56236start', '56237start', '56238start', '56239', '56366information', '56367', '56515executive', '56516opportunities', '56522', '56666', '56704', '56a', '57', '570', '5701', '5707', '571', '57240sec', '57356sec', '577', '57990each', '57991', '58', '581', '58232the', '58233the', '58234progress', '58235', '58236', '58289executive', '585', '58701executive', '58702', '58703', '58808sec', '58a', '58b', '58e', '59', '5928', '59450of', '5948', '5952', '59852sec', '59853', '5c', '5e', '5th', '60', '6004', '601', '60133', '60224', '60225sec', '60226', '603', '6038', '604', '60531executive', '60532sec', '60568', '60569conferred', '60570sec', '60571', '60581executive', '60582organizations', '606', '607', '608', '60836', '60837', '60839executive', '60840', '60841', '60842sec', '60843', '609', '60949executive', '60950', '60a', '60c', '61', '610', '6102sec', '6103', '6107executive', '6108rule', '6109hearings', '611', '6110sec', '6111sec', '6113executive', '612', '61252', '61253identified', '613', '614', '61431executive', '61432sec', '61433start', '61434start', '61435start', '61436start', '61437start', '61438start', '61439start', '61440start', '61441start', '61442', '615', '61505executive', '61506', '61507sec', '618', '61817executive', '61818', '61819', '61820', '619', '62', '620c', '621', '62139executive', '62140similar', '62141of', '62142', '62143', '62144the', '62145', '62201executive', '62202publish', '62203improper', '62204', '62205', '6222', '62282sec', '6242', '6243', '6244', '6245', '6246', '624th', '625th', '62672', '62673', '628', '62869executive', '629', '62c', '63', '6306', '631', '632', '635', '63673executive', '63674sec', '637', '638', '63811executive', '63812', '63813and', '63814', '63815protection', '6391', '64', '6408sec', '6409', '6409also', '640a', '641', '6410against', '6418', '6425executive', '6426action', '6427it', '6428', '64509', '64579executive', '64580', '64661', '64966', '649executive', '65', '650sec', '651', '651start', '652', '652start', '653start', '654start', '655start', '656start', '657start', '658start', '65966', '659start', '66', '660', '661', '6613', '662', '66258executive', '66259sec', '66260executive', '66261sec', '66262executive', '66263sec', '66268executive', '66269sec', '66270executive', '666c', '66706sec', '668', '66820', '66821freshwater', '66822sustainability', '66823information', '66824', '668d', '668dd', '668ee', '67', '6701', '67250', '67251need', '67252sec', '6728', '67634by', '67803executive', '67828sec', '67829labor', '67th', '68', '6824budget', '6825sec', '68290the', '68291investigations', '68292', '68295executive', '68296notice', '683', '68676', '68677', '68679executive', '68680sec', '6878', '6879', '688', '6880', '688th', '69', '690', '6901', '6902', '6903', '69231executive', '69232sec', '69233start', '69234start', '69235start', '69236start', '69237start', '69238start', '69239start', '69240start', '69241start', '69242', '69573executive', '69574enforcement', '6981executive', '6983executive', '6984as', '6985executive', '6986advance', '6987', '69986of', '69th', '70', '700', '701', '702', '70240sec', '70242other', '70243', '703', '70306the', '70307sec', '704', '705', '7059', '70593executive', '70594in', '706', '7061', '7069', '707', '708', '70864consider', '708national', '709', '709with', '70th', '71', '710', '7101', '7102', '7103', '71034', '71035', '7104', '7106', '711', '7113', '7114', '7116', '7118', '7121', '71234', '712sec', '713', '7131', '71320', '71321federal', '71322', '71323', '714', '7141', '715', '71572', '71573executive', '71574', '71575', '71576the', '71577', '715government', '716', '71680sec', '717', '718', '7182sec', '719', '71924sec', '71925', '71a', '72', '7201', '720or', '721', '7211', '7219', '722', '722may', '723', '723attorney', '724', '725', '7260', '726original', '727', '728a', '729', '73', '730', '7301', '7306', '731', '731by', '733', '73460', '736', '737', '7379executive', '738', '7380', '7381', '7382start', '7383start', '7384start', '7385', '7387executive', '7388on', '7389executive', '7390', '7391executive', '7391of', '7392', '7393substantive', '7395executive', '73962', '7397', '74', '740', '7404', '742', '744', '7442of', '7443', '7444', '746', '74624sec', '7463', '7471', '75', '7503', '75042sec', '7513', '7536', '75374in', '75375also', '75376the', '75377substantive', '76', '7619executive', '7620sec', '7621executive', '7622sec', '76558executive', '76559effects', '76592within', '76593', '76603executive', '76604or', '76605', '76606designate', '76607', '76672', '7682', '7683shall', '76866', '7688', '7689', '76904sec', '76905the', '76906sanctuary', '76907of', '76908', '76909and', '76910of', '77', '77361executive', '77362sec', '77363start', '77364start', '77365start', '77366start', '77367start', '77368start', '77369start', '77370start', '77371start', '77372', '7738', '774', '77488sec', '77489designated', '77490', '77494', '77566', '77567', '77972', '78', '78452start', '78453start', '78454start', '78455start', '78456start', '78457start', '78458start', '78459start', '78460start', '78461start', '78462start', '78463', '7854services', '78588sec', '78589start', '78590start', '78591start', '78592start', '78593start', '78594start', '78595start', '78596start', '78597start', '78598', '78698sec', '78699and', '78700', '78702', '78703', '78704', '78705', '78706', '78876subject', '78dd', '78e', '78u', '79', '7901', '7902', '7906a', '7907', '7909', '79226to', '79227', '79228regulations', '79229sec', '7928sec', '794d', '79948', '80', '800', '8004designees', '8005sec', '801', '80196sec', '80197start', '80198start', '80199start', '802', '80200start', '80201start', '80202start', '80203start', '80204start', '80205start', '80206', '803', '804', '805', '806', '807', '808', '809', '81', '811', '8111', '8113', '8116', '8116and', '8117necessary', '8118eligibility', '8119', '812', '8120the', '8121via', '8122', '8123', '8124', '8125other', '8126', '8127investigations', '8128', '8129', '813', '8140', '81818sec', '81819start', '81820start', '81821start', '81822start', '81823start', '81824start', '81825start', '81826start', '81827start', '81828', '819', '824o', '8252', '82586the', '82587', '82588opm', '82589against', '827', '83008', '833', '836204', '83621council', '83622zones', '84', '842', '8498other', '8499executive', '85', '8500', '8500other', '8501', '8513', '8513a', '8513b', '8514', '8526a', '8527', '8529', '855', '8551', '863', '868', '8693', '87', '8701', '87392such', '87393executive', '87394such', '8742', '8743', '8746', '8749', '8750', '8793executive', '8794', '8795purpose', '8796', '8797', '8799executive', '88', '8800sec', '8801', '8801sec', '8802sec', '8803', '885', '892', '8924', '8925', '893', '8947', '8978a', '8979used', '8980', '8981', '8982', '90', '901', '902a', '905', '906', '90667executive', '90668', '90669executive', '90670by', '90671', '90672and', '90673', '90674', '908', '909', '91', '912', '915', '916', '91c', '92', '921', '9260', '92e', '93', '930', '932', '9334part', '9335', '9336sec', '9337procedures', '9338', '9339executive', '9340', '9341', '9350including', '9351civil', '9352', '9353the', '9386sec', '9397', '94', '946', '948a', '948b', '95', '9558', '9559', '96', '9601', '97', '97100sec', '97101start', '97102start', '97103start', '97104start', '97105start', '97106start', '97107start', '97108start', '97109start', '97110', '9852the', '9853', '9854', '9890sec', '9891', '9892start', '9893start', '9894start', '9895start', '9896start', '9897start', '9898start', '9899start', '99', '9900start', '9901start', '9902start', '9903start', '9904start', '9905start', '9906start', '9907start', '9908start', '9909start', '9910start', '9911start', '9912', '9912start', '9913start', '9913the', '9914start', '9915start', '9916start', '9917start', '9918start', '9919start', '992', '9920start', '9921start', '9922start', '9923start', '9924start', '9925start', '9926start', '9927start', '9928start', '9929start', '9930start', '9931start', '9932start', '9933start', '9934start', '9935start', '9936start', '9937start', '9938start', '9939start', '9940start', '9941start', '9942start', '9943start', '9944start', '9945start', '9946start', '9947start', '9948start', '9949start', '9950start', '9951start', '9952start', '9953start', '9954start', '9955start', '9956start', '9957start', '9958start', '9959start', '9960start', '9961start', '9962start', '9963start', '9964start', '9965start', '9966', '9966start', '9967start', '9968start', '9969start', '9970start', '9971start', '9972start', '9973start', '9974start', '9975start', '9976start', '9977start', '9978start', '9979start', '9980start', '9981start', '9982start', '9983start', '9984start', '9985start', '9986start', '9987start', '9988start', '9989start', '9990start', '9991start', '9992start', '9993start', '9994start', '9995start', '9996start', '9997start', '9998start', '9999start', '9a', '9th', '____', '_____', '_______', '________', 'a14', 'a2', 'aa', 'aapi', 'aapis', 'abandoned', 'abandoning', 'abate', 'abbreviations', 'abduction', 'abedinico', 'abetted', 'abide', 'abiding', 'abilities', 'ability', 'able', 'aboard', 'aboriginal', 'abortion', 'abortions', 'abridge', 'abridgement', 'abroad', 'abrogate', 'absence', 'absent', 'absentee', 'absolom', 'absolute', 'absolutely', 'abuse', 'abused', 'abusers', 'abuses', 'abusesby', 'academia', 'academic', 'academically', 'academicians', 'academics', 'academies', 'accelerate', 'accelerated', 'accelerating', 'acceleration', 'accelerators', 'accept', 'acceptable', 'acceptance', 'accepted', 'accepting', 'access', 'accessed', 'accessibility', 'accessible', 'accessing', 'accession', 'accessioned', 'accident', 'accidental', 'accidentally', 'accidents', 'accommodate', 'accommodating', 'accommodation', 'accommodations', 'accompanied', 'accompanies', 'accompany', 'accompanying', 'accomplice', 'accomplish', 'accomplished', 'accomplishing', 'accomplishment', 'accomplishments', 'accord', 'accordance', 'according', 'accordingly', 'accords', 'account', 'accountability', 'accountable', 'accounted', 'accounting', 'accounts', 'accra', 'accreditation', 'accreditations', 'accredited', 'accumulate', 'accumulation', 'accuracy', 'accurate', 'accurately', 'accused', 'achieve', 'achieved', 'achievement', 'achievements', 'achieves', 'achieving', 'acidification', 'acidity', 'acknowledge', 'acknowledged', 'acknowledges', 'acknowledging', 'acknowledgment', 'acquire', 'acquired', 'acquires', 'acquiring', 'acquisition', 'acquisitionby', 'acquisitions', 'acreage', 'acres', 'acronym', 'act', 'actby', 'acted', 'acting', 'action', 'actionable', 'actions', 'activate', 'activating', 'activation', 'active', 'actively', 'activists', 'activities', 'activitiesby', 'activity', 'actor', 'actors', 'acts', 'actual', 'acumen', 'acute', 'ad', 'ada', 'adapt', 'adaptable', 'adaptation', 'adapting', 'adaptive', 'add', 'added', 'addendum', 'addiction', 'adding', 'addition', 'additional', 'additionally', 'additions', 'additionsto', 'address', 'addressed', 'addresses', 'addressing', 'adds', 'adequacy', 'adequate', 'adequately', 'adhere', 'adherence', 'adhering', 'adjacent', 'adjourned', 'adjudge', 'adjudged', 'adjudicate', 'adjudicated', 'adjudicating', 'adjudication', 'adjudications', 'adjudicative', 'adjust', 'adjusted', 'adjusting', 'adjustment', 'adjustments', 'adjutants', 'administer', 'administered', 'administering', 'administers', 'administration', 'administrationby', 'administrations', 'administrative', 'administratively', 'administrator', 'administrators', 'admiral', 'admired', 'admissibility', 'admissible', 'admission', 'admissions', 'admit', 'admitted', 'admitting', 'adolescents', 'adopt', 'adopted', 'adoptee', 'adopting', 'adoption', 'adoptive', 'adopts', 'adult', 'adulterous', 'adultery', 'adults', 'advance', 'advanced', 'advancement', 'advancements', 'advances', 'advancing', 'advantage', 'advantaged', 'advantages', 'adversaries', 'adverse', 'adversely', 'advertising', 'advice', 'advisable', 'advise', 'advised', 'adviser', 'advisers', 'advises', 'advising', 'advisor', 'advisories', 'advisors', 'advisory', 'advocacy', 'advocacyby', 'advocate', 'advocates', 'advocating', 'aeneas', 'aerial', 'aeronautical', 'aeronautics', 'aerosolized', 'aerospace', 'aesc', 'aff', 'affairs', 'affairsby', 'affect', 'affected', 'affecting', 'affects', 'affiliated', 'affiliates', 'affiliation', 'affiliationademi', 'affinity', 'affirmation', 'affirmative', 'affirmed', 'affirms', 'afflicted', 'afford', 'affordable', 'afforded', 'affording', 'affords', 'afghan', 'afghanistan', 'aforementioned', 'africa', 'africaby', 'african', 'afsoc', 'aftac', 'aftermath', 'age', 'ageby', 'aged', 'agenciesby', 'agency', 'agencyby', 'agenda', 'agendas', 'agent', 'agents', 'ages', 'aggravated', 'aggregate', 'aggregated', 'aggregation', 'aggression', 'aggressive', 'aggrieved', 'ago', 'agree', 'agreed', 'agreement', 'agreements', 'agrees', 'agricultural', 'agriculture', 'agricultureby', 'ahead', 'ahp', 'ahps', 'ai', 'aid', 'aided', 'aids', 'aim', 'aimed', 'aims', 'air', 'aircraft', 'airline', 'airlines', 'airman', 'airport', 'airports', 'airspace', 'aka', 'al', 'alarming', 'alaska', 'alcides', 'alcohol', 'alert', 'alerts', 'aleutian', 'alford', 'algebra', 'algiers', 'algorithms', 'ali', 'alia', 'alien', 'aliens', 'align', 'aligned', 'aligning', 'alignment', 'alj', 'aljs', 'allegation', 'allegations', 'allege', 'alleged', 'alleging', 'alleviate', 'alliance', 'allies', 'allocate', 'allocated', 'allocating', 'allocation', 'allocations', 'allocationssec', 'allotments', 'allow', 'allowable', 'allowance', 'allowances', 'allowed', 'allowing', 'allows', 'alloying', 'ally', 'alongside', 'alphabet', 'alphabetic', 'alphabetical', 'alter', 'alteration', 'alterations', 'altered', 'altering', 'alternate', 'alternative', 'alternatives', 'alters', 'aluminum', 'alumni', 'amazing', 'ambassadors', 'ambient', 'ambitious', 'ameliorate', 'amelioration', 'amend', 'amended', 'amendedby', 'amending', 'amendment', 'amendments', 'amends', 'americaby', 'american', 'americanby', 'americans', 'americansby', 'americas', 'americorps', 'amir', 'amisom', 'ammonia', 'ammonium', 'amos', 'amounts', 'amplify', 'amtrak', 'anacostia', 'analogous', 'analyses', 'analysis', 'analytic', 'analytical', 'analytics', 'analyze', 'analyzed', 'analyzing', 'ancestry', 'anchor', 'anchored', 'anchoring', 'anchors', 'ancillary', 'and16', 'and17', 'and18', 'and2', 'and4', 'and5', 'andadministrator', 'andb', 'andd', 'andean', 'andes', 'andstart', 'andwhereas', 'anesthesia', 'angeline', 'anglo', 'angola', 'animal', 'animals', 'animus', 'annex', 'annexation', 'annexkorea', 'announced', 'announcement', 'announcements', 'annual', 'annually', 'annuitants', 'annuities', 'annuity', 'anomalies', 'answer', 'answers', 'antenna', 'anthrax', 'anthropogenic', 'anti', 'antibiotic', 'anticipate', 'anticipated', 'anticipates', 'anticipation', 'anticompetitive', 'antidiscrimination', 'antigovernment', 'antiquated', 'antiquities', 'antiretroviral', 'antiterrorism', 'antitrust', 'antonin', 'antonio', 'apes', 'aphs', 'apnsa', 'app', 'appalachian', 'apparel', 'apparent', 'appeal', 'appealed', 'appealing', 'appeals', 'appear', 'appearance', 'appearing', 'appears', 'appellant', 'appellate', 'appended', 'appendix', 'applicability', 'applicable', 'applicant', 'applicants', 'application', 'applications', 'applied', 'applies', 'apply', 'applying', 'appoint', 'appointed', 'appointee', 'appointees', 'appointeesby', 'appointing', 'appointment', 'appointments', 'appoints', 'appraisal', 'appreciation', 'apprehended', 'apprehension', 'apprenticeship', 'apprenticeships', 'apprise', 'apprised', 'approach', 'approaches', 'appropriate', 'appropriated', 'appropriately', 'appropriation', 'appropriations', 'approval', 'approvals', 'approve', 'approved', 'approves', 'approving', 'approximate', 'approximated', 'approximately', 'approximation', 'appurtenances', 'apr', 'april', 'apspo', 'aqap', 'aquaculture', 'aquatic', 'arab', 'arabian', 'arbitral', 'arbitrary', 'arbitrate', 'arbitration', 'arbitrator', 'archeological', 'archeology', 'architecture', 'architectures', 'archives', 'archivist', 'arctic', 'arcyber', 'area', 'areas', 'areasby', 'argument', 'arguments', 'arise', 'arisen', 'arises', 'arising', 'arithmetic', 'arizona', 'arm', 'armed', 'armored', 'arms', 'army', 'aromatic', 'aronson', 'arose', 'arraignment', 'arrange', 'arranged', 'arrangement', 'arrangements', 'arrest', 'arrests', 'arrival', 'arrivals', 'arrives', 'arriving', 'arson', 'art', 'article', 'articles', 'articulate', 'articulated', 'articulates', 'articulating', 'artifacts', 'artificial', 'arts', 'artworks', 'ascertain', 'ascertainable', 'asia', 'asian', 'aside', 'asides', 'aso', 'aspect', 'aspects', 'asphalt', 'aspirations', 'aspiring', 'ass', 'assassination', 'assault', 'assemble', 'assembling', 'assembly', 'assert', 'asserted', 'assertion', 'assess', 'assessed', 'assesses', 'assessing', 'assessment', 'assessments', 'asset', 'assets', 'assign', 'assigned', 'assignees', 'assigning', 'assignment', 'assignments', 'assigns', 'assist', 'assistance', 'assistant', 'assistants', 'assisted', 'assisting', 'assistive', 'assists', 'associate', 'associated', 'associates', 'association', 'associationa', 'associations', 'assume', 'assumed', 'assuming', 'assumption', 'assumptions', 'assurance', 'assure', 'assured', 'assuring', 'asylum', 'asymmetric', 'asymmetry', 'atda', 'atf', 'athletes', 'athletic', 'atlantic', 'atm', 'atmosphere', 'atmospheric', 'ato', 'atoll', 'atomic', 'atrocities', 'atrocity', 'attached', 'attachment', 'attaché', 'attack', 'attackby', 'attacks', 'attain', 'attained', 'attaining', 'attainment', 'attempt', 'attempted', 'attempting', 'attempts', 'attend', 'attendance', 'attendant', 'attended', 'attendees', 'attending', 'attention', 'attenuation', 'attitudes', 'attorney', 'attorneys', 'attract', 'attracting', 'attracts', 'attributable', 'attribute', 'attributes', 'attribution', 'audiences', 'audiotapes', 'audit', 'auditing', 'auditors', 'audits', 'aug', 'augment', 'august', 'augustine', 'australia', 'authenticate', 'authenticated', 'authenticates', 'authentication', 'authoritative', 'authorities', 'authorityby', 'authorization', 'authorizations', 'authorize', 'authorized', 'authorizes', 'authorizing', 'auto', 'automakers', 'automated', 'automatic', 'automatically', 'automation', 'automotive', 'autonomy', 'avail', 'availability', 'available', 'average', 'avert', 'aviation', 'avoid', 'avoidance', 'avoided', 'avoiding', 'avoids', 'award', 'awarded', 'awardee', 'awarding', 'awards', 'aware', 'awareness', 'away', 'awg', 'azem', 'azerbaijan', 'background', 'backgrounds', 'backlog', 'bacon', 'bacteria', 'bad', 'badge', 'badgeby', 'bail', 'bailouts', 'bait', 'bakeri', 'balance', 'balanced', 'balances', 'balancing', 'bald', 'balkans', 'balkansby', 'ballistic', 'ballot', 'ballots', 'baltimore', 'ban', 'band', 'banding', 'bank', 'bankby', 'banking', 'banks', 'banned', 'banner', 'bans', 'bar', 'barack', 'barbaric', 'bargain', 'bargaining', 'bargainingby', 'barnes', 'barred', 'barrier', 'barriers', 'base', 'based', 'baseline', 'bases', 'basic', 'basin', 'basis', 'bass', 'battalion', 'battle', 'battlespace', 'battling', 'bay', 'baysec', 'bb', 'bcd', 'beaches', 'bear', 'bearing', 'bears', 'beaufort', 'beauty', 'bed', 'bedrock', 'befitting', 'began', 'begin', 'beginning', 'begins', 'begun', 'behalf', 'behavior', 'behavioral', 'behaviors', 'beings', 'belarus', 'belarusby', 'belarusian', 'belief', 'beliefs', 'believe', 'believed', 'believes', 'belligerent', 'belts', 'benavides', 'benchbook', 'benchmark', 'benchmarking', 'benchmarks', 'beneficial', 'beneficiaries', 'beneficiary', 'benefiting', 'benefits', 'benefitting', 'benjamin', 'benzene', 'bering', 'bernal', 'bernard', 'beryllium', 'best', 'better', 'bias', 'bicycles', 'bid', 'bidders', 'bidding', 'bie', 'biennial', 'biennially', 'biggest', 'bigotry', 'bilateral', 'bilaterally', 'bilge', 'billing', 'billion', 'billions', 'bills', 'bin', 'bind', 'binding', 'biobased', 'biodegradable', 'biodiesel', 'biodiversity', 'bioethical', 'bioethicists', 'bioethics', 'bioethicsby', 'biofuels', 'biological', 'biologically', 'biomarkers', 'biomass', 'biomedical', 'biomedicine', 'biometric', 'biopreferred', 'biosecurity', 'bioterrorism', 'bipartisan', 'bird', 'birds', 'birdsby', 'birth', 'bisexual', 'black', 'blends', 'blet', 'block', 'blocked', 'blocking', 'blocks', 'blood', 'blowout', 'blue', 'blueprint', 'board', 'boardby', 'boards', 'bodies', 'bodily', 'body', 'boem', 'boiler', 'bolster', 'bolstering', 'bomb', 'bondage', 'bonding', 'bonds', 'bonus', 'book', 'books', 'border', 'borders', 'born', 'borrowers', 'bosnia', 'botnets', 'bottomfisher', 'bottomfishing', 'bought', 'bound', 'boundaries', 'boundary', 'bounded', 'bounds', 'boycott', 'bp', 'bracketed', 'branch', 'branches', 'brand', 'brazil', 'breach', 'breadth', 'breakdown', 'breaking', 'breakthrough', 'breeding', 'bribery', 'bridges', 'brief', 'briefing', 'brigade', 'brigadier', 'brighter', 'brightest', 'bring', 'bringing', 'brings', 'britain', 'british', 'broad', 'broadband', 'broadcast', 'broadening', 'broadens', 'broader', 'broadest', 'broadly', 'broken', 'broker', 'brokering', 'brokers', 'brooks', 'brother', 'brotherhood', 'brought', 'brown', 'brownfields', 'brutal', 'bsat', 'bsee', 'buck', 'budget', 'budgetary', 'budgetby', 'budgeting', 'budgets', 'buffer', 'bugle', 'build', 'building', 'buildings', 'builds', 'built', 'bujanovac', 'buka', 'bulk', 'bulletins', 'buoys', 'burden', 'burdening', 'burdens', 'burdensby', 'burdensome', 'bureau', 'bureaucracy', 'bureaucratic', 'bureaus', 'burma', 'burmaby', 'burmamyanma', 'burmese', 'burn', 'burning', 'burton', 'bus', 'buses', 'bush', 'business', 'businesses', 'butadiene', 'butte', 'button', 'buy', 'buying', 'bylaws', 'cabinet', 'cadet', 'cadre', 'calculated', 'calculating', 'calculation', 'calculus', 'calendar', 'calibrate', 'calibrated', 'california', 'called', 'calling', 'calls', 'cambodian', 'came', 'campaign', 'campaigns', 'camping', 'camps', 'canada', 'canadian', 'cancel', 'canceled', 'cancellation', 'cancelled', 'cancer', 'candidate', 'candidates', 'cannon', 'cap', 'capabilities', 'capability', 'capable', 'capacities', 'capacity', 'capital', 'capitalize', 'capitalizing', 'capped', 'captain', 'caption', 'captive', 'capture', 'captured', 'caracas', 'carbon', 'card', 'care', 'career', 'careers', 'careful', 'carefully', 'cargo', 'caribbean', 'carl', 'carmen', 'carnal', 'carolina', 'carpooling', 'carried', 'carrier', 'carriers', 'carries', 'carry', 'carrying', 'cars', 'cartels', 'cascading', 'case', 'cases', 'cash', 'cast', 'casting', 'casualties', 'casualty', 'catalogue', 'catalyze', 'catastrophic', 'catch', 'categorical', 'categories', 'category', 'caught', 'cause', 'caused', 'causes', 'causing', 'cba', 'cbas', 'cbp', 'cc', 'ce', 'cease', 'ceased', 'ceasefire', 'ceasing', 'cell', 'cells', 'cement', 'censorship', 'cent', 'center', 'centerby', 'centered', 'centers', 'central', 'centralization', 'centralized', 'centuries', 'century', 'centuryby', 'ceq', 'ceremonial', 'ceremony', 'cerpos', 'cert', 'certain', 'certainty', 'certificate', 'certificates', 'certification', 'certifications', 'certified', 'certifies', 'certify', 'cessation', 'cfats', 'cfo', 'cfoc', 'cfos', 'cfr', 'ch', 'chain', 'chains', 'chair', 'chaired', 'chairman', 'chairperson', 'chairpersons', 'chairs', 'challenge', 'challenged', 'challenges', 'challenging', 'champion', 'champions', 'chance', 'change', 'changeby', 'changed', 'changes', 'changessec', 'changing', 'channel', 'channels', 'chapter', 'chapters', 'character', 'characteristics', 'characterized', 'charamba', 'charcoal', 'charge', 'chargeable', 'charged', 'charges', 'charging', 'charitable', 'charity', 'charles', 'chart', 'charter', 'chartered', 'chartering', 'charumbira', 'chc', 'chcs', 'checklist', 'checks', 'chemical', 'chemically', 'chemicals', 'cheonan', 'chesapeake', 'chicago', 'chief', 'chiefs', 'chigwedere', 'chihuri', 'chikowore', 'child', 'childhood', 'children', 'china', 'chinamasa', 'chindori', 'chininga', 'chiwenga', 'chiwewe', 'choice', 'choices', 'cholera', 'chombo', 'choose', 'chooses', 'choosing', 'chosen', 'chp', 'christmas', 'christopher', 'christy', 'chromosomal', 'chromosomes', 'chronic', 'chukchi', 'chumming', 'church', 'cia', 'ciao', 'cigie', 'cikr', 'cio', 'cios', 'cir', 'circle', 'circles', 'circuit', 'circular', 'circulars', 'circumstance', 'circumstances', 'circumvent', 'circumvents', 'cisada', 'cisso', 'cited', 'cites', 'cities', 'citing', 'citizen', 'citizenry', 'citizens', 'citizenship', 'city', 'civic', 'civil', 'civilian', 'civilians', 'claim', 'claimant', 'claimants', 'claims', 'clandestine', 'clarification', 'clarifies', 'clarify', 'clarifying', 'clarity', 'clark', 'class', 'classes', 'classifiable', 'classification', 'classificationsec', 'classificationsection', 'classified', 'classifier', 'classifiers', 'classify', 'classifying', 'classroom', 'clause', 'clauses', 'clean', 'cleaner', 'cleanup', 'clear', 'clearance', 'clearances', 'cleared', 'clearing', 'clearinghouse', 'clearly', 'clerical', 'client', 'clients', 'climate', 'climates', 'clinical', 'clinicians', 'clinton', 'clock', 'cloning', 'close', 'closed', 'closely', 'closer', 'closes', 'closing', 'closure', 'closures', 'clothing', 'cloud', 'cls', 'cma', 'cncs', 'cnss', 'coaching', 'coal', 'coalition', 'coast', 'coastal', 'coasts', 'coatings', 'code', 'codes', 'codify', 'coerce', 'coercing', 'coercion', 'cognizance', 'cognizant', 'coherence', 'cohesion', 'cohesive', 'cohort', 'coin', 'coke', 'cold', 'collaborate', 'collaborating', 'collaboration', 'collaborations', 'collaborative', 'collaboratively', 'collateral', 'colleague', 'colleagues', 'collect', 'collected', 'collecting', 'collection', 'collective', 'collectively', 'collects', 'college', 'colleges', 'collier', 'collusion', 'colombia', 'colonial', 'color', 'colorado', 'columbia', 'columbiaby', 'combat', 'combatant', 'combatants', 'combating', 'combination', 'combine', 'combined', 'combining', 'come', 'comes', 'comfort', 'coming', 'comma', 'command', 'commandant', 'commander', 'commanders', 'commands', 'commemorative', 'commence', 'commenced', 'commencement', 'commences', 'commencing', 'commendation', 'commensurate', 'comment', 'commentaries', 'comments', 'commerce', 'commerceby', 'commercial', 'commercially', 'commissariat', 'commission', 'commissionby', 'commissioned', 'commissioner', 'commissioners', 'commissions', 'commit', 'commitment', 'commitments', 'committed', 'committee', 'committees', 'committeesby', 'committeesec', 'committeessec', 'committing', 'commodities', 'commodity', 'common', 'commonalities', 'commonality', 'commonly', 'commonsense', 'commonwealth', 'communicable', 'communicate', 'communicated', 'communicating', 'communication', 'communications', 'communities', 'community', 'communityby', 'commute', 'commuter', 'commuting', 'compacts', 'companies', 'company', 'comparability', 'comparable', 'comparators', 'compare', 'compared', 'comparison', 'comparisons', 'compartmented', 'compassionate', 'compatibility', 'compatible', 'compel', 'compelling', 'compensate', 'compensated', 'compensation', 'compete', 'competence', 'competencies', 'competent', 'competes', 'competing', 'competition', 'competitive', 'competitively', 'competitiveness', 'competitivenessby', 'compilation', 'compilations', 'compile', 'compiled', 'compiling', 'complainant', 'complaint', 'complaints', 'complement', 'complementary', 'complementing', 'complements', 'complete', 'completed', 'completely', 'completing', 'completion', 'complex', 'complexity', 'compliance', 'compliant', 'complicated', 'complications', 'complicit', 'complicity', 'complied', 'complies', 'comply', 'complying', 'component', 'components', 'composed', 'composition', 'compost', 'compostable', 'compound', 'compounded', 'compounds', 'comprehension', 'comprehensive', 'comprehensively', 'compressed', 'comprise', 'comprised', 'comprises', 'comprising', 'compromise', 'compromised', 'compromising', 'comptroller', 'compulsory', 'computation', 'computational', 'compute', 'computer', 'computers', 'computing', 'conceal', 'concealed', 'concealing', 'concealment', 'concentrate', 'concentrated', 'concentration', 'concept', 'concepts', 'conceptual', 'concern', 'concerned', 'concerning', 'concerns', 'concert', 'concessions', 'conciliation', 'concise', 'conclude', 'concluded', 'concludes', 'conclusion', 'conclusive', 'concrete', 'concur', 'concurrence', 'concurrent', 'concurrently', 'concurs', 'condemned', 'condensate', 'condition', 'conditional', 'conditioned', 'conditions', 'condolences', 'conduct', 'conducted', 'conducting', 'conductors', 'conducts', 'conduit', 'confer', 'conference', 'conferences', 'conferencing', 'conferred', 'conferring', 'confidence', 'confidential', 'confidentiality', 'confidentially', 'configuration', 'configured', 'confined', 'confinement', 'confirm', 'confirmation', 'confirmed', 'confirming', 'confirms', 'confiscate', 'confiscated', 'confiscating', 'confiscatory', 'conflict', 'conflicting', 'conflicts', 'conform', 'conformance', 'conforming', 'conformity', 'conforms', 'confront', 'confusing', 'cong', 'congo', 'congoby', 'congolese', 'congress', 'congressional', 'conjunction', 'connect', 'connected', 'connecting', 'connection', 'connections', 'connectivity', 'conquering', 'conscience', 'consecutive', 'consensual', 'consensus', 'consent', 'consented', 'consequence', 'consequences', 'consequently', 'conservation', 'conserve', 'conserving', 'consider', 'considerable', 'consideration', 'considerations', 'considered', 'considering', 'considers', 'consist', 'consistency', 'consistent', 'consistently', 'consisting', 'consists', 'consolidate', 'consolidated', 'consolidating', 'consolidation', 'consolidations', 'consortia', 'conspicuous', 'conspiracy', 'constantine', 'constellation', 'constituencies', 'constituent', 'constitute', 'constituted', 'constitutes', 'constituting', 'constitutional', 'constitutionality', 'constitutionally', 'constrain', 'constrained', 'constraints', 'construct', 'constructed', 'constructing', 'construction', 'constructive', 'constructs', 'construed', 'consular', 'consult', 'consultant', 'consultants', 'consultation', 'consultations', 'consultative', 'consulted', 'consulting', 'consumed', 'consumer', 'consumers', 'consuming', 'consumption', 'consumptive', 'contact', 'contacted', 'contacts', 'contain', 'contained', 'containers', 'containing', 'containment', 'contains', 'contaminants', 'contemplated', 'contemporaneous', 'contemporary', 'contendere', 'content', 'contentment', 'contents', 'contest', 'context', 'contexts', 'contextual', 'contiguous', 'continental', 'continents', 'contingencies', 'contingency', 'contingent', 'continually', 'continuance', 'continuation', 'continue', 'continued', 'continues', 'continuing', 'continuity', 'continuous', 'continuously', 'continuum', 'contraband', 'contract', 'contracting', 'contractingby', 'contractor', 'contractors', 'contractorsby', 'contracts', 'contractsby', 'contractual', 'contractually', 'contrary', 'contrast', 'contravene', 'contravened', 'contribute', 'contributed', 'contributes', 'contributing', 'contribution', 'contributions', 'control', 'controlled', 'controller', 'controlling', 'controls', 'controlsby', 'controversies', 'controversy', 'convene', 'convened', 'convenient', 'convening', 'convention', 'conventional', 'conventions', 'converged', 'convergence', 'conversations', 'conversion', 'conversions', 'convert', 'converted', 'conveyance', 'conveyed', 'conveying', 'conveyor', 'conveys', 'convicted', 'conviction', 'convictions', 'coo', 'cook', 'cooling', 'cooperate', 'cooperates', 'cooperating', 'cooperation', 'cooperative', 'cooperatively', 'coordinate', 'coordinated', 'coordinates', 'coordinating', 'coordination', 'coordinator', 'coordinators', 'copier', 'copies', 'coping', 'copy', 'copying', 'copyright', 'copyrights', 'coral', 'core', 'cornell', 'cornerstone', 'cornerstones', 'corporate', 'corporation', 'corporations', 'corps', 'corpus', 'correct', 'corrected', 'correction', 'correctional', 'corrections', 'corrective', 'corrects', 'correlate', 'correspondent', 'corresponding', 'corresponds', 'corridors', 'corrupt', 'corruption', 'corruptionby', 'cost', 'costly', 'costs', 'costsby', 'coterminous', 'cotton', 'council', 'councilby', 'councils', 'counsel', 'counseling', 'counselor', 'counsels', 'count', 'counted', 'counter', 'counteract', 'counterfeiting', 'countering', 'counterinsurgency', 'counterintelligence', 'countermeasure', 'countermeasures', 'counterparts', 'counterproliferation', 'counterproposals', 'counterterrorism', 'counties', 'counting', 'countless', 'countries', 'country', 'county', 'courageous', 'course', 'courses', 'court', 'courteously', 'courtroom', 'courts', 'courtsby', 'cover', 'coverage', 'covered', 'covering', 'covers', 'covert', 'cpo', 'cpsa', 'crack', 'cradle', 'craft', 'crashes', 'created', 'creates', 'creating', 'creation', 'creativity', 'creators', 'credential', 'credentialing', 'credentials', 'credible', 'credit', 'credited', 'credits', 'crest', 'crim', 'crime', 'crimea', 'crimean', 'crimes', 'criminal', 'criminals', 'crises', 'crisis', 'crisisby', 'criteria', 'criterion', 'critical', 'critically', 'cross', 'crossings', 'crowded', 'crucial', 'crude', 'cruel', 'cryptologic', 'cryptology', 'csb', 'ct', 'cto', 'cuba', 'cui', 'culminating', 'cultivate', 'cultivating', 'cultural', 'culturally', 'culture', 'cultures', 'cumulative', 'curb', 'curbing', 'cure', 'curiam', 'currency', 'current', 'currently', 'curricula', 'curriculum', 'curtail', 'curtailment', 'curtails', 'custodian', 'custody', 'customarily', 'customer', 'customers', 'customs', 'cut', 'cutting', 'cv', 'cyber', 'cybercrime', 'cybersecurity', 'cybersecurityby', 'cyberspace', 'cycle', 'cycles', 'cyprus', 'côte', 'da', 'dabengwa', 'daily', 'damage', 'damaged', 'damages', 'damaging', 'danger', 'dangerous', 'dangers', 'darfur', 'dashboard', 'data', 'database', 'databases', 'date', 'dated', 'dates', 'daut', 'davenport', 'david', 'davis', 'day', 'daylight', 'days', 'dayton', 'dc', 'dci', 'dd', 'ddm', 'dea', 'dead', 'deadline', 'deadlines', 'deadly', 'deal', 'dealer', 'dealers', 'dealing', 'dealings', 'deals', 'dealt', 'dear', 'death', 'deaths', 'debar', 'debarment', 'debarring', 'debate', 'debilitating', 'debit', 'debris', 'debt', 'dec', 'decade', 'decadeby', 'decades', 'deceased', 'deceive', 'december', 'decency', 'decent', 'decentralization', 'deceptive', 'decide', 'decided', 'decides', 'deciding', 'decision', 'decisionmakers', 'decisionmaking', 'decisions', 'decisive', 'deck', 'declaration', 'declaratory', 'declare', 'declared', 'declaring', 'declassification', 'declassified', 'declassify', 'declassifying', 'decline', 'declined', 'declines', 'declining', 'deconflict', 'deconfliction', 'deconstruction', 'decontrol', 'decorations', 'decorationsfor', 'decrease', 'decreased', 'decreasing', 'decree', 'dedicated', 'dedicating', 'deductions', 'deem', 'deemed', 'deems', 'deep', 'deepen', 'deepened', 'deepening', 'deeper', 'deepest', 'deepwater', 'default', 'defend', 'defendant', 'defending', 'defense', 'defenseby', 'defer', 'deferment', 'deferred', 'deficiencies', 'deficiency', 'deficient', 'deficit', 'deficits', 'define', 'defined', 'defines', 'defining', 'definition', 'definitions', 'degradation', 'degrade', 'degraded', 'degrading', 'degree', 'degrees', 'delaware', 'delay', 'delayed', 'delaying', 'delays', 'delegate', 'delegated', 'delegates', 'delegating', 'delegation', 'delegations', 'delegee', 'delegees', 'delete', 'deleted', 'deleting', 'deletions', 'deliberate', 'deliberating', 'deliberation', 'deliberations', 'deliberative', 'delicate', 'delimit', 'delimited', 'delineated', 'delineates', 'delineating', 'deliver', 'delivered', 'deliveries', 'delivering', 'delivery', 'delta', 'demand', 'demanding', 'demands', 'demeaning', 'demobilization', 'democracy', 'democratic', 'democratically', 'demographic', 'demographics', 'demolition', 'demonstrable', 'demonstrably', 'demonstrate', 'demonstrated', 'demonstrates', 'demonstrating', 'demonstration', 'demonstrations', 'denali', 'denial', 'denied', 'denigrate', 'denominated', 'denounced', 'denver', 'deny', 'denying', 'deoa', 'depart', 'department', 'departmental', 'departs', 'departure', 'departures', 'depend', 'dependability', 'dependable', 'dependence', 'dependencies', 'dependency', 'dependent', 'dependents', 'depending', 'depends', 'depicted', 'depleting', 'depletion', 'deploy', 'deployed', 'deploying', 'deployment', 'deploymentby', 'deploys', 'deportment', 'deposit', 'depositing', 'deposition', 'depository', 'deposits', 'depredation', 'deprive', 'depth', 'deputies', 'deputy', 'derivation', 'derivative', 'derivatively', 'derivatives', 'derive', 'derived', 'derives', 'derogate', 'describable', 'described', 'describes', 'describing', 'description', 'descriptions', 'deserve', 'deserves', 'design', 'designate', 'designated', 'designates', 'designating', 'designation', 'designations', 'designed', 'designee', 'designees', 'designing', 'desirability', 'desirable', 'desired', 'desist', 'desktop', 'despite', 'destabilization', 'destabilize', 'destabilizing', 'destination', 'destinations', 'destined', 'destroyed', 'destroying', 'destruction', 'destructionby', 'destructive', 'detachment', 'detachments', 'detailed', 'detailees', 'detailing', 'details', 'detain', 'detained', 'detainee', 'detainees', 'detainer', 'detainers', 'detaining', 'detect', 'detected', 'detecting', 'detection', 'detention', 'detentions', 'deter', 'deteriorating', 'deterioration', 'determinant', 'determination', 'determinations', 'determinative', 'determine', 'determined', 'determines', 'determining', 'deterrence', 'deterring', 'detonate', 'detriment', 'detrimental', 'detroit', 'devastated', 'devastating', 'develop', 'developed', 'developing', 'development', 'developmental', 'developmentby', 'developments', 'develops', 'deviation', 'device', 'devices', 'devicesby', 'devise', 'devising', 'devote', 'devoted', 'dfo', 'dhs', 'diagnose', 'diagnosed', 'diagnosis', 'diagnostic', 'diagrams', 'dialogue', 'diamond', 'diamonds', 'dicta', 'dictate', 'did', 'didymus', 'die', 'died', 'diego', 'diem', 'diems', 'dies', 'diesel', 'diet', 'dietary', 'differ', 'differences', 'different', 'differing', 'difficult', 'difficulties', 'dig', 'digit', 'digital', 'dignity', 'diligence', 'diligently', 'dimce', 'dimensions', 'diminish', 'diminished', 'diminishes', 'diminishing', 'dinary', 'diné', 'dioxide', 'diphtheria', 'diploid', 'diploma', 'diplomacy', 'diplomatic', 'diplomatically', 'diplomats', 'dire', 'direct', 'directed', 'directing', 'direction', 'directions', 'directive', 'directives', 'directly', 'director', 'directorate', 'directors', 'directory', 'directs', 'disabilities', 'disabilitiesby', 'disability', 'disable', 'disabled', 'disabling', 'disadvantage', 'disadvantaged', 'disagreement', 'disagreements', 'disagrees', 'disappearances', 'disapproval', 'disapprove', 'disapproved', 'disarmament', 'disarray', 'disaster', 'disasters', 'disband', 'disbanded', 'disburse', 'disbursement', 'disbursements', 'discarding', 'discharge', 'discharges', 'discharging', 'disciplinary', 'discipline', 'disciplined', 'disciplines', 'disclose', 'disclosed', 'discloses', 'disclosing', 'disclosure', 'disclosures', 'disconnected', 'discontinuances', 'discontinue', 'discontinuing', 'discount', 'discounted', 'discourage', 'discover', 'discovered', 'discoveries', 'discovery', 'discre', 'discredit', 'discrediting', 'discreet', 'discrepancies', 'discretion', 'discretionary', 'discriminate', 'discriminated', 'discriminating', 'discrimination', 'discriminatory', 'discuss', 'discussed', 'discussing', 'discussion', 'disease', 'diseases', 'diseasesby', 'dishonorable', 'disincentives', 'disinformation', 'dislocated', 'dislocation', 'dislocations', 'dismantle', 'dismantling', 'dismiss', 'dismissal', 'disorder', 'disparate', 'disparities', 'dispatchers', 'dispense', 'dispensing', 'displace', 'displaced', 'displacement', 'display', 'displayed', 'disposal', 'dispose', 'disposed', 'disposes', 'disposition', 'dispositions', 'disproportionate', 'disproportionately', 'dispute', 'disputed', 'disputes', 'disqualified', 'disqualify', 'disqualifying', 'disregard', 'disrepute', 'disrupt', 'disrupting', 'disruption', 'disruptions', 'disseminate', 'disseminated', 'disseminates', 'disseminating', 'dissemination', 'dissenting', 'dissents', 'dissimilar', 'dissipate', 'dissolution', 'dissolved', 'distance', 'distillate', 'distinct', 'distinction', 'distinctions', 'distinctive', 'distinguish', 'distinguishable', 'distinguished', 'distinguishes', 'distinguishing', 'distracted', 'distractions', 'distress', 'distressed', 'distribute', 'distributed', 'distributes', 'distributing', 'distribution', 'distributions', 'distributors', 'district', 'districts', 'disturbance', 'disturbances', 'disturbed', 'div', 'diverge', 'diverse', 'diversification', 'diversion', 'diversity', 'divert', 'diverted', 'diverting', 'divestment', 'divests', 'divide', 'divided', 'dividend', 'dividing', 'division', 'divisions', 'divisive', 'divulge', 'djibouti', 'dna', 'dni', 'dob', 'doc', 'doctoral', 'doctors', 'doctrine', 'document', 'documentary', 'documentation', 'documented', 'documenting', 'documents', 'dod', 'doe', 'doefacility', 'doi', 'doing', 'doj', 'dollar', 'dollars', 'domain', 'domestic', 'domestically', 'domiciled', 'dominant', 'dominated', 'donald', 'donated', 'donation', 'donations', 'donor', 'donors', 'doors', 'doping', 'dose', 'doses', 'dot', 'double', 'doubled', 'doubt', 'dow', 'downgrade', 'downgraded', 'downgrading', 'downgradingsec', 'downpours', 'downturn', 'downward', 'dozen', 'dpa', 'dpaa', 'dpob', 'draft', 'drafting', 'drain', 'dramatically', 'draw', 'drawdown', 'drawn', 'draws', 'dream', 'dredging', 'drilling', 'drillingby', 'drinking', 'drive', 'driven', 'drivers', 'driving', 'drivingby', 'droplet', 'dropout', 'dropped', 'dropping', 'drought', 'droughts', 'drug', 'drugs', 'drum', 'dual', 'duly', 'dumiso', 'dumped', 'duncan', 'duplex', 'duplicate', 'duplicating', 'duplication', 'duplicative', 'durability', 'duration', 'duties', 'duty', 'dynamic', 'eady', 'eagle', 'earlier', 'earliest', 'early', 'earmark', 'earmarks', 'earmarksby', 'earn', 'earned', 'earners', 'earnings', 'ears', 'earth', 'earthquake', 'earthquakes', 'ease', 'easement', 'easier', 'easily', 'east', 'eastern', 'easy', 'ebola', 'ecological', 'ecologically', 'ecology', 'economic', 'economical', 'economically', 'economics', 'economies', 'economy', 'economyby', 'ecosystem', 'ecosystems', 'ecosystemssec', 'edge', 'edition', 'editions', 'edna', 'edp', 'edps', 'eduardo', 'educate', 'educated', 'educating', 'education', 'educational', 'educationby', 'educations', 'educators', 'edward', 'ee', 'eeoc', 'eeoicpa', 'effect', 'effected', 'effecting', 'effective', 'effectively', 'effectiveness', 'effects', 'effectuate', 'effectuated', 'efficacy', 'efficiencies', 'efficiency', 'efficiencyby', 'efficient', 'efficiently', 'effluent', 'effort', 'efforts', 'efforts1', 'eighth', 'eis', 'ejected', 'el', 'elaborate', 'elaborated', 'elapsed', 'elder', 'elderly', 'elect', 'elected', 'election', 'electionby', 'elections', 'electoral', 'electric', 'electrical', 'electricity', 'electrify', 'electronic', 'electronically', 'electronics', 'electrons', 'elects', 'element', 'elementary', 'elements', 'elephants', 'elevate', 'elevates', 'elevating', 'elevation', 'elicits', 'eligibility', 'eligible', 'eliminate', 'eliminated', 'eliminates', 'eliminating', 'elimination', 'elisha', 'elite', 'elliot', 'email', 'embargo', 'embarrassment', 'embassy', 'emblem', 'embodying', 'embraced', 'embryo', 'embryonic', 'embryos', 'emerge', 'emergencies', 'emergency', 'emerges', 'emerging', 'emission', 'emissions', 'emitting', 'emmerson', 'emotional', 'emphasis', 'emphasize', 'emphasizes', 'emphasizing', 'empirical', 'employ', 'employed', 'employee', 'employer', 'employers', 'employes', 'employing', 'employment', 'employs', 'empower', 'empowered', 'empowering', 'empowerment', 'empowers', 'emrush', 'ems', 'emss', 'enable', 'enabled', 'enables', 'enabling', 'enacted', 'enacting', 'enactment', 'enclosed', 'encloses', 'encompass', 'encompassed', 'encompassing', 'encountering', 'encourage', 'encouraged', 'encourages', 'encouraging', 'encumber', 'end', 'endanger', 'endangered', 'endangering', 'endangers', 'endeavor', 'endeavoring', 'ended', 'endemic', 'ending', 'endowment', 'endowments', 'endure', 'enduring', 'enemy', 'energetic', 'energy', 'enforce', 'enforced', 'enforcement', 'enforcers', 'enforcing', 'engage', 'engaged', 'engagement', 'engagements', 'engages', 'engaging', 'engine', 'engineering', 'engineers', 'engines', 'english', 'enhance', 'enhanced', 'enhancement', 'enhancements', 'enhances', 'enhancing', 'enjoined', 'enjoy', 'enjoyed', 'enjoying', 'enjoyment', 'enlarge', 'enlist', 'enlistment', 'enormous', 'enos', 'enrich', 'enriched', 'enriching', 'enrichment', 'enrique', 'enrolled', 'enrollees', 'enrolling', 'enrollment', 'ensued', 'ensure', 'ensures', 'ensuring', 'entail', 'entails', 'entanglement', 'enter', 'entered', 'entering', 'enterprise', 'enterprises', 'enters', 'enthusiasm', 'entire', 'entirety', 'entitiesby', 'entitled', 'entitlement', 'entity', 'entrants', 'entrepreneurial', 'entrepreneurs', 'entrepreneurship', 'entrepreneurshipby', 'entries', 'entrusted', 'entrusts', 'entry', 'enumerated', 'environment', 'environmental', 'environmentally', 'environments', 'envisioned', 'envoy', 'ep', 'epa', 'epact', 'epeat', 'epidemic', 'equal', 'equality', 'equally', 'equals', 'equip', 'equipment', 'equipped', 'equipping', 'equitable', 'equitably', 'equities', 'equityby', 'equivalencies', 'equivalency', 'equivalent', 'equivalently', 'era', 'eradicating', 'erase', 'erode', 'erosion', 'erosive', 'erroneously', 'error', 'errors', 'eruption', 'eruptions', 'escalate', 'escalation', 'escape', 'escaping', 'escort', 'esea', 'especially', 'espionage', 'espoused', 'essa', 'essay', 'essential', 'establish', 'established', 'establishes', 'establishing', 'establishment', 'establishments', 'estate', 'esteem', 'estimate', 'estimated', 'estimates', 'estimation', 'estuaries', 'estuarine', 'estuary', 'et', 'ethic', 'ethical', 'ethically', 'ethics', 'ethnic', 'ethnicities', 'ethnicity', 'ethylene', 'europe', 'european', 'europol', 'evacuation', 'evade', 'evades', 'evading', 'evaluate', 'evaluated', 'evaluating', 'evaluation', 'evaluations', 'evaluator', 'evasion', 'evenhanded', 'evenhandedness', 'event', 'events', 'eventsby', 'eventually', 'evid', 'evidence', 'evident', 'evidentiary', 'evolution', 'evolved', 'evolving', 'ex', 'exacerbate', 'exacerbated', 'exacerbating', 'examination', 'examinations', 'examine', 'examined', 'examiners', 'examines', 'examining', 'example', 'examples', 'exams', 'exascale', 'excavations', 'exceed', 'exceeding', 'exceeds', 'excel', 'excellence', 'excellent', 'excepted', 'excepting', 'exception', 'exceptional', 'exceptionally', 'exceptions', 'exceptionssec', 'excepts', 'excess', 'excessive', 'excessively', 'exchange', 'exchanged', 'exchanges', 'excludable', 'exclude', 'excluded', 'excludes', 'excluding', 'exclusion', 'exclusionary', 'exclusions', 'exclusive', 'exclusively', 'excuse', 'excused', 'execute', 'executed', 'executing', 'execution', 'executives', 'exemplify', 'exempt', 'exempted', 'exempting', 'exemption', 'exemptions', 'exercise', 'exercised', 'exercises', 'exercising', 'exhaust', 'exhausted', 'exhibit', 'exhibits', 'exigencies', 'exigency', 'exigent', 'exile', 'exist', 'existed', 'existence', 'existent', 'existing', 'exists', 'exit', 'exonerating', 'exorbitant', 'exotic', 'expand', 'expanded', 'expanding', 'expands', 'expansion', 'expansions', 'expansive', 'expansiveness', 'expect', 'expectation', 'expectations', 'expected', 'expecting', 'expedient', 'expedite', 'expedited', 'expediting', 'expeditious', 'expeditiously', 'expend', 'expended', 'expending', 'expenditure', 'expenditures', 'expense', 'expenses', 'expensive', 'experience', 'experienced', 'experiences', 'experiencing', 'experimental', 'experiments', 'expert', 'expertise', 'experts', 'expiration', 'expire', 'expired', 'expires', 'explain', 'explaining', 'explains', 'explanation', 'explanatory', 'explicit', 'explicitly', 'exploit', 'exploitation', 'exploited', 'exploiting', 'exploration', 'exploratory', 'explore', 'explored', 'exploring', 'explosion', 'explosive', 'explosives', 'explosivesby', 'export', 'exportation', 'exported', 'exporters', 'exporting', 'exports', 'exposed', 'exposing', 'exposure', 'exposures', 'express', 'expressed', 'expression', 'expressions', 'expressly', 'expropriation', 'expunged', 'extend', 'extended', 'extending', 'extends', 'extension', 'extensions', 'extensive', 'extensively', 'extent', 'extenuating', 'external', 'extinct', 'extinction', 'extract', 'extracted', 'extraction', 'extracurricular', 'extradition', 'extrajudicial', 'extraneous', 'extraor', 'extraordinarily', 'extraordinary', 'extreme', 'extremes', 'extremism', 'extremist', 'extremists', 'eyes', 'f2', 'f3', 'f4', 'f5', 'f6', 'f7', 'f8', 'faa', 'fabric', 'faca', 'face', 'faced', 'faces', 'faceted', 'facially', 'facilitate', 'facilitated', 'facilitates', 'facilitating', 'facilitation', 'facilities', 'facilitiesby', 'facilitiessec', 'facility', 'facing', 'fact', 'factfinding', 'facto', 'factor', 'factories', 'factoring', 'factors', 'facts', 'factual', 'faculty', 'fail', 'failed', 'failing', 'fails', 'failure', 'failures', 'fair', 'fairly', 'fairness', 'faith', 'faithful', 'faithfully', 'fall', 'fallen', 'falling', 'falls', 'false', 'falsification', 'familiarizing', 'families', 'family', 'fao', 'far', 'farm', 'farmers', 'farming', 'farms', 'farragut', 'fashion', 'fast', 'faster', 'fatal', 'fatalities', 'fathoms', 'fats', 'fauna', 'favorable', 'favorably', 'favored', 'favors', 'fazli', 'fbi', 'fcra', 'fda', 'fear', 'feasibility', 'feasible', 'features', 'feb', 'february', 'fed', 'federal', 'federalism', 'federally', 'federation', 'fee', 'feed', 'feedback', 'feeding', 'feedstocks', 'feel', 'fees', 'feet', 'fell', 'fellow', 'fellows', 'fellowship', 'fellowships', 'felony', 'femp', 'fence', 'fertilization', 'fertilizer', 'fetus', 'fetuses', 'fever', 'fevers', 'fewer', 'ff', 'ffrms', 'fiber', 'fiduciary', 'field', 'fielding', 'fields', 'fifth', 'fight', 'fighters', 'file', 'files', 'filing', 'filled', 'filling', 'final', 'finalization', 'finalize', 'finalized', 'finally', 'finance', 'financed', 'finances', 'financial', 'financially', 'financing', 'finding', 'findings', 'finds', 'fine', 'fined', 'fines', 'fingerprint', 'firearm', 'firearms', 'firefighters', 'firefighting', 'firemen', 'fires', 'firm', 'firms', 'firmware', 'firstgov', 'fiscal', 'fiscally', 'fish', 'fishable', 'fisheries', 'fishers', 'fishery', 'fishing', 'fissile', 'fit', 'fitness', 'fitnessby', 'fits', 'fix', 'fixed', 'fixing', 'fixture', 'fixtures', 'flag', 'flagged', 'flagrancy', 'flagrant', 'flak', 'flare', 'flares', 'flax', 'fleet', 'fleetdash', 'fleets', 'flexibilities', 'flexibility', 'flexible', 'flexibly', 'flight', 'flood', 'flooding', 'floodplain', 'floodplains', 'floods', 'flora', 'flores', 'florida', 'flow', 'flowing', 'floyd', 'fly', 'flying', 'fm', 'fmcs', 'focal', 'focus', 'focused', 'focusing', 'fogarty', 'foia', 'folder', 'follow', 'followed', 'following', 'food', 'foods', 'foot', 'footage', 'footing', 'fora', 'forbearance', 'forbid', 'force', 'forceby', 'forced', 'forces', 'forcesby', 'forcing', 'ford', 'forecasting', 'forecasts', 'foreclosure', 'forefront', 'foregoing', 'foreign', 'forensic', 'foreseeable', 'forest', 'forestall', 'forestry', 'forests', 'forfeited', 'forfeiture', 'forfeitures', 'forge', 'forging', 'form', 'formal', 'formalize', 'formally', 'format', 'formation', 'formats', 'formed', 'forming', 'forms', 'formulate', 'formulates', 'formulating', 'formulation', 'forth', 'forthcoming', 'fortune', 'forum', 'forums', 'forward', 'forwarded', 'forwarding', 'fossil', 'foster', 'fostered', 'fostering', 'fosters', 'fought', 'foundation', 'foundational', 'foundations', 'founded', 'founding', 'fourteenth', 'fourth', 'fourths', 'fpisc', 'fracturing', 'frame', 'frames', 'framework', 'frameworks', 'france', 'franchising', 'francis', 'francisco', 'frank', 'fraternal', 'fraud', 'fraudby', 'fraudulent', 'free', 'freeboard', 'freedom', 'freedoms', 'freely', 'freight', 'french', 'frequency', 'frequent', 'frequently', 'fresno', 'frictions', 'friday', 'friendly', 'friends', 'frigate', 'fringe', 'frontiers', 'frustration', 'fry', 'frychief', 'frycommander', 'frylkckhabibi', 'frylpkgashi', 'frylpkxhemajli', 'frynlasyla', 'frypcpmbelshani', 'frypcpmbmusliu', 'frypdkharadinaj', 'frypdkstart', 'fryrtg', 'fryucpmbii', 'fryucpmbmustafa', 'fryucpmbsuma', 'ftc', 'fuel', 'fueled', 'fueling', 'fuels', 'fulbright', 'fulfill', 'fulfilled', 'fulfilling', 'fulfillment', 'fullest', 'fully', 'function', 'functional', 'functioning', 'functionsby', 'fund', 'fundamental', 'fundamentally', 'funded', 'funding', 'fundraisingby', 'funds', 'furnish', 'furnished', 'furnishing', 'furniture', 'furtherance', 'furthering', 'furthermore', 'furthers', 'fusion', 'future', 'futures', 'fwpca', 'fy', 'fyromnlaahmeti', 'fyromnlabexheti', 'fyromnladalipi', 'fyromnlalladrovici', 'fyromnlashaqiri', 'fyromnlaxhemajli', 'g20', 'g7', 'gabriel', 'gafur', 'gain', 'gained', 'gaining', 'gains', 'gallantry', 'gallons', 'galvanize', 'game', 'gamefish', 'gametes', 'gangs', 'gap', 'gaps', 'gardner', 'garnishment', 'garwood', 'gas', 'gases', 'gasification', 'gasoline', 'gateways', 'gather', 'gathered', 'gathering', 'gauge', 'gave', 'gay', 'gcms', 'gdp', 'gear', 'gecco', 'gen', 'gender', 'general', 'generalist', 'generally', 'generate', 'generated', 'generates', 'generating', 'generation', 'generations', 'generic', 'genetic', 'genetics', 'geneva', 'genocide', 'genotypes', 'gentile', 'genuine', 'geographic', 'geographical', 'geography', 'geologic', 'geological', 'geomagnetic', 'geometry', 'geophysical', 'geopolitical', 'george', 'geospatial', 'geothermal', 'gepa', 'germany', 'ges', 'gezim', 'gg', 'ghsa', 'gift', 'gifted', 'gifts', 'gigawatts', 'gilman', 'girls', 'given', 'giving', 'global', 'globalization', 'globally', 'globallyby', 'globe', 'goal', 'goals', 'goche', 'god', 'goes', 'going', 'gold', 'goldane', 'golden', 'gone', 'gonzález', 'good', 'goodfellow', 'goods', 'gov', 'govern', 'governance', 'governed', 'governing', 'government', 'governmental', 'governmentby', 'governments', 'governmentwide', 'governor', 'governors', 'governs', 'gpra', 'gps', 'grace', 'grade', 'graded', 'grades', 'graduate', 'graduated', 'graduates', 'graduatesby', 'graduation', 'grandchild', 'grandparent', 'grant', 'granted', 'grantee', 'grantees', 'granting', 'grants', 'grassroots', 'gratia', 'grave', 'gravity', 'graywater', 'great', 'greater', 'greatest', 'greatly', 'greco', 'green', 'greenhouse', 'gregorio', 'grid', 'grids', 'grievance', 'grievances', 'gross', 'ground', 'grounds', 'groundwater', 'group', 'groupby', 'groups', 'grow', 'growing', 'grown', 'grows', 'growth', 'growthby', 'gs', 'gsa', 'guam', 'guantanamo', 'guantánamo', 'guarantee', 'guaranteed', 'guaranteeing', 'guarantees', 'guaranty', 'guard', 'guardian', 'guardians', 'guarding', 'guayana', 'guidance', 'guide', 'guided', 'guideline', 'guidelines', 'guidepost', 'guides', 'guiding', 'guilt', 'guilty', 'gulf', 'gumbo', 'gustavo', 'habeas', 'habitat', 'habitats', 'habits', 'half', 'hall', 'hallmark', 'halted', 'hamas', 'hampered', 'hand', 'handbook', 'handheld', 'handle', 'handled', 'handles', 'handling', 'harassment', 'harboring', 'harbors', 'hard', 'harder', 'hardship', 'hardware', 'hardworking', 'haringhton', 'harm', 'harmful', 'harming', 'harmonize', 'harmonized', 'harmonizing', 'harmony', 'harms', 'harness', 'harvesting', 'hatred', 'haul', 'haven', 'havens', 'having', 'hawaii', 'hawaiian', 'hawaiians', 'hawksbill', 'hays', 'hazard', 'hazardous', 'hazards', 'hbcu', 'hbcus', 'head', 'headed', 'heading', 'headquartered', 'headquarters', 'heads', 'healing', 'health', 'healthby', 'healthcare', 'healthier', 'healthiest', 'healthy', 'heard', 'hearing', 'hearings', 'heart', 'heartby', 'heat', 'heavily', 'heavy', 'heighten', 'heightened', 'held', 'helmets', 'help', 'helped', 'helpful', 'helping', 'helps', 'hemmat', 'hemorrhagic', 'hemp', 'henceforth', 'herald', 'herbert', 'hereinafter', 'hereof', 'hereto', 'heretofore', 'hereunder', 'heritage', 'hermes', 'heroism', 'herzegovina', 'heu', 'hexafluoride', 'hh', 'hhs', 'hidden', 'high', 'higher', 'highest', 'highlight', 'highlighting', 'highly', 'highway', 'highways', 'hikes', 'hiking', 'hinder', 'hinders', 'hire', 'hired', 'hires', 'hiring', 'hisni', 'hispanic', 'hispanics', 'historic', 'historical', 'historically', 'histories', 'history', 'hiv', 'hizballah', 'hmong', 'hoard', 'hoc', 'hold', 'holder', 'holders', 'holding', 'holds', 'holistic', 'holy', 'home', 'homeland', 'homeless', 'homeownership', 'homes', 'honest', 'honor', 'honorable', 'honorably', 'honorary', 'honored', 'honoring', 'hopper', 'horizon', 'horizontal', 'horseback', 'hospital', 'hospitals', 'host', 'hostage', 'hostages', 'hostile', 'hostilities', 'hotline', 'hour', 'hourly', 'hours', 'housed', 'household', 'households', 'housing', 'houthi', 'hove', 'howard', 'hpc', 'hras', 'hrfc', 'hrg', 'hts', 'hubs', 'hud', 'hughes', 'human', 'humane', 'humanely', 'humanitarian', 'humanities', 'humanity', 'humans', 'humiliating', 'humiliation', 'humpback', 'hundreds', 'hunt', 'hunter', 'hunting', 'hurdles', 'hurlburt', 'hurricane', 'hurricanes', 'hurt', 'hussein', 'hybrid', 'hyde', 'hydrates', 'hydraulic', 'hydro', 'hydrocarbon', 'hydrocarbons', 'hydroelectric', 'hydrofluorocarbons', 'hydrologic', 'hygienists', 'iarpa', 'ibc', 'ic', 'icc', 'ice', 'iconic', 'icons', 'icssc', 'id', 'ida', 'ideals', 'ideas', 'identical', 'identifiable', 'identification', 'identifications', 'identified', 'identifier', 'identifiers', 'identifies', 'identify', 'identifying', 'identities', 'identity', 'ideologies', 'ieepa', 'ifca', 'igia', 'iglarevo', 'ignatius', 'ignorance', 'ignore', 'ignored', 'ihr', 'ii', 'iii', 'iirira', 'ila', 'ilince', 'illegal', 'illegally', 'illegitimate', 'illicit', 'illinois', 'illiteracy', 'illness', 'illnesses', 'illustrated', 'ilo', 'imagery', 'imd', 'immeasurable', 'immediate', 'immediately', 'immersion', 'immigrant', 'immigrants', 'immigration', 'imminent', 'immune', 'immunities', 'immunitiesby', 'immunitiessection', 'impact', 'impacted', 'impacts', 'impair', 'impaired', 'impairing', 'impairment', 'impairs', 'impartial', 'impartiality', 'impassable', 'impasses', 'impeachment', 'impede', 'impeded', 'impedes', 'impediments', 'impeding', 'impending', 'imperative', 'imperil', 'implement', 'implementation', 'implementationby', 'implementationsection', 'implemented', 'implementers', 'implementing', 'implements', 'implicate', 'implicated', 'implications', 'imply', 'import', 'importance', 'important', 'importation', 'importations', 'imported', 'importers', 'imports', 'impose', 'imposed', 'imposes', 'imposing', 'imposition', 'impracticable', 'imprisonment', 'improper', 'improperly', 'improve', 'improved', 'improvement', 'improvements', 'improvementsby', 'improves', 'improving', 'impunity', 'ina', 'inability', 'inaccessible', 'inadequate', 'inadmissibility', 'inadvertently', 'inapplicable', 'inappropriate', 'inaugurated', 'inauguration', 'incapable', 'incapacitated', 'incapacity', 'incarcerated', 'incarceration', 'incentive', 'incentives', 'inception', 'incest', 'inch', 'inches', 'incidence', 'incident', 'incidental', 'incidents', 'incinerators', 'incited', 'include', 'included', 'includes', 'inclusion', 'inclusive', 'income', 'incomes', 'incoming', 'incompetent', 'incomplete', 'inconsistent', 'inconvenience', 'incorporate', 'incorporated', 'incorporating', 'incorporation', 'incorrect', 'increase', 'increased', 'increases', 'increasing', 'increasingly', 'incredibly', 'incremental', 'incubators', 'incumbent', 'incumbents', 'incurred', 'indecent', 'indefinite', 'indefinitely', 'independence', 'independent', 'independently', 'index', 'india', 'indian', 'indians', 'indicate', 'indicated', 'indicates', 'indicating', 'indication', 'indicators', 'indicia', 'indictment', 'indifference', 'indigenization', 'indigenous', 'indirect', 'indirectly', 'indiscriminate', 'indispensable', 'individual', 'individually', 'individuals', 'individualsname', 'individualswith', 'induced', 'induction', 'industrial', 'industrialized', 'industries', 'industry', 'ineffective', 'ineffectual', 'inefficiencies', 'inefficiency', 'inefficient', 'ineligible', 'inequities', 'inevitably', 'infant', 'infection', 'infections', 'infectious', 'infiltrate', 'infiltration', 'inflation', 'influence', 'influencing', 'influenza', 'inform', 'informal', 'information', 'informational', 'informationby', 'informationin', 'informationthis', 'informed', 'informing', 'informs', 'infraction', 'infractions', 'infrastructure', 'infrastructureby', 'infrastructures', 'infrastrucure', 'infrequent', 'infringe', 'infringement', 'infringing', 'infuse', 'ingested', 'ingredients', 'inherent', 'inherently', 'inhibit', 'inhibits', 'inhuman', 'inhumane', 'initial', 'initially', 'initiate', 'initiated', 'initiating', 'initiation', 'initiative', 'initiativeby', 'initiatives', 'initiativesby', 'inject', 'injectable', 'injunctions', 'injunctive', 'injure', 'injured', 'injures', 'injuries', 'injuriously', 'injury', 'inland', 'inlet', 'inmates', 'inner', 'innovate', 'innovation', 'innovations', 'innovative', 'innovators', 'inoperable', 'input', 'inputby', 'inquire', 'inquired', 'inquiries', 'inquiring', 'inquiry', 'insert', 'inserted', 'inserting', 'inside', 'insider', 'insightful', 'insights', 'insofar', 'inspect', 'inspected', 'inspecting', 'inspection', 'inspections', 'inspector', 'inspectors', 'inspiration', 'inspired', 'inspiring', 'instability', 'install', 'installation', 'installations', 'installed', 'installers', 'installing', 'instance', 'instances', 'instant', 'instantaneously', 'instead', 'instigator', 'institute', 'instituted', 'institutes', 'institution', 'institutional', 'institutionalization', 'institutionalize', 'institutionalized', 'institutionalizing', 'institutions', 'institutionsby', 'instruct', 'instructed', 'instruction', 'instructional', 'instructions', 'instrument', 'instrumentalities', 'instrumentality', 'instruments', 'insufficiencies', 'insufficient', 'insular', 'insulated', 'insurable', 'insurance', 'insure', 'insured', 'insurer', 'insurers', 'insurgent', 'intact', 'integral', 'integrate', 'integrated', 'integrates', 'integrating', 'integration', 'integrative', 'integrity', 'integrityby', 'intellectual', 'intelligence', 'intelligent', 'intend', 'intends', 'intense', 'intensify', 'intensifying', 'intensity', 'intensive', 'intent', 'intention', 'intentional', 'intentionally', 'intentions', 'inter', 'interact', 'interaction', 'interactions', 'interacts', 'interagency', 'intercepted', 'interchange', 'intercity', 'interconnected', 'intercontinental', 'interdependencies', 'interdependency', 'interdependent', 'interdict', 'interdicted', 'interdicting', 'interdiction', 'interestby', 'interested', 'interests', 'interface', 'interfaces', 'interfere', 'interference', 'interfering', 'intergenerational', 'intergovernmental', 'interim', 'interior', 'intermediaries', 'intermediate', 'intermittently', 'intern', 'internal', 'internally', 'international', 'internationally', 'internet', 'interns', 'internship', 'internships', 'interoperability', 'interoperable', 'interpol', 'interpret', 'interpretation', 'interpretations', 'interpreted', 'interpreting', 'interpretive', 'interprets', 'interrogated', 'interrogation', 'interrogations', 'interrogators', 'interrupt', 'interrupted', 'interruptions', 'intersectarian', 'intersection', 'interstate', 'intertrade', 'intertribal', 'interval', 'intervals', 'intervention', 'interventions', 'interview', 'interviewed', 'interviews', 'intimate', 'intimidate', 'intimidation', 'intranational', 'intrastate', 'intrinsic', 'introduce', 'introduced', 'introducing', 'introduction', 'introductory', 'intrusions', 'invalid', 'invalidate', 'invalidated', 'invaluable', 'invariably', 'invasive', 'inventories', 'inventory', 'inventorying', 'invest', 'invested', 'investigate', 'investigated', 'investigating', 'investigation', 'investigations', 'investigative', 'investigators', 'investing', 'investment', 'investments', 'investors', 'invitation', 'invite', 'invited', 'invitees', 'invocation', 'invoke', 'invoked', 'invokes', 'involuntary', 'involve', 'involved', 'involvement', 'involves', 'involving', 'iob', 'ioia', 'ionizing', 'ions', 'iowa', 'ip', 'iran', 'iranby', 'iranian', 'iraq', 'iraqby', 'iraqi', 'irc', 'irish', 'iron', 'irregular', 'irreplaceable', 'irrespective', 'irtpa', 'isa', 'isacs', 'isaiah', 'isao', 'isaos', 'ise', 'isil', 'isis', 'islam', 'islami', 'islamic', 'island', 'islander', 'islanders', 'islandersby', 'islands', 'isolate', 'isolated', 'isolating', 'isolation', 'isoo', 'ispo', 'isr', 'issuance', 'issuances', 'issue', 'issued', 'issues', 'issuesby', 'issuing', 'itao', 'item', 'items', 'itrshra', 'iv', 'ivoire', 'ivoireby', 'iwg', 'ix', 'jackets', 'jackson', 'jade', 'jadeite', 'jadeites', 'jails', 'jaison', 'jam', 'jan', 'janitorial', 'january', 'japan', 'jcpoa', 'jee', 'jeopardize', 'jeopardized', 'jeopardizing', 'jersey', 'jet', 'jewelry', 'jewels', 'jfcc', 'jihad', 'jj', 'jmip', 'joaquin', 'job', 'jobs', 'john', 'join', 'joint', 'jointly', 'jonathan', 'jones', 'jonusz', 'joseph', 'joshua', 'josiah', 'josé', 'journalists', 'joyce', 'jsoc', 'juan', 'judge', 'judgement', 'judges', 'judgment', 'judgments', 'judicial', 'judicious', 'july', 'june', 'junta', 'juridical', 'jurisdiction', 'jurisdictional', 'jurisdictions', 'jury', 'just', 'justice', 'justiceby', 'justices', 'justification', 'justified', 'justifies', 'justify', 'justifying', 'justo', 'juvenile', 'jwac', 'kansas', 'karimanzira', 'kasukuwere', 'katherine', 'keeping', 'keeps', 'kembo', 'kennedy', 'kenneth', 'kept', 'kercove', 'kern', 'kerosene', 'key', 'khaya', 'kicevo', 'kidnapping', 'killed', 'killing', 'killings', 'kimberley', 'kind', 'kindergarten', 'kinds', 'kingdom', 'kings', 'kk', 'knew', 'know', 'knowing', 'knowingly', 'knowledge', 'knowledgeable', 'known', 'knows', 'konculj', 'korea', 'koreaby', 'korean', 'kosovo', 'kossman', 'kostunica', 'kpchasani', 'kpclushtaku', 'kpcmusliu', 'kpcostremi', 'kpcshakiri', 'kure', 'kuruneri', 'kuskokwim', 'l945', 'l999', 'labeled', 'labeling', 'labels', 'labor', 'laboratories', 'laboratory', 'laborby', 'lack', 'lacks', 'ladders', 'laden', 'ladin', 'lags', 'lake', 'lakes', 'lakewood', 'land', 'landed', 'landfill', 'landfills', 'landholder', 'landings', 'landino', 'landmarks', 'lands', 'landsby', 'landscape', 'landscapes', 'landscaping', 'lanes', 'language', 'languages', 'lantos', 'lapse', 'laptop', 'larceny', 'large', 'largely', 'larger', 'largest', 'lassa', 'lasted', 'lasting', 'lastly', 'late', 'latency', 'later', 'latest', 'latino', 'latitude', 'launch', 'launched', 'launches', 'laundering', 'lawful', 'lawfully', 'lawfulness', 'lawrence', 'lawsby', 'lawsuit', 'lawyer', 'lawyers', 'layoffs', 'lays', 'laysan', 'lea', 'lead', 'leader', 'leaders', 'leadership', 'leading', 'league', 'leagues', 'leaks', 'lean', 'leaner', 'leapfrog', 'learn', 'learned', 'learning', 'leas', 'lease', 'leased', 'leasehold', 'leases', 'leasing', 'leatherback', 'leave', 'leaves', 'leaving', 'lebanese', 'lebanon', 'led', 'left', 'legacy', 'legal', 'legality', 'legally', 'legion', 'legionnaire', 'legislation', 'legislative', 'legitimacy', 'legitimate', 'lend', 'length', 'lengthening', 'lengthy', 'leone', 'leonean', 'leoneby', 'lepcs', 'lesabe', 'leslie', 'lessees', 'lessen', 'lessening', 'lesser', 'lessons', 'lessor', 'lethal', 'letter', 'lettering', 'letters', 'levant', 'level', 'levels', 'leverage', 'leverages', 'leveraging', 'levin', 'levy', 'liabilities', 'liability', 'liaise', 'liaison', 'liaisons', 'liberation', 'liberia', 'liberiaby', 'liberian', 'liberties', 'library', 'libya', 'libyaby', 'libyan', 'license', 'licensed', 'licensee', 'licensees', 'licenses', 'licensing', 'licit', 'lie', 'lien', 'lieu', 'life', 'life4', 'lifeby', 'lifecycle', 'lifeline', 'lifelong', 'lifesaving', 'lifestyle', 'lifetime', 'lift', 'lifted', 'lifting', 'light', 'lighting', 'like', 'likelihood', 'likely', 'likewise', 'limit', 'limitation', 'limitations', 'limited', 'limiting', 'limits', 'linas', 'line', 'lines', 'linguistic', 'link', 'linkage', 'linkages', 'linked', 'linking', 'linnear', 'liquefied', 'liquid', 'liquification', 'lisianski', 'list', 'listed', 'listen', 'listing', 'lists', 'literacy', 'literacyby', 'literature', 'litigation', 'little', 'livability', 'live', 'livelihoods', 'lives', 'livestock', 'living', 'ljubiste', 'lkck', 'll', 'load', 'loads', 'loan', 'loans', 'lobbied', 'lobbying', 'lobbyist', 'lobbyists', 'local', 'locale', 'localities', 'locality', 'localized', 'locally', 'locate', 'located', 'locating', 'location', 'locations', 'lock', 'lockouts', 'loco', 'locomotive', 'lodging', 'log', 'logical', 'logistical', 'logistics', 'logs', 'lome', 'long', 'longer', 'longest', 'longevity', 'longitude', 'longline', 'longshore', 'longstanding', 'looking', 'looting', 'lose', 'loses', 'loss', 'losses', 'lost', 'low', 'lower', 'lowered', 'lowering', 'lowers', 'lowest', 'loyal', 'lpk', 'lt', 'lubricants', 'lucia', 'lucrative', 'lunar', 'lung', 'luxury', 'lx', 'lying', 'lópez', 'macedonia', 'macedonianlaselimi', 'machaya', 'machine', 'machinery', 'machines', 'machinists', 'madera', 'maduro', 'madzongwe', 'magnetic', 'magnified', 'magnitsky', 'magnitude', 'magnuson', 'mahofa', 'mail', 'mailing', 'maiming', 'maintain', 'maintained', 'maintaining', 'maintains', 'maintenance', 'majeure', 'major', 'majority', 'make', 'makers', 'makes', 'making', 'malaria', 'malaysian', 'males', 'malevolent', 'malicious', 'malign', 'malinga', 'mammal', 'mammals', 'man', 'manage', 'manageable', 'managed', 'management', 'managementby', 'managementprograms', 'managementsec', 'manager', 'managerial', 'managers', 'managing', 'mandate', 'mandated', 'mandates', 'mandatory', 'mangwana', 'mangwende', 'manifestation', 'manifested', 'manipulation', 'manmade', 'manner', 'manpower', 'manslaughters', 'manual', 'manuals', 'manuel', 'manufacture', 'manufactured', 'manufacturer', 'manufacturers', 'manufacturing', 'manyika', 'manyonda', 'map', 'mapping', 'maps', 'mar', 'marburg', 'march', 'marcoussis', 'margin', 'marginalized', 'mariana', 'marine', 'marital', 'maritime', 'marked', 'markers', 'market', 'marketable', 'marketing', 'marketplace', 'markets', 'marking', 'markings', 'marks', 'maro', 'marriage', 'married', 'marshal', 'marshals', 'marsoc', 'martial', 'martínez', 'marumahoko', 'maryland', 'mass', 'massacre', 'master', 'mastery', 'masuku', 'match', 'matched', 'matching', 'materia', 'material', 'materially', 'materials', 'materiel', 'mathematical', 'mathematics', 'mathuthu', 'matrices', 'matter', 'matters', 'mattersby', 'matthew', 'matured', 'maturity', 'maximize', 'maximizes', 'maximizing', 'maximum', 'mayors', 'mckeon', 'mcm', 'meal', 'mean', 'meaning', 'meaningful', 'meaningfully', 'meanings', 'means', 'meant', 'measurable', 'measurably', 'measure', 'measureable', 'measured', 'measurement', 'measurements', 'measures', 'measuring', 'mechanics', 'mechanism', 'mechanisms', 'medal', 'media', 'mediate', 'mediated', 'mediation', 'medical', 'medicine', 'medicines', 'medium', 'medvedja', 'meet', 'meeting', 'meetings', 'meets', 'megawatt', 'megawatts', 'melting', 'member', 'members', 'membership', 'memoranda', 'memorandum', 'memorandums', 'memorial', 'memorializes', 'men', 'mental', 'mentioned', 'mentor', 'mentoring', 'mentors', 'mentorship', 'mentorships', 'menu', 'merced', 'merchant', 'merchants', 'mere', 'merely', 'merge', 'mergers', 'merit', 'meritorious', 'merits', 'messages', 'messaging', 'met', 'metabolic', 'metabolites', 'metadata', 'metals', 'meters', 'methane', 'methanol', 'method', 'methodological', 'methodologies', 'methodology', 'methods', 'metric', 'metrics', 'mexico', 'micb', 'micro', 'microforms', 'microturbines', 'mid', 'middle', 'midnight', 'midshipman', 'midway', 'midwest', 'midzi', 'migrant', 'migrants', 'migration', 'migratory', 'miguel', 'mil', 'mile', 'miles', 'milestone', 'milestones', 'military', 'militia', 'militias', 'millennium', 'million', 'millions', 'milosevic', 'mind', 'minds', 'mined', 'mineral', 'minerals', 'mineralsby', 'miners', 'mines', 'mini', 'minibuses', 'minimal', 'minimization', 'minimize', 'minimizes', 'minimizing', 'minimum', 'mining', 'minister', 'ministerial', 'ministers', 'ministries', 'ministry', 'minnesota', 'minor', 'minorities', 'minority', 'misappropriate', 'misappropriated', 'misappropriation', 'miscellaneous', 'misclassification', 'misconduct', 'misdemeanor', 'misery', 'mishandling', 'misleading', 'mismanagement', 'misrepresentation', 'misrepresentations', 'missed', 'missile', 'missiles', 'missing', 'mission', 'missions', 'missouri', 'mistake', 'mistreatment', 'misuse', 'misusing', 'mitigate', 'mitigated', 'mitigating', 'mitigation', 'mix', 'mixed', 'mixture', 'mja', 'mm', 'mnangagwa', 'mobile', 'mobility', 'mobilityby', 'mobilization', 'mobilize', 'mode', 'model', 'modeled', 'modeling', 'models', 'modern', 'modernization', 'modernize', 'modernized', 'modernizing', 'modes', 'modification', 'modifications', 'modified', 'modifies', 'modify', 'modifying', 'modular', 'mohadi', 'mohammed', 'mombeshora', 'momentum', 'monday', 'monetary', 'monetizing', 'money', 'monies', 'monitor', 'monitored', 'monitoring', 'monk', 'monopoly', 'montenegro', 'month', 'monthly', 'months', 'monument', 'monuments', 'moon', 'moore', 'mooring', 'moral', 'morale', 'moratoria', 'moratorium', 'morbidity', 'morocco', 'morone', 'mortality', 'mortgage', 'mos', 'moscow', 'motion', 'motivated', 'motor', 'motorcycles', 'mou', 'mount', 'mountain', 'mountaineering', 'mous', 'moved', 'movement', 'moving', 'moyo', 'mpa', 'mpas', 'mpofu', 'msika', 'mtcr', 'muchena', 'muchinguri', 'mudenge', 'mugabe', 'muhamet', 'muhovac', 'mujuru', 'multi', 'multiday', 'multifaceted', 'multilateral', 'multilaterally', 'multiple', 'multiyear', 'mumbengegwi', 'mumineen', 'mun', 'municipal', 'municipalities', 'municipality', 'munitions', 'murder', 'murders', 'murerwa', 'museum', 'museums', 'mushohwe', 'mutasa', 'mutation', 'mutations', 'mutilation', 'mutiwekuziva', 'mutual', 'mutually', 'muvenga', 'muzenda', 'muzonzini', 'mw', 'mwh', 'myanma', 'myanmar', 'myriad', 'n01', 'nacie', 'nafta', 'naftiran', 'naison', 'named', 'names', 'naming', 'nanotechnology', 'naphtha', 'naphthas', 'nara', 'narcotics', 'narratives', 'narrow', 'nasa', 'nascent', 'nathan', 'nation', 'national', 'nationality', 'nationally', 'nationals', 'nationalsby', 'nations', 'nationwide', 'native', 'natives', 'nato', 'natural', 'naturalization', 'naturalized', 'naturally', 'nature', 'nautical', 'navajo', 'naval', 'navigable', 'navigating', 'navigation', 'navigational', 'navy', 'nayarith', 'nbib', 'nccic', 'nce', 'ncs', 'ncua', 'ncube', 'ndaa', 'nder', 'ndlovu', 'nea', 'near', 'nearest', 'nearly', 'nebraska', 'necessarily', 'necessary', 'necessitate', 'necessities', 'necessity', 'necker', 'need', 'needed', 'needing', 'needs', 'negative', 'negatively', 'neglecting', 'negligent', 'negligently', 'negligible', 'negotiability', 'negotiable', 'negotiate', 'negotiated', 'negotiating', 'negotiation', 'negotiations', 'negotiators', 'nehrp', 'nei', 'neighbor', 'neighborhood', 'neighborhoods', 'neighboring', 'nepa', 'nepotism', 'net', 'network', 'networkby', 'networking', 'networks', 'neuro', 'neurosciences', 'neutral', 'neutrality', 'nev', 'new', 'newly', 'newscasts', 'nextgen', 'nexus', 'nfip', 'nga', 'nhema', 'nhpa', 'niac', 'nicaragua', 'nicaraguaby', 'nicholas', 'nico', 'nihoa', 'nimitz', 'ninety', 'ninth', 'nioc', 'nipc', 'nipp', 'nist', 'nitrate', 'nitrogen', 'nitrous', 'nixon', 'nkomo', 'nla', 'nm', 'nmfs', 'nn', 'noaa', 'noguera', 'noise', 'nolo', 'nomenclature', 'nominate', 'nominated', 'nomination', 'nominations', 'nominees', 'non', 'nonappealable', 'nonappropriated', 'nonbinding', 'noncitizen', 'noncommercial', 'noncompetitive', 'noncompetitively', 'noncompliance', 'noncomplying', 'nondefense', 'nondisclosure', 'nondiscrimination', 'nondiscriminatory', 'nondisplacement', 'nonduplication', 'nonelectronic', 'nonetheless', 'nonexistence', 'nonfederal', 'nonfinancial', 'nongame', 'nongovernment', 'nongovernmental', 'nongroup', 'nonhuman', 'nonimmigrant', 'nonimmigrants', 'nonjudicial', 'nonliving', 'nonmerit', 'nonnegligent', 'nonpartisan', 'nonprocessed', 'nonprofit', 'nonproliferation', 'nonpublic', 'nonrecord', 'nonreimbursable', 'nonsignatories', 'nonsmokers', 'nonvoting', 'noon', 'norad', 'normal', 'normalization', 'normalize', 'normalized', 'normalizing', 'normally', 'north', 'northern', 'northwest', 'northwestern', 'norton', 'nos', 'note', 'noted', 'notes', 'noteworthy', 'notice', 'notices', 'notification', 'notifications', 'notified', 'notifies', 'notify', 'notifying', 'noting', 'notoriety', 'notorious', 'notwithstanding', 'nov', 'novel', 'november', 'nrt', 'ns', 'nsc', 'nsci', 'nsd', 'nsf', 'nstac', 'nstc', 'nsw', 'nuclear', 'null', 'number', 'numbered', 'numbering', 'numbers', 'numbersby', 'numerical', 'numerous', 'nunivak', 'nuri', 'nutrient', 'nutrients', 'nutrition', 'nutritional', 'nutritionby', 'nutritious', 'nyoni', 'oak', 'oath', 'obama', 'obert', 'object', 'objection', 'objections', 'objective', 'objectives', 'objectivity', 'objects', 'obligate', 'obligated', 'obligating', 'obligation', 'obligations', 'observance', 'observation', 'observational', 'observations', 'observe', 'observer', 'observing', 'obstacles', 'obstruct', 'obstructed', 'obstructing', 'obstruction', 'obstructionism', 'obstructions', 'obstructs', 'obtain', 'obtained', 'obtaining', 'obtains', 'obvious', 'occasional', 'occasionally', 'occasions', 'occupancy', 'occupant', 'occupants', 'occupation', 'occupational', 'occupied', 'occupies', 'occupy', 'occur', 'occurred', 'occurrence', 'occurrences', 'occurring', 'occurs', 'ocdetf', 'ocean', 'oceanic', 'oceanography', 'oceans', 'ocellatus', 'ocjcs', 'oct', 'october', 'odds', 'ofbci', 'offender', 'offenders', 'offense', 'offenses', 'offensive', 'offer', 'offered', 'offering', 'offerings', 'offeror', 'offerors', 'offers', 'office', 'officeby', 'officer', 'officersby', 'offices', 'official', 'officially', 'officials', 'officio', 'offset', 'offsets', 'offsetting', 'offshore', 'offshoring', 'ofstart', 'oie', 'oil', 'oilers', 'oils', 'oily', 'oira', 'old', 'older', 'oldest', 'olefin', 'olive', 'olivia', 'olmstead', 'olympic', 'omar', 'omb', 'ombudsman', 'omission', 'omitted', 'omnibus', 'onap', 'onboarding', 'oncix', 'ondcp', 'onerous', 'ones', 'ongoing', 'online', 'onset', 'onshore', 'oo', 'opa', 'opah', 'open', 'opened', 'opening', 'openness', 'operate', 'operated', 'operates', 'operating', 'operation', 'operational', 'operations', 'operationsby', 'operative', 'operatives', 'operator', 'operators', 'opinion', 'opinions', 'opioid', 'opioids', 'opm', 'opponents', 'opportunistic', 'opportunities', 'opportunity', 'oppose', 'opposed', 'opposing', 'opposition', 'oppress', 'opr', 'optimal', 'optimization', 'optimize', 'optimized', 'optimizes', 'optimizing', 'optimum', 'option', 'options', 'optionsby', 'oral', 'ordering', 'orderly', 'orders', 'ordersby', 'ordinance', 'ordinarily', 'oregon', 'organic', 'organisation', 'organism', 'organization', 'organizational', 'organizationby', 'organizations', 'organizationsbrotherhood', 'organizationsby', 'organizationsdisputes', 'organizationsliberation', 'organize', 'organized', 'organizing', 'orientation', 'oriented', 'origin', 'original', 'originally', 'originate', 'originated', 'originates', 'originating', 'originator', 'originators', 'origins', 'ornithology', 'orstart', 'ortega', 'ostp', 'othewise', 'otlja', 'otmp', 'outage', 'outcome', 'outcomes', 'outdoor', 'outdoors', 'outer', 'outfitters', 'outline', 'outlined', 'outlining', 'outlook', 'outmoded', 'output', 'outrageous', 'outreach', 'outside', 'outstanding', 'outweigh', 'outweighed', 'outweighs', 'overall', 'overarching', 'overcame', 'overcharging', 'overcome', 'overcoming', 'overdose', 'overflights', 'overhead', 'overlaid', 'overlap', 'overlapping', 'overlaps', 'overlay', 'overpayments', 'override', 'overriding', 'overruled', 'overseas', 'oversee', 'overseeing', 'overseen', 'oversight', 'overstay', 'overt', 'overtime', 'overtly', 'overview', 'overwhelmed', 'owed', 'owes', 'owned', 'owners', 'ownership', 'owns', 'oxide', 'ozone', 'p5', 'pace', 'pacha', 'pacific', 'package', 'packaged', 'packages', 'packaging', 'padron', 'pages', 'paid', 'pain', 'pakistan', 'palestine', 'palestinian', 'pam', 'pamphlets', 'pandemic', 'panel', 'panelby', 'panels', 'paper', 'papers', 'paperwork', 'paradigms', 'paradzai', 'paragraph', 'paragraphs', 'parallel', 'parallels', 'parameters', 'paramilitary', 'paramount', 'paraphrased', 'paraphrasing', 'paraprofessional', 'parastatals', 'pardoned', 'parent', 'parental', 'parentis', 'parents', 'parirenyatwa', 'park', 'parking', 'parks', 'parliament', 'parliamentary', 'parole', 'paroled', 'pars', 'parthenogenesis', 'partial', 'partially', 'participant', 'participants', 'participate', 'participated', 'participates', 'participating', 'participation', 'participationby', 'particles', 'particular', 'particularly', 'parties', 'partner', 'partnering', 'partners', 'partnership', 'partnerships', 'parts', 'pas', 'paso', 'pass', 'passage', 'passenger', 'passes', 'passing', 'passport', 'passports', 'past', 'patch', 'patchwork', 'patent', 'patents', 'path', 'paths', 'pathway', 'pathways', 'patient', 'patients', 'patrick', 'patriot', 'patrol', 'pattern', 'patterns', 'paul', 'pause', 'pay', 'payable', 'payby', 'paycheck', 'payers', 'paying', 'payment', 'payments', 'paymentsby', 'pbis', 'pcast', 'pcpmb', 'pdvsa', 'peace', 'peaceful', 'peacekeepers', 'peacekeeping', 'peacetime', 'peak', 'pearl', 'pecuniarily', 'pecuniary', 'pedestrian', 'peer', 'peers', 'peis', 'pelagic', 'penal', 'penalize', 'penalties', 'penalty', 'pendency', 'pending', 'penetration', 'peninsula', 'pennsylvania', 'pension', 'pentagon', 'pentanes', 'peonage', 'people', 'peoplea', 'peopleby', 'peoples', 'pep', 'perab', 'perceive', 'perceives', 'percent', 'percentage', 'percentages', 'perence', 'perez', 'perfluorocarbons', 'perform', 'performance', 'performanceby', 'performed', 'performers', 'performing', 'performs', 'perimeter', 'period', 'periodic', 'periodically', 'periods', 'permafrost', 'permanent', 'permanently', 'permissible', 'permission', 'permissive', 'permit', 'permits', 'permitted', 'permittee', 'permitting', 'perpetrate', 'perpetrated', 'perpetrators', 'perpetuate', 'perpetuated', 'persecuted', 'persecution', 'persist', 'persisted', 'persistence', 'persistent', 'personal', 'personally', 'personnel', 'personnelsec', 'persons', 'personsby', 'perspective', 'perspectives', 'persuade', 'pertain', 'pertaining', 'pertains', 'pertinent', 'pervasive', 'pervasiveness', 'pest', 'petaflop', 'petaflops', 'petition', 'petitioned', 'petitions', 'petrochemical', 'petrochemicals', 'petroleos', 'petroleum', 'petty', 'pharmaceutical', 'pharmacists', 'phase', 'phased', 'phases', 'phasing', 'phenomena', 'philanthropic', 'philanthropies', 'philanthropy', 'philosophy', 'phone', 'phones', 'phonograms', 'phosphorus', 'phrase', 'phsac', 'physical', 'physically', 'physician', 'physicians', 'physiographic', 'piab', 'pick', 'pictures', 'pietri', 'pillaging', 'pillar', 'pillars', 'pilot', 'pilots', 'pine', 'pinnacles', 'pioneer', 'pipeline', 'pipelines', 'piracy', 'pitf', 'piv', 'place', 'placed', 'placement', 'placements', 'places', 'placing', 'plague', 'plain', 'plains', 'plan', 'planet', 'planned', 'planning', 'plans', 'plant', 'plants', 'plaques', 'platform', 'platforms', 'play', 'played', 'playing', 'plays', 'plea', 'pleaded', 'pleas', 'pleasure', 'pledge', 'pledged', 'pledges', 'pledging', 'plot', 'plug', 'plunder', 'pluralism', 'plurilateral', 'pluripotent', 'plus', 'pm', 'pmab', 'pmbla', 'pmc', 'pmf', 'pmfs', 'pneumonia', 'poaching', 'pob', 'pocket', 'podujevo', 'point', 'pointed', 'points', 'poisons', 'polar', 'police', 'policies', 'policing', 'policy', 'policyby', 'policyholder', 'policymakers', 'policymaking', 'politburo', 'political', 'politically', 'politics', 'poll', 'polling', 'pollutant', 'pollutants', 'pollution', 'polygraph', 'polygraphs', 'polynesian', 'pool', 'poole', 'pools', 'poor', 'poorer', 'poorest', 'poorly', 'popular', 'population', 'populations', 'porous', 'port', 'portable', 'portal', 'portals', 'portfolio', 'portion', 'portions', 'portland', 'ports', 'pose', 'posed', 'poses', 'posing', 'position', 'positioning', 'positions', 'positive', 'positively', 'possess', 'possessed', 'possesses', 'possession', 'possessions', 'possessory', 'possibilities', 'possibility', 'possible', 'post', 'postal', 'postconsumer', 'posted', 'posthumously', 'posting', 'postmaster', 'posts', 'postsecondary', 'potable', 'potassium', 'pote', 'potential', 'potentially', 'pov', 'poverty', 'power', 'powered', 'powers', 'pp', 'ppaca', 'ppd', 'practicable', 'practical', 'practice', 'practices', 'practitioners', 'pre', 'preamble', 'preamblethe', 'precautionary', 'precautions', 'precede', 'preceded', 'precedence', 'precedent', 'precedents', 'precedes', 'preceding', 'precious', 'precipitation', 'precision', 'preclude', 'precluded', 'precludes', 'precursor', 'predecessor', 'predecessors', 'predicated', 'predict', 'predictability', 'predictable', 'predicted', 'prediction', 'predictions', 'predominantly', 'preempting', 'preemption', 'preempts', 'preexisting', 'preferable', 'preference', 'preferences', 'preferred', 'prehistoric', 'prejudice', 'prejudicial', 'preliminary', 'premier', 'premises', 'premium', 'preparation', 'preparations', 'preparatory', 'prepare', 'prepared', 'preparedness', 'preparednessby', 'prepares', 'preparing', 'prepublication', 'prerequisites', 'prerogatives', 'preschools', 'prescribe', 'prescribed', 'prescribes', 'prescribing', 'prescription', 'presence', 'presences', 'present', 'presentation', 'presented', 'presentencing', 'presenting', 'presently', 'presents', 'preservation', 'preserve', 'preserves', 'preserving', 'presevo', 'preside', 'presided', 'presidency', 'presidential', 'presidentially', 'presidents', 'presiding', 'press', 'pressing', 'pressure', 'pressures', 'presume', 'presumed', 'pretense', 'pretenses', 'pretoria', 'pretrial', 'prevailing', 'prevalence', 'prevent', 'prevented', 'preventer', 'preventing', 'prevention', 'preventionby', 'preventive', 'prevents', 'previous', 'previously', 'price', 'prices', 'pride', 'primarily', 'primary', 'prime', 'princeville', 'principal', 'principals', 'principle', 'principles', 'principlesby', 'print', 'printing', 'prior', 'priorities', 'prioritization', 'prioritize', 'prioritized', 'prioritizes', 'prioritizing', 'priority', 'prison', 'prisoner', 'prisoners', 'prisons', 'privacy', 'private', 'privately', 'privilege', 'privileged', 'privileges', 'pro', 'proactive', 'proactively', 'probability', 'probation', 'probationary', 'probationer', 'problem', 'problems', 'procedure', 'procedures', 'proceed', 'proceeding', 'proceedings', 'proceeds', 'process', 'processed', 'processes', 'processing', 'proclaim', 'proclamation', 'proclamations', 'procure', 'procured', 'procurement', 'procurements', 'procuring', 'produce', 'produced', 'producers', 'produces', 'producing', 'product', 'production', 'productive', 'productivity', 'products', 'professional', 'professionalism', 'professionally', 'professionals', 'professions', 'proffered', 'proficiency', 'profile', 'profit', 'profits', 'progeny', 'program', 'programby', 'programmatic', 'programmes', 'programming', 'programs', 'programsby', 'progress', 'progressions', 'progressive', 'prohibit', 'prohibited', 'prohibiting', 'prohibition', 'prohibitions', 'prohibits', 'project', 'projected', 'projects', 'projectsby', 'proliferation', 'proliferators', 'prolonged', 'prominent', 'prominently', 'promise', 'promising', 'promote', 'promoters', 'promotes', 'promoting', 'promotion', 'promotional', 'prompt', 'prompted', 'promptly', 'promulgate', 'promulgated', 'promulgates', 'promulgating', 'promulgation', 'pronounced', 'proof', 'propaganda', 'propelled', 'proper', 'properly', 'properties', 'property', 'propertyby', 'proportion', 'proportionality', 'proposal', 'proposals', 'propose', 'proposed', 'proposes', 'proposing', 'proprietary', 'proprietorships', 'propylene', 'proscribe', 'prosecute', 'prosecuted', 'prosecuting', 'prosecution', 'prosecutions', 'prosecutor', 'prosecutorial', 'prosecutors', 'proselytization', 'prospective', 'prospects', 'prospering', 'prosperity', 'prosperityby', 'prosperous', 'protect', 'protected', 'protectees', 'protecting', 'protection', 'protections', 'protective', 'protects', 'proteins', 'protestors', 'protests', 'protocol', 'protocols', 'protracted', 'protégé', 'proved', 'proven', 'provenance', 'provide', 'provided', 'provider', 'providers', 'provides', 'providing', 'provincial', 'provision', 'provisional', 'provisionssec', 'provisos', 'provocative', 'proximity', 'prudent', 'prudently', 'psd', 'psm', 'pstart', 'psychology', 'psychotherapist', 'pub', 'public', 'publication', 'publications', 'publicity', 'publicize', 'publicized', 'publicizing', 'publicly', 'publish', 'published', 'publishes', 'pueblo', 'puerto', 'pulled', 'pumping', 'pumps', 'punishable', 'punishment', 'punishments', 'punitive', 'purchase', 'purchased', 'purchaser', 'purchasers', 'purchases', 'purchasing', 'purely', 'purple', 'purported', 'purporting', 'purpose', 'purposes', 'pursuant', 'pursue', 'pursued', 'pursuing', 'pursuit', 'purview', 'pushing', 'pérez', 'qa', 'qaeda', 'qaida', 'qq', 'qrb', 'quadrennial', 'quadrillion', 'qualification', 'qualifications', 'qualified', 'qualifies', 'qualify', 'qualifying', 'qualitative', 'qualities', 'quality', 'qualitysec', 'quantifiable', 'quantification', 'quantify', 'quantitative', 'quantities', 'quantity', 'quarantinable', 'quarter', 'quarterly', 'quarters', 'query', 'question', 'questions', 'quick', 'quickly', 'quieting', 'quit', 'quorum', 'race', 'races', 'racial', 'racketeering', 'radiation', 'radicalization', 'radicalized', 'radio', 'radiological', 'rafidain', 'ragins', 'rail', 'railroad', 'railroads', 'railway', 'railways', 'rain', 'rainfall', 'raise', 'raised', 'raises', 'raising', 'raita', 'ramiz', 'rampant', 'ranchers', 'range', 'rangeland', 'ranges', 'rank', 'ranked', 'ranking', 'ranks', 'rapanos', 'rape', 'rapes', 'rapid', 'rapidly', 'rare', 'rasheed', 'ratb', 'rate', 'rated', 'rates', 'ratification', 'ratifying', 'rating', 'ratings', 'ratio', 'rationale', 'rationalize', 'ravages', 'raw', 'reach', 'reached', 'reaches', 'reaching', 'reaction', 'reactive', 'reactor', 'reactors', 'read', 'readable', 'readily', 'readiness', 'reading', 'readjusted', 'readjustment', 'reads', 'ready', 'reaffirm', 'reaffirmation', 'reaffirmed', 'reaffirms', 'real', 'realign', 'realignment', 'realigns', 'realize', 'reap', 'reappointed', 'reappointment', 'rear', 'reason', 'reasonable', 'reasonably', 'reasoned', 'reasons', 'reassert', 'reassertion', 'reassess', 'reassessing', 'reassessment', 'reassign', 'reassignment', 'reassignments', 'reauthorization', 'reauthorized', 'rebel', 'rebuild', 'rebuilding', 'recalcitrant', 'recalibrate', 'receipt', 'receivable', 'receive', 'received', 'receives', 'receiving', 'recent', 'recently', 'recessed', 'recharter', 'recidivism', 'recipient', 'recipients', 'reciprocal', 'reciprocally', 'reciprocity', 'reckless', 'reclassification', 'reclassified', 'reclassify', 'recodified', 'recognition', 'recognize', 'recognized', 'recognizes', 'recognizing', 'recommend', 'recommendation', 'recommendations', 'recommended', 'recommending', 'recommends', 'reconcile', 'reconciled', 'reconciliation', 'reconnaissance', 'reconsider', 'reconsideration', 'reconstruct', 'reconstructed', 'reconstruction', 'record', 'recorded', 'recording', 'recordings', 'recordkeeping', 'records', 'recordsby', 'recover', 'recovered', 'recovering', 'recovers', 'recovery', 'recreation', 'recreational', 'recruit', 'recruited', 'recruiting', 'recruitment', 'recs', 'recurring', 'recycle', 'recycled', 'recycling', 'red', 'redelegate', 'redelegated', 'redelegation', 'redesignate', 'redesignated', 'redesignating', 'redevelopment', 'redirected', 'redirecting', 'redisclosure', 'redistribution', 'redress', 'reduce', 'reduced', 'reduces', 'reducing', 'reduction', 'reductions', 'redundant', 'reef', 'reefs', 'reemergent', 'reemployment', 'reengagement', 'reenter', 'reentering', 'reentry', 'reentryby', 'reestablish', 'reestablished', 'reestablishing', 'reestablishment', 'reevaluate', 'reevaluating', 'reexport', 'reexportation', 'reexported', 'reexports', 'ref', 'refer', 'reference', 'referenced', 'references', 'referral', 'referrals', 'referred', 'referring', 'refers', 'refined', 'refineries', 'refines', 'refining', 'reflect', 'reflected', 'reflecting', 'reflective', 'reflects', 'reform', 'reformby', 'reformed', 'reforming', 'reforms', 'refrain', 'refueling', 'refuge', 'refugee', 'refugees', 'refuges', 'refusal', 'refuse', 'refusing', 'reg', 'regain', 'regard', 'regarding', 'regardless', 'regards', 'regime', 'region', 'regional', 'regionally', 'regionby', 'regions', 'register', 'registered', 'registering', 'registers', 'registrants', 'registration', 'registrations', 'registry', 'regular', 'regularity', 'regularly', 'regulate', 'regulated', 'regulating', 'regulation', 'regulations', 'regulationsby', 'regulators', 'regulatory', 'rehabilitation', 'rehearing', 'reimbursable', 'reimbursed', 'reimbursement', 'reimported', 'reimposing', 'reinforce', 'reinforced', 'reinforces', 'reinstated', 'reinstitute', 'reintegrating', 'reintegration', 'reinvestigations', 'reinvestment', 'reinvigorate', 'reissue', 'reissuing', 'rejected', 'rejection', 'reka', 'relabeled', 'relate', 'related', 'relates', 'relating', 'relation', 'relations', 'relationship', 'relationships', 'relative', 'relatively', 'relay', 'release', 'released', 'releases', 'releasing', 'relettering', 'relevance', 'relevant', 'reliability', 'reliable', 'reliance', 'reliant', 'relied', 'relief', 'relies', 'relieve', 'relieves', 'religion', 'religions', 'religious', 'relocated', 'relocates', 'relocating', 'relocation', 'relocations', 'rely', 'relying', 'remain', 'remainder', 'remained', 'remaining', 'remains', 'remarkable', 'remedial', 'remediate', 'remediation', 'remedies', 'remedy', 'reminded', 'remote', 'remotely', 'removable', 'removal', 'removals', 'remove', 'removed', 'removing', 'rename', 'renamed', 'renames', 'renaming', 'render', 'rendered', 'rendering', 'renegotiate', 'renegotiated', 'renegotiating', 'renegotiation', 'renewable', 'renewal', 'renewals', 'renewed', 'renewing', 'renovated', 'renovation', 'renovations', 'rentable', 'rental', 'rented', 'renumber', 'renumbered', 'renumbering', 'reopen', 'reorganization', 'reorganize', 'reorganizing', 'repair', 'repatriate', 'repatriated', 'repatriation', 'repay', 'repeal', 'repealed', 'repealing', 'repeatable', 'repeated', 'repeatedly', 'replace', 'replaced', 'replacement', 'replacing', 'replicated', 'replicating', 'replication', 'reply', 'report', 'reported', 'reporter', 'reporting', 'reports', 'repose', 'repositories', 'repository', 'represent', 'representation', 'representational', 'representative', 'representatives', 'represented', 'representing', 'represents', 'repress', 'repression', 'repressive', 'reprimand', 'reprimanded', 'reprocessing', 'reproduce', 'reproduced', 'reproduction', 'reprogram', 'reprogrammings', 'republic', 'republicby', 'republics', 'reputation', 'request', 'requested', 'requester', 'requesters', 'requesting', 'requests', 'require', 'required', 'requirement', 'requirements', 'requirementssec', 'requires', 'requiring', 'resale', 'rescind', 'rescinded', 'rescinding', 'rescission', 'rescissions', 'rescue', 'research', 'researcher', 'researchers', 'resegregation', 'reservation', 'reservations', 'reserve', 'reserveby', 'reserved', 'reserves', 'reserving', 'reservist', 'reservoirs', 'resettlement', 'resettling', 'reshape', 'reside', 'residence', 'resident', 'residential', 'residents', 'residual', 'resigned', 'resigns', 'resilience', 'resilienceby', 'resiliency', 'resilient', 'resist', 'resistant', 'resolution', 'resolutions', 'resolve', 'resolved', 'resolving', 'resonant', 'resource', 'resourced', 'resources', 'resourcesby', 'respect', 'respected', 'respecting', 'respective', 'respectively', 'respects', 'respiratory', 'respond', 'responded', 'responder', 'responders', 'responding', 'responds', 'response', 'responseby', 'responses', 'responsibilities', 'responsibility', 'responsible', 'responsibly', 'responsive', 'responsively', 'responsiveness', 'restated', 'restating', 'restitution', 'restoration', 'restorationby', 'restorationsec', 'restore', 'restoring', 'restrain', 'restraining', 'restraint', 'restrict', 'restricted', 'restricting', 'restriction', 'restrictions', 'restrictive', 'restructuring', 'result', 'resulted', 'resulting', 'results', 'resume', 'resumption', 'resurgence', 'retail', 'retain', 'retained', 'retaining', 'retains', 'retaliation', 'retardation', 'retention', 'retired', 'retirement', 'retraining', 'retribution', 'retrieval', 'retroactive', 'retrofitting', 'retrospective', 'return', 'returned', 'returning', 'reuben', 'reuse', 'rev', 'reveal', 'revealed', 'revealing', 'reveals', 'revenue', 'revenues', 'reversal', 'reversed', 'reverses', 'review', 'reviewable', 'reviewby', 'reviewed', 'reviewers', 'reviewing', 'reviews', 'reviewsby', 'reviewsec', 'revise', 'revised', 'revising', 'revision', 'revisions', 'revitalization', 'revitalize', 'revived', 'revocation', 'revocations', 'revoke', 'revoked', 'revokes', 'revoking', 'revolution', 'revolutionary', 'reward', 'rewarding', 'rewards', 'rexhep', 'rhinehart', 'rhinos', 'rial', 'rials', 'ribbons', 'rich', 'richard', 'rico', 'ricoby', 'ridge', 'ridicule', 'riding', 'rigging', 'rights', 'rigidities', 'rigorous', 'rigorously', 'rise', 'rising', 'risk', 'risks', 'risksby', 'risky', 'rivals', 'river', 'rla', 'rmp', 'rna', 'road', 'roadmap', 'roads', 'roadway', 'roadways', 'robbery', 'robert', 'robotic', 'robust', 'rod', 'rogatien', 'rogation', 'role', 'roles', 'roll', 'rolling', 'rolls', 'roofs', 'root', 'rooted', 'rope', 'rose', 'rotate', 'rotated', 'rotating', 'rotation', 'rotations', 'rough', 'roughly', 'round', 'rounded', 'route', 'routes', 'routine', 'routinely', 'routing', 'royalties', 'rr', 'rrts', 'rrustem', 'rubies', 'rubiesby', 'ruf', 'rugare', 'ruiz', 'rule', 'ruleby', 'ruled', 'rulemaking', 'rulemakings', 'rules', 'ruling', 'rulings', 'run', 'running', 'runs', 'rural', 'rusere', 'russia', 'russian', 'ryonbong', 'saa', 'sabina', 'sabit', 'sac', 'sacrifices', 'sacs', 'saddam', 'saddled', 'safe', 'safeguard', 'safeguarded', 'safeguarding', 'safeguardingsec', 'safeguards', 'safely', 'safer', 'safety', 'safetyby', 'saharan', 'said', 'sailors', 'saint', 'sakupwanya', 'salameh', 'salaries', 'salary', 'sale', 'sales', 'salinity', 'sami', 'samoa', 'sample', 'samples', 'samuel', 'san', 'sanction', 'sanctioned', 'sanctions', 'sanctionsby', 'sanctuaries', 'sanctuary', 'sanitation', 'sap', 'saps', 'sar', 'sars', 'satellite', 'satellites', 'satisfaction', 'satisfactory', 'satisfied', 'satisfies', 'satisfy', 'satisfying', 'saturday', 'save', 'saved', 'saving', 'savings', 'saviour', 'saxatilis', 'sba', 'sbst', 'sc2', 'scalable', 'scale', 'scales', 'scalia', 'scaling', 'scarce', 'scc', 'scenic', 'schaper', 'schedule', 'scheduled', 'schedules', 'scheme', 'scholarly', 'scholars', 'scholarship', 'scholarships', 'school', 'schools', 'sci', 'sciaenops', 'science', 'sciences', 'scientific', 'scientifically', 'scientists', 'scope', 'score', 'scorecard', 'scorecards', 'scoring', 'scourge', 'screen', 'screening', 'screenings', 'scriptures', 'scrupulously', 'scrutinizing', 'scrutiny', 'sdn', 'sea', 'seabed', 'seabird', 'seabirds', 'seal', 'sealed', 'seamless', 'seamlessly', 'seamounts', 'seaport', 'search', 'searches', 'seas', 'seasonal', 'seasonally', 'seats', 'seattle', 'seaward', 'seaway', 'second', 'secondary', 'secret', 'secretariat', 'secretaries', 'secretary', 'secreting', 'secrets', 'sect', 'section1', 'sections', 'sector', 'sectoral', 'sectors', 'sects', 'secure', 'secured', 'securely', 'securing', 'securities', 'security', 'securityby', 'sedan', 'sediment', 'sediments', 'seed', 'seek', 'seeking', 'seeks', 'seen', 'segments', 'segregate', 'segregated', 'segregation', 'seismic', 'seizure', 'sekeramayi', 'select', 'selected', 'selecting', 'selection', 'selections', 'selective', 'selectusa', 'self', 'selina', 'sell', 'sellers', 'selling', 'semi', 'semiannually', 'semicolon', 'semiconductor', 'senate', 'send', 'senior', 'seniority', 'seniors', 'sense', 'sensitive', 'sensitivity', 'sent', 'sentence', 'sentenced', 'sentences', 'sentencing', 'sep', 'separate', 'separated', 'separately', 'separating', 'separation', 'separationby', 'sept', 'septa', 'september', 'seq', 'sequencing', 'sequential', 'sequestered', 'sequestration', 'serbia', 'sercs', 'serial', 'series', 'seriously', 'servant', 'serve', 'served', 'servers', 'serves', 'service', 'serviceby', 'servicemember', 'services', 'servicesby', 'serving', 'servitude', 'ses', 'session', 'sessions', 'set', 'sets', 'setting', 'settings', 'settled', 'settlement', 'settlements', 'settling', 'seven', 'seventh', 'severability', 'severe', 'severely', 'severity', 'sewage', 'sewer', 'sex', 'sexes', 'sexual', 'sexually', 'sfor', 'shabaab', 'shahid', 'shallow', 'shamuyarira', 'shaped', 'shaping', 'shaqir', 'share', 'shared', 'shareholder', 'sharing', 'sharingby', 'sharks', 'shefqet', 'shelf', 'shelter', 'sheltering', 'shield', 'shift', 'shifts', 'ship', 'shipbuilding', 'shipments', 'shipping', 'ships', 'shipwrecked', 'shiri', 'shoals', 'shop', 'shorebird', 'shorelines', 'shores', 'short', 'shortage', 'shortages', 'shortagesby', 'shortcomings', 'shortening', 'shorter', 'shortfalls', 'shortly', 'showcase', 'showed', 'showing', 'shown', 'shows', 'shumba', 'shuttle', 'shuvai', 'sibling', 'sick', 'sidebar', 'sides', 'sidney', 'sierra', 'sign', 'signal', 'signalmen', 'signals', 'signatories', 'signatory', 'signature', 'signed', 'significance', 'significant', 'significantly', 'signing', 'signs', 'sikhanyiso', 'sikosana', 'silver', 'similar', 'similarly', 'simon', 'simple', 'simplicity', 'simplified', 'simplify', 'simplifying', 'simply', 'simulation', 'simulations', 'simultaneously', 'single', 'sinking', 'sips', 'site', 'sites', 'sithembiso', 'sithokozile', 'siting', 'sitings', 'sitting', 'situ', 'situated', 'situation', 'situational', 'situations', 'sixteen', 'sixth', 'size', 'sized', 'sjfhq', 'skender', 'skhirat', 'ski', 'skill', 'skilled', 'skills', 'skillsets', 'sl', 'slaughter', 'slavery', 'slaves', 'slight', 'slobodan', 'slovacek', 'slow', 'slowed', 'slt', 'sltps', 'slurry', 'small', 'smaller', 'smallest', 'smallpox', 'smarter', 'smartphones', 'smartway', 'smith', 'smoking', 'sms', 'smuggled', 'smuggling', 'snap', 'snyder', 'socafrica', 'soccent', 'soceur', 'social', 'socialist', 'socially', 'societal', 'societies', 'society', 'socioeconomic', 'sockor', 'socnorth', 'socpac', 'socsouth', 'software', 'soics', 'soils', 'solar', 'sold', 'soldier', 'soldiers', 'sole', 'solely', 'solemn', 'solicit', 'solicitation', 'solicitations', 'solicited', 'soliciting', 'solicitor', 'solid', 'solidarity', 'solis', 'solitary', 'solomon', 'solution', 'solutions', 'solutionsby', 'solve', 'solving', 'somali', 'somalia', 'somaliaby', 'somatic', 'soon', 'sooner', 'soonest', 'sophisticated', 'sought', 'sound', 'source', 'sourced', 'sources', 'sourcing', 'south', 'southeast', 'southeastern', 'southern', 'southwest', 'sovereign', 'sovereignty', 'soviet', 'space', 'spacecraft', 'spaceflight', 'spaces', 'span', 'spangled', 'spawn', 'spcm', 'spcms', 'speak', 'speaker', 'special', 'specialists', 'specialized', 'specializes', 'specially', 'species', 'specific', 'specifically', 'specification', 'specifications', 'specificity', 'specified', 'specifies', 'specify', 'specifying', 'spectacular', 'spectrum', 'speech', 'speed', 'speeding', 'speedy', 'spend', 'spending', 'spendingby', 'spends', 'spent', 'sphere', 'spill', 'spills', 'spirit', 'spog', 'sponsor', 'sponsored', 'sponsoring', 'sponsors', 'sponte', 'sports', 'sportsby', 'spouse', 'spouses', 'spread', 'spur', 'spurred', 'spurring', 'square', 'srbica', 'ss', 'st', 'stability', 'stabilization', 'stabilize', 'stabilizing', 'stable', 'stacked', 'staff', 'staffby', 'staffed', 'staffing', 'stafford', 'stage', 'stages', 'stagnation', 'stakeholder', 'stakeholders', 'stan', 'standard', 'standardby', 'standardization', 'standardized', 'standardizing', 'standards', 'standby', 'standing', 'stanislaus', 'stanley', 'star', 'starches', 'stars', 'started', 'starting', 'startups', 'stat', 'state', 'stated', 'stateless', 'statement', 'statements', 'statesa', 'statesappendix', 'statesby', 'statesstart', 'statesthe', 'stateswhereas', 'stating', 'station', 'stationary', 'stations', 'statisby', 'statistical', 'statistics', 'stature', 'status', 'statusby', 'statute', 'statutes', 'statutorily', 'statutory', 'stay', 'steadfast', 'steadfastly', 'steady', 'steam', 'steamship', 'steel', 'steering', 'stem', 'stemming', 'step', 'stephen', 'stepparent', 'steps', 'sterile', 'steroid', 'stevedore', 'stevens', 'steward', 'stewarding', 'stewards', 'stewardship', 'stifle', 'stimulate', 'stldi', 'stockpile', 'stockpiles', 'stockpiling', 'stolen', 'stones', 'stop', 'stopping', 'stops', 'storage', 'store', 'stored', 'storing', 'storm', 'storms', 'stormwater', 'straight', 'straightforward', 'strain', 'strait', 'straits', 'strategic', 'strategically', 'strategies', 'strategy', 'strategyby', 'stream', 'streamline', 'streamlined', 'streamlining', 'streams', 'streets', 'strength', 'strengthen', 'strengthened', 'strengthening', 'strengthens', 'strengths', 'stress', 'stressors', 'stretch', 'strict', 'strife', 'strike', 'strikeforce', 'strikes', 'striking', 'stringent', 'striped', 'strive', 'striving', 'strong', 'strongest', 'strongly', 'structural', 'structure', 'structured', 'structures', 'struggle', 'stuart', 'student', 'students', 'studies', 'study', 'studying', 'styled', 'sua', 'sub', 'subarea', 'subcategories', 'subcategory', 'subchapter', 'subcommittee', 'subcommittees', 'subcomponent', 'subcomponents', 'subcontinent', 'subcontract', 'subcontracting', 'subcontractor', 'subcontractors', 'subcontracts', 'subdivision', 'subdivisions', 'subgroup', 'subgroups', 'subject', 'subjected', 'subjecting', 'subjection', 'subjects', 'submarine', 'submerged', 'submetering', 'submission', 'submissions', 'submit', 'submits', 'submittal', 'submitted', 'submitting', 'subordinate', 'subpar', 'subparagraph', 'subparagraphs', 'subpart', 'subparts', 'subpoena', 'subpopulations', 'subrecipients', 'subsection', 'subsections', 'subsector', 'subsequent', 'subsequently', 'subset', 'subsidiaries', 'subsidiary', 'subsidies', 'subsidized', 'subsidy', 'subsistence', 'subsoil', 'substance', 'substances', 'substandard', 'substantial', 'substantially', 'substitute', 'substituted', 'substitutes', 'substituting', 'substitution', 'subsume', 'subtitle', 'suburban', 'succeed', 'succeeded', 'succeeding', 'succeeds', 'success', 'successes', 'successful', 'successfully', 'succession', 'successionby', 'successive', 'successor', 'successors', 'sudan', 'sudanby', 'suffer', 'suffered', 'suffering', 'suffers', 'sufficiency', 'sufficient', 'sufficiently', 'sugars', 'suggest', 'suggesting', 'suggestion', 'suggestions', 'suggests', 'suicide', 'suit', 'suitability', 'suitable', 'suited', 'suits', 'sulfur', 'sum', 'summarize', 'summarized', 'summarizes', 'summarizing', 'summary', 'summer', 'summit', 'summits', 'sun', 'sunset', 'sunspots', 'superfund', 'superior', 'superiority', 'supersede', 'superseded', 'supersedes', 'superseding', 'supersedure', 'supervise', 'supervised', 'supervision', 'supervisor', 'supervisors', 'supervisory', 'supplant', 'supplement', 'supplemental', 'supplementary', 'supplemented', 'supplementing', 'supplements', 'supplied', 'supplier', 'suppliers', 'supplies', 'supply', 'supplying', 'supplysec', 'support', 'supported', 'supportersby', 'supporting', 'supportive', 'supports', 'suppression', 'supreme', 'surety', 'surface', 'surge', 'surgeon', 'surplus', 'surpluses', 'surrogates', 'surrounding', 'surveillance', 'survey', 'surveying', 'surveys', 'survival', 'survive', 'survivor', 'survivors', 'susceptible', 'suspected', 'suspend', 'suspended', 'suspending', 'suspension', 'suspensions', 'suspicion', 'sustain', 'sustainability', 'sustainable', 'sustainably', 'sustained', 'sustaining', 'sustainment', 'suva', 'swap', 'swapping', 'swift', 'swiftly', 'swimmable', 'swithun', 'sworn', 'symbolizes', 'symbols', 'sympathizers', 'symptoms', 'synchronization', 'synchronize', 'synchronized', 'synchronizing', 'syndicates', 'syndrome', 'syndromes', 'synergistic', 'synthesis', 'synthesized', 'syria', 'syriaby', 'syrian', 'systematic', 'systematically', 'systemby', 'systemic', 'systems', 'table', 'tablet', 'tabulation', 'tacit', 'tactical', 'tactics', 'tahir', 'tahrik', 'tahrike', 'tailor', 'tailored', 'taken', 'takeoffs', 'takers', 'takes', 'taking', 'takings', 'taleban', 'talent', 'talented', 'talents', 'taliban', 'talibano', 'talks', 'talon', 'tampering', 'tanchon', 'tangent', 'tangible', 'tanishec', 'tap', 'target', 'targeted', 'targeting', 'targets', 'tariff', 'task', 'tasked', 'taskforces', 'tasking', 'taskings', 'tasks', 'tawengwa', 'tax', 'taxes', 'taxidermy', 'taxpayer', 'taxpayers', 'taylor', 'taylorby', 'tcus', 'teach', 'teacher', 'teachers', 'teaching', 'team', 'teams', 'teamwork', 'technical', 'techniques', 'technological', 'technologies', 'technologists', 'technology', 'technologyby', 'telecommunications', 'telecommuting', 'teleconferencing', 'telematics', 'telephone', 'telephony', 'telework', 'teller', 'temperament', 'temperature', 'temperatures', 'templates', 'tempo', 'temporal', 'temporarily', 'temporary', 'tend', 'tendency', 'tendering', 'tends', 'tenet', 'tens', 'tension', 'tenure', 'tepcs', 'tercs', 'term', 'terminal', 'terminate', 'terminated', 'terminates', 'terminating', 'termination', 'terms', 'terrestrial', 'territorial', 'territories', 'territory', 'terror', 'terrorism', 'terrorismby', 'terrorist', 'terrorists', 'test', 'tested', 'testify', 'testimony', 'testing', 'tests', 'tetovo', 'texas', 'text', 'textbooks', 'textile', 'textiles', 'texting', 'thawing', 'theft', 'theftby', 'thefts', 'thehead', 'thenjiwe', 'theology', 'theories', 'therapeutic', 'therefor', 'thereof', 'thereon', 'thereto', 'thereunder', 'therewith', 'thermal', 'things', 'thirds', 'thirty', 'thnsp', 'thorough', 'thoroughly', 'thousand', 'thousands', 'threat', 'threaten', 'threatened', 'threatening', 'threatens', 'threats', 'threatsby', 'threshold', 'thresholds', 'thrift', 'thursday', 'thwart', 'tiara', 'tibbs', 'tibet', 'tidal', 'tie', 'tied', 'tier', 'tiered', 'tiering', 'ties', 'tigers', 'timber', 'time', 'timeline', 'timelines', 'timeliness', 'timely', 'times', 'timetable', 'timetables', 'timing', 'tinker', 'tinos', 'tion', 'tipped', 'tips', 'title', 'titles', 'tmwg', 'tobacco', 'today', 'token', 'tolerance', 'toll', 'toluene', 'tom', 'tons', 'took', 'tool', 'tools', 'topic', 'topics', 'topographic', 'topographical', 'tornadoes', 'torres', 'tort', 'torture', 'total', 'totaling', 'totally', 'totals', 'touching', 'tourism', 'tourist', 'tours', 'towers', 'town', 'towns', 'township', 'toxic', 'toxins', 'tpcc', 'tra', 'track', 'tracked', 'tracking', 'trade', 'tradeby', 'tradecraft', 'traded', 'trademark', 'trademarks', 'tradeoff', 'trades', 'trading', 'traditional', 'traditionally', 'traditions', 'tradoc', 'traffic', 'trafficked', 'traffickers', 'trafficking', 'traffickingby', 'tragedies', 'tragic', 'tragically', 'trail', 'trails', 'train', 'trained', 'training', 'trainmen', 'trainmena', 'trainmeninternational', 'transacted', 'transaction', 'transactions', 'transactionsby', 'transcript', 'transfer', 'transferred', 'transferring', 'transfers', 'transform', 'transformation', 'transgender', 'transit', 'transiting', 'transition', 'transitional', 'transitionby', 'transitioning', 'transitions', 'translate', 'transmission', 'transmit', 'transmittal', 'transmitted', 'transmitter', 'transmitting', 'transnational', 'transparency', 'transparent', 'transport', 'transportation', 'transportationby', 'transporting', 'traps', 'trauma', 'travel', 'traveled', 'travelers', 'traveling', 'trawl', 'treasure', 'treasury', 'treasuryby', 'treat', 'treated', 'treaties', 'treating', 'treatment', 'treatments', 'treaty', 'tree', 'tremendous', 'trends', 'tri', 'triable', 'trial', 'trials', 'tribal', 'tribally', 'tribe', 'tribes', 'tribunal', 'tributaries', 'tributary', 'triflouride', 'triggered', 'tripled', 'trolling', 'tropical', 'troubling', 'trucks', 'true', 'truly', 'trump', 'trust', 'trusted', 'trustee', 'trustees', 'trusteeship', 'trustworthy', 'try', 'tsitsi', 'tsra', 'tt', 'tualla', 'tuberculosis', 'tuesday', 'tulare', 'tuna', 'tungamirai', 'turkey', 'turkmenistan', 'turkmenistanby', 'turn', 'turned', 'turnover', 'turns', 'turtle', 'turtles', 'tutors', 'tvpa', 'twea', 'twice', 'twin', 'type', 'types', 'typewritten', 'typical', 'typically', 'uck', 'ucmj', 'ucpmb', 'ukraine', 'ukraineby', 'ulp', 'ultimate', 'ultimately', 'unable', 'unacceptable', 'unacceptably', 'unaccompanied', 'unaffected', 'unallowable', 'unauthorized', 'unavoidable', 'unbroken', 'uncertainty', 'unchanged', 'unclassified', 'unclear', 'uncoated', 'uncontrolled', 'undemocratic', 'undercover', 'undergo', 'undergone', 'undergraduate', 'underground', 'underlying', 'undermine', 'undermined', 'undermines', 'undermining', 'underpresentation', 'underrepresentation', 'underrepresented', 'underserved', 'understand', 'understandable', 'understanding', 'understood', 'undertake', 'undertaken', 'undertakes', 'undertaking', 'undertook', 'underutilized', 'undervaluation', 'underway', 'underwriter', 'undesignated', 'undiagnosed', 'undisturbed', 'undocumented', 'undue', 'unduly', 'unemployed', 'unemployment', 'unequivocally', 'unexpired', 'unfair', 'unfavorable', 'unfilled', 'unfinished', 'unfortunate', 'unfortunately', 'unfriendly', 'unfunded', 'unified', 'uniform', 'uniformed', 'uniformity', 'uniformly', 'unilateral', 'unimagined', 'unincorporated', 'uninhabited', 'unintentional', 'unintentionally', 'union', 'uniona', 'unions', 'unique', 'uniqueness', 'unit', 'unita', 'unitary', 'units', 'unity', 'universal', 'universally', 'universities', 'universitiesby', 'university', 'unjustified', 'unlawful', 'unlawfully', 'unless', 'unlike', 'unlocking', 'unmarried', 'unmet', 'unmitigated', 'unnecessarily', 'unnecessary', 'unpa', 'unpaid', 'unprecedented', 'unprepared', 'unprovoked', 'unquestionably', 'unreasonable', 'unremarried', 'unresolved', 'unrest', 'unrestricted', 'unreviewable', 'unsafe', 'unscr', 'unscrs', 'unstable', 'unsubsidized', 'unsuitable', 'unused', 'unusual', 'unusually', 'unwillingness', 'unworked', 'upcoming', 'update', 'updated', 'updates', 'updating', 'upgrade', 'upgrades', 'upgrading', 'uphold', 'upper', 'uptake', 'uranium', 'urban', 'urdaneta', 'urea', 'urgency', 'urgent', 'urine', 'urosevac', 'uruguay', 'usa', 'usability', 'usable', 'usacidc', 'usafricom', 'usage', 'usaicoe', 'usaid', 'usama', 'usasoc', 'uscentcom', 'uscybercom', 'usda', 'use', 'useable', 'useby', 'used', 'useful', 'usefulness', 'user', 'users', 'uses', 'useucom', 'usgcrp', 'using', 'usnorthcom', 'uspacom', 'usps', 'usrap', 'ussocom', 'ussouthcom', 'usstratcom', 'ust', 'ustr', 'ustranscom', 'usual', 'usually', 'usun', 'usurped', 'utero', 'utete', 'utilities', 'utility', 'utilization', 'utilize', 'utilized', 'utilizes', 'utilizing', 'utmost', 'uu', 'va', 'vacancies', 'vacancy', 'vacant', 'vacate', 'vacated', 'vacating', 'vacation', 'vacations', 'vaccination', 'vaccine', 'valid', 'validate', 'validating', 'validation', 'validity', 'valley', 'valleyby', 'valuable', 'value', 'values', 'valuing', 'vanik', 'variance', 'variations', 'variety', 'various', 'varying', 'vast', 'vegetable', 'vegetated', 'vehicle', 'vehicles', 'vendible', 'vendor', 'vendors', 'venezuela', 'venezuelaby', 'venezuelan', 'vengesai', 'venture', 'verbatim', 'verge', 'verifiable', 'verification', 'verified', 'verify', 'verifying', 'versa', 'version', 'versus', 'vertical', 'vessel', 'vessels', 'vest', 'vesting', 'veteran', 'veterans', 'veterinary', 'veto', 'vetting', 'vi', 'viability', 'viable', 'vibrant', 'vice', 'vicinity', 'victim', 'victimization', 'victims', 'victimsby', 'video', 'videotapes', 'vienna', 'vietnam', 'view', 'viewed', 'viewpoint', 'viewpoints', 'views', 'vigilance', 'vigilant', 'vigorously', 'vii', 'viii', 'village', 'violate', 'violated', 'violates', 'violating', 'violation', 'violations', 'violators', 'violence', 'violent', 'viral', 'virgin', 'virginia', 'virtual', 'virtue', 'virus', 'viruses', 'visa', 'visably', 'visas', 'visibility', 'visibly', 'vision', 'visionary', 'visioning', 'visions', 'visit', 'visitor', 'visitors', 'visits', 'vital', 'vitalis', 'vitality', 'vivas', 'vocational', 'voice', 'voices', 'void', 'voir', 'vojislav', 'volcanic', 'volume', 'voluntarily', 'voluntary', 'volunteer', 'volunteering', 'volunteerism', 'volunteers', 'vote', 'voted', 'voter', 'voters', 'votes', 'voting', 'vulnerabilities', 'vulnerability', 'vulnerable', 'w0', 'w1', 'w9', 'wada', 'wage', 'wages', 'wagon', 'wait', 'waive', 'waived', 'waiver', 'waivers', 'walk', 'wall', 'wanton', 'war', 'ward', 'warehouse', 'warehousing', 'warfare', 'warfighting', 'warming', 'warn', 'warning', 'warnings', 'warrant', 'warranted', 'warrants', 'wash', 'washington', 'waste', 'wasteful', 'wastes', 'wastewater', 'watch', 'watches', 'water', 'waterbird', 'waterfowl', 'waterfront', 'waters', 'watersense', 'watershed', 'watersheds', 'watertrails', 'waterways', 'watt', 'wattage', 'wave', 'waxes', 'way', 'ways', 'weaken', 'weakened', 'weaknesses', 'wealth', 'weapon', 'weapons', 'weaponsby', 'weather', 'web', 'website', 'websites', 'weekly', 'weeks', 'weighing', 'weighted', 'welcome', 'weldon', 'welfare', 'wellness', 'wendell', 'went', 'west', 'western', 'wetlands', 'whale', 'whaling', 'whatsoever', 'wheel', 'whichever', 'whistleblower', 'whitcu', 'whofbci', 'wide', 'widely', 'wider', 'widespread', 'widow', 'widower', 'wielding', 'wilberforce', 'wild', 'wilderness', 'wildfire', 'wildfires', 'wildlife', 'willard', 'willful', 'willfully', 'william', 'willingness', 'win', 'wind', 'wing', 'wings', 'winning', 'wired', 'wireless', 'wireline', 'wise', 'wisely', 'wish', 'wit', 'withdraw', 'withdrawal', 'withdrawing', 'withdrawn', 'withhold', 'withholding', 'withstand', 'witness', 'witnessed', 'witnesses', 'wj', 'wmd', 'woman', 'women', 'wonders', 'wood', 'word', 'words', 'work', 'workday', 'worked', 'worker', 'workerby', 'workers', 'workersa', 'workersby', 'workfare', 'workflow', 'workforce', 'workforceby', 'workforces', 'workgroups', 'working', 'workplace', 'workplaces', 'workplacesby', 'works', 'workshops', 'worksite', 'world', 'worldwide', 'worn', 'worship', 'worthy', 'wound', 'wounded', 'writ', 'write', 'writing', 'writs', 'written', 'wrongdoing', 'wrongful', 'wrongfully', 'wto', 'www', 'xhavit', 'xhevat', 'xi', 'xii', 'xiii', 'xiv', 'xix', 'xv', 'xvi', 'xvii', 'xviii', 'xx', 'xxi', 'xxii', 'xxiii', 'xxiv', 'xxix', 'xxv', 'xxvi', 'xxvii', 'xxviii', 'xxx', 'xxxi', 'xxxii', 'xxxiii', 'xxxiv', 'xylene', 'year', 'yearby', 'yearly', 'years', 'yellow', 'yemen', 'yemeni', 'yield', 'york', 'young', 'younger', 'youth', 'youths', 'yrs', 'yugoslav', 'yugoslavia', 'yunque', 'zero', 'zimbabwe', 'zimbabweby', 'zimondi', 'zone', 'zonepursuant', 'zones', 'zoning', 'zvinavashe']\n"
     ]
    }
   ],
   "source": [
    "\n",
    "class_labels = nb_classifier.classes_\n",
    "\n",
    "feature_names = tfidf_vectorizer.get_feature_names()\n",
    "\n",
    "feat_with_weights = sorted(zip(nb_classifier.coef_[0], feature_names))\n",
    "\n",
    "print(class_labels[0], feat_with_weights[:20])\n",
    "\n",
    "print(class_labels[1], feat_with_weights[:20])\n"
   ]
  },
  {
   "cell_type": "code",
   "execution_count": null,
   "metadata": {},
   "outputs": [],
   "source": []
  }
 ],
 "metadata": {
  "kernelspec": {
   "display_name": "Python 3",
   "language": "python",
   "name": "python3"
  },
  "language_info": {
   "codemirror_mode": {
    "name": "ipython",
    "version": 3
   },
   "file_extension": ".py",
   "mimetype": "text/x-python",
   "name": "python",
   "nbconvert_exporter": "python",
   "pygments_lexer": "ipython3",
   "version": "3.6.4"
  }
 },
 "nbformat": 4,
 "nbformat_minor": 2
}
