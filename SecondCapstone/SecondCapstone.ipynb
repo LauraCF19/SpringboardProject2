{
 "cells": [
  {
   "cell_type": "code",
   "execution_count": 1,
   "metadata": {},
   "outputs": [],
   "source": [
    "import pandas as pd\n",
    "\n",
    "import numpy as np\n",
    "\n",
    "file = './documents_of_type_presidential_document_and_of_presidential_document_type_executive_order.csv'\n",
    "\n",
    "ex_dataset = pd.read_csv(file)"
   ]
  },
  {
   "cell_type": "code",
   "execution_count": 2,
   "metadata": {},
   "outputs": [
    {
     "name": "stdout",
     "output_type": "stream",
     "text": [
      "<class 'pandas.core.frame.DataFrame'>\n"
     ]
    },
    {
     "data": {
      "text/html": [
       "<div>\n",
       "<style scoped>\n",
       "    .dataframe tbody tr th:only-of-type {\n",
       "        vertical-align: middle;\n",
       "    }\n",
       "\n",
       "    .dataframe tbody tr th {\n",
       "        vertical-align: top;\n",
       "    }\n",
       "\n",
       "    .dataframe thead th {\n",
       "        text-align: right;\n",
       "    }\n",
       "</style>\n",
       "<table border=\"1\" class=\"dataframe\">\n",
       "  <thead>\n",
       "    <tr style=\"text-align: right;\">\n",
       "      <th></th>\n",
       "      <th>citation</th>\n",
       "      <th>document_number</th>\n",
       "      <th>end_page</th>\n",
       "      <th>html_url</th>\n",
       "      <th>pdf_url</th>\n",
       "      <th>type</th>\n",
       "      <th>subtype</th>\n",
       "      <th>publication_date</th>\n",
       "      <th>signing_date</th>\n",
       "      <th>start_page</th>\n",
       "      <th>title</th>\n",
       "      <th>disposition_notes</th>\n",
       "      <th>executive_order_number</th>\n",
       "    </tr>\n",
       "  </thead>\n",
       "  <tbody>\n",
       "    <tr>\n",
       "      <th>0</th>\n",
       "      <td>83 FR 61505</td>\n",
       "      <td>2018-26156</td>\n",
       "      <td>61507</td>\n",
       "      <td>https://www.federalregister.gov/documents/2018...</td>\n",
       "      <td>https://www.gpo.gov/fdsys/pkg/FR-2018-11-29/pd...</td>\n",
       "      <td>Presidential Document</td>\n",
       "      <td>Executive Order</td>\n",
       "      <td>11/29/2018</td>\n",
       "      <td>11/27/2018</td>\n",
       "      <td>61505</td>\n",
       "      <td>Blocking Property of Certain Persons Contribut...</td>\n",
       "      <td>NaN</td>\n",
       "      <td>13851</td>\n",
       "    </tr>\n",
       "    <tr>\n",
       "      <th>1</th>\n",
       "      <td>83 FR 55243</td>\n",
       "      <td>2018-24254</td>\n",
       "      <td>55245</td>\n",
       "      <td>https://www.federalregister.gov/documents/2018...</td>\n",
       "      <td>https://www.gpo.gov/fdsys/pkg/FR-2018-11-02/pd...</td>\n",
       "      <td>Presidential Document</td>\n",
       "      <td>Executive Order</td>\n",
       "      <td>11/02/2018</td>\n",
       "      <td>11/01/2018</td>\n",
       "      <td>55243</td>\n",
       "      <td>Blocking Property of Additional Persons Contri...</td>\n",
       "      <td>NaN</td>\n",
       "      <td>13850</td>\n",
       "    </tr>\n",
       "    <tr>\n",
       "      <th>2</th>\n",
       "      <td>83 FR 48195</td>\n",
       "      <td>2018-20816</td>\n",
       "      <td>48200</td>\n",
       "      <td>https://www.federalregister.gov/documents/2018...</td>\n",
       "      <td>https://www.gpo.gov/fdsys/pkg/FR-2018-09-21/pd...</td>\n",
       "      <td>Presidential Document</td>\n",
       "      <td>Executive Order</td>\n",
       "      <td>09/21/2018</td>\n",
       "      <td>09/20/2018</td>\n",
       "      <td>48195</td>\n",
       "      <td>Authorizing the Implementation of Certain Sanc...</td>\n",
       "      <td>See: EO 13694 of 4/1/2015, EO 13757 of 12/28/2...</td>\n",
       "      <td>13849</td>\n",
       "    </tr>\n",
       "    <tr>\n",
       "      <th>3</th>\n",
       "      <td>83 FR 46843</td>\n",
       "      <td>2018-20203</td>\n",
       "      <td>46848</td>\n",
       "      <td>https://www.federalregister.gov/documents/2018...</td>\n",
       "      <td>https://www.gpo.gov/fdsys/pkg/FR-2018-09-14/pd...</td>\n",
       "      <td>Presidential Document</td>\n",
       "      <td>Executive Order</td>\n",
       "      <td>09/14/2018</td>\n",
       "      <td>09/12/2018</td>\n",
       "      <td>46843</td>\n",
       "      <td>Imposing Certain Sanctions in the Event of For...</td>\n",
       "      <td>See: 13694 of 4/1/2015, EO 13757 of 12/28/2016...</td>\n",
       "      <td>13848</td>\n",
       "    </tr>\n",
       "    <tr>\n",
       "      <th>4</th>\n",
       "      <td>83 FR 45321</td>\n",
       "      <td>2018-19514</td>\n",
       "      <td>45323</td>\n",
       "      <td>https://www.federalregister.gov/documents/2018...</td>\n",
       "      <td>https://www.gpo.gov/fdsys/pkg/FR-2018-09-06/pd...</td>\n",
       "      <td>Presidential Document</td>\n",
       "      <td>Executive Order</td>\n",
       "      <td>09/06/2018</td>\n",
       "      <td>08/31/2018</td>\n",
       "      <td>45321</td>\n",
       "      <td>Strengthening Retirement Security in America</td>\n",
       "      <td>NaN</td>\n",
       "      <td>13847</td>\n",
       "    </tr>\n",
       "  </tbody>\n",
       "</table>\n",
       "</div>"
      ],
      "text/plain": [
       "      citation document_number  end_page  \\\n",
       "0  83 FR 61505      2018-26156     61507   \n",
       "1  83 FR 55243      2018-24254     55245   \n",
       "2  83 FR 48195      2018-20816     48200   \n",
       "3  83 FR 46843      2018-20203     46848   \n",
       "4  83 FR 45321      2018-19514     45323   \n",
       "\n",
       "                                            html_url  \\\n",
       "0  https://www.federalregister.gov/documents/2018...   \n",
       "1  https://www.federalregister.gov/documents/2018...   \n",
       "2  https://www.federalregister.gov/documents/2018...   \n",
       "3  https://www.federalregister.gov/documents/2018...   \n",
       "4  https://www.federalregister.gov/documents/2018...   \n",
       "\n",
       "                                             pdf_url                   type  \\\n",
       "0  https://www.gpo.gov/fdsys/pkg/FR-2018-11-29/pd...  Presidential Document   \n",
       "1  https://www.gpo.gov/fdsys/pkg/FR-2018-11-02/pd...  Presidential Document   \n",
       "2  https://www.gpo.gov/fdsys/pkg/FR-2018-09-21/pd...  Presidential Document   \n",
       "3  https://www.gpo.gov/fdsys/pkg/FR-2018-09-14/pd...  Presidential Document   \n",
       "4  https://www.gpo.gov/fdsys/pkg/FR-2018-09-06/pd...  Presidential Document   \n",
       "\n",
       "           subtype publication_date signing_date  start_page  \\\n",
       "0  Executive Order       11/29/2018   11/27/2018       61505   \n",
       "1  Executive Order       11/02/2018   11/01/2018       55243   \n",
       "2  Executive Order       09/21/2018   09/20/2018       48195   \n",
       "3  Executive Order       09/14/2018   09/12/2018       46843   \n",
       "4  Executive Order       09/06/2018   08/31/2018       45321   \n",
       "\n",
       "                                               title  \\\n",
       "0  Blocking Property of Certain Persons Contribut...   \n",
       "1  Blocking Property of Additional Persons Contri...   \n",
       "2  Authorizing the Implementation of Certain Sanc...   \n",
       "3  Imposing Certain Sanctions in the Event of For...   \n",
       "4       Strengthening Retirement Security in America   \n",
       "\n",
       "                                   disposition_notes  executive_order_number  \n",
       "0                                                NaN                   13851  \n",
       "1                                                NaN                   13850  \n",
       "2  See: EO 13694 of 4/1/2015, EO 13757 of 12/28/2...                   13849  \n",
       "3  See: 13694 of 4/1/2015, EO 13757 of 12/28/2016...                   13848  \n",
       "4                                                NaN                   13847  "
      ]
     },
     "execution_count": 2,
     "metadata": {},
     "output_type": "execute_result"
    }
   ],
   "source": [
    "print(type(ex_dataset))\n",
    "ex_dataset.head()"
   ]
  },
  {
   "cell_type": "markdown",
   "metadata": {},
   "source": [
    "Before we try and extract the text from the URLs, I want to create another column called \"President\" and one called \"Party\" so that we have those pre-labeled before we make any transformations. I can see online that orders 13765-13851 were signed by Trump, 13490-13764 were signed by Obama, 13199-13487 were signed by Bush and 12890-13197 were signed by Clinton. This will help us assign each order to the president that gave it."
   ]
  },
  {
   "cell_type": "code",
   "execution_count": 3,
   "metadata": {},
   "outputs": [],
   "source": [
    "def president(x):\n",
    "    if x > 13764:\n",
    "        return \"Trump\"\n",
    "    elif x > 13490:\n",
    "        return \"Obama\"\n",
    "    elif x > 13199:\n",
    "        return \"Bush\"\n",
    "    else:\n",
    "        return \"Clinton\""
   ]
  },
  {
   "cell_type": "code",
   "execution_count": 4,
   "metadata": {},
   "outputs": [
    {
     "name": "stdout",
     "output_type": "stream",
     "text": [
      "      citation document_number  end_page  \\\n",
      "0  83 FR 61505      2018-26156     61507   \n",
      "1  83 FR 55243      2018-24254     55245   \n",
      "2  83 FR 48195      2018-20816     48200   \n",
      "3  83 FR 46843      2018-20203     46848   \n",
      "4  83 FR 45321      2018-19514     45323   \n",
      "\n",
      "                                            html_url  \\\n",
      "0  https://www.federalregister.gov/documents/2018...   \n",
      "1  https://www.federalregister.gov/documents/2018...   \n",
      "2  https://www.federalregister.gov/documents/2018...   \n",
      "3  https://www.federalregister.gov/documents/2018...   \n",
      "4  https://www.federalregister.gov/documents/2018...   \n",
      "\n",
      "                                             pdf_url                   type  \\\n",
      "0  https://www.gpo.gov/fdsys/pkg/FR-2018-11-29/pd...  Presidential Document   \n",
      "1  https://www.gpo.gov/fdsys/pkg/FR-2018-11-02/pd...  Presidential Document   \n",
      "2  https://www.gpo.gov/fdsys/pkg/FR-2018-09-21/pd...  Presidential Document   \n",
      "3  https://www.gpo.gov/fdsys/pkg/FR-2018-09-14/pd...  Presidential Document   \n",
      "4  https://www.gpo.gov/fdsys/pkg/FR-2018-09-06/pd...  Presidential Document   \n",
      "\n",
      "           subtype publication_date signing_date  start_page  \\\n",
      "0  Executive Order       11/29/2018   11/27/2018       61505   \n",
      "1  Executive Order       11/02/2018   11/01/2018       55243   \n",
      "2  Executive Order       09/21/2018   09/20/2018       48195   \n",
      "3  Executive Order       09/14/2018   09/12/2018       46843   \n",
      "4  Executive Order       09/06/2018   08/31/2018       45321   \n",
      "\n",
      "                                               title  \\\n",
      "0  Blocking Property of Certain Persons Contribut...   \n",
      "1  Blocking Property of Additional Persons Contri...   \n",
      "2  Authorizing the Implementation of Certain Sanc...   \n",
      "3  Imposing Certain Sanctions in the Event of For...   \n",
      "4       Strengthening Retirement Security in America   \n",
      "\n",
      "                                   disposition_notes  executive_order_number  \\\n",
      "0                                                NaN                   13851   \n",
      "1                                                NaN                   13850   \n",
      "2  See: EO 13694 of 4/1/2015, EO 13757 of 12/28/2...                   13849   \n",
      "3  See: 13694 of 4/1/2015, EO 13757 of 12/28/2016...                   13848   \n",
      "4                                                NaN                   13847   \n",
      "\n",
      "  President  \n",
      "0     Trump  \n",
      "1     Trump  \n",
      "2     Trump  \n",
      "3     Trump  \n",
      "4     Trump  \n"
     ]
    }
   ],
   "source": [
    "ex_dataset[\"President\"] = ex_dataset[\"executive_order_number\"].apply(president)\n",
    "\n",
    "print(ex_dataset.head())"
   ]
  },
  {
   "cell_type": "markdown",
   "metadata": {},
   "source": [
    "Now we create the function that will add a col for the different political parties"
   ]
  },
  {
   "cell_type": "code",
   "execution_count": 5,
   "metadata": {},
   "outputs": [],
   "source": [
    "def party(x):\n",
    "    if x == \"Trump\":\n",
    "        return \"Republican\"\n",
    "    elif x == \"Obama\":\n",
    "        return \"Democrat\"\n",
    "    elif x == \"Bush\":\n",
    "        return \"Republican\"\n",
    "    else:\n",
    "        return \"Democrat\""
   ]
  },
  {
   "cell_type": "code",
   "execution_count": 6,
   "metadata": {},
   "outputs": [
    {
     "name": "stdout",
     "output_type": "stream",
     "text": [
      "      citation document_number  end_page  \\\n",
      "0  83 FR 61505      2018-26156     61507   \n",
      "1  83 FR 55243      2018-24254     55245   \n",
      "2  83 FR 48195      2018-20816     48200   \n",
      "3  83 FR 46843      2018-20203     46848   \n",
      "4  83 FR 45321      2018-19514     45323   \n",
      "\n",
      "                                            html_url  \\\n",
      "0  https://www.federalregister.gov/documents/2018...   \n",
      "1  https://www.federalregister.gov/documents/2018...   \n",
      "2  https://www.federalregister.gov/documents/2018...   \n",
      "3  https://www.federalregister.gov/documents/2018...   \n",
      "4  https://www.federalregister.gov/documents/2018...   \n",
      "\n",
      "                                             pdf_url                   type  \\\n",
      "0  https://www.gpo.gov/fdsys/pkg/FR-2018-11-29/pd...  Presidential Document   \n",
      "1  https://www.gpo.gov/fdsys/pkg/FR-2018-11-02/pd...  Presidential Document   \n",
      "2  https://www.gpo.gov/fdsys/pkg/FR-2018-09-21/pd...  Presidential Document   \n",
      "3  https://www.gpo.gov/fdsys/pkg/FR-2018-09-14/pd...  Presidential Document   \n",
      "4  https://www.gpo.gov/fdsys/pkg/FR-2018-09-06/pd...  Presidential Document   \n",
      "\n",
      "           subtype publication_date signing_date  start_page  \\\n",
      "0  Executive Order       11/29/2018   11/27/2018       61505   \n",
      "1  Executive Order       11/02/2018   11/01/2018       55243   \n",
      "2  Executive Order       09/21/2018   09/20/2018       48195   \n",
      "3  Executive Order       09/14/2018   09/12/2018       46843   \n",
      "4  Executive Order       09/06/2018   08/31/2018       45321   \n",
      "\n",
      "                                               title  \\\n",
      "0  Blocking Property of Certain Persons Contribut...   \n",
      "1  Blocking Property of Additional Persons Contri...   \n",
      "2  Authorizing the Implementation of Certain Sanc...   \n",
      "3  Imposing Certain Sanctions in the Event of For...   \n",
      "4       Strengthening Retirement Security in America   \n",
      "\n",
      "                                   disposition_notes  executive_order_number  \\\n",
      "0                                                NaN                   13851   \n",
      "1                                                NaN                   13850   \n",
      "2  See: EO 13694 of 4/1/2015, EO 13757 of 12/28/2...                   13849   \n",
      "3  See: 13694 of 4/1/2015, EO 13757 of 12/28/2016...                   13848   \n",
      "4                                                NaN                   13847   \n",
      "\n",
      "  President       Party  \n",
      "0     Trump  Republican  \n",
      "1     Trump  Republican  \n",
      "2     Trump  Republican  \n",
      "3     Trump  Republican  \n",
      "4     Trump  Republican  \n"
     ]
    }
   ],
   "source": [
    "ex_dataset[\"Party\"] = ex_dataset[\"President\"].apply(party)\n",
    "\n",
    "print(ex_dataset.head())\n"
   ]
  },
  {
   "cell_type": "markdown",
   "metadata": {},
   "source": [
    "Now we're going to test how to get the text from one URL, and once we get that working we can nest the code in a for loop and apply it to the whole dataset"
   ]
  },
  {
   "cell_type": "code",
   "execution_count": 7,
   "metadata": {},
   "outputs": [
    {
     "name": "stdout",
     "output_type": "stream",
     "text": [
      "https://www.federalregister.gov/documents/2018/11/29/2018-26156/blocking-property-of-certain-persons-contributing-to-the-situation-in-nicaragua\n"
     ]
    }
   ],
   "source": [
    "test_url = ex_dataset.iloc[0][3]\n",
    "print(test_url)"
   ]
  },
  {
   "cell_type": "code",
   "execution_count": 8,
   "metadata": {},
   "outputs": [],
   "source": [
    "from urllib.request import Request, urlopen\n"
   ]
  },
  {
   "cell_type": "code",
   "execution_count": 9,
   "metadata": {},
   "outputs": [],
   "source": [
    "import urllib\n",
    "req = urllib.request.Request(test_url, headers={'User-Agent' : \"Magic Browser\"}) \n",
    "con = urllib.request.urlopen( req )\n",
    "html = con.read()\n",
    "# print(html)\n"
   ]
  },
  {
   "cell_type": "code",
   "execution_count": 10,
   "metadata": {},
   "outputs": [
    {
     "name": "stderr",
     "output_type": "stream",
     "text": [
      "/anaconda3/lib/python3.6/site-packages/bs4/__init__.py:181: UserWarning: No parser was explicitly specified, so I'm using the best available HTML parser for this system (\"lxml\"). This usually isn't a problem, but if you run this code on another system, or in a different virtual environment, it may use a different parser and behave differently.\n",
      "\n",
      "The code that caused this warning is on line 193 of the file /anaconda3/lib/python3.6/runpy.py. To get rid of this warning, change code that looks like this:\n",
      "\n",
      " BeautifulSoup(YOUR_MARKUP})\n",
      "\n",
      "to this:\n",
      "\n",
      " BeautifulSoup(YOUR_MARKUP, \"lxml\")\n",
      "\n",
      "  markup_type=markup_type))\n"
     ]
    }
   ],
   "source": [
    "from bs4 import BeautifulSoup\n",
    "\n",
    "soup = BeautifulSoup(html)\n",
    "\n",
    "soup_text = soup.get_text()\n",
    "\n",
    "# print(soup_text)"
   ]
  },
  {
   "cell_type": "code",
   "execution_count": 11,
   "metadata": {},
   "outputs": [
    {
     "name": "stdout",
     "output_type": "stream",
     "text": [
      "<title>\n",
      "      Federal Register\n",
      "       :: \n",
      "      Blocking Property of Certain Persons Contributing to the Situation in Nicaragua\n",
      "    </title>\n"
     ]
    }
   ],
   "source": [
    "print(soup.title)"
   ]
  },
  {
   "cell_type": "code",
   "execution_count": 12,
   "metadata": {},
   "outputs": [],
   "source": [
    "pretty_soup = soup.prettify()\n",
    "\n",
    "# print(pretty_soup)"
   ]
  },
  {
   "cell_type": "code",
   "execution_count": 13,
   "metadata": {},
   "outputs": [
    {
     "name": "stdout",
     "output_type": "stream",
     "text": [
      "<class 'str'>\n"
     ]
    }
   ],
   "source": [
    "print(type(pretty_soup))"
   ]
  },
  {
   "cell_type": "markdown",
   "metadata": {},
   "source": [
    "Now I looked through the documents to try and find a phrase that all the executive orders started with. I will use this to split the document so we only get the text of the order, not all the HTML information. I chose \"Use the PDF linked in the document sidebar for the official electronic format\". It's long, but I has issues with short phrases appearing earlier in the text. Below, I do the same with the end of the order and the phrase \"[FR Doc.\""
   ]
  },
  {
   "cell_type": "code",
   "execution_count": 14,
   "metadata": {},
   "outputs": [],
   "source": [
    "doc1 = soup_text.split(\"Use the PDF linked in the document sidebar for the official electronic format\",1)[1]\n",
    "# print(doc1)\n",
    "\n"
   ]
  },
  {
   "cell_type": "code",
   "execution_count": 15,
   "metadata": {},
   "outputs": [
    {
     "name": "stdout",
     "output_type": "stream",
     "text": [
      ".\n",
      "\n",
      "\n",
      "\n",
      "\n",
      "\n",
      "Start Printed Page 61505\n",
      "Executive Order 13851 of November 27, 2018\n",
      "        Blocking Property of Certain Persons Contributing to the Situation in Nicaragua\n",
      "By the authority vested in me as President by the Constitution and the laws of the United States of America, including the International Emergency Economic Powers Act (50 U.S.C. 1701 et seq.) (IEEPA), the National Emergencies Act (50 U.S.C. 1601 et seq.) (NEA), section 212(f) of the Immigration and Nationality Act of 1952 (8 U.S.C. 1182(f)), and section 301 of title 3, United States Code,\n",
      "I, DONALD J. TRUMP, President of the United States of America, find that the situation in Nicaragua, including the violent response by the Government of Nicaragua to the protests that began on April 18, 2018, and the Ortega regime's systematic dismantling and undermining of democratic institutions and the rule of law, its use of indiscriminate violence and repressive tactics against civilians, as well as its corruption leading to the destabilization of Nicaragua's economy, constitutes an unusual and extraordinary threat to the national security and foreign policy of the United States, and I hereby declare a national emergency to deal with that threat. I hereby determine and order:\n",
      "\n",
      "Section 1. (a) All property and interests in property that are in the United States, that hereafter come within the United States, or that are or hereafter come within the possession or control of any United States person of the following persons are blocked and may not be transferred, paid, exported, withdrawn, or otherwise dealt in: any person determined by the Secretary of the Treasury, in consultation with the Secretary of State:\n",
      "(i) to be responsible for or complicit in, or to have directly or indirectly engaged or attempted to engage in, any of the following:\n",
      "(A) serious human rights abuse in Nicaragua;\n",
      "(B) actions or policies that undermine democratic processes or institutions in Nicaragua;\n",
      "(C) actions or policies that threaten the peace, security, or stability of Nicaragua;\n",
      "(D) any transaction or series of transactions involving deceptive practices or corruption by, on behalf of, or otherwise related to the Government of Nicaragua or a current or former official of the Government of Nicaragua, such as the misappropriation of public assets or expropriation of private assets for personal gain or political purposes, corruption related to government contracts, or bribery;\n",
      "(ii) to be a leader or official of an entity that has, or whose members have, engaged in any activity described in subsection (a)(i) of this section or of an entity whose property and interests in property are blocked pursuant to this order;\n",
      "(iii) to be an official of the Government of Nicaragua or to have served as an official of the Government of Nicaragua at any time on or after January 10, 2007;\n",
      "(iv) to have materially assisted, sponsored, or provided financial, material, or technological support for, or goods or services in support of:\n",
      "(A) any activities described in subsection (a)(i) of this section; orStart Printed Page 61506\n",
      "\n",
      "(B) any person whose property and interests in property are blocked pursuant to this order; or\n",
      "(v) to be owned or controlled by, or to have acted or purported to act for or on behalf of, directly or indirectly, any person whose property and interests in property are blocked pursuant to this order.\n",
      "(b) The prohibitions in subsection (a) of this section apply except to the extent provided by statutes, or in regulations, orders, directives, or licenses that may be issued pursuant to this order, and notwithstanding any contract entered into or any license or permit granted prior to the date of this order.\n",
      "\n",
      "Sec. 2. The unrestricted immigrant and nonimmigrant entry into the United States of aliens determined to meet one or more of the criteria in section 1 of this order would be detrimental to the interests of the United States, and the entry of such persons into the United States, as immigrants or nonimmigrants, is hereby suspended, except where the Secretary of State determines that the person's entry is in the national interest of the United States. Such persons shall be treated as persons covered by section 1 of Proclamation 8693 of July 24, 2011 (Suspension of Entry of Aliens Subject to United Nations Security Council Travel Bans and International Emergency Economic Powers Act Sanctions).\n",
      "\n",
      "Sec. 3. I hereby determine that the making of donations of the type of articles specified in section 203(b)(2) of IEEPA (50 U.S.C. 1702(b)(2)) by, to, or for the benefit of any person whose property and interests in property are blocked pursuant to section 1 of this order would seriously impair my ability to deal with the national emergency declared in this order, and I hereby prohibit such donations as provided by section 1 of this order.\n",
      "\n",
      "Sec. 4. The prohibitions in section 1 of this order include:\n",
      "(a) the making of any contribution or provision of funds, goods, or services by, to, or for the benefit of any person whose property and interests in property are blocked pursuant to this order; and\n",
      "(b) the receipt of any contribution or provision of funds, goods, or services from any such person.\n",
      "\n",
      "Sec. 5. (a) Any transaction that evades or avoids, has the purpose of evading or avoiding, causes a violation of, or attempts to violate any of the prohibitions set forth in this order is prohibited.\n",
      "(b) Any conspiracy formed to violate any of the prohibitions set forth in this order is prohibited.\n",
      "\n",
      "Sec. 6. For the purposes of this order:\n",
      "(a) the term “person” means an individual or entity;\n",
      "(b) the term “entity” means a partnership, association, trust, joint venture, corporation, group, subgroup, or other organization;\n",
      "(c) the term “United States person” means any United States citizen, permanent resident alien, entity organized under the laws of the United States or any jurisdiction within the United States (including foreign branches), or any person in the United States; and\n",
      "(d) the term “Government of Nicaragua” means the Government of Nicaragua, any political subdivision, agency, or instrumentality thereof, including the Central Bank of Nicaragua, and any person owned or controlled by, or acting for or on behalf of, the Government of Nicaragua.\n",
      "\n",
      "Sec. 7. For those persons whose property and interests in property are blocked pursuant to this order who might have a constitutional presence in the United States, I find that because of the ability to transfer funds or other assets instantaneously, prior notice to such persons of measures to be taken pursuant to this order would render those measures ineffectual. I therefore determine that for these measures to be effective in addressing the national emergency declared in this order, there need be no prior notice of a listing or determination made pursuant to section 1 of this order.Start Printed Page 61507\n",
      "\n",
      "\n",
      "Sec. 8. The Secretary of the Treasury, in consultation with the Secretary of State, is hereby authorized to take such actions, including promulgating rules and regulations, and to employ all powers granted to the President by IEEPA as may be necessary to implement this order. The Secretary of the Treasury may, consistent with applicable law, redelegate any of these functions within the Department of the Treasury. All agencies of the United States Government shall take all appropriate measures within their authority to carry out the provisions of this order.\n",
      "\n",
      "Sec. 9. The Secretary of the Treasury, in consultation with the Secretary of State, is hereby authorized to submit the recurring and final reports to the Congress on the national emergency declared in this order, consistent with section 401(c) of the NEA (50 U.S.C. 1641(c)) and section 204(c) of IEEPA (50 U.S.C. 1703(c)).\n",
      "\n",
      "Sec. 10. (a) Nothing in this order shall be construed to impair or otherwise affect:\n",
      "(i) the authority granted by law to an executive department or agency, or the head thereof; or\n",
      "(ii) the functions of the Director of the Office of Management and Budget relating to budgetary, administrative, or legislative proposals.\n",
      "(b) This order shall be implemented consistent with applicable law and subject to the availability of appropriations.\n",
      "(c) This order is not intended to, and does not, create any right or benefit, substantive or procedural, enforceable at law or in equity by any party against the United States, its departments, agencies, or entities, its officers, employees, or agents, or any other person.\n",
      "\n",
      "        \n",
      "         \n",
      "        THE WHITE HOUSE,\n",
      "        November 27, 2018.\n",
      "        \n",
      "        Filed 11-28-18; 11:15 am]\n",
      "        \n",
      "      \n",
      "    \n",
      "\n"
     ]
    }
   ],
   "source": [
    "a,b = doc1.split(\"[FR Doc.\")\n",
    "\n",
    "print(a)\n"
   ]
  },
  {
   "cell_type": "code",
   "execution_count": 16,
   "metadata": {},
   "outputs": [
    {
     "name": "stdout",
     "output_type": "stream",
     "text": [
      "[\".\\n\\n\\n\\n\\n\\nStart Printed Page 61505\\nExecutive Order 13851 of November 27, 2018\\n        Blocking Property of Certain Persons Contributing to the Situation in Nicaragua\\nBy the authority vested in me as President by the Constitution and the laws of the United States of America, including the International Emergency Economic Powers Act (50 U.S.C. 1701 et seq.) (IEEPA), the National Emergencies Act (50 U.S.C. 1601 et seq.) (NEA), section 212(f) of the Immigration and Nationality Act of 1952 (8 U.S.C. 1182(f)), and section 301 of title 3, United States Code,\\nI, DONALD J. TRUMP, President of the United States of America, find that the situation in Nicaragua, including the violent response by the Government of Nicaragua to the protests that began on April 18, 2018, and the Ortega regime's systematic dismantling and undermining of democratic institutions and the rule of law, its use of indiscriminate violence and repressive tactics against civilians, as well as its corruption leading to the destabilization of Nicaragua's economy, constitutes an unusual and extraordinary threat to the national security and foreign policy of the United States, and I hereby declare a national emergency to deal with that threat. I hereby determine and order:\\n\\nSection 1. (a) All property and interests in property that are in the United States, that hereafter come within the United States, or that are or hereafter come within the possession or control of any United States person of the following persons are blocked and may not be transferred, paid, exported, withdrawn, or otherwise dealt in: any person determined by the Secretary of the Treasury, in consultation with the Secretary of State:\\n(i) to be responsible for or complicit in, or to have directly or indirectly engaged or attempted to engage in, any of the following:\\n(A) serious human rights abuse in Nicaragua;\\n(B) actions or policies that undermine democratic processes or institutions in Nicaragua;\\n(C) actions or policies that threaten the peace, security, or stability of Nicaragua;\\n(D) any transaction or series of transactions involving deceptive practices or corruption by, on behalf of, or otherwise related to the Government of Nicaragua or a current or former official of the Government of Nicaragua, such as the misappropriation of public assets or expropriation of private assets for personal gain or political purposes, corruption related to government contracts, or bribery;\\n(ii) to be a leader or official of an entity that has, or whose members have, engaged in any activity described in subsection (a)(i) of this section or of an entity whose property and interests in property are blocked pursuant to this order;\\n(iii) to be an official of the Government of Nicaragua or to have served as an official of the Government of Nicaragua at any time on or after January 10, 2007;\\n(iv) to have materially assisted, sponsored, or provided financial, material, or technological support for, or goods or services in support of:\\n(A) any activities described in subsection (a)(i) of this section; orStart Printed Page 61506\\n\\n(B) any person whose property and interests in property are blocked pursuant to this order; or\\n(v) to be owned or controlled by, or to have acted or purported to act for or on behalf of, directly or indirectly, any person whose property and interests in property are blocked pursuant to this order.\\n(b) The prohibitions in subsection (a) of this section apply except to the extent provided by statutes, or in regulations, orders, directives, or licenses that may be issued pursuant to this order, and notwithstanding any contract entered into or any license or permit granted prior to the date of this order.\\n\\nSec. 2. The unrestricted immigrant and nonimmigrant entry into the United States of aliens determined to meet one or more of the criteria in section 1 of this order would be detrimental to the interests of the United States, and the entry of such persons into the United States, as immigrants or nonimmigrants, is hereby suspended, except where the Secretary of State determines that the person's entry is in the national interest of the United States. Such persons shall be treated as persons covered by section 1 of Proclamation 8693 of July 24, 2011 (Suspension of Entry of Aliens Subject to United Nations Security Council Travel Bans and International Emergency Economic Powers Act Sanctions).\\n\\nSec. 3. I hereby determine that the making of donations of the type of articles specified in section 203(b)(2) of IEEPA (50 U.S.C. 1702(b)(2)) by, to, or for the benefit of any person whose property and interests in property are blocked pursuant to section 1 of this order would seriously impair my ability to deal with the national emergency declared in this order, and I hereby prohibit such donations as provided by section 1 of this order.\\n\\nSec. 4. The prohibitions in section 1 of this order include:\\n(a) the making of any contribution or provision of funds, goods, or services by, to, or for the benefit of any person whose property and interests in property are blocked pursuant to this order; and\\n(b) the receipt of any contribution or provision of funds, goods, or services from any such person.\\n\\nSec. 5. (a) Any transaction that evades or avoids, has the purpose of evading or avoiding, causes a violation of, or attempts to violate any of the prohibitions set forth in this order is prohibited.\\n(b) Any conspiracy formed to violate any of the prohibitions set forth in this order is prohibited.\\n\\nSec. 6. For the purposes of this order:\\n(a) the term “person” means an individual or entity;\\n(b) the term “entity” means a partnership, association, trust, joint venture, corporation, group, subgroup, or other organization;\\n(c) the term “United States person” means any United States citizen, permanent resident alien, entity organized under the laws of the United States or any jurisdiction within the United States (including foreign branches), or any person in the United States; and\\n(d) the term “Government of Nicaragua” means the Government of Nicaragua, any political subdivision, agency, or instrumentality thereof, including the Central Bank of Nicaragua, and any person owned or controlled by, or acting for or on behalf of, the Government of Nicaragua.\\n\\nSec. 7. For those persons whose property and interests in property are blocked pursuant to this order who might have a constitutional presence in the United States, I find that because of the ability to transfer funds or other assets instantaneously, prior notice to such persons of measures to be taken pursuant to this order would render those measures ineffectual. I therefore determine that for these measures to be effective in addressing the national emergency declared in this order, there need be no prior notice of a listing or determination made pursuant to section 1 of this order.Start Printed Page 61507\\n\\n\\nSec. 8. The Secretary of the Treasury, in consultation with the Secretary of State, is hereby authorized to take such actions, including promulgating rules and regulations, and to employ all powers granted to the President by IEEPA as may be necessary to implement this order. The Secretary of the Treasury may, consistent with applicable law, redelegate any of these functions within the Department of the Treasury. All agencies of the United States Government shall take all appropriate measures within their authority to carry out the provisions of this order.\\n\\nSec. 9. The Secretary of the Treasury, in consultation with the Secretary of State, is hereby authorized to submit the recurring and final reports to the Congress on the national emergency declared in this order, consistent with section 401(c) of the NEA (50 U.S.C. 1641(c)) and section 204(c) of IEEPA (50 U.S.C. 1703(c)).\\n\\nSec. 10. (a) Nothing in this order shall be construed to impair or otherwise affect:\\n(i) the authority granted by law to an executive department or agency, or the head thereof; or\\n(ii) the functions of the Director of the Office of Management and Budget relating to budgetary, administrative, or legislative proposals.\\n(b) This order shall be implemented consistent with applicable law and subject to the availability of appropriations.\\n(c) This order is not intended to, and does not, create any right or benefit, substantive or procedural, enforceable at law or in equity by any party against the United States, its departments, agencies, or entities, its officers, employees, or agents, or any other person.\\n\\n        \\n        \\u2003\\n        THE WHITE HOUSE,\\n        November 27, 2018.\\n        \\n        Filed 11-28-18; 11:15 am]\\n        \\n      \\n    \\n\"]\n"
     ]
    }
   ],
   "source": [
    "ex_text = []\n",
    "\n",
    "ex_text.append(a)\n",
    "\n",
    "print(ex_text)\n"
   ]
  },
  {
   "cell_type": "code",
   "execution_count": 17,
   "metadata": {},
   "outputs": [
    {
     "name": "stderr",
     "output_type": "stream",
     "text": [
      "/anaconda3/lib/python3.6/site-packages/bs4/__init__.py:181: UserWarning: No parser was explicitly specified, so I'm using the best available HTML parser for this system (\"lxml\"). This usually isn't a problem, but if you run this code on another system, or in a different virtual environment, it may use a different parser and behave differently.\n",
      "\n",
      "The code that caused this warning is on line 193 of the file /anaconda3/lib/python3.6/runpy.py. To get rid of this warning, change code that looks like this:\n",
      "\n",
      " BeautifulSoup(YOUR_MARKUP})\n",
      "\n",
      "to this:\n",
      "\n",
      " BeautifulSoup(YOUR_MARKUP, \"lxml\")\n",
      "\n",
      "  markup_type=markup_type))\n"
     ]
    },
    {
     "ename": "ValueError",
     "evalue": "not enough values to unpack (expected 2, got 1)",
     "output_type": "error",
     "traceback": [
      "\u001b[0;31m---------------------------------------------------------------------------\u001b[0m",
      "\u001b[0;31mValueError\u001b[0m                                Traceback (most recent call last)",
      "\u001b[0;32m<ipython-input-17-41b35f10cb11>\u001b[0m in \u001b[0;36m<module>\u001b[0;34m()\u001b[0m\n\u001b[1;32m      9\u001b[0m     \u001b[0msoup_text\u001b[0m \u001b[0;34m=\u001b[0m \u001b[0msoup\u001b[0m\u001b[0;34m.\u001b[0m\u001b[0mget_text\u001b[0m\u001b[0;34m(\u001b[0m\u001b[0;34m)\u001b[0m\u001b[0;34m\u001b[0m\u001b[0m\n\u001b[1;32m     10\u001b[0m     \u001b[0mdoc1\u001b[0m \u001b[0;34m=\u001b[0m \u001b[0msoup_text\u001b[0m\u001b[0;34m.\u001b[0m\u001b[0msplit\u001b[0m\u001b[0;34m(\u001b[0m\u001b[0;34m\"Use the PDF linked in the document sidebar for the official electronic format\"\u001b[0m\u001b[0;34m,\u001b[0m\u001b[0;36m1\u001b[0m\u001b[0;34m)\u001b[0m\u001b[0;34m[\u001b[0m\u001b[0;36m1\u001b[0m\u001b[0;34m]\u001b[0m\u001b[0;34m\u001b[0m\u001b[0m\n\u001b[0;32m---> 11\u001b[0;31m     \u001b[0ma\u001b[0m\u001b[0;34m,\u001b[0m\u001b[0mb\u001b[0m \u001b[0;34m=\u001b[0m \u001b[0mdoc1\u001b[0m\u001b[0;34m.\u001b[0m\u001b[0msplit\u001b[0m\u001b[0;34m(\u001b[0m\u001b[0;34m\"[FR Doc.\"\u001b[0m\u001b[0;34m)\u001b[0m\u001b[0;34m\u001b[0m\u001b[0m\n\u001b[0m\u001b[1;32m     12\u001b[0m     \u001b[0morders_text\u001b[0m\u001b[0;34m.\u001b[0m\u001b[0mappend\u001b[0m\u001b[0;34m(\u001b[0m\u001b[0ma\u001b[0m\u001b[0;34m)\u001b[0m\u001b[0;34m\u001b[0m\u001b[0m\n\u001b[1;32m     13\u001b[0m \u001b[0;34m\u001b[0m\u001b[0m\n",
      "\u001b[0;31mValueError\u001b[0m: not enough values to unpack (expected 2, got 1)"
     ]
    }
   ],
   "source": [
    "orders_text = []\n",
    "\n",
    "for entry in range(len(ex_dataset)):\n",
    "    url = ex_dataset.iloc[entry][3]\n",
    "    req = urllib.request.Request(url, headers={'User-Agent' : \"Magic Browser\"}) \n",
    "    con = urllib.request.urlopen( req )\n",
    "    html = con.read()\n",
    "    soup = BeautifulSoup(html)\n",
    "    soup_text = soup.get_text()\n",
    "    doc1 = soup_text.split(\"Use the PDF linked in the document sidebar for the official electronic format\",1)[1]\n",
    "    a,b = doc1.split(\"[FR Doc.\")\n",
    "    orders_text.append(a)\n",
    "   "
   ]
  },
  {
   "cell_type": "markdown",
   "metadata": {},
   "source": [
    "Here we have an issue. I did some investigating and found out that not all the orders are avaliable in HTML format. The text of those documents just link to a flat file. I need to remove those documents. It will reduce the number of observances in our dataset, but there's no other way"
   ]
  },
  {
   "cell_type": "code",
   "execution_count": 18,
   "metadata": {},
   "outputs": [
    {
     "name": "stdout",
     "output_type": "stream",
     "text": [
      "928\n"
     ]
    }
   ],
   "source": [
    "exec_orders_len = len(ex_dataset)\n",
    "\n",
    "print(exec_orders_len)"
   ]
  },
  {
   "cell_type": "code",
   "execution_count": 19,
   "metadata": {},
   "outputs": [
    {
     "name": "stderr",
     "output_type": "stream",
     "text": [
      "/anaconda3/lib/python3.6/site-packages/bs4/__init__.py:181: UserWarning: No parser was explicitly specified, so I'm using the best available HTML parser for this system (\"lxml\"). This usually isn't a problem, but if you run this code on another system, or in a different virtual environment, it may use a different parser and behave differently.\n",
      "\n",
      "The code that caused this warning is on line 193 of the file /anaconda3/lib/python3.6/runpy.py. To get rid of this warning, change code that looks like this:\n",
      "\n",
      " BeautifulSoup(YOUR_MARKUP})\n",
      "\n",
      "to this:\n",
      "\n",
      " BeautifulSoup(YOUR_MARKUP, \"lxml\")\n",
      "\n",
      "  markup_type=markup_type))\n"
     ]
    }
   ],
   "source": [
    "# I'm going to look at each text and create a boolean to see whether the text contains the phrase \"[FR Doc.\"\n",
    "\n",
    "test_cleaning = []\n",
    "\n",
    "for entry in range(0, 928):\n",
    "    url = ex_dataset.iloc[entry][3]\n",
    "    req = urllib.request.Request(url, headers={'User-Agent' : \"Magic Browser\"}) \n",
    "    con = urllib.request.urlopen( req )\n",
    "    html = con.read()\n",
    "    soup = BeautifulSoup(html)\n",
    "    soup_text = soup.get_text()\n",
    "    test_cleaning.append(soup_text)\n",
    "    \n",
    "\n"
   ]
  },
  {
   "cell_type": "code",
   "execution_count": 20,
   "metadata": {},
   "outputs": [
    {
     "name": "stdout",
     "output_type": "stream",
     "text": [
      "['Yes', 'Yes', 'Yes', 'Yes', 'Yes', 'Yes', 'Yes', 'Yes', 'Yes', 'Yes', 'Yes', 'Yes', 'Yes', 'Yes', 'Yes', 'Yes', 'Yes', 'Yes', 'Yes', 'Yes', 'Yes', 'Yes', 'Yes', 'Yes', 'Yes', 'Yes', 'Yes', 'Yes', 'Yes', 'Yes', 'Yes', 'Yes', 'Yes', 'Yes', 'Yes', 'Yes', 'Yes', 'Yes', 'Yes', 'Yes', 'Yes', 'Yes', 'Yes', 'Yes', 'Yes', 'Yes', 'Yes', 'Yes', 'Yes', 'Yes', 'Yes', 'Yes', 'Yes', 'Yes', 'Yes', 'Yes', 'Yes', 'Yes', 'Yes', 'Yes', 'Yes', 'Yes', 'Yes', 'Yes', 'Yes', 'Yes', 'Yes', 'Yes', 'Yes', 'Yes', 'Yes', 'Yes', 'Yes', 'Yes', 'Yes', 'Yes', 'Yes', 'Yes', 'Yes', 'Yes', 'Yes', 'Yes', 'Yes', 'Yes', 'Yes', 'Yes', 'Yes', 'Yes', 'Yes', 'Yes', 'Yes', 'Yes', 'Yes', 'Yes', 'Yes', 'Yes', 'Yes', 'Yes', 'Yes', 'Yes', 'Yes', 'Yes', 'Yes', 'Yes', 'Yes', 'Yes', 'Yes', 'Yes', 'Yes', 'Yes', 'Yes', 'Yes', 'Yes', 'Yes', 'Yes', 'Yes', 'Yes', 'Yes', 'Yes', 'Yes', 'Yes', 'Yes', 'Yes', 'Yes', 'Yes', 'Yes', 'Yes', 'Yes', 'Yes', 'Yes', 'Yes', 'Yes', 'Yes', 'Yes', 'Yes', 'Yes', 'Yes', 'Yes', 'Yes', 'No', 'Yes', 'Yes', 'Yes', 'Yes', 'Yes', 'Yes', 'Yes', 'Yes', 'Yes', 'Yes', 'Yes', 'Yes', 'Yes', 'Yes', 'Yes', 'Yes', 'Yes', 'Yes', 'Yes', 'Yes', 'Yes', 'Yes', 'Yes', 'Yes', 'Yes', 'Yes', 'Yes', 'Yes', 'Yes', 'Yes', 'Yes', 'Yes', 'Yes', 'Yes', 'Yes', 'Yes', 'Yes', 'Yes', 'Yes', 'Yes', 'Yes', 'Yes', 'Yes', 'Yes', 'Yes', 'Yes', 'Yes', 'Yes', 'Yes', 'Yes', 'Yes', 'Yes', 'Yes', 'Yes', 'Yes', 'Yes', 'Yes', 'Yes', 'Yes', 'Yes', 'Yes', 'Yes', 'Yes', 'Yes', 'Yes', 'Yes', 'Yes', 'Yes', 'Yes', 'Yes', 'Yes', 'Yes', 'Yes', 'Yes', 'Yes', 'Yes', 'Yes', 'Yes', 'Yes', 'Yes', 'Yes', 'Yes', 'Yes', 'Yes', 'Yes', 'Yes', 'Yes', 'Yes', 'Yes', 'Yes', 'Yes', 'Yes', 'Yes', 'Yes', 'Yes', 'Yes', 'Yes', 'Yes', 'Yes', 'Yes', 'Yes', 'Yes', 'Yes', 'Yes', 'Yes', 'Yes', 'Yes', 'Yes', 'Yes', 'Yes', 'Yes', 'Yes', 'Yes', 'Yes', 'Yes', 'Yes', 'Yes', 'Yes', 'Yes', 'Yes', 'Yes', 'Yes', 'Yes', 'Yes', 'Yes', 'Yes', 'Yes', 'Yes', 'Yes', 'Yes', 'Yes', 'Yes', 'Yes', 'Yes', 'Yes', 'Yes', 'Yes', 'Yes', 'Yes', 'Yes', 'Yes', 'Yes', 'Yes', 'Yes', 'Yes', 'Yes', 'Yes', 'Yes', 'Yes', 'Yes', 'Yes', 'Yes', 'Yes', 'Yes', 'Yes', 'Yes', 'Yes', 'Yes', 'Yes', 'Yes', 'Yes', 'Yes', 'Yes', 'No', 'Yes', 'Yes', 'Yes', 'Yes', 'Yes', 'Yes', 'Yes', 'Yes', 'Yes', 'Yes', 'Yes', 'Yes', 'Yes', 'Yes', 'Yes', 'Yes', 'Yes', 'Yes', 'Yes', 'Yes', 'Yes', 'Yes', 'Yes', 'Yes', 'Yes', 'Yes', 'Yes', 'Yes', 'Yes', 'Yes', 'Yes', 'Yes', 'Yes', 'Yes', 'Yes', 'Yes', 'Yes', 'Yes', 'Yes', 'Yes', 'Yes', 'Yes', 'Yes', 'Yes', 'Yes', 'Yes', 'Yes', 'Yes', 'Yes', 'Yes', 'Yes', 'Yes', 'Yes', 'Yes', 'Yes', 'Yes', 'Yes', 'Yes', 'Yes', 'Yes', 'Yes', 'Yes', 'Yes', 'Yes', 'Yes', 'Yes', 'Yes', 'Yes', 'Yes', 'Yes', 'Yes', 'Yes', 'Yes', 'Yes', 'Yes', 'Yes', 'Yes', 'Yes', 'Yes', 'Yes', 'Yes', 'Yes', 'Yes', 'Yes', 'Yes', 'Yes', 'Yes', 'Yes', 'Yes', 'Yes', 'Yes', 'Yes', 'Yes', 'Yes', 'Yes', 'Yes', 'Yes', 'Yes', 'Yes', 'Yes', 'Yes', 'Yes', 'Yes', 'Yes', 'Yes', 'Yes', 'Yes', 'Yes', 'Yes', 'Yes', 'Yes', 'Yes', 'Yes', 'Yes', 'Yes', 'Yes', 'Yes', 'Yes', 'Yes', 'Yes', 'Yes', 'Yes', 'Yes', 'Yes', 'Yes', 'Yes', 'Yes', 'Yes', 'Yes', 'Yes', 'Yes', 'Yes', 'Yes', 'Yes', 'Yes', 'Yes', 'Yes', 'Yes', 'Yes', 'Yes', 'Yes', 'Yes', 'Yes', 'Yes', 'Yes', 'Yes', 'Yes', 'Yes', 'Yes', 'Yes', 'Yes', 'Yes', 'Yes', 'Yes', 'Yes', 'Yes', 'Yes', 'Yes', 'Yes', 'Yes', 'Yes', 'Yes', 'Yes', 'Yes', 'Yes', 'Yes', 'Yes', 'Yes', 'Yes', 'Yes', 'Yes', 'Yes', 'Yes', 'Yes', 'Yes', 'Yes', 'Yes', 'Yes', 'Yes', 'Yes', 'Yes', 'Yes', 'Yes', 'Yes', 'Yes', 'Yes', 'Yes', 'Yes', 'Yes', 'Yes', 'Yes', 'Yes', 'Yes', 'Yes', 'Yes', 'Yes', 'Yes', 'Yes', 'Yes', 'Yes', 'Yes', 'Yes', 'Yes', 'Yes', 'Yes', 'Yes', 'Yes', 'Yes', 'Yes', 'Yes', 'Yes', 'Yes', 'Yes', 'Yes', 'Yes', 'Yes', 'Yes', 'Yes', 'Yes', 'Yes', 'Yes', 'Yes', 'Yes', 'Yes', 'Yes', 'Yes', 'Yes', 'Yes', 'Yes', 'Yes', 'Yes', 'Yes', 'Yes', 'Yes', 'Yes', 'Yes', 'Yes', 'Yes', 'Yes', 'Yes', 'Yes', 'Yes', 'Yes', 'Yes', 'Yes', 'Yes', 'Yes', 'Yes', 'Yes', 'Yes', 'Yes', 'Yes', 'Yes', 'Yes', 'Yes', 'Yes', 'Yes', 'Yes', 'Yes', 'Yes', 'Yes', 'Yes', 'Yes', 'Yes', 'Yes', 'Yes', 'Yes', 'Yes', 'Yes', 'Yes', 'Yes', 'Yes', 'Yes', 'Yes', 'Yes', 'Yes', 'Yes', 'Yes', 'Yes', 'Yes', 'Yes', 'Yes', 'Yes', 'Yes', 'Yes', 'Yes', 'Yes', 'Yes', 'Yes', 'Yes', 'Yes', 'Yes', 'Yes', 'Yes', 'Yes', 'Yes', 'Yes', 'Yes', 'Yes', 'Yes', 'Yes', 'Yes', 'Yes', 'Yes', 'Yes', 'Yes', 'Yes', 'Yes', 'Yes', 'Yes', 'Yes', 'Yes', 'Yes', 'Yes', 'Yes', 'Yes', 'Yes', 'Yes', 'Yes', 'Yes', 'Yes', 'Yes', 'Yes', 'Yes', 'Yes', 'Yes', 'Yes', 'Yes', 'Yes', 'Yes', 'Yes', 'Yes', 'Yes', 'Yes', 'Yes', 'Yes', 'Yes', 'Yes', 'Yes', 'Yes', 'Yes', 'Yes', 'Yes', 'Yes', 'Yes', 'Yes', 'Yes', 'Yes', 'Yes', 'Yes', 'Yes', 'Yes', 'Yes', 'Yes', 'Yes', 'Yes', 'Yes', 'Yes', 'Yes', 'Yes', 'Yes', 'Yes', 'Yes', 'Yes', 'Yes', 'Yes', 'Yes', 'Yes', 'Yes', 'Yes', 'Yes', 'Yes', 'Yes', 'Yes', 'Yes', 'Yes', 'Yes', 'Yes', 'Yes', 'Yes', 'Yes', 'Yes', 'Yes', 'Yes', 'Yes', 'Yes', 'Yes', 'Yes', 'Yes', 'Yes', 'Yes', 'Yes', 'Yes', 'Yes', 'Yes', 'Yes', 'Yes', 'Yes', 'Yes', 'Yes', 'Yes', 'Yes', 'Yes', 'No', 'No', 'No', 'No', 'No', 'No', 'No', 'No', 'No', 'No', 'No', 'No', 'No', 'No', 'No', 'No', 'No', 'No', 'No', 'No', 'No', 'No', 'No', 'No', 'No', 'No', 'No', 'No', 'No', 'No', 'No', 'No', 'No', 'No', 'No', 'No', 'No', 'No', 'No', 'No', 'No', 'No', 'No', 'No', 'No', 'No', 'No', 'No', 'No', 'No', 'No', 'No', 'No', 'No', 'No', 'No', 'No', 'No', 'No', 'No', 'No', 'No', 'No', 'No', 'No', 'No', 'No', 'No', 'No', 'No', 'No', 'No', 'No', 'No', 'No', 'No', 'No', 'No', 'No', 'No', 'No', 'No', 'No', 'No', 'No', 'No', 'No', 'No', 'No', 'No', 'No', 'No', 'No', 'No', 'No', 'No', 'No', 'No', 'No', 'No', 'No', 'No', 'No', 'No', 'No', 'No', 'No', 'No', 'No', 'No', 'No', 'No', 'No', 'No', 'No', 'No', 'No', 'No', 'No', 'No', 'No', 'No', 'No', 'No', 'No', 'No', 'No', 'No', 'No', 'No', 'No', 'No', 'No', 'No', 'No', 'No', 'No', 'No', 'No', 'No', 'No', 'No', 'No', 'No', 'No', 'No', 'No', 'No', 'No', 'No', 'No', 'No', 'No', 'No', 'No', 'No', 'No', 'No', 'No', 'No', 'No', 'No', 'No', 'No', 'No', 'No', 'No', 'No', 'No', 'No', 'No', 'No', 'No', 'No', 'No', 'No', 'No', 'No', 'No', 'No', 'No', 'No', 'No', 'No', 'No', 'No', 'No', 'No', 'No', 'No', 'No', 'No', 'No', 'No', 'No', 'No', 'No', 'No', 'No', 'No', 'No', 'No', 'No', 'No', 'No', 'No', 'No', 'No', 'No', 'No', 'No', 'No', 'No', 'No', 'No', 'No', 'No', 'No', 'No', 'No', 'No']\n"
     ]
    }
   ],
   "source": [
    "substring = \"[FR Doc.\"\n",
    "\n",
    "check = []\n",
    "\n",
    "for entry in test_cleaning:\n",
    "    if substring in entry:\n",
    "        value = \"Yes\"\n",
    "        check.append(value)\n",
    "    else:\n",
    "        value = \"No\"\n",
    "        check.append(value)\n",
    "\n",
    "print(check)"
   ]
  },
  {
   "cell_type": "code",
   "execution_count": 21,
   "metadata": {},
   "outputs": [
    {
     "name": "stdout",
     "output_type": "stream",
     "text": [
      "    In_HTML\n",
      "139      No\n",
      "303      No\n",
      "707      No\n",
      "708      No\n",
      "709      No\n"
     ]
    }
   ],
   "source": [
    "ind = range(0, 928)\n",
    "df = pd.DataFrame(index = ind, data = check, columns=[\"In_HTML\"])\n",
    "\n",
    "#print(df.head())\n",
    "\n",
    "print((df[df[\"In_HTML\"] == \"No\"]).head())"
   ]
  },
  {
   "cell_type": "markdown",
   "metadata": {},
   "source": [
    "Okay, now we know which orders aren't in HTML format, and we can remove those. There are 223"
   ]
  },
  {
   "cell_type": "code",
   "execution_count": 22,
   "metadata": {},
   "outputs": [
    {
     "name": "stdout",
     "output_type": "stream",
     "text": [
      "      citation document_number  end_page  \\\n",
      "0  83 FR 61505      2018-26156     61507   \n",
      "1  83 FR 55243      2018-24254     55245   \n",
      "2  83 FR 48195      2018-20816     48200   \n",
      "3  83 FR 46843      2018-20203     46848   \n",
      "4  83 FR 45321      2018-19514     45323   \n",
      "\n",
      "                                            html_url  \\\n",
      "0  https://www.federalregister.gov/documents/2018...   \n",
      "1  https://www.federalregister.gov/documents/2018...   \n",
      "2  https://www.federalregister.gov/documents/2018...   \n",
      "3  https://www.federalregister.gov/documents/2018...   \n",
      "4  https://www.federalregister.gov/documents/2018...   \n",
      "\n",
      "                                             pdf_url                   type  \\\n",
      "0  https://www.gpo.gov/fdsys/pkg/FR-2018-11-29/pd...  Presidential Document   \n",
      "1  https://www.gpo.gov/fdsys/pkg/FR-2018-11-02/pd...  Presidential Document   \n",
      "2  https://www.gpo.gov/fdsys/pkg/FR-2018-09-21/pd...  Presidential Document   \n",
      "3  https://www.gpo.gov/fdsys/pkg/FR-2018-09-14/pd...  Presidential Document   \n",
      "4  https://www.gpo.gov/fdsys/pkg/FR-2018-09-06/pd...  Presidential Document   \n",
      "\n",
      "           subtype publication_date signing_date  start_page  \\\n",
      "0  Executive Order       11/29/2018   11/27/2018       61505   \n",
      "1  Executive Order       11/02/2018   11/01/2018       55243   \n",
      "2  Executive Order       09/21/2018   09/20/2018       48195   \n",
      "3  Executive Order       09/14/2018   09/12/2018       46843   \n",
      "4  Executive Order       09/06/2018   08/31/2018       45321   \n",
      "\n",
      "                                               title  \\\n",
      "0  Blocking Property of Certain Persons Contribut...   \n",
      "1  Blocking Property of Additional Persons Contri...   \n",
      "2  Authorizing the Implementation of Certain Sanc...   \n",
      "3  Imposing Certain Sanctions in the Event of For...   \n",
      "4       Strengthening Retirement Security in America   \n",
      "\n",
      "                                   disposition_notes  executive_order_number  \\\n",
      "0                                                NaN                   13851   \n",
      "1                                                NaN                   13850   \n",
      "2  See: EO 13694 of 4/1/2015, EO 13757 of 12/28/2...                   13849   \n",
      "3  See: 13694 of 4/1/2015, EO 13757 of 12/28/2016...                   13848   \n",
      "4                                                NaN                   13847   \n",
      "\n",
      "  President       Party In_HTML  \n",
      "0     Trump  Republican     Yes  \n",
      "1     Trump  Republican     Yes  \n",
      "2     Trump  Republican     Yes  \n",
      "3     Trump  Republican     Yes  \n",
      "4     Trump  Republican     Yes  \n"
     ]
    }
   ],
   "source": [
    "ex_dataset[\"In_HTML\"] = df[\"In_HTML\"]\n",
    "\n",
    "print(ex_dataset.head())"
   ]
  },
  {
   "cell_type": "markdown",
   "metadata": {},
   "source": [
    "Okay, now we know which ones are in HTML. We can make a new dataset that contains only HTML orders, and work off that"
   ]
  },
  {
   "cell_type": "code",
   "execution_count": 23,
   "metadata": {},
   "outputs": [
    {
     "name": "stdout",
     "output_type": "stream",
     "text": [
      "705\n",
      "705\n"
     ]
    }
   ],
   "source": [
    "cleaned_ex_data = ex_dataset[ex_dataset[\"In_HTML\"] == \"Yes\"]\n",
    "\n",
    "print(928-223)\n",
    "\n",
    "# These number should be the same if the above code is successful\n",
    "print(len(cleaned_ex_data))"
   ]
  },
  {
   "cell_type": "markdown",
   "metadata": {},
   "source": [
    "Great! We now have 705 executive orders in HTML ready to be parsed into our dataframe."
   ]
  },
  {
   "cell_type": "code",
   "execution_count": 24,
   "metadata": {
    "scrolled": true
   },
   "outputs": [
    {
     "name": "stderr",
     "output_type": "stream",
     "text": [
      "/anaconda3/lib/python3.6/site-packages/bs4/__init__.py:181: UserWarning: No parser was explicitly specified, so I'm using the best available HTML parser for this system (\"lxml\"). This usually isn't a problem, but if you run this code on another system, or in a different virtual environment, it may use a different parser and behave differently.\n",
      "\n",
      "The code that caused this warning is on line 193 of the file /anaconda3/lib/python3.6/runpy.py. To get rid of this warning, change code that looks like this:\n",
      "\n",
      " BeautifulSoup(YOUR_MARKUP})\n",
      "\n",
      "to this:\n",
      "\n",
      " BeautifulSoup(YOUR_MARKUP, \"lxml\")\n",
      "\n",
      "  markup_type=markup_type))\n"
     ]
    },
    {
     "name": "stdout",
     "output_type": "stream",
     "text": [
      ".\n",
      "\n",
      "\n",
      "\n",
      "\n",
      "\n",
      "Executive Order 13751 of December 5, 2016\n",
      "        Safeguarding the Nation From the Impacts of Invasive Species\n",
      "By the authority vested in me as President by the Constitution and to ensure the faithful execution of the laws of the United States of America, including the National Environmental Policy Act of 1969, as amended (42 U.S.C. 4321 et seq.), the Nonindigenous Aquatic Nuisance Prevention and Control Act of 1990, (16 U.S.C. 4701 et seq.), the Plant Protection Act (7 U.S.C. 7701 et seq.), the Lacey Act, as amended (18 U.S.C. 42, 16 U.S.C. 3371-3378 et seq.), the Endangered Species Act of 1973, as amended (16 U.S.C. 1531 et seq.), the Noxious Weed Control and Eradication Act of 2004 (7 U.S.C. 7781 et seq.), and other pertinent statutes, to prevent the introduction of invasive species and provide for their control, and to minimize the economic, plant, animal, ecological, and human health impacts that invasive species cause, it is hereby ordered as follows:\n",
      "\n",
      "Section 1.\n",
      "Policy. It is the policy of the United States to prevent the introduction, establishment, and spread of invasive species, as well as to eradicate and control populations of invasive species that are established. Invasive species pose threats to prosperity, security, and quality of life. They have negative impacts on the environment and natural resources, agriculture and food production systems, water resources, human, animal, and plant health, infrastructure, the economy, energy, cultural resources, and military readiness. Every year, invasive species cost the United States billions of dollars in economic losses and other damages.\n",
      "Of substantial growing concern are invasive species that are or may be vectors, reservoirs, and causative agents of disease, which threaten human, animal, and plant health. The introduction, establishment, and spread of invasive species create the potential for serious public health impacts, especially when considered in the context of changing climate conditions. Climate change influences the establishment, spread, and impacts of invasive species.\n",
      "Executive Order 13112 of February 3, 1999 (Invasive Species), called upon executive departments and agencies to take steps to prevent the introduction and spread of invasive species, and to support efforts to eradicate and control invasive species that are established. Executive Order 13112 also created a coordinating body—the Invasive Species Council, also referred to as the National Invasive Species Council—to oversee implementation of the order, encourage proactive planning and action, develop recommendations for international cooperation, and take other steps to improve the Federal response to invasive species. Past efforts at preventing, eradicating, and controlling invasive species demonstrated that collaboration across Federal, State, local, tribal, and territorial government; stakeholders; and the private sector is critical to minimizing the spread of invasive species and that coordinated action is necessary to protect the assets and security of the United States.\n",
      "This order amends Executive Order 13112 and directs actions to continue coordinated Federal prevention and control efforts related to invasive species. This order maintains the National Invasive Species Council (Council) and the Invasive Species Advisory Committee; expands the membership of the Council; clarifies the operations of the Council; incorporates considerations Start Printed Page 88610of human and environmental health, climate change, technological innovation, and other emerging priorities into Federal efforts to address invasive species; and strengthens coordinated, cost-efficient Federal action.\n",
      "\n",
      "Sec. 2.\n",
      "Definitions. Section 1 of Executive Order 13112 is amended to read as follows:\n",
      "\n",
      "“Section 1.\n",
      "Definitions. (a) ‘Control’ means containing, suppressing, or reducing populations of invasive species.\n",
      "(b) ‘Eradication’ means the removal or destruction of an entire population of invasive species.\n",
      "(c) ‘Federal agency’ means an executive department or agency, but does not include independent establishments as defined by 5 U.S.C. 104.\n",
      "(d) ‘Introduction’ means, as a result of human activity, the intentional or unintentional escape, release, dissemination, or placement of an organism into an ecosystem to which it is not native.\n",
      "(e) ‘Invasive species’ means, with regard to a particular ecosystem, a non-native organism whose introduction causes or is likely to cause economic or environmental harm, or harm to human, animal, or plant health.\n",
      "(f) ‘Non-native species’ or ‘alien species’ means, with respect to a particular ecosystem, an organism, including its seeds, eggs, spores, or other biological material capable of propagating that species, that occurs outside of its natural range.\n",
      "(g) ‘Pathway’ means the mechanisms and processes by which non-native species are moved, intentionally or unintentionally, into a new ecosystem.\n",
      "(h) ‘Prevention’ means the action of stopping invasive species from being introduced or spreading into a new ecosystem.\n",
      "(i) ‘United States’ means the 50 States, the District of Columbia, the Commonwealth of Puerto Rico, Guam, American Samoa, the U.S. Virgin Islands, the Commonwealth of the Northern Mariana Islands, all possessions, and the territorial sea of the United States as defined by Presidential Proclamation 5928 of December 27, 1988.”\n",
      "\n",
      " Sec. 3.\n",
      "Federal Agency Duties. Section 2 of Executive Order 13112 is amended to read as follows:\n",
      "\n",
      " “Sec. 2.\n",
      "Federal Agency Duties. (a) Each Federal agency for which that agency's actions may affect the introduction, establishment, or spread of invasive species shall, to the extent practicable and permitted by law,\n",
      "(1) identify such agency actions;\n",
      "(2) subject to the availability of appropriations, and within administrative, budgetary, and jurisdictional limits, use relevant agency programs and authorities to:\n",
      "        (i) prevent the introduction, establishment, and spread of invasive species;\n",
      "        (ii) detect and respond rapidly to eradicate or control populations of invasive species in a manner that is cost-effective and minimizes human, animal, plant, and environmental health risks;\n",
      "        (iii) monitor invasive species populations accurately and reliably;\n",
      "        (iv) provide for the restoration of native species, ecosystems, and other assets that have been impacted by invasive species;\n",
      "        (v) conduct research on invasive species and develop and apply technologies to prevent their introduction, and provide for environmentally sound methods of eradication and control of invasive species;\n",
      "        (vi) promote public education and action on invasive species, their pathways, and ways to address them, with an emphasis on prevention, and early detection and rapid response;\n",
      "\n",
      "        (vii) assess and strengthen, as appropriate, policy and regulatory frameworks pertaining to the prevention, eradication, and control of invasive species and address regulatory gaps, inconsistencies, and conflicts;Start Printed Page 88611\n",
      "        \n",
      "        (viii) coordinate with and complement similar efforts of States, territories, federally recognized American Indian tribes, Alaska Native Corporations, Native Hawaiians, local governments, nongovernmental organizations, and the private sector; and\n",
      "        (ix) in consultation with the Department of State and with other agencies as appropriate, coordinate with foreign governments to prevent the movement and minimize the impacts of invasive species; and\n",
      "        (3) refrain from authorizing, funding, or implementing actions that are likely to cause or promote the introduction, establishment, or spread of invasive species in the United States unless, pursuant to guidelines that it has prescribed, the agency has determined and made public its determination that the benefits of such actions clearly outweigh the potential harm caused by invasive species; and that all feasible and prudent measures to minimize risk of harm will be taken in conjunction with the actions.\n",
      "(c) Federal agencies shall pursue the duties set forth in this section in coordination, to the extent practicable, with other member agencies of the Council and staff, consistent with the National Invasive Species Council Management Plan, and in cooperation with State, local, tribal, and territorial governments, and stakeholders, as appropriate, and in consultation with the Department of State when Federal agencies are working with international organizations and foreign nations.\n",
      "(d) Federal agencies that are members of the Council, and Federal interagency bodies working on issues relevant to the prevention, eradication, and control of invasive species, shall provide the Council with annual information on actions taken that implement these duties and identify barriers to advancing priority actions.\n",
      "(e) To the extent practicable, Federal agencies shall also expand the use of new and existing technologies and practices; develop, share, and utilize similar metrics and standards, methodologies, and databases and, where relevant, platforms for monitoring invasive species; and, facilitate the interoperability of information systems, open data, data analytics, predictive modeling, and data reporting necessary to inform timely, science-based decision making.\n",
      "\n",
      "Sec. 4.\n",
      "Emerging Priorities. Federal agencies that are members of the Council and Federal interagency bodies working on issues relevant to the prevention, eradication, and control of invasive species shall take emerging priorities into consideration, including:\n",
      "(a) Federal agencies shall consider the potential public health and safety impacts of invasive species, especially those species that are vectors, reservoirs, and causative agents of disease. The Department of Health and Human Services, in coordination and consultation with relevant agencies as appropriate, shall within 1 year of this order, and as requested by the Council thereafter, provide the Office of Science and Technology Policy and the Council a report on public health impacts associated with invasive species. That report shall describe the disease, injury, immunologic, and safety impacts associated with invasive species, including any direct and indirect impacts on low-income, minority, and tribal communities.\n",
      "(b) Federal agencies shall consider the impacts of climate change when working on issues relevant to the prevention, eradication, and control of invasive species, including in research and monitoring efforts, and integrate invasive species into Federal climate change coordinating frameworks and initiatives.\n",
      "(c) Federal agencies shall consider opportunities to apply innovative science and technology when addressing the duties identified in section 2 of Executive Order 13112, as amended, including, but not limited to, promoting open data and data analytics; harnessing technological advances in remote sensing technologies, molecular tools, cloud computing, and predictive analytics; and using tools such as challenge prizes, citizen science, and crowdsourcing.Start Printed Page 88612\n",
      "\n",
      "\n",
      "Sec. 5.\n",
      "National Invasive Species Council. Section 3 of Executive Order 13112 is amended to read as follows:\n",
      "\n",
      "“Sec. 3.\n",
      "National Invasive Species Council. (a) A National Invasive Species Council (Council) is hereby established. The mission of the Council is to provide the vision and leadership to coordinate, sustain, and expand Federal efforts to safeguard the interests of the United States through the prevention, eradication, and control of invasive species, and through the restoration of ecosystems and other assets impacted by invasive species.\n",
      "(b) The Council's membership shall be composed of the following officials, who may designate a senior-level representative to perform the functions of the member:\n",
      "        (i) Secretary of State;\n",
      "        (ii) Secretary of the Treasury;\n",
      "        (iii) Secretary of Defense;\n",
      "        (iv) Secretary of the Interior;\n",
      "        (v) Secretary of Agriculture;\n",
      "        (vi) Secretary of Commerce;\n",
      "        (vii) Secretary of Health and Human Services;\n",
      "        (viii) Secretary of Transportation;\n",
      "        (ix) Secretary of Homeland Security;\n",
      "        (x) Administrator of the National Aeronautics and Space Administration;\n",
      "        (xi) Administrator of the Environmental Protection Agency;\n",
      "        (xii) Administrator of the United States Agency for International Development;\n",
      "        (xiii) United States Trade Representative;\n",
      "        (xiv) Director or Chair of the following components of the Executive Office of the President: the Office of Science and Technology Policy, the Council on Environmental Quality, and the Office of Management and Budget; and\n",
      "        (xv) Officials from such other departments, agencies, offices, or entities as the agencies set forth above, by consensus, deem appropriate.\n",
      "        (c) The Council shall be co-chaired by the Secretary of the Interior (Secretary), the Secretary of Agriculture, and the Secretary of Commerce, who shall meet quarterly or more frequently if needed, and who may designate a senior-level representative to perform the functions of the Co-Chair. The Council shall meet no less than once each year. The Secretary of the Interior shall, after consultation with the Co-Chairs, appoint an Executive Director of the Council to oversee a staff that supports the duties of the Council. Within 1 year of the date of this order, the Co-Chairs of the Council shall, with consensus of its members, complete a charter, which shall include any administrative policies and processes necessary to ensure the Council can satisfy the functions and responsibilities described in this order.\n",
      "(d) The Secretary of the Interior shall maintain the current Invasive Species Advisory Committee established under the Federal Advisory Committee Act, 5 U.S.C. App., to provide information and advice for consideration by the Council. The Secretary shall, after consultation with other members of the Council, appoint members of the advisory committee who represent diverse stakeholders and who have expertise to advise the Council.\n",
      "(e) Administration of the Council. The Department of the Interior shall provide funding and administrative support for the Council and the advisory committee consistent with existing authorities. To the extent permitted by law, including the Economy Act, and within existing appropriations, participating agencies may detail staff to the Department of the Interior to support the Council's efforts.”Start Printed Page 88613\n",
      "\n",
      "\n",
      " Sec. 6.\n",
      "Duties of the National Invasive Species Council. Section 4 of Executive Order 13112 is amended to read as follows:\n",
      "\n",
      "“Sec. 4.\n",
      "Duties of the National Invasive Species Council. The Council shall provide national leadership regarding invasive species and shall:\n",
      "(a) with regard to the implementation of this order, work to ensure that the Federal agency and interagency activities concerning invasive species are coordinated, complementary, cost-efficient, and effective;\n",
      "(b) undertake a National Invasive Species Assessment in coordination with the U.S. Global Change Research Program's periodic national assessment, that evaluates the impact of invasive species on major U.S. assets, including food security, water resources, infrastructure, the environment, human, animal, and plant health, natural resources, cultural identity and resources, and military readiness, from ecological, social, and economic perspectives;\n",
      "(c) advance national incident response, data collection, and rapid reporting capacities that build on existing frameworks and programs and strengthen early detection of and rapid response to invasive species, including those that are vectors, reservoirs, or causative agents of disease;\n",
      "(d) publish an assessment by 2020 that identifies the most pressing scientific, technical, and programmatic coordination challenges to the Federal Government's capacity to prevent the introduction of invasive species, and that incorporate recommendations and priority actions to overcome these challenges into the National Invasive Species Council Management Plan, as appropriate;\n",
      "(e) support and encourage the development of new technologies and practices, and promote the use of existing technologies and practices, to prevent, eradicate, and control invasive species, including those that are vectors, reservoirs, and causative agents of disease;\n",
      "(f) convene annually to discuss and coordinate interagency priorities and report annually on activities and budget requirements for programs that contribute directly to the implementation of this order; and\n",
      "(g) publish a National Invasive Species Council Management Plan as set forth in section 5 of this order.”\n",
      "\n",
      "Sec. 7.\n",
      "National Invasive Species Council Management Plan. Section 5 of Executive Order 13112 is amended to read as follows:\n",
      "\n",
      "“Sec. 5.\n",
      "National Invasive Species Council Management Plan. (a) By December 31, 2019, the Council shall publish a National Invasive Species Council Management Plan (Management Plan), which shall, among other priorities identified by the Council, include actions to further the implementation of the duties of the National Invasive Species Council.\n",
      "(b) The Management Plan shall recommend strategies to:\n",
      "        (1) provide institutional leadership and priority setting;\n",
      "        (2) achieve effective interagency coordination and cost-efficiency;\n",
      "        (3) raise awareness and motivate action, including through the promotion of appropriate transparency, community-level consultation, and stakeholder outreach concerning the benefits and risks to human, animal, or plant health when controlling or eradicating an invasive species;\n",
      "        (4) remove institutional and policy barriers;\n",
      "        (5) assess and strengthen capacities; and\n",
      "        (6) foster scientific, technical, and programmatic innovation.\n",
      "        (c) The Council shall evaluate the effectiveness of the Management Plan implementation and update the Plan every 3 years. The Council shall provide an annual report of its achievements to the public.\n",
      "(d) Council members may complement the Management Plan with invasive species policies and plans specific to their respective agency's roles, responsibilities, and authorities.”Start Printed Page 88614\n",
      "\n",
      "\n",
      " Sec. 8.\n",
      "Actions of the Department of State and Department of Defense. Section 6(d) of Executive Order 13112 is amended to read as follows:\n",
      "“(d) The duties of section 3(a)(2) and section 3(a)(3) of this order shall not apply to any action of the Department of State if the Secretary of State finds that exemption from such requirements is necessary for foreign policy, readiness, or national security reasons. The duties of section 3(a)(2) and section 3(a)(3) of this order shall not apply to any action of the Department of Defense if the Secretary of Defense finds that exemption from such requirements is necessary for foreign policy, readiness, or national security reasons.”\n",
      "\n",
      " Sec. 9.\n",
      "Obligations of the Department of Health and Human Services. A new section 6(e) of Executive Order 13112 is added to read as follows:\n",
      "“(e) The requirements of this order do not affect the obligations of the Department of Health and Human Services under the Public Health Service Act or the Federal Food, Drug, and Cosmetic Act.”\n",
      "\n",
      " Sec. 10.\n",
      "General Provisions. (a) Nothing in this order shall be construed to impair or otherwise affect:\n",
      "        (1) the authority granted by law to an executive department or agency, or the head thereof; or\n",
      "        (2) the functions of the Director of the Office of Management and Budget relating to budgetary, administrative, or legislative proposals.\n",
      "        (b) This order shall be implemented consistent with applicable law and subject to the availability of appropriations.\n",
      "(c) This order is not intended to, and does not, create any right or benefit, substantive or procedural, enforceable at law or in equity by any party against the United States, its departments, agencies, or entities, its officers, employees, or agents, or any other person.\n",
      "\n",
      "        \n",
      "         \n",
      "         THE WHITE HOUSE,\n",
      "        December 5, 2016.\n",
      "        \n",
      "        Filed 12-7-16; 8:45 am]\n",
      "        \n",
      "      \n",
      "    \n",
      "\n"
     ]
    }
   ],
   "source": [
    "exec_text = []\n",
    "\n",
    "for entry in range(0, 705):\n",
    "    url = cleaned_ex_data.iloc[entry][3]\n",
    "    req = urllib.request.Request(url, headers={'User-Agent' : \"Magic Browser\"}) \n",
    "    con = urllib.request.urlopen( req )\n",
    "    html = con.read()\n",
    "    soup = BeautifulSoup(html)\n",
    "    soup_text = soup.get_text()\n",
    "    doc1 = soup_text.split(\"Use the PDF linked in the document sidebar for the official electronic format\",1)[1]\n",
    "    a,b = doc1.split(\"[FR Doc.\")\n",
    "    exec_text.append(a)\n",
    "\n",
    "# I'm going to print a random order (100) to test that the for loop worked\n",
    "print(exec_text[100])"
   ]
  },
  {
   "cell_type": "markdown",
   "metadata": {},
   "source": [
    "Next we're going to append this list of strings to our dataset to get our final result"
   ]
  },
  {
   "cell_type": "code",
   "execution_count": 25,
   "metadata": {},
   "outputs": [
    {
     "name": "stdout",
     "output_type": "stream",
     "text": [
      "      citation document_number  end_page  \\\n",
      "0  83 FR 61505      2018-26156     61507   \n",
      "1  83 FR 55243      2018-24254     55245   \n",
      "2  83 FR 48195      2018-20816     48200   \n",
      "3  83 FR 46843      2018-20203     46848   \n",
      "4  83 FR 45321      2018-19514     45323   \n",
      "\n",
      "                                            html_url  \\\n",
      "0  https://www.federalregister.gov/documents/2018...   \n",
      "1  https://www.federalregister.gov/documents/2018...   \n",
      "2  https://www.federalregister.gov/documents/2018...   \n",
      "3  https://www.federalregister.gov/documents/2018...   \n",
      "4  https://www.federalregister.gov/documents/2018...   \n",
      "\n",
      "                                             pdf_url                   type  \\\n",
      "0  https://www.gpo.gov/fdsys/pkg/FR-2018-11-29/pd...  Presidential Document   \n",
      "1  https://www.gpo.gov/fdsys/pkg/FR-2018-11-02/pd...  Presidential Document   \n",
      "2  https://www.gpo.gov/fdsys/pkg/FR-2018-09-21/pd...  Presidential Document   \n",
      "3  https://www.gpo.gov/fdsys/pkg/FR-2018-09-14/pd...  Presidential Document   \n",
      "4  https://www.gpo.gov/fdsys/pkg/FR-2018-09-06/pd...  Presidential Document   \n",
      "\n",
      "           subtype publication_date signing_date  start_page  \\\n",
      "0  Executive Order       11/29/2018   11/27/2018       61505   \n",
      "1  Executive Order       11/02/2018   11/01/2018       55243   \n",
      "2  Executive Order       09/21/2018   09/20/2018       48195   \n",
      "3  Executive Order       09/14/2018   09/12/2018       46843   \n",
      "4  Executive Order       09/06/2018   08/31/2018       45321   \n",
      "\n",
      "                                               title  \\\n",
      "0  Blocking Property of Certain Persons Contribut...   \n",
      "1  Blocking Property of Additional Persons Contri...   \n",
      "2  Authorizing the Implementation of Certain Sanc...   \n",
      "3  Imposing Certain Sanctions in the Event of For...   \n",
      "4       Strengthening Retirement Security in America   \n",
      "\n",
      "                                   disposition_notes  executive_order_number  \\\n",
      "0                                                NaN                   13851   \n",
      "1                                                NaN                   13850   \n",
      "2  See: EO 13694 of 4/1/2015, EO 13757 of 12/28/2...                   13849   \n",
      "3  See: 13694 of 4/1/2015, EO 13757 of 12/28/2016...                   13848   \n",
      "4                                                NaN                   13847   \n",
      "\n",
      "  President       Party In_HTML  \\\n",
      "0     Trump  Republican     Yes   \n",
      "1     Trump  Republican     Yes   \n",
      "2     Trump  Republican     Yes   \n",
      "3     Trump  Republican     Yes   \n",
      "4     Trump  Republican     Yes   \n",
      "\n",
      "                                          Order_Text  \n",
      "0  .\\n\\n\\n\\n\\n\\nStart Printed Page 61505\\nExecuti...  \n",
      "1  .\\n\\n\\n\\n\\n\\nExecutive Order 13850 of November...  \n",
      "2  .\\n\\n\\n\\n\\n\\nExecutive Order 13849 of Septembe...  \n",
      "3  .\\n\\n\\n\\n\\n\\nExecutive Order 13848 of Septembe...  \n",
      "4  .\\n\\n\\n\\n\\n\\nStart Printed Page 45321\\nExecuti...  \n"
     ]
    },
    {
     "name": "stderr",
     "output_type": "stream",
     "text": [
      "/anaconda3/lib/python3.6/site-packages/ipykernel_launcher.py:1: SettingWithCopyWarning: \n",
      "A value is trying to be set on a copy of a slice from a DataFrame.\n",
      "Try using .loc[row_indexer,col_indexer] = value instead\n",
      "\n",
      "See the caveats in the documentation: http://pandas.pydata.org/pandas-docs/stable/indexing.html#indexing-view-versus-copy\n",
      "  \"\"\"Entry point for launching an IPython kernel.\n"
     ]
    }
   ],
   "source": [
    "cleaned_ex_data[\"Order_Text\"] = exec_text\n",
    "\n",
    "print(cleaned_ex_data.head())"
   ]
  },
  {
   "cell_type": "markdown",
   "metadata": {},
   "source": [
    "Next, we're going to strip the new line \\n from the text"
   ]
  },
  {
   "cell_type": "code",
   "execution_count": 26,
   "metadata": {},
   "outputs": [
    {
     "name": "stderr",
     "output_type": "stream",
     "text": [
      "/anaconda3/lib/python3.6/site-packages/pandas/core/indexing.py:537: SettingWithCopyWarning: \n",
      "A value is trying to be set on a copy of a slice from a DataFrame.\n",
      "Try using .loc[row_indexer,col_indexer] = value instead\n",
      "\n",
      "See the caveats in the documentation: http://pandas.pydata.org/pandas-docs/stable/indexing.html#indexing-view-versus-copy\n",
      "  self.obj[item] = s\n"
     ]
    },
    {
     "name": "stdout",
     "output_type": "stream",
     "text": [
      "      citation document_number  end_page  \\\n",
      "0  83 FR 61505      2018-26156     61507   \n",
      "1  83 FR 55243      2018-24254     55245   \n",
      "2  83 FR 48195      2018-20816     48200   \n",
      "3  83 FR 46843      2018-20203     46848   \n",
      "4  83 FR 45321      2018-19514     45323   \n",
      "\n",
      "                                            html_url  \\\n",
      "0  https://www.federalregister.gov/documents/2018...   \n",
      "1  https://www.federalregister.gov/documents/2018...   \n",
      "2  https://www.federalregister.gov/documents/2018...   \n",
      "3  https://www.federalregister.gov/documents/2018...   \n",
      "4  https://www.federalregister.gov/documents/2018...   \n",
      "\n",
      "                                             pdf_url                   type  \\\n",
      "0  https://www.gpo.gov/fdsys/pkg/FR-2018-11-29/pd...  Presidential Document   \n",
      "1  https://www.gpo.gov/fdsys/pkg/FR-2018-11-02/pd...  Presidential Document   \n",
      "2  https://www.gpo.gov/fdsys/pkg/FR-2018-09-21/pd...  Presidential Document   \n",
      "3  https://www.gpo.gov/fdsys/pkg/FR-2018-09-14/pd...  Presidential Document   \n",
      "4  https://www.gpo.gov/fdsys/pkg/FR-2018-09-06/pd...  Presidential Document   \n",
      "\n",
      "           subtype publication_date signing_date  start_page  \\\n",
      "0  Executive Order       11/29/2018   11/27/2018       61505   \n",
      "1  Executive Order       11/02/2018   11/01/2018       55243   \n",
      "2  Executive Order       09/21/2018   09/20/2018       48195   \n",
      "3  Executive Order       09/14/2018   09/12/2018       46843   \n",
      "4  Executive Order       09/06/2018   08/31/2018       45321   \n",
      "\n",
      "                                               title  \\\n",
      "0  Blocking Property of Certain Persons Contribut...   \n",
      "1  Blocking Property of Additional Persons Contri...   \n",
      "2  Authorizing the Implementation of Certain Sanc...   \n",
      "3  Imposing Certain Sanctions in the Event of For...   \n",
      "4       Strengthening Retirement Security in America   \n",
      "\n",
      "                                   disposition_notes  executive_order_number  \\\n",
      "0                                                NaN                   13851   \n",
      "1                                                NaN                   13850   \n",
      "2  See: EO 13694 of 4/1/2015, EO 13757 of 12/28/2...                   13849   \n",
      "3  See: 13694 of 4/1/2015, EO 13757 of 12/28/2016...                   13848   \n",
      "4                                                NaN                   13847   \n",
      "\n",
      "  President       Party In_HTML  \\\n",
      "0     Trump  Republican     Yes   \n",
      "1     Trump  Republican     Yes   \n",
      "2     Trump  Republican     Yes   \n",
      "3     Trump  Republican     Yes   \n",
      "4     Trump  Republican     Yes   \n",
      "\n",
      "                                          Order_Text  \n",
      "0  .Start Printed Page 61505Executive Order 13851...  \n",
      "1  .Executive Order 13850 of November 1, 2018    ...  \n",
      "2  .Executive Order 13849 of September 20, 2018  ...  \n",
      "3  .Executive Order 13848 of September 12, 2018  ...  \n",
      "4  .Start Printed Page 45321Executive Order 13847...  \n"
     ]
    }
   ],
   "source": [
    "for index, row in cleaned_ex_data.iterrows():\n",
    "    cleaned_ex_data.loc[index, \"Order_Text\"] = cleaned_ex_data.loc[index, \"Order_Text\"].replace('\\n', '')\n",
    "    \n",
    "print(cleaned_ex_data.head())"
   ]
  },
  {
   "cell_type": "markdown",
   "metadata": {},
   "source": [
    "Now our data is clean and ready for analysis! Let's get some exploratory statistics, such as the number of orders per president"
   ]
  },
  {
   "cell_type": "code",
   "execution_count": 27,
   "metadata": {},
   "outputs": [
    {
     "name": "stdout",
     "output_type": "stream",
     "text": [
      "Trump: 87\n",
      "Obama: 272\n",
      "Bush: 291\n",
      "Clinton: 55\n"
     ]
    }
   ],
   "source": [
    "print(\"Trump:\",len(cleaned_ex_data[cleaned_ex_data[\"President\"] == \"Trump\"]))\n",
    "print(\"Obama:\",len(cleaned_ex_data[cleaned_ex_data[\"President\"] == \"Obama\"]))\n",
    "print(\"Bush:\",len(cleaned_ex_data[cleaned_ex_data[\"President\"] == \"Bush\"]))\n",
    "print(\"Clinton:\",len(cleaned_ex_data[cleaned_ex_data[\"President\"] == \"Clinton\"]))"
   ]
  },
  {
   "cell_type": "markdown",
   "metadata": {},
   "source": [
    "We can see that Clinton has the least. This is likely because we discarded many of the executive orders that were't in HTML format, which are the older orders. Trump also doesn't have very many, likely becuase he hasn't been in office very long. Now let's compare Dems and Republicans:"
   ]
  },
  {
   "cell_type": "code",
   "execution_count": 28,
   "metadata": {},
   "outputs": [
    {
     "name": "stdout",
     "output_type": "stream",
     "text": [
      "Democrats: 327\n",
      "Republicans: 378\n"
     ]
    }
   ],
   "source": [
    "print(\"Democrats:\",len(cleaned_ex_data[cleaned_ex_data[\"Party\"] == \"Democrat\"]))\n",
    "print(\"Republicans:\",len(cleaned_ex_data[cleaned_ex_data[\"Party\"] == \"Republican\"]))"
   ]
  },
  {
   "cell_type": "markdown",
   "metadata": {},
   "source": [
    "These numbers are pretty close, which will be good for comparisons. Next let's add a col that contains the length of the different orders"
   ]
  },
  {
   "cell_type": "code",
   "execution_count": 29,
   "metadata": {},
   "outputs": [
    {
     "name": "stdout",
     "output_type": "stream",
     "text": [
      "[8555, 8380, 18662, 17754, 7619, 40410, 13682, 6590, 3183, 9886, 4951, 10791, 19216, 20876, 4339, 14347, 4406, 10517, 9140, 6978, 8067, 11066, 5842, 12365, 4425, 9871, 19286, 7072, 5255, 4072, 5830, 1391, 3446, 6716, 10321, 3125, 12175, 2383, 7336, 5698, 2481, 14858, 1822, 5328, 23761, 7243, 5246, 2151, 8480, 1810, 11608, 5143, 20955, 4385, 4866, 2259, 5988, 11592, 3646, 4029, 6464, 7491, 4491, 8262, 4839, 4773, 2310, 5343, 15384, 1612, 4117, 39293, 3558, 9821, 7478, 8412, 3973, 2313, 3920, 3016, 17300, 6183, 18503, 4309, 15469, 13304, 3416, 52635, 2256, 3135, 6839, 4486, 2175, 10694, 5187, 2853, 3462, 3122, 15429, 2633, 19986, 5944, 5498, 11498, 17768, 11605, 1256, 5154, 15280, 4202, 11578, 3769, 2488, 2503, 2917, 3007, 3180, 3035, 4711, 9653, 9230, 2245, 14021, 9266, 8405, 9759, 6317, 1688, 3044, 10947, 10642, 3577, 11129, 8529, 12239, 18918, 3312, 16001, 2278, 3054, 2771, 3676, 7007, 6490, 12889, 2165, 6031, 11698, 11851, 5907, 2434, 4039, 10951, 1021, 2706, 2303, 8763, 48997, 10990, 15843, 11593, 10625, 8818, 7104, 7954, 3306, 3572, 4202, 2182, 1682, 6561, 3066, 2171, 17307, 16533, 6406, 1902, 23418, 2869, 7483, 2638, 2333, 3376, 10009, 648, 5161, 8506, 3084, 7141, 7649, 7550, 11651, 11125, 1388, 3379, 3036, 2488, 20517, 10556, 5527, 14079, 8781, 7999, 9703, 8827, 29484, 1675, 2789, 6975, 3775, 1611, 4851, 5194, 11829, 21584, 3737, 1611, 2159, 11652, 1855, 7107, 8582, 24135, 14262, 10888, 7133, 13440, 9800, 20562, 18340, 6332, 8767, 16358, 6560, 11693, 3815, 2723, 3127, 2676, 6728, 6384, 9178, 9481, 13388, 9753, 5592, 12335, 34990, 8901, 6169, 7211, 9935, 2194, 8793, 2800, 6461, 3856, 1874, 16579, 2358, 13038, 5903, 5776, 15908, 2710, 4253, 9627, 8404, 7378, 7767, 6596, 3625, 4681, 7133, 7968, 6188, 8306, 6786, 7053, 6395, 3912, 2375, 1736, 15180, 8075, 8565, 5275, 7926, 15040, 3462, 4887, 14530, 5742, 8693, 2252, 13714, 14282, 10579, 1766, 8786, 19007, 3137, 15682, 10838, 6091, 9245, 5167, 3852, 3224, 4531, 5865, 4229, 4246, 8912, 5868, 7194, 4026, 10280, 3757, 7772, 1626, 4596, 4465, 90265, 3514, 983, 1576, 12941, 6375, 14631, 7773, 11285, 3005, 3390, 12131, 38795, 7154, 725, 3183, 788, 6590, 19218, 5432, 8552, 3144, 4704, 733, 1018, 1345, 4702, 7809, 8845, 4261, 12620, 14001, 1202, 12018, 11049, 4421, 7350, 17008, 2654, 6920, 2678, 3149, 6302, 3516, 1542, 2426, 5189, 2150, 7343, 4079, 6748, 2328, 2088, 4154, 4814, 1339, 64375, 7440, 1884, 19283, 4657, 8912, 7141, 1077, 13083, 2413, 6824, 7640, 2687, 5406, 12983, 6531, 3323, 1268, 3103, 1449, 11063, 3979, 8206, 6354, 9222, 3205, 1009, 3963, 3222, 7083, 8572, 5432, 6809, 912, 643, 5854, 8086, 3468, 7148, 2659, 24854, 2922, 1347, 1087, 7712, 2104, 742, 16427, 7243, 1338, 7301, 3482, 892, 2980, 7473, 1269, 1159, 8369, 7499, 6522, 6804, 2330, 724, 3534, 7470, 7434, 4397, 3071, 7404, 9428, 4605, 7295, 6200, 5358, 9122, 1085, 3262, 3239, 14904, 7219, 4925, 4957, 8390, 22559, 1240, 8600, 1460, 1645, 8903, 9487, 2986, 932, 2887, 1453, 1240, 1234, 2302, 3403, 4101, 2914, 2030, 4710, 3270, 1437, 7144, 19878, 2068, 3302, 4938, 2704, 6960, 2325, 3286, 2787, 8372, 12705, 16225, 12832, 3499, 2844, 7017, 8572, 1166, 5364, 7801, 4610, 850, 1308, 5775, 5604, 8699, 8375, 12691, 8700, 9713, 6963, 2268, 4986, 3265, 7531, 3880, 7358, 9915, 13667, 4502, 2861, 3044, 3255, 2064, 1261, 1236, 1201, 5326, 5597, 4699, 9139, 644, 12082, 3290, 6393, 1826, 10043, 3170, 1552, 886, 1129, 8813, 5183, 4122, 592, 1969, 3565, 2421, 4413, 1782, 2143, 1092, 1721, 68807, 1365, 3171, 3664, 10936, 50068, 10842, 4986, 9602, 5529, 3090, 1331, 12711, 5650, 4868, 6420, 5417, 1966, 6251, 2184, 5159, 5494, 1730, 10095, 2990, 4412, 2721, 5171, 1008, 5905, 70542, 1813, 5283, 5475, 4322, 4720, 8641, 678, 7880, 2657, 1866, 1396, 3819, 3232, 2279, 1007, 2133, 2171, 2393, 1857, 2326, 1926, 2161, 752, 1234, 6107, 1557, 1229, 2676, 14082, 958, 29127, 9081, 757, 20143, 6789, 3969, 3065, 10555, 5043, 4170, 2014, 768, 9136, 7580, 5423, 1173, 1747, 4410, 5473, 4175, 3086, 4398, 735, 2609, 2506, 1031, 2227, 13771, 6091, 1474, 1141, 1033, 6351, 5424, 4221, 8357, 4799, 5373, 6489, 8102, 9680, 7201, 4879, 778, 12547, 6044, 807, 4052, 2946, 2957, 8756, 13516, 6079, 28614, 6671, 4332, 10723, 3871, 1929, 4708, 6369, 5746, 11390, 4210, 864, 4979, 4370, 3037, 5347, 4431, 2250, 12447, 5818, 10308, 7534, 683, 7125, 8006, 2141, 2030, 7879, 43013, 14902, 4316, 3435, 3758, 11959]\n"
     ]
    }
   ],
   "source": [
    "lengths = []\n",
    "\n",
    "for index, row in cleaned_ex_data.iterrows():\n",
    "    num = len(cleaned_ex_data.loc[index, \"Order_Text\"])\n",
    "    lengths.append(num)\n",
    "\n",
    "# this looks good, now we just add this to the main dataframe   \n",
    "print(lengths)\n"
   ]
  },
  {
   "cell_type": "code",
   "execution_count": 30,
   "metadata": {},
   "outputs": [
    {
     "name": "stdout",
     "output_type": "stream",
     "text": [
      "      citation document_number  end_page  \\\n",
      "0  83 FR 61505      2018-26156     61507   \n",
      "1  83 FR 55243      2018-24254     55245   \n",
      "2  83 FR 48195      2018-20816     48200   \n",
      "3  83 FR 46843      2018-20203     46848   \n",
      "4  83 FR 45321      2018-19514     45323   \n",
      "\n",
      "                                            html_url  \\\n",
      "0  https://www.federalregister.gov/documents/2018...   \n",
      "1  https://www.federalregister.gov/documents/2018...   \n",
      "2  https://www.federalregister.gov/documents/2018...   \n",
      "3  https://www.federalregister.gov/documents/2018...   \n",
      "4  https://www.federalregister.gov/documents/2018...   \n",
      "\n",
      "                                             pdf_url                   type  \\\n",
      "0  https://www.gpo.gov/fdsys/pkg/FR-2018-11-29/pd...  Presidential Document   \n",
      "1  https://www.gpo.gov/fdsys/pkg/FR-2018-11-02/pd...  Presidential Document   \n",
      "2  https://www.gpo.gov/fdsys/pkg/FR-2018-09-21/pd...  Presidential Document   \n",
      "3  https://www.gpo.gov/fdsys/pkg/FR-2018-09-14/pd...  Presidential Document   \n",
      "4  https://www.gpo.gov/fdsys/pkg/FR-2018-09-06/pd...  Presidential Document   \n",
      "\n",
      "           subtype publication_date signing_date  start_page  \\\n",
      "0  Executive Order       11/29/2018   11/27/2018       61505   \n",
      "1  Executive Order       11/02/2018   11/01/2018       55243   \n",
      "2  Executive Order       09/21/2018   09/20/2018       48195   \n",
      "3  Executive Order       09/14/2018   09/12/2018       46843   \n",
      "4  Executive Order       09/06/2018   08/31/2018       45321   \n",
      "\n",
      "                                               title  \\\n",
      "0  Blocking Property of Certain Persons Contribut...   \n",
      "1  Blocking Property of Additional Persons Contri...   \n",
      "2  Authorizing the Implementation of Certain Sanc...   \n",
      "3  Imposing Certain Sanctions in the Event of For...   \n",
      "4       Strengthening Retirement Security in America   \n",
      "\n",
      "                                   disposition_notes  executive_order_number  \\\n",
      "0                                                NaN                   13851   \n",
      "1                                                NaN                   13850   \n",
      "2  See: EO 13694 of 4/1/2015, EO 13757 of 12/28/2...                   13849   \n",
      "3  See: 13694 of 4/1/2015, EO 13757 of 12/28/2016...                   13848   \n",
      "4                                                NaN                   13847   \n",
      "\n",
      "  President       Party In_HTML  \\\n",
      "0     Trump  Republican     Yes   \n",
      "1     Trump  Republican     Yes   \n",
      "2     Trump  Republican     Yes   \n",
      "3     Trump  Republican     Yes   \n",
      "4     Trump  Republican     Yes   \n",
      "\n",
      "                                          Order_Text  Order_Length  \n",
      "0  .Start Printed Page 61505Executive Order 13851...          8555  \n",
      "1  .Executive Order 13850 of November 1, 2018    ...          8380  \n",
      "2  .Executive Order 13849 of September 20, 2018  ...         18662  \n",
      "3  .Executive Order 13848 of September 12, 2018  ...         17754  \n",
      "4  .Start Printed Page 45321Executive Order 13847...          7619  \n"
     ]
    },
    {
     "name": "stderr",
     "output_type": "stream",
     "text": [
      "/anaconda3/lib/python3.6/site-packages/ipykernel_launcher.py:1: SettingWithCopyWarning: \n",
      "A value is trying to be set on a copy of a slice from a DataFrame.\n",
      "Try using .loc[row_indexer,col_indexer] = value instead\n",
      "\n",
      "See the caveats in the documentation: http://pandas.pydata.org/pandas-docs/stable/indexing.html#indexing-view-versus-copy\n",
      "  \"\"\"Entry point for launching an IPython kernel.\n"
     ]
    }
   ],
   "source": [
    "cleaned_ex_data[\"Order_Length\"] = lengths\n",
    "\n",
    "print(cleaned_ex_data.head())"
   ]
  },
  {
   "cell_type": "markdown",
   "metadata": {},
   "source": [
    "Now let's compare the average length of each executive order across parties"
   ]
  },
  {
   "cell_type": "code",
   "execution_count": 31,
   "metadata": {},
   "outputs": [
    {
     "name": "stdout",
     "output_type": "stream",
     "text": [
      "Democrats: 7998.868501529052\n",
      "Republicans: 6545.5661375661375\n"
     ]
    }
   ],
   "source": [
    "import numpy as np\n",
    "\n",
    "dems = cleaned_ex_data[cleaned_ex_data[\"Party\"] == \"Democrat\"]\n",
    "reps = cleaned_ex_data[cleaned_ex_data[\"Party\"] == \"Republican\"]\n",
    "\n",
    "print(\"Democrats:\", np.mean(dems[\"Order_Length\"]))\n",
    "print(\"Republicans:\", np.mean(reps[\"Order_Length\"]))\n"
   ]
  },
  {
   "cell_type": "markdown",
   "metadata": {},
   "source": [
    "Now let's compare these two groups with some boxplots"
   ]
  },
  {
   "cell_type": "code",
   "execution_count": 32,
   "metadata": {},
   "outputs": [
    {
     "data": {
      "text/plain": [
       "(0, 21000)"
      ]
     },
     "execution_count": 32,
     "metadata": {},
     "output_type": "execute_result"
    }
   ],
   "source": [
    "import seaborn as sns\n",
    "\n",
    "import matplotlib.pyplot as plt\n",
    "\n",
    "len_box_adj = sns.boxplot(x=\"Order_Length\", y = \"Party\", data = cleaned_ex_data, palette = \"Set2\", notch = True)\n",
    "\n",
    "# I'm adjusting the x axis here to make the plot easier to see\n",
    "plt.xlim(0, 21000)"
   ]
  },
  {
   "cell_type": "markdown",
   "metadata": {},
   "source": [
    "We can see (by the notches) that executive orders written by democrats are statistically significantly longer than those written by republicans. Let's look at individual presidents as well"
   ]
  },
  {
   "cell_type": "code",
   "execution_count": 33,
   "metadata": {},
   "outputs": [
    {
     "name": "stdout",
     "output_type": "stream",
     "text": [
      "Obama: 8187.783088235294\n",
      "Trump: 8724.471264367816\n",
      "Bush: 5894.140893470791\n",
      "Clinton: 7064.6\n"
     ]
    }
   ],
   "source": [
    "\n",
    "obama = cleaned_ex_data[cleaned_ex_data[\"President\"] == \"Obama\"]\n",
    "trump = cleaned_ex_data[cleaned_ex_data[\"President\"] == \"Trump\"]\n",
    "bush = cleaned_ex_data[cleaned_ex_data[\"President\"] == \"Bush\"]\n",
    "clinton = cleaned_ex_data[cleaned_ex_data[\"President\"] == \"Clinton\"]\n",
    "\n",
    "print(\"Obama:\", np.mean(obama[\"Order_Length\"]))\n",
    "print(\"Trump:\", np.mean(trump[\"Order_Length\"]))\n",
    "print(\"Bush:\", np.mean(bush[\"Order_Length\"]))\n",
    "print(\"Clinton:\", np.mean(clinton[\"Order_Length\"]))\n"
   ]
  },
  {
   "cell_type": "markdown",
   "metadata": {},
   "source": [
    "It appears that Bush's are by far the shortest, and surprisingly Trump's are the longest. Let's create another boxplot"
   ]
  },
  {
   "cell_type": "code",
   "execution_count": 34,
   "metadata": {},
   "outputs": [
    {
     "data": {
      "text/plain": [
       "(0, 21000)"
      ]
     },
     "execution_count": 34,
     "metadata": {},
     "output_type": "execute_result"
    },
    {
     "data": {
      "image/png": "[encoded data removed]",
      "text/plain": [
       "<matplotlib.figure.Figure at 0x10ab13668>"
      ]
     },
     "metadata": {},
     "output_type": "display_data"
    }
   ],
   "source": [
    "len_box_adj = sns.boxplot(x=\"Order_Length\", y = \"President\", data = cleaned_ex_data, palette = \"Set2\", notch = True)\n",
    "\n",
    "# I'm adjusting the x axis here to make the plot easier to see\n",
    "plt.xlim(0, 21000)"
   ]
  },
  {
   "cell_type": "markdown",
   "metadata": {},
   "source": [
    "It appears that the only president with significantly shorter executive orders is Bush. This likely explains why orders by Republicans appear to be much shorter. Next let's see how the length of all orders changed over time"
   ]
  },
  {
   "cell_type": "code",
   "execution_count": 35,
   "metadata": {},
   "outputs": [
    {
     "name": "stderr",
     "output_type": "stream",
     "text": [
      "/anaconda3/lib/python3.6/site-packages/ipykernel_launcher.py:2: SettingWithCopyWarning: \n",
      "A value is trying to be set on a copy of a slice from a DataFrame.\n",
      "Try using .loc[row_indexer,col_indexer] = value instead\n",
      "\n",
      "See the caveats in the documentation: http://pandas.pydata.org/pandas-docs/stable/indexing.html#indexing-view-versus-copy\n",
      "  \n"
     ]
    }
   ],
   "source": [
    "# we need to change the date to a datetime object\n",
    "cleaned_ex_data[\"publication_date\"] = pd.to_datetime(cleaned_ex_data[\"publication_date\"])\n"
   ]
  },
  {
   "cell_type": "code",
   "execution_count": 36,
   "metadata": {},
   "outputs": [
    {
     "data": {
      "text/plain": [
       "[<matplotlib.lines.Line2D at 0x1a11f6ee48>]"
      ]
     },
     "execution_count": 36,
     "metadata": {},
     "output_type": "execute_result"
    },
    {
     "data": {
      "image/png": "[encoded data removed]",
      "text/plain": [
       "<matplotlib.figure.Figure at 0x1a11fb9390>"
      ]
     },
     "metadata": {},
     "output_type": "display_data"
    }
   ],
   "source": [
    "plt.plot(cleaned_ex_data[\"publication_date\"], cleaned_ex_data[\"Order_Length\"])"
   ]
  },
  {
   "cell_type": "markdown",
   "metadata": {},
   "source": [
    "We can see several spikes here, probably from unusually long orders, but there doesn't appear to be any kind of trend persisting over time. We can also only look at the data below 21000, which is where we limited the boxplots"
   ]
  },
  {
   "cell_type": "code",
   "execution_count": 37,
   "metadata": {},
   "outputs": [
    {
     "data": {
      "text/plain": [
       "[<matplotlib.lines.Line2D at 0x1a1552dc88>]"
      ]
     },
     "execution_count": 37,
     "metadata": {},
     "output_type": "execute_result"
    },
    {
     "data": {
      "image/png": "[encoded data removed]",
      "text/plain": [
       "<matplotlib.figure.Figure at 0x1a11fb9e10>"
      ]
     },
     "metadata": {},
     "output_type": "display_data"
    }
   ],
   "source": [
    "smaller_data = cleaned_ex_data[cleaned_ex_data[\"Order_Length\"] < 21000]\n",
    "\n",
    "plt.plot(smaller_data[\"publication_date\"], smaller_data[\"Order_Length\"])"
   ]
  },
  {
   "cell_type": "markdown",
   "metadata": {},
   "source": [
    "Here we can see a possible positive trend, so let's do a linear regression to see if it's a positive trend and calculate pearson's r to see if it's significant"
   ]
  },
  {
   "cell_type": "code",
   "execution_count": 38,
   "metadata": {},
   "outputs": [
    {
     "name": "stderr",
     "output_type": "stream",
     "text": [
      "/anaconda3/lib/python3.6/site-packages/ipykernel_launcher.py:5: SettingWithCopyWarning: \n",
      "A value is trying to be set on a copy of a slice from a DataFrame.\n",
      "Try using .loc[row_indexer,col_indexer] = value instead\n",
      "\n",
      "See the caveats in the documentation: http://pandas.pydata.org/pandas-docs/stable/indexing.html#indexing-view-versus-copy\n",
      "  \"\"\"\n"
     ]
    }
   ],
   "source": [
    "import datetime as dt\n",
    "\n",
    "date_graph_data = cleaned_ex_data\n",
    "\n",
    "date_graph_data[\"publication_date\"]=date_graph_data[\"publication_date\"].map(dt.datetime.toordinal)"
   ]
  },
  {
   "cell_type": "code",
   "execution_count": 39,
   "metadata": {},
   "outputs": [
    {
     "name": "stderr",
     "output_type": "stream",
     "text": [
      "/anaconda3/lib/python3.6/site-packages/statsmodels/compat/pandas.py:56: FutureWarning: The pandas.core.datetools module is deprecated and will be removed in a future version. Please use the pandas.tseries module instead.\n",
      "  from pandas.core import datetools\n"
     ]
    },
    {
     "data": {
      "text/html": [
       "<table class=\"simpletable\">\n",
       "<caption>OLS Regression Results</caption>\n",
       "<tr>\n",
       "  <th>Dep. Variable:</th>      <td>Order_Length</td>   <th>  R-squared:         </th> <td>   0.447</td> \n",
       "</tr>\n",
       "<tr>\n",
       "  <th>Model:</th>                   <td>OLS</td>       <th>  Adj. R-squared:    </th> <td>   0.446</td> \n",
       "</tr>\n",
       "<tr>\n",
       "  <th>Method:</th>             <td>Least Squares</td>  <th>  F-statistic:       </th> <td>   568.0</td> \n",
       "</tr>\n",
       "<tr>\n",
       "  <th>Date:</th>             <td>Wed, 26 Dec 2018</td> <th>  Prob (F-statistic):</th> <td>1.66e-92</td> \n",
       "</tr>\n",
       "<tr>\n",
       "  <th>Time:</th>                 <td>22:08:29</td>     <th>  Log-Likelihood:    </th> <td> -7339.9</td> \n",
       "</tr>\n",
       "<tr>\n",
       "  <th>No. Observations:</th>      <td>   705</td>      <th>  AIC:               </th> <td>1.468e+04</td>\n",
       "</tr>\n",
       "<tr>\n",
       "  <th>Df Residuals:</th>          <td>   704</td>      <th>  BIC:               </th> <td>1.469e+04</td>\n",
       "</tr>\n",
       "<tr>\n",
       "  <th>Df Model:</th>              <td>     1</td>      <th>                     </th>     <td> </td>    \n",
       "</tr>\n",
       "<tr>\n",
       "  <th>Covariance Type:</th>      <td>nonrobust</td>    <th>                     </th>     <td> </td>    \n",
       "</tr>\n",
       "</table>\n",
       "<table class=\"simpletable\">\n",
       "<tr>\n",
       "          <td></td>            <th>coef</th>     <th>std err</th>      <th>t</th>      <th>P>|t|</th>  <th>[0.025</th>    <th>0.975]</th>  \n",
       "</tr>\n",
       "<tr>\n",
       "  <th>publication_date</th> <td>    0.0098</td> <td>    0.000</td> <td>   23.833</td> <td> 0.000</td> <td>    0.009</td> <td>    0.011</td>\n",
       "</tr>\n",
       "</table>\n",
       "<table class=\"simpletable\">\n",
       "<tr>\n",
       "  <th>Omnibus:</th>       <td>721.562</td> <th>  Durbin-Watson:     </th> <td>   1.969</td> \n",
       "</tr>\n",
       "<tr>\n",
       "  <th>Prob(Omnibus):</th> <td> 0.000</td>  <th>  Jarque-Bera (JB):  </th> <td>35092.988</td>\n",
       "</tr>\n",
       "<tr>\n",
       "  <th>Skew:</th>          <td> 4.744</td>  <th>  Prob(JB):          </th> <td>    0.00</td> \n",
       "</tr>\n",
       "<tr>\n",
       "  <th>Kurtosis:</th>      <td>36.236</td>  <th>  Cond. No.          </th> <td>    1.00</td> \n",
       "</tr>\n",
       "</table>"
      ],
      "text/plain": [
       "<class 'statsmodels.iolib.summary.Summary'>\n",
       "\"\"\"\n",
       "                            OLS Regression Results                            \n",
       "==============================================================================\n",
       "Dep. Variable:           Order_Length   R-squared:                       0.447\n",
       "Model:                            OLS   Adj. R-squared:                  0.446\n",
       "Method:                 Least Squares   F-statistic:                     568.0\n",
       "Date:                Wed, 26 Dec 2018   Prob (F-statistic):           1.66e-92\n",
       "Time:                        22:08:29   Log-Likelihood:                -7339.9\n",
       "No. Observations:                 705   AIC:                         1.468e+04\n",
       "Df Residuals:                     704   BIC:                         1.469e+04\n",
       "Df Model:                           1                                         \n",
       "Covariance Type:            nonrobust                                         \n",
       "====================================================================================\n",
       "                       coef    std err          t      P>|t|      [0.025      0.975]\n",
       "------------------------------------------------------------------------------------\n",
       "publication_date     0.0098      0.000     23.833      0.000       0.009       0.011\n",
       "==============================================================================\n",
       "Omnibus:                      721.562   Durbin-Watson:                   1.969\n",
       "Prob(Omnibus):                  0.000   Jarque-Bera (JB):            35092.988\n",
       "Skew:                           4.744   Prob(JB):                         0.00\n",
       "Kurtosis:                      36.236   Cond. No.                         1.00\n",
       "==============================================================================\n",
       "\n",
       "Warnings:\n",
       "[1] Standard Errors assume that the covariance matrix of the errors is correctly specified.\n",
       "\"\"\""
      ]
     },
     "execution_count": 39,
     "metadata": {},
     "output_type": "execute_result"
    }
   ],
   "source": [
    "import statsmodels.api as sm\n",
    "\n",
    "X = date_graph_data[\"publication_date\"]\n",
    "y = date_graph_data[\"Order_Length\"]\n",
    "\n",
    "model = sm.OLS(y, X).fit()\n",
    "predictions = model.predict(X) # make the predictions by the model\n",
    "\n",
    "# Print out the statistics\n",
    "model.summary()\n"
   ]
  },
  {
   "cell_type": "markdown",
   "metadata": {},
   "source": [
    "Okay, so we can see that while we have a medium sized R-sq of 0.447, the coefficient of publication date is just 0.0098, which is quite small. Let's try this with the less extreme data"
   ]
  },
  {
   "cell_type": "code",
   "execution_count": 40,
   "metadata": {},
   "outputs": [
    {
     "name": "stderr",
     "output_type": "stream",
     "text": [
      "/anaconda3/lib/python3.6/site-packages/ipykernel_launcher.py:3: SettingWithCopyWarning: \n",
      "A value is trying to be set on a copy of a slice from a DataFrame.\n",
      "Try using .loc[row_indexer,col_indexer] = value instead\n",
      "\n",
      "See the caveats in the documentation: http://pandas.pydata.org/pandas-docs/stable/indexing.html#indexing-view-versus-copy\n",
      "  This is separate from the ipykernel package so we can avoid doing imports until\n"
     ]
    },
    {
     "data": {
      "text/html": [
       "<table class=\"simpletable\">\n",
       "<caption>OLS Regression Results</caption>\n",
       "<tr>\n",
       "  <th>Dep. Variable:</th>      <td>Order_Length</td>   <th>  R-squared:         </th> <td>   0.667</td> \n",
       "</tr>\n",
       "<tr>\n",
       "  <th>Model:</th>                   <td>OLS</td>       <th>  Adj. R-squared:    </th> <td>   0.666</td> \n",
       "</tr>\n",
       "<tr>\n",
       "  <th>Method:</th>             <td>Least Squares</td>  <th>  F-statistic:       </th> <td>   1366.</td> \n",
       "</tr>\n",
       "<tr>\n",
       "  <th>Date:</th>             <td>Wed, 26 Dec 2018</td> <th>  Prob (F-statistic):</th> <td>4.52e-165</td>\n",
       "</tr>\n",
       "<tr>\n",
       "  <th>Time:</th>                 <td>22:08:29</td>     <th>  Log-Likelihood:    </th> <td> -6703.5</td> \n",
       "</tr>\n",
       "<tr>\n",
       "  <th>No. Observations:</th>      <td>   684</td>      <th>  AIC:               </th> <td>1.341e+04</td>\n",
       "</tr>\n",
       "<tr>\n",
       "  <th>Df Residuals:</th>          <td>   683</td>      <th>  BIC:               </th> <td>1.341e+04</td>\n",
       "</tr>\n",
       "<tr>\n",
       "  <th>Df Model:</th>              <td>     1</td>      <th>                     </th>     <td> </td>    \n",
       "</tr>\n",
       "<tr>\n",
       "  <th>Covariance Type:</th>      <td>nonrobust</td>    <th>                     </th>     <td> </td>    \n",
       "</tr>\n",
       "</table>\n",
       "<table class=\"simpletable\">\n",
       "<tr>\n",
       "          <td></td>            <th>coef</th>     <th>std err</th>      <th>t</th>      <th>P>|t|</th>  <th>[0.025</th>    <th>0.975]</th>  \n",
       "</tr>\n",
       "<tr>\n",
       "  <th>publication_date</th> <td>    0.0084</td> <td>    0.000</td> <td>   36.956</td> <td> 0.000</td> <td>    0.008</td> <td>    0.009</td>\n",
       "</tr>\n",
       "</table>\n",
       "<table class=\"simpletable\">\n",
       "<tr>\n",
       "  <th>Omnibus:</th>       <td>109.254</td> <th>  Durbin-Watson:     </th> <td>   1.730</td>\n",
       "</tr>\n",
       "<tr>\n",
       "  <th>Prob(Omnibus):</th> <td> 0.000</td>  <th>  Jarque-Bera (JB):  </th> <td> 161.503</td>\n",
       "</tr>\n",
       "<tr>\n",
       "  <th>Skew:</th>          <td> 1.107</td>  <th>  Prob(JB):          </th> <td>8.51e-36</td>\n",
       "</tr>\n",
       "<tr>\n",
       "  <th>Kurtosis:</th>      <td> 3.876</td>  <th>  Cond. No.          </th> <td>    1.00</td>\n",
       "</tr>\n",
       "</table>"
      ],
      "text/plain": [
       "<class 'statsmodels.iolib.summary.Summary'>\n",
       "\"\"\"\n",
       "                            OLS Regression Results                            \n",
       "==============================================================================\n",
       "Dep. Variable:           Order_Length   R-squared:                       0.667\n",
       "Model:                            OLS   Adj. R-squared:                  0.666\n",
       "Method:                 Least Squares   F-statistic:                     1366.\n",
       "Date:                Wed, 26 Dec 2018   Prob (F-statistic):          4.52e-165\n",
       "Time:                        22:08:29   Log-Likelihood:                -6703.5\n",
       "No. Observations:                 684   AIC:                         1.341e+04\n",
       "Df Residuals:                     683   BIC:                         1.341e+04\n",
       "Df Model:                           1                                         \n",
       "Covariance Type:            nonrobust                                         \n",
       "====================================================================================\n",
       "                       coef    std err          t      P>|t|      [0.025      0.975]\n",
       "------------------------------------------------------------------------------------\n",
       "publication_date     0.0084      0.000     36.956      0.000       0.008       0.009\n",
       "==============================================================================\n",
       "Omnibus:                      109.254   Durbin-Watson:                   1.730\n",
       "Prob(Omnibus):                  0.000   Jarque-Bera (JB):              161.503\n",
       "Skew:                           1.107   Prob(JB):                     8.51e-36\n",
       "Kurtosis:                       3.876   Cond. No.                         1.00\n",
       "==============================================================================\n",
       "\n",
       "Warnings:\n",
       "[1] Standard Errors assume that the covariance matrix of the errors is correctly specified.\n",
       "\"\"\""
      ]
     },
     "execution_count": 40,
     "metadata": {},
     "output_type": "execute_result"
    }
   ],
   "source": [
    "date_graph_data2 = smaller_data\n",
    "\n",
    "date_graph_data2[\"publication_date\"]=date_graph_data2[\"publication_date\"].map(dt.datetime.toordinal)\n",
    "\n",
    "X2 = date_graph_data2[\"publication_date\"]\n",
    "y2 = date_graph_data2[\"Order_Length\"]\n",
    "\n",
    "model2 = sm.OLS(y2, X2).fit()\n",
    "predictions2 = model2.predict(X2) # make the predictions by the model\n",
    "\n",
    "# Print out the statistics\n",
    "model2.summary()\n"
   ]
  },
  {
   "cell_type": "markdown",
   "metadata": {},
   "source": [
    "We have a higher R-sq, but still quite a small coeff for publication date. It's safe to say that the mean lengths of the executive orders haven't gone up over the years (or at least not much)"
   ]
  },
  {
   "cell_type": "code",
   "execution_count": 41,
   "metadata": {},
   "outputs": [
    {
     "data": {
      "text/plain": [
       "3.066"
      ]
     },
     "execution_count": 41,
     "metadata": {},
     "output_type": "execute_result"
    }
   ],
   "source": [
    "# if the coefficient is calculated per day, this means that the average executive order length \n",
    "# goes up about 3 characters a year. Likely not a clinically significant difference, especially given our limited data\n",
    "0.0084*365"
   ]
  },
  {
   "cell_type": "markdown",
   "metadata": {},
   "source": [
    "We should do some textual cleaning before we try and create a model. Let's remove all the punctuation and numbers from the texts"
   ]
  },
  {
   "cell_type": "code",
   "execution_count": 42,
   "metadata": {},
   "outputs": [
    {
     "name": "stderr",
     "output_type": "stream",
     "text": [
      "/anaconda3/lib/python3.6/site-packages/pandas/core/indexing.py:357: SettingWithCopyWarning: \n",
      "A value is trying to be set on a copy of a slice from a DataFrame.\n",
      "Try using .loc[row_indexer,col_indexer] = value instead\n",
      "\n",
      "See the caveats in the documentation: http://pandas.pydata.org/pandas-docs/stable/indexing.html#indexing-view-versus-copy\n",
      "  self.obj[key] = _infer_fill_value(value)\n"
     ]
    },
    {
     "ename": "ValueError",
     "evalue": "Must have equal len keys and value when setting with an iterable",
     "output_type": "error",
     "traceback": [
      "\u001b[0;31m---------------------------------------------------------------------------\u001b[0m",
      "\u001b[0;31mValueError\u001b[0m                                Traceback (most recent call last)",
      "\u001b[0;32m<ipython-input-42-476db004ae78>\u001b[0m in \u001b[0;36m<module>\u001b[0;34m()\u001b[0m\n\u001b[1;32m      7\u001b[0m \u001b[0;34m\u001b[0m\u001b[0m\n\u001b[1;32m      8\u001b[0m \u001b[0;32mfor\u001b[0m \u001b[0mindex\u001b[0m\u001b[0;34m,\u001b[0m \u001b[0mrow\u001b[0m \u001b[0;32min\u001b[0m \u001b[0mcleaned_ex_data\u001b[0m\u001b[0;34m.\u001b[0m\u001b[0miterrows\u001b[0m\u001b[0;34m(\u001b[0m\u001b[0;34m)\u001b[0m\u001b[0;34m:\u001b[0m\u001b[0;34m\u001b[0m\u001b[0m\n\u001b[0;32m----> 9\u001b[0;31m     \u001b[0mcleaned_ex_data\u001b[0m\u001b[0;34m.\u001b[0m\u001b[0mloc\u001b[0m\u001b[0;34m[\u001b[0m\u001b[0mindex\u001b[0m\u001b[0;34m,\u001b[0m \u001b[0;34m\"Tokens\"\u001b[0m\u001b[0;34m]\u001b[0m \u001b[0;34m=\u001b[0m \u001b[0mword_tokenize\u001b[0m\u001b[0;34m(\u001b[0m\u001b[0mcleaned_ex_data\u001b[0m\u001b[0;34m.\u001b[0m\u001b[0mloc\u001b[0m\u001b[0;34m[\u001b[0m\u001b[0mindex\u001b[0m\u001b[0;34m,\u001b[0m \u001b[0;34m\"Order_Text\"\u001b[0m\u001b[0;34m]\u001b[0m\u001b[0;34m)\u001b[0m\u001b[0;34m\u001b[0m\u001b[0m\n\u001b[0m\u001b[1;32m     10\u001b[0m \u001b[0;34m\u001b[0m\u001b[0m\n\u001b[1;32m     11\u001b[0m \u001b[0;31m#for order in range(len(cleaned_ex_data[\"Order_Text\"])):\u001b[0m\u001b[0;34m\u001b[0m\u001b[0;34m\u001b[0m\u001b[0m\n",
      "\u001b[0;32m/anaconda3/lib/python3.6/site-packages/pandas/core/indexing.py\u001b[0m in \u001b[0;36m__setitem__\u001b[0;34m(self, key, value)\u001b[0m\n\u001b[1;32m    192\u001b[0m             \u001b[0mkey\u001b[0m \u001b[0;34m=\u001b[0m \u001b[0mcom\u001b[0m\u001b[0;34m.\u001b[0m\u001b[0m_apply_if_callable\u001b[0m\u001b[0;34m(\u001b[0m\u001b[0mkey\u001b[0m\u001b[0;34m,\u001b[0m \u001b[0mself\u001b[0m\u001b[0;34m.\u001b[0m\u001b[0mobj\u001b[0m\u001b[0;34m)\u001b[0m\u001b[0;34m\u001b[0m\u001b[0m\n\u001b[1;32m    193\u001b[0m         \u001b[0mindexer\u001b[0m \u001b[0;34m=\u001b[0m \u001b[0mself\u001b[0m\u001b[0;34m.\u001b[0m\u001b[0m_get_setitem_indexer\u001b[0m\u001b[0;34m(\u001b[0m\u001b[0mkey\u001b[0m\u001b[0;34m)\u001b[0m\u001b[0;34m\u001b[0m\u001b[0m\n\u001b[0;32m--> 194\u001b[0;31m         \u001b[0mself\u001b[0m\u001b[0;34m.\u001b[0m\u001b[0m_setitem_with_indexer\u001b[0m\u001b[0;34m(\u001b[0m\u001b[0mindexer\u001b[0m\u001b[0;34m,\u001b[0m \u001b[0mvalue\u001b[0m\u001b[0;34m)\u001b[0m\u001b[0;34m\u001b[0m\u001b[0m\n\u001b[0m\u001b[1;32m    195\u001b[0m \u001b[0;34m\u001b[0m\u001b[0m\n\u001b[1;32m    196\u001b[0m     \u001b[0;32mdef\u001b[0m \u001b[0m_has_valid_type\u001b[0m\u001b[0;34m(\u001b[0m\u001b[0mself\u001b[0m\u001b[0;34m,\u001b[0m \u001b[0mk\u001b[0m\u001b[0;34m,\u001b[0m \u001b[0maxis\u001b[0m\u001b[0;34m)\u001b[0m\u001b[0;34m:\u001b[0m\u001b[0;34m\u001b[0m\u001b[0m\n",
      "\u001b[0;32m/anaconda3/lib/python3.6/site-packages/pandas/core/indexing.py\u001b[0m in \u001b[0;36m_setitem_with_indexer\u001b[0;34m(self, indexer, value)\u001b[0m\n\u001b[1;32m    359\u001b[0m                         new_indexer = convert_from_missing_indexer_tuple(\n\u001b[1;32m    360\u001b[0m                             indexer, self.obj.axes)\n\u001b[0;32m--> 361\u001b[0;31m                         \u001b[0mself\u001b[0m\u001b[0;34m.\u001b[0m\u001b[0m_setitem_with_indexer\u001b[0m\u001b[0;34m(\u001b[0m\u001b[0mnew_indexer\u001b[0m\u001b[0;34m,\u001b[0m \u001b[0mvalue\u001b[0m\u001b[0;34m)\u001b[0m\u001b[0;34m\u001b[0m\u001b[0m\n\u001b[0m\u001b[1;32m    362\u001b[0m \u001b[0;34m\u001b[0m\u001b[0m\n\u001b[1;32m    363\u001b[0m                         \u001b[0;32mreturn\u001b[0m \u001b[0mself\u001b[0m\u001b[0;34m.\u001b[0m\u001b[0mobj\u001b[0m\u001b[0;34m\u001b[0m\u001b[0m\n",
      "\u001b[0;32m/anaconda3/lib/python3.6/site-packages/pandas/core/indexing.py\u001b[0m in \u001b[0;36m_setitem_with_indexer\u001b[0;34m(self, indexer, value)\u001b[0m\n\u001b[1;32m    597\u001b[0m \u001b[0;34m\u001b[0m\u001b[0m\n\u001b[1;32m    598\u001b[0m                     \u001b[0;32mif\u001b[0m \u001b[0mlen\u001b[0m\u001b[0;34m(\u001b[0m\u001b[0mlabels\u001b[0m\u001b[0;34m)\u001b[0m \u001b[0;34m!=\u001b[0m \u001b[0mlen\u001b[0m\u001b[0;34m(\u001b[0m\u001b[0mvalue\u001b[0m\u001b[0;34m)\u001b[0m\u001b[0;34m:\u001b[0m\u001b[0;34m\u001b[0m\u001b[0m\n\u001b[0;32m--> 599\u001b[0;31m                         raise ValueError('Must have equal len keys and value '\n\u001b[0m\u001b[1;32m    600\u001b[0m                                          'when setting with an iterable')\n\u001b[1;32m    601\u001b[0m \u001b[0;34m\u001b[0m\u001b[0m\n",
      "\u001b[0;31mValueError\u001b[0m: Must have equal len keys and value when setting with an iterable"
     ]
    }
   ],
   "source": [
    "from nltk.stem import WordNetLemmatizer\n",
    "\n",
    "from nltk.tokenize import word_tokenize\n",
    "\n",
    "#import nltk\n",
    "#nltk.download('punkt')\n",
    "\n",
    "for index, row in cleaned_ex_data.iterrows():\n",
    "    cleaned_ex_data.loc[index, \"Tokens\"] = word_tokenize(cleaned_ex_data.loc[index, \"Order_Text\"])\n",
    "\n",
    "#for order in range(len(cleaned_ex_data[\"Order_Text\"])):\n",
    "#    cleaned_ex_data[\"Tokens\"] = word_tokenize(cleaned_ex_data[order])\n",
    "\n"
   ]
  },
  {
   "cell_type": "code",
   "execution_count": 43,
   "metadata": {},
   "outputs": [],
   "source": [
    "# Next we'll start building our first prediction model: Party. We'll use test train split to split the data so we can test\n",
    "# our model later\n",
    "\n",
    "from sklearn.model_selection import train_test_split\n",
    "\n",
    "y = cleaned_ex_data[\"Party\"]\n",
    "\n",
    "X_train, X_test, y_train, y_test = train_test_split(cleaned_ex_data[\"Order_Text\"], y, test_size = 0.33, random_state = 53)"
   ]
  },
  {
   "cell_type": "markdown",
   "metadata": {},
   "source": [
    "Now that the data is split, we'll use a count vectorizer to transform the data and get some feature names"
   ]
  },
  {
   "cell_type": "code",
   "execution_count": 44,
   "metadata": {},
   "outputs": [
    {
     "name": "stdout",
     "output_type": "stream",
     "text": [
      "['00', '000', '01', '02', '03', '04', '05', '06', '07', '08']\n",
      "[[0.         0.         0.         ... 0.         0.         0.        ]\n",
      " [0.         0.         0.08983416 ... 0.         0.         0.        ]\n",
      " [0.         0.         0.0287537  ... 0.         0.         0.        ]\n",
      " [0.         0.         0.         ... 0.         0.         0.        ]\n",
      " [0.02742105 0.         0.         ... 0.         0.         0.        ]]\n"
     ]
    }
   ],
   "source": [
    "from sklearn.feature_extraction.text import TfidfVectorizer\n",
    "\n",
    "tfidf_vectorizer = TfidfVectorizer(stop_words=\"english\", max_df=0.7)\n",
    "\n",
    "tfidf_train = tfidf_vectorizer.fit_transform(X_train)\n",
    "\n",
    "tfidf_test = tfidf_vectorizer.transform(X_test)\n",
    "\n",
    "print(tfidf_vectorizer.get_feature_names()[:10])\n",
    "\n",
    "print(tfidf_train.A[:5])"
   ]
  },
  {
   "cell_type": "code",
   "execution_count": 45,
   "metadata": {},
   "outputs": [
    {
     "name": "stdout",
     "output_type": "stream",
     "text": [
      "         00  000        01   02   03   04   05   06   07   08     ...      \\\n",
      "0  0.000000  0.0  0.000000  0.0  0.0  0.0  0.0  0.0  0.0  0.0     ...       \n",
      "1  0.000000  0.0  0.089834  0.0  0.0  0.0  0.0  0.0  0.0  0.0     ...       \n",
      "2  0.000000  0.0  0.028754  0.0  0.0  0.0  0.0  0.0  0.0  0.0     ...       \n",
      "3  0.000000  0.0  0.000000  0.0  0.0  0.0  0.0  0.0  0.0  0.0     ...       \n",
      "4  0.027421  0.0  0.000000  0.0  0.0  0.0  0.0  0.0  0.0  0.0     ...       \n",
      "\n",
      "   yunque  zero  zimbabwe  zimbabweby  zimondi  zone  zonepursuant  zones  \\\n",
      "0     0.0   0.0       0.0         0.0      0.0   0.0           0.0    0.0   \n",
      "1     0.0   0.0       0.0         0.0      0.0   0.0           0.0    0.0   \n",
      "2     0.0   0.0       0.0         0.0      0.0   0.0           0.0    0.0   \n",
      "3     0.0   0.0       0.0         0.0      0.0   0.0           0.0    0.0   \n",
      "4     0.0   0.0       0.0         0.0      0.0   0.0           0.0    0.0   \n",
      "\n",
      "   zoning  zvinavashe  \n",
      "0     0.0         0.0  \n",
      "1     0.0         0.0  \n",
      "2     0.0         0.0  \n",
      "3     0.0         0.0  \n",
      "4     0.0         0.0  \n",
      "\n",
      "[5 rows x 12820 columns]\n"
     ]
    }
   ],
   "source": [
    "# now we inspect the vectorizer\n",
    "\n",
    "tfidf_df = pd.DataFrame(tfidf_train.A, columns=tfidf_vectorizer.get_feature_names())\n",
    "\n",
    "print(tfidf_df.head())"
   ]
  },
  {
   "cell_type": "code",
   "execution_count": 46,
   "metadata": {},
   "outputs": [
    {
     "name": "stdout",
     "output_type": "stream",
     "text": [
      "0.7124463519313304\n"
     ]
    },
    {
     "ename": "ValueError",
     "evalue": "At least one label specified must be in y_true",
     "output_type": "error",
     "traceback": [
      "\u001b[0;31m---------------------------------------------------------------------------\u001b[0m",
      "\u001b[0;31mValueError\u001b[0m                                Traceback (most recent call last)",
      "\u001b[0;32m<ipython-input-46-cbeecbf0c856>\u001b[0m in \u001b[0;36m<module>\u001b[0;34m()\u001b[0m\n\u001b[1;32m     18\u001b[0m \u001b[0;34m\u001b[0m\u001b[0m\n\u001b[1;32m     19\u001b[0m \u001b[0;31m# Calculate the confusion matrix (NOTE WHY ISN'T THIS WORKING)\u001b[0m\u001b[0;34m\u001b[0m\u001b[0;34m\u001b[0m\u001b[0m\n\u001b[0;32m---> 20\u001b[0;31m \u001b[0mcm\u001b[0m \u001b[0;34m=\u001b[0m \u001b[0mconfusion_matrix\u001b[0m\u001b[0;34m(\u001b[0m\u001b[0my_test\u001b[0m\u001b[0;34m,\u001b[0m \u001b[0mpred\u001b[0m\u001b[0;34m,\u001b[0m \u001b[0mlabels\u001b[0m\u001b[0;34m=\u001b[0m\u001b[0;34m[\u001b[0m\u001b[0;34m'Rep'\u001b[0m\u001b[0;34m,\u001b[0m \u001b[0;34m'Dem'\u001b[0m\u001b[0;34m]\u001b[0m\u001b[0;34m)\u001b[0m\u001b[0;34m\u001b[0m\u001b[0m\n\u001b[0m\u001b[1;32m     21\u001b[0m \u001b[0mprint\u001b[0m\u001b[0;34m(\u001b[0m\u001b[0mcm\u001b[0m\u001b[0;34m)\u001b[0m\u001b[0;34m\u001b[0m\u001b[0m\n",
      "\u001b[0;32m/anaconda3/lib/python3.6/site-packages/sklearn/metrics/classification.py\u001b[0m in \u001b[0;36mconfusion_matrix\u001b[0;34m(y_true, y_pred, labels, sample_weight)\u001b[0m\n\u001b[1;32m    257\u001b[0m         \u001b[0mlabels\u001b[0m \u001b[0;34m=\u001b[0m \u001b[0mnp\u001b[0m\u001b[0;34m.\u001b[0m\u001b[0masarray\u001b[0m\u001b[0;34m(\u001b[0m\u001b[0mlabels\u001b[0m\u001b[0;34m)\u001b[0m\u001b[0;34m\u001b[0m\u001b[0m\n\u001b[1;32m    258\u001b[0m         \u001b[0;32mif\u001b[0m \u001b[0mnp\u001b[0m\u001b[0;34m.\u001b[0m\u001b[0mall\u001b[0m\u001b[0;34m(\u001b[0m\u001b[0;34m[\u001b[0m\u001b[0ml\u001b[0m \u001b[0;32mnot\u001b[0m \u001b[0;32min\u001b[0m \u001b[0my_true\u001b[0m \u001b[0;32mfor\u001b[0m \u001b[0ml\u001b[0m \u001b[0;32min\u001b[0m \u001b[0mlabels\u001b[0m\u001b[0;34m]\u001b[0m\u001b[0;34m)\u001b[0m\u001b[0;34m:\u001b[0m\u001b[0;34m\u001b[0m\u001b[0m\n\u001b[0;32m--> 259\u001b[0;31m             \u001b[0;32mraise\u001b[0m \u001b[0mValueError\u001b[0m\u001b[0;34m(\u001b[0m\u001b[0;34m\"At least one label specified must be in y_true\"\u001b[0m\u001b[0;34m)\u001b[0m\u001b[0;34m\u001b[0m\u001b[0m\n\u001b[0m\u001b[1;32m    260\u001b[0m \u001b[0;34m\u001b[0m\u001b[0m\n\u001b[1;32m    261\u001b[0m     \u001b[0;32mif\u001b[0m \u001b[0msample_weight\u001b[0m \u001b[0;32mis\u001b[0m \u001b[0;32mNone\u001b[0m\u001b[0;34m:\u001b[0m\u001b[0;34m\u001b[0m\u001b[0m\n",
      "\u001b[0;31mValueError\u001b[0m: At least one label specified must be in y_true"
     ]
    }
   ],
   "source": [
    "# it's very large! Let's now fit the classifier and create a confusion matrix\n",
    "\n",
    "from sklearn.naive_bayes import MultinomialNB\n",
    "\n",
    "from sklearn.metrics import accuracy_score, confusion_matrix\n",
    "\n",
    "nb_classifier = MultinomialNB()\n",
    "\n",
    "# Fit the classifier\n",
    "nb_classifier.fit(tfidf_train, y_train)\n",
    "\n",
    "# Create the predicted tags\n",
    "pred = nb_classifier.predict(tfidf_test)\n",
    "\n",
    "# Calculate the accuracy score\n",
    "score = accuracy_score(y_test, pred)\n",
    "print(score)\n",
    "\n",
    "# Calculate the confusion matrix (NOTE WHY ISN'T THIS WORKING)\n",
    "cm = confusion_matrix(y_test, pred, labels=['Rep', 'Dem'])\n",
    "print(cm)"
   ]
  },
  {
   "cell_type": "markdown",
   "metadata": {},
   "source": [
    "So we have an accuracy score of 0.71, which isn't bad to start! Next we'll test a few different alphas and see which works best"
   ]
  },
  {
   "cell_type": "code",
   "execution_count": 47,
   "metadata": {},
   "outputs": [
    {
     "name": "stdout",
     "output_type": "stream",
     "text": [
      "Alpha:  0.0\n",
      "Score:  0.6695278969957081\n",
      "\n",
      "Alpha:  0.1\n",
      "Score:  0.6952789699570815\n",
      "\n",
      "Alpha:  0.2\n",
      "Score:  0.6952789699570815\n",
      "\n",
      "Alpha:  0.30000000000000004\n",
      "Score:  0.703862660944206\n",
      "\n",
      "Alpha:  0.4\n",
      "Score:  0.7081545064377682\n",
      "\n",
      "Alpha:  0.5\n",
      "Score:  0.7081545064377682\n",
      "\n",
      "Alpha:  0.6000000000000001\n",
      "Score:  0.703862660944206\n",
      "\n",
      "Alpha:  0.7000000000000001\n",
      "Score:  0.7081545064377682\n",
      "\n",
      "Alpha:  0.8\n",
      "Score:  0.703862660944206\n",
      "\n",
      "Alpha:  0.9\n",
      "Score:  0.703862660944206\n",
      "\n"
     ]
    },
    {
     "name": "stderr",
     "output_type": "stream",
     "text": [
      "/anaconda3/lib/python3.6/site-packages/sklearn/naive_bayes.py:472: UserWarning: alpha too small will result in numeric errors, setting alpha = 1.0e-10\n",
      "  'setting alpha = %.1e' % _ALPHA_MIN)\n"
     ]
    }
   ],
   "source": [
    "alphas = np.arange(0, 1, 0.1)\n",
    "\n",
    "# Define train_and_predict()\n",
    "def train_and_predict(alpha):\n",
    "    # Instantiate the classifier: nb_classifier\n",
    "    nb_classifier = MultinomialNB(alpha=alpha)\n",
    "    # Fit to the training data\n",
    "    nb_classifier.fit(tfidf_train, y_train)\n",
    "    # Predict the labels: pred\n",
    "    pred = nb_classifier.predict(tfidf_test)\n",
    "    # Compute accuracy: score\n",
    "    score = accuracy_score(y_test, pred)\n",
    "    return score\n",
    "\n",
    "# Iterate over the alphas and print the corresponding score\n",
    "for alpha in alphas:\n",
    "    print('Alpha: ', alpha)\n",
    "    print('Score: ', train_and_predict(alpha))\n",
    "    print()"
   ]
  },
  {
   "cell_type": "markdown",
   "metadata": {},
   "source": [
    "It looks like we have three choices that produce maximum scores: alpha = 0.4, 0.5, or 0.7\n",
    "\n",
    "We'll use the smallest alpha to minimize bias, so alpha = 0.4 produces the best model\n",
    "\n",
    "Next we'll look at the features with the most weight, determining their importance"
   ]
  },
  {
   "cell_type": "code",
   "execution_count": 48,
   "metadata": {},
   "outputs": [
    {
     "name": "stdout",
     "output_type": "stream",
     "text": [
      "Democrat [(-9.61607115381168, '100nm'), (-9.61607115381168, '10163executive'), (-9.61607115381168, '10164be'), (-9.61607115381168, '10450'), (-9.61607115381168, '10503'), (-9.61607115381168, '10577'), (-9.61607115381168, '1059c'), (-9.61607115381168, '1086'), (-9.61607115381168, '10fm'), (-9.61607115381168, '11001'), (-9.61607115381168, '11016'), (-9.61607115381168, '11023'), (-9.61607115381168, '1108'), (-9.61607115381168, '1115'), (-9.61607115381168, '11155'), (-9.61607115381168, '11201executive'), (-9.61607115381168, '11202sec'), (-9.61607115381168, '11246'), (-9.61607115381168, '1128'), (-9.61607115381168, '1129a')]\n",
      "Republican [(-9.61607115381168, '100nm'), (-9.61607115381168, '10163executive'), (-9.61607115381168, '10164be'), (-9.61607115381168, '10450'), (-9.61607115381168, '10503'), (-9.61607115381168, '10577'), (-9.61607115381168, '1059c'), (-9.61607115381168, '1086'), (-9.61607115381168, '10fm'), (-9.61607115381168, '11001'), (-9.61607115381168, '11016'), (-9.61607115381168, '11023'), (-9.61607115381168, '1108'), (-9.61607115381168, '1115'), (-9.61607115381168, '11155'), (-9.61607115381168, '11201executive'), (-9.61607115381168, '11202sec'), (-9.61607115381168, '11246'), (-9.61607115381168, '1128'), (-9.61607115381168, '1129a')]\n"
     ]
    }
   ],
   "source": [
    "\n",
    "class_labels = nb_classifier.classes_\n",
    "\n",
    "feature_names = tfidf_vectorizer.get_feature_names()\n",
    "\n",
    "feat_with_weights = sorted(zip(nb_classifier.coef_[0], feature_names))\n",
    "\n",
    "print(class_labels[0], feat_with_weights[:20])\n",
    "\n",
    "print(class_labels[1], feat_with_weights[:20])\n"
   ]
  },
  {
   "cell_type": "markdown",
   "metadata": {},
   "source": [
    "Now we'll work on the next preditive model, based on term. First, we'll label the different orders by first or second term"
   ]
  },
  {
   "cell_type": "code",
   "execution_count": 57,
   "metadata": {},
   "outputs": [
    {
     "name": "stderr",
     "output_type": "stream",
     "text": [
      "/anaconda3/lib/python3.6/site-packages/ipykernel_launcher.py:5: SettingWithCopyWarning: \n",
      "A value is trying to be set on a copy of a slice from a DataFrame.\n",
      "Try using .loc[row_indexer,col_indexer] = value instead\n",
      "\n",
      "See the caveats in the documentation: http://pandas.pydata.org/pandas-docs/stable/indexing.html#indexing-view-versus-copy\n",
      "  \"\"\"\n"
     ]
    }
   ],
   "source": [
    "#First, I'll change the signing date to a datetime object, so we can use it to determine the terms\n",
    "\n",
    "import datetime\n",
    "\n",
    "cleaned_ex_data['signing_date'] = pd.to_datetime(cleaned_ex_data['signing_date'])"
   ]
  },
  {
   "cell_type": "code",
   "execution_count": 64,
   "metadata": {},
   "outputs": [],
   "source": [
    "def term(x, y):\n",
    "    y = pd.to_datetime(y)\n",
    "    if x == \"Obama\":\n",
    "        date = datetime.datetime(2013, 1, 20)\n",
    "        if y > date:\n",
    "            return 'Second'\n",
    "        else:\n",
    "            return 'First'\n",
    "    if x == \"Bush\":\n",
    "        date = datetime.datetime(2009, 1, 20)\n",
    "        if y > date:\n",
    "            return 'Second'\n",
    "        else:\n",
    "            return 'First'\n",
    "    if x == \"Clinton\":\n",
    "        date = datetime.datetime(1997, 1, 20)\n",
    "        if y > date:\n",
    "            return 'Second'\n",
    "        else:\n",
    "            return 'First'\n",
    "    else:\n",
    "        return \"First\" #because Trump has only had one term"
   ]
  },
  {
   "cell_type": "code",
   "execution_count": 69,
   "metadata": {},
   "outputs": [
    {
     "name": "stdout",
     "output_type": "stream",
     "text": [
      "      citation document_number  end_page  \\\n",
      "0  83 FR 61505      2018-26156     61507   \n",
      "1  83 FR 55243      2018-24254     55245   \n",
      "2  83 FR 48195      2018-20816     48200   \n",
      "3  83 FR 46843      2018-20203     46848   \n",
      "4  83 FR 45321      2018-19514     45323   \n",
      "\n",
      "                                            html_url  \\\n",
      "0  https://www.federalregister.gov/documents/2018...   \n",
      "1  https://www.federalregister.gov/documents/2018...   \n",
      "2  https://www.federalregister.gov/documents/2018...   \n",
      "3  https://www.federalregister.gov/documents/2018...   \n",
      "4  https://www.federalregister.gov/documents/2018...   \n",
      "\n",
      "                                             pdf_url                   type  \\\n",
      "0  https://www.gpo.gov/fdsys/pkg/FR-2018-11-29/pd...  Presidential Document   \n",
      "1  https://www.gpo.gov/fdsys/pkg/FR-2018-11-02/pd...  Presidential Document   \n",
      "2  https://www.gpo.gov/fdsys/pkg/FR-2018-09-21/pd...  Presidential Document   \n",
      "3  https://www.gpo.gov/fdsys/pkg/FR-2018-09-14/pd...  Presidential Document   \n",
      "4  https://www.gpo.gov/fdsys/pkg/FR-2018-09-06/pd...  Presidential Document   \n",
      "\n",
      "           subtype  publication_date signing_date  start_page  \\\n",
      "0  Executive Order            737027   2018-11-27       61505   \n",
      "1  Executive Order            737000   2018-11-01       55243   \n",
      "2  Executive Order            736958   2018-09-20       48195   \n",
      "3  Executive Order            736951   2018-09-12       46843   \n",
      "4  Executive Order            736943   2018-08-31       45321   \n",
      "\n",
      "                                               title  \\\n",
      "0  Blocking Property of Certain Persons Contribut...   \n",
      "1  Blocking Property of Additional Persons Contri...   \n",
      "2  Authorizing the Implementation of Certain Sanc...   \n",
      "3  Imposing Certain Sanctions in the Event of For...   \n",
      "4       Strengthening Retirement Security in America   \n",
      "\n",
      "                                   disposition_notes  executive_order_number  \\\n",
      "0                                                NaN                   13851   \n",
      "1                                                NaN                   13850   \n",
      "2  See: EO 13694 of 4/1/2015, EO 13757 of 12/28/2...                   13849   \n",
      "3  See: 13694 of 4/1/2015, EO 13757 of 12/28/2016...                   13848   \n",
      "4                                                NaN                   13847   \n",
      "\n",
      "  President       Party In_HTML  \\\n",
      "0     Trump  Republican     Yes   \n",
      "1     Trump  Republican     Yes   \n",
      "2     Trump  Republican     Yes   \n",
      "3     Trump  Republican     Yes   \n",
      "4     Trump  Republican     Yes   \n",
      "\n",
      "                                          Order_Text  Order_Length  Tokens  \\\n",
      "0  .Start Printed Page 61505Executive Order 13851...          8555     NaN   \n",
      "1  .Executive Order 13850 of November 1, 2018    ...          8380     NaN   \n",
      "2  .Executive Order 13849 of September 20, 2018  ...         18662     NaN   \n",
      "3  .Executive Order 13848 of September 12, 2018  ...         17754     NaN   \n",
      "4  .Start Printed Page 45321Executive Order 13847...          7619     NaN   \n",
      "\n",
      "    Term  \n",
      "0  First  \n",
      "1  First  \n",
      "2  First  \n",
      "3  First  \n",
      "4  First  \n"
     ]
    },
    {
     "name": "stderr",
     "output_type": "stream",
     "text": [
      "/anaconda3/lib/python3.6/site-packages/ipykernel_launcher.py:1: SettingWithCopyWarning: \n",
      "A value is trying to be set on a copy of a slice from a DataFrame.\n",
      "Try using .loc[row_indexer,col_indexer] = value instead\n",
      "\n",
      "See the caveats in the documentation: http://pandas.pydata.org/pandas-docs/stable/indexing.html#indexing-view-versus-copy\n",
      "  \"\"\"Entry point for launching an IPython kernel.\n"
     ]
    }
   ],
   "source": [
    "cleaned_ex_data[\"Term\"] = np.vectorize(term)(cleaned_ex_data['President'], cleaned_ex_data['signing_date'])\n",
    "\n",
    "print(cleaned_ex_data.head())"
   ]
  },
  {
   "cell_type": "code",
   "execution_count": 67,
   "metadata": {},
   "outputs": [],
   "source": [
    "y = cleaned_ex_data[\"Term\"]\n",
    "\n",
    "X_train, X_test, y_train, y_test = train_test_split(cleaned_ex_data[\"Order_Text\"], y, test_size = 0.33, random_state = 53)"
   ]
  },
  {
   "cell_type": "markdown",
   "metadata": {},
   "source": [
    "Now we've created the new variable, redefined Y, and we've done the test train split. Now we create the new model based on the term rather than the party"
   ]
  },
  {
   "cell_type": "code",
   "execution_count": 70,
   "metadata": {},
   "outputs": [
    {
     "name": "stdout",
     "output_type": "stream",
     "text": [
      "         00  000        01   02   03   04   05   06   07   08     ...      \\\n",
      "0  0.000000  0.0  0.000000  0.0  0.0  0.0  0.0  0.0  0.0  0.0     ...       \n",
      "1  0.000000  0.0  0.089834  0.0  0.0  0.0  0.0  0.0  0.0  0.0     ...       \n",
      "2  0.000000  0.0  0.028754  0.0  0.0  0.0  0.0  0.0  0.0  0.0     ...       \n",
      "3  0.000000  0.0  0.000000  0.0  0.0  0.0  0.0  0.0  0.0  0.0     ...       \n",
      "4  0.027421  0.0  0.000000  0.0  0.0  0.0  0.0  0.0  0.0  0.0     ...       \n",
      "\n",
      "   yunque  zero  zimbabwe  zimbabweby  zimondi  zone  zonepursuant  zones  \\\n",
      "0     0.0   0.0       0.0         0.0      0.0   0.0           0.0    0.0   \n",
      "1     0.0   0.0       0.0         0.0      0.0   0.0           0.0    0.0   \n",
      "2     0.0   0.0       0.0         0.0      0.0   0.0           0.0    0.0   \n",
      "3     0.0   0.0       0.0         0.0      0.0   0.0           0.0    0.0   \n",
      "4     0.0   0.0       0.0         0.0      0.0   0.0           0.0    0.0   \n",
      "\n",
      "   zoning  zvinavashe  \n",
      "0     0.0         0.0  \n",
      "1     0.0         0.0  \n",
      "2     0.0         0.0  \n",
      "3     0.0         0.0  \n",
      "4     0.0         0.0  \n",
      "\n",
      "[5 rows x 12820 columns]\n"
     ]
    }
   ],
   "source": [
    "tfidf_vectorizer = TfidfVectorizer(stop_words=\"english\", max_df=0.7)\n",
    "\n",
    "tfidf_train = tfidf_vectorizer.fit_transform(X_train)\n",
    "\n",
    "tfidf_test = tfidf_vectorizer.transform(X_test)\n",
    "\n",
    "# now we inspect the vectorizer\n",
    "\n",
    "tfidf_df = pd.DataFrame(tfidf_train.A, columns=tfidf_vectorizer.get_feature_names())\n",
    "\n",
    "print(tfidf_df.head())"
   ]
  },
  {
   "cell_type": "code",
   "execution_count": 71,
   "metadata": {},
   "outputs": [
    {
     "name": "stdout",
     "output_type": "stream",
     "text": [
      "0.7510729613733905\n"
     ]
    }
   ],
   "source": [
    "nb_classifier = MultinomialNB()\n",
    "\n",
    "# Fit the classifier\n",
    "nb_classifier.fit(tfidf_train, y_train)\n",
    "\n",
    "# Create the predicted tags\n",
    "pred = nb_classifier.predict(tfidf_test)\n",
    "\n",
    "# Calculate the accuracy score\n",
    "score = accuracy_score(y_test, pred)\n",
    "print(score)"
   ]
  },
  {
   "cell_type": "markdown",
   "metadata": {},
   "source": [
    "An accuracy score of 75%! Not bad, that's better than the party. Now we'll test some alphas"
   ]
  },
  {
   "cell_type": "code",
   "execution_count": 72,
   "metadata": {},
   "outputs": [
    {
     "name": "stdout",
     "output_type": "stream",
     "text": [
      "Alpha:  0.0\n",
      "Score:  0.7467811158798283\n",
      "\n",
      "Alpha:  0.1\n",
      "Score:  0.759656652360515\n",
      "\n",
      "Alpha:  0.2\n",
      "Score:  0.7510729613733905\n",
      "\n",
      "Alpha:  0.30000000000000004\n",
      "Score:  0.7510729613733905\n",
      "\n",
      "Alpha:  0.4\n",
      "Score:  0.7510729613733905\n",
      "\n",
      "Alpha:  0.5\n",
      "Score:  0.7510729613733905\n",
      "\n",
      "Alpha:  0.6000000000000001\n",
      "Score:  0.7510729613733905\n",
      "\n",
      "Alpha:  0.7000000000000001\n",
      "Score:  0.7510729613733905\n",
      "\n",
      "Alpha:  0.8\n",
      "Score:  0.7510729613733905\n",
      "\n",
      "Alpha:  0.9\n",
      "Score:  0.7510729613733905\n",
      "\n"
     ]
    },
    {
     "name": "stderr",
     "output_type": "stream",
     "text": [
      "/anaconda3/lib/python3.6/site-packages/sklearn/naive_bayes.py:472: UserWarning: alpha too small will result in numeric errors, setting alpha = 1.0e-10\n",
      "  'setting alpha = %.1e' % _ALPHA_MIN)\n"
     ]
    }
   ],
   "source": [
    "alphas = np.arange(0, 1, 0.1)\n",
    "\n",
    "for alpha in alphas:\n",
    "    print('Alpha: ', alpha)\n",
    "    print('Score: ', train_and_predict(alpha))\n",
    "    print()"
   ]
  },
  {
   "cell_type": "markdown",
   "metadata": {},
   "source": [
    "It looks like the highest score comes with an alpha of 0.1, which produces an accuract score of almost 76%. Now let's look at the features with their weights, so we can see what words are being used as predictors"
   ]
  },
  {
   "cell_type": "code",
   "execution_count": 74,
   "metadata": {},
   "outputs": [
    {
     "name": "stdout",
     "output_type": "stream",
     "text": [
      "First [(-10.129150903324842, '02'), (-10.129150903324842, '03'), (-10.129150903324842, '04'), (-10.129150903324842, '07'), (-10.129150903324842, '1000'), (-10.129150903324842, '10000start'), (-10.129150903324842, '10001start'), (-10.129150903324842, '10002start'), (-10.129150903324842, '10003start'), (-10.129150903324842, '10004start'), (-10.129150903324842, '10005start'), (-10.129150903324842, '10006start'), (-10.129150903324842, '10007start'), (-10.129150903324842, '10008start'), (-10.129150903324842, '10009start'), (-10.129150903324842, '1001'), (-10.129150903324842, '10010start'), (-10.129150903324842, '10011start'), (-10.129150903324842, '10012start'), (-10.129150903324842, '10013start')]\n",
      "Second [(-10.129150903324842, '02'), (-10.129150903324842, '03'), (-10.129150903324842, '04'), (-10.129150903324842, '07'), (-10.129150903324842, '1000'), (-10.129150903324842, '10000start'), (-10.129150903324842, '10001start'), (-10.129150903324842, '10002start'), (-10.129150903324842, '10003start'), (-10.129150903324842, '10004start'), (-10.129150903324842, '10005start'), (-10.129150903324842, '10006start'), (-10.129150903324842, '10007start'), (-10.129150903324842, '10008start'), (-10.129150903324842, '10009start'), (-10.129150903324842, '1001'), (-10.129150903324842, '10010start'), (-10.129150903324842, '10011start'), (-10.129150903324842, '10012start'), (-10.129150903324842, '10013start')]\n"
     ]
    }
   ],
   "source": [
    "class_labels = nb_classifier.classes_\n",
    "\n",
    "feature_names = tfidf_vectorizer.get_feature_names()\n",
    "\n",
    "feat_with_weights = sorted(zip(nb_classifier.coef_[0], feature_names))\n",
    "\n",
    "print(class_labels[0], feat_with_weights[:20])\n",
    "\n",
    "print(class_labels[1], feat_with_weights[:20])"
   ]
  },
  {
   "cell_type": "code",
   "execution_count": null,
   "metadata": {},
   "outputs": [],
   "source": []
  }
 ],
 "metadata": {
  "kernelspec": {
   "display_name": "Python 3",
   "language": "python",
   "name": "python3"
  },
  "language_info": {
   "codemirror_mode": {
    "name": "ipython",
    "version": 3
   },
   "file_extension": ".py",
   "mimetype": "text/x-python",
   "name": "python",
   "nbconvert_exporter": "python",
   "pygments_lexer": "ipython3",
   "version": "3.6.4"
  }
 },
 "nbformat": 4,
 "nbformat_minor": 2
}
